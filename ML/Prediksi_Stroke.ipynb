{
  "nbformat": 4,
  "nbformat_minor": 0,
  "metadata": {
    "colab": {
      "provenance": [],
      "collapsed_sections": [
        "0nma19pUvdA3",
        "-oLWQ5ilxzP1",
        "8N1cXnDi334k",
        "PWd4uF2K4opz"
      ]
    },
    "kernelspec": {
      "name": "python3",
      "display_name": "Python 3"
    },
    "language_info": {
      "name": "python"
    }
  },
  "cells": [
    {
      "cell_type": "markdown",
      "source": [
        "# **Data Loading**"
      ],
      "metadata": {
        "id": "zWAY73sjgnyT"
      }
    },
    {
      "cell_type": "code",
      "execution_count": 1,
      "metadata": {
        "id": "JYDJCGNAgNP5"
      },
      "outputs": [],
      "source": [
        "import numpy as np\n",
        "import matplotlib.pyplot as plt\n",
        "import pandas as pd\n",
        "import seaborn as sns\n",
        "\n",
        "%matplotlib inline\n",
        "\n",
        "from google.colab import files\n",
        "from sklearn.preprocessing import LabelEncoder\n",
        "from imblearn.over_sampling import SMOTE\n",
        "from sklearn.model_selection import train_test_split\n",
        "from sklearn.preprocessing import StandardScaler\n",
        "from sklearn.metrics import f1_score\n",
        "from sklearn.neighbors import KNeighborsClassifier\n",
        "from sklearn.tree import DecisionTreeClassifier\n",
        "from sklearn.ensemble import RandomForestClassifier"
      ]
    },
    {
      "cell_type": "code",
      "source": [
        "files.upload()"
      ],
      "metadata": {
        "id": "qY337Y0Nhagm",
        "colab": {
          "base_uri": "https://localhost:8080/",
          "height": 1000
        },
        "outputId": "09be6306-0d62-444e-949a-b25ae57e9b95"
      },
      "execution_count": 2,
      "outputs": [
        {
          "output_type": "display_data",
          "data": {
            "text/plain": [
              "<IPython.core.display.HTML object>"
            ],
            "text/html": [
              "\n",
              "     <input type=\"file\" id=\"files-7bba06d8-a508-4710-8065-3745715d29eb\" name=\"files[]\" multiple disabled\n",
              "        style=\"border:none\" />\n",
              "     <output id=\"result-7bba06d8-a508-4710-8065-3745715d29eb\">\n",
              "      Upload widget is only available when the cell has been executed in the\n",
              "      current browser session. Please rerun this cell to enable.\n",
              "      </output>\n",
              "      <script>// Copyright 2017 Google LLC\n",
              "//\n",
              "// Licensed under the Apache License, Version 2.0 (the \"License\");\n",
              "// you may not use this file except in compliance with the License.\n",
              "// You may obtain a copy of the License at\n",
              "//\n",
              "//      http://www.apache.org/licenses/LICENSE-2.0\n",
              "//\n",
              "// Unless required by applicable law or agreed to in writing, software\n",
              "// distributed under the License is distributed on an \"AS IS\" BASIS,\n",
              "// WITHOUT WARRANTIES OR CONDITIONS OF ANY KIND, either express or implied.\n",
              "// See the License for the specific language governing permissions and\n",
              "// limitations under the License.\n",
              "\n",
              "/**\n",
              " * @fileoverview Helpers for google.colab Python module.\n",
              " */\n",
              "(function(scope) {\n",
              "function span(text, styleAttributes = {}) {\n",
              "  const element = document.createElement('span');\n",
              "  element.textContent = text;\n",
              "  for (const key of Object.keys(styleAttributes)) {\n",
              "    element.style[key] = styleAttributes[key];\n",
              "  }\n",
              "  return element;\n",
              "}\n",
              "\n",
              "// Max number of bytes which will be uploaded at a time.\n",
              "const MAX_PAYLOAD_SIZE = 100 * 1024;\n",
              "\n",
              "function _uploadFiles(inputId, outputId) {\n",
              "  const steps = uploadFilesStep(inputId, outputId);\n",
              "  const outputElement = document.getElementById(outputId);\n",
              "  // Cache steps on the outputElement to make it available for the next call\n",
              "  // to uploadFilesContinue from Python.\n",
              "  outputElement.steps = steps;\n",
              "\n",
              "  return _uploadFilesContinue(outputId);\n",
              "}\n",
              "\n",
              "// This is roughly an async generator (not supported in the browser yet),\n",
              "// where there are multiple asynchronous steps and the Python side is going\n",
              "// to poll for completion of each step.\n",
              "// This uses a Promise to block the python side on completion of each step,\n",
              "// then passes the result of the previous step as the input to the next step.\n",
              "function _uploadFilesContinue(outputId) {\n",
              "  const outputElement = document.getElementById(outputId);\n",
              "  const steps = outputElement.steps;\n",
              "\n",
              "  const next = steps.next(outputElement.lastPromiseValue);\n",
              "  return Promise.resolve(next.value.promise).then((value) => {\n",
              "    // Cache the last promise value to make it available to the next\n",
              "    // step of the generator.\n",
              "    outputElement.lastPromiseValue = value;\n",
              "    return next.value.response;\n",
              "  });\n",
              "}\n",
              "\n",
              "/**\n",
              " * Generator function which is called between each async step of the upload\n",
              " * process.\n",
              " * @param {string} inputId Element ID of the input file picker element.\n",
              " * @param {string} outputId Element ID of the output display.\n",
              " * @return {!Iterable<!Object>} Iterable of next steps.\n",
              " */\n",
              "function* uploadFilesStep(inputId, outputId) {\n",
              "  const inputElement = document.getElementById(inputId);\n",
              "  inputElement.disabled = false;\n",
              "\n",
              "  const outputElement = document.getElementById(outputId);\n",
              "  outputElement.innerHTML = '';\n",
              "\n",
              "  const pickedPromise = new Promise((resolve) => {\n",
              "    inputElement.addEventListener('change', (e) => {\n",
              "      resolve(e.target.files);\n",
              "    });\n",
              "  });\n",
              "\n",
              "  const cancel = document.createElement('button');\n",
              "  inputElement.parentElement.appendChild(cancel);\n",
              "  cancel.textContent = 'Cancel upload';\n",
              "  const cancelPromise = new Promise((resolve) => {\n",
              "    cancel.onclick = () => {\n",
              "      resolve(null);\n",
              "    };\n",
              "  });\n",
              "\n",
              "  // Wait for the user to pick the files.\n",
              "  const files = yield {\n",
              "    promise: Promise.race([pickedPromise, cancelPromise]),\n",
              "    response: {\n",
              "      action: 'starting',\n",
              "    }\n",
              "  };\n",
              "\n",
              "  cancel.remove();\n",
              "\n",
              "  // Disable the input element since further picks are not allowed.\n",
              "  inputElement.disabled = true;\n",
              "\n",
              "  if (!files) {\n",
              "    return {\n",
              "      response: {\n",
              "        action: 'complete',\n",
              "      }\n",
              "    };\n",
              "  }\n",
              "\n",
              "  for (const file of files) {\n",
              "    const li = document.createElement('li');\n",
              "    li.append(span(file.name, {fontWeight: 'bold'}));\n",
              "    li.append(span(\n",
              "        `(${file.type || 'n/a'}) - ${file.size} bytes, ` +\n",
              "        `last modified: ${\n",
              "            file.lastModifiedDate ? file.lastModifiedDate.toLocaleDateString() :\n",
              "                                    'n/a'} - `));\n",
              "    const percent = span('0% done');\n",
              "    li.appendChild(percent);\n",
              "\n",
              "    outputElement.appendChild(li);\n",
              "\n",
              "    const fileDataPromise = new Promise((resolve) => {\n",
              "      const reader = new FileReader();\n",
              "      reader.onload = (e) => {\n",
              "        resolve(e.target.result);\n",
              "      };\n",
              "      reader.readAsArrayBuffer(file);\n",
              "    });\n",
              "    // Wait for the data to be ready.\n",
              "    let fileData = yield {\n",
              "      promise: fileDataPromise,\n",
              "      response: {\n",
              "        action: 'continue',\n",
              "      }\n",
              "    };\n",
              "\n",
              "    // Use a chunked sending to avoid message size limits. See b/62115660.\n",
              "    let position = 0;\n",
              "    do {\n",
              "      const length = Math.min(fileData.byteLength - position, MAX_PAYLOAD_SIZE);\n",
              "      const chunk = new Uint8Array(fileData, position, length);\n",
              "      position += length;\n",
              "\n",
              "      const base64 = btoa(String.fromCharCode.apply(null, chunk));\n",
              "      yield {\n",
              "        response: {\n",
              "          action: 'append',\n",
              "          file: file.name,\n",
              "          data: base64,\n",
              "        },\n",
              "      };\n",
              "\n",
              "      let percentDone = fileData.byteLength === 0 ?\n",
              "          100 :\n",
              "          Math.round((position / fileData.byteLength) * 100);\n",
              "      percent.textContent = `${percentDone}% done`;\n",
              "\n",
              "    } while (position < fileData.byteLength);\n",
              "  }\n",
              "\n",
              "  // All done.\n",
              "  yield {\n",
              "    response: {\n",
              "      action: 'complete',\n",
              "    }\n",
              "  };\n",
              "}\n",
              "\n",
              "scope.google = scope.google || {};\n",
              "scope.google.colab = scope.google.colab || {};\n",
              "scope.google.colab._files = {\n",
              "  _uploadFiles,\n",
              "  _uploadFilesContinue,\n",
              "};\n",
              "})(self);\n",
              "</script> "
            ]
          },
          "metadata": {}
        },
        {
          "output_type": "stream",
          "name": "stdout",
          "text": [
            "Saving archive_8.zip to archive_8.zip\n"
          ]
        },
        {
          "output_type": "execute_result",
          "data": {
            "text/plain": [
              "{'archive_8.zip': b'PK\\x03\\x04-\\x00\\x00\\x00\\x08\\x00\\xaf\\x9b:R\\xfa\\xa0\\xda\\x0b\\xff\\xff\\xff\\xff\\xff\\xff\\xff\\xff\"\\x00\\x14\\x00healthcare-dataset-stroke-data.csv\\x01\\x00\\x10\\x00+\\xd6\\x04\\x00\\x00\\x00\\x00\\x00\\xc1\\x0c\\x01\\x00\\x00\\x00\\x00\\x00\\x8c\\xbdK\\xd3u\\xbd\\x8d\\x1d6\\xf7\\xaf\\xc8\\x0fx\\xf3\\x84$x\\x1df\\x92\\x8cZ\\x95r\\xca\\x83\\x8cT\\xb2\\xfbK[i\\xb5\\xe4\\x92\\xe4v\\xf9\\xdf\\x87\\x00/\\x00I\\xe0\\x1c\\r\\xa5\\xef=\\xcf\\xde\\x9b\\x17\\\\\\x16\\x16\\x16\\xfe\\xf8\\xcf\\xbf\\xfe\\xe5\\xb7?\\xff\\xf3o\\x7f\\xfd\\xf5\\x87\\x7f\\xf9\\xed\\xd7\\x7f\\xfd\\x9f\\xff\\xed\\xb7\\xbf\\xfe\\xfd\\xb7?\\xff\\xed\\x8f\\x7f\\xf9\\xf3\\xaf\\xff\\xfa\\xdb\\x1f\\xfe\\xfa\\xf7\\xdf\\xff\\xf3\\x1f\\xff\\xf6\\xdb\\x1f\\xfe\\xf6\\xdb\\xaf\\xdf\\xfe\\xfd\\xb7\\xbf\\xfe\\xfe\\xdf\\xfe\\xf0\\xd7\\xbf\\xfe\\xf1\\xb7\\x7f\\xfe\\xf5?\\xfe\\xf2\\xd7\\x7f\\xfd\\xfd\\xdf\\xfb?\\xfe\\xf5\\x1f\\x7f\\xfb\\xdb\\x1f\\xff\\xf9\\xb7?\\xff\\x97\\xdf\\xc6\\xff\\xfc\\xc3\\xbf\\xff\\xcb\\xef\\xff\\xe5O\\xff\\xfd\\xbf\\xfc\\xe5o\\xbf\\xfd\\xfeO\\xfd\\'\\x7f\\xfa\\xf5\\x9f\\xff\\xed\\x8f\\xbf\\xfe\\xf6o\\x7f\\xf9\\xd7?\\xfe\\xf9_~\\xff\\xb7\\xbf\\xff\\xe1\\xef\\xff\\xfdo\\xbf\\xfe\\xf6\\xf7\\xbf\\xfe\\xe5_\\x7f\\xfb\\x0f\\xcd\\xc5\\xfc\\xeb\\x9f\\xfe\\xf0\\xa7\\xdf~\\xe5\\xf2\\xcb\\xfd\\xf2\\xbf\\xfe\\x9f\\xdf\\xfe\\xf6\\xeb\\xff\\xfa\\xeb\\x1f\\xff\\xfd\\x0f\\x7f\\xff\\xed\\xd7\\x7f\\xfa\\xeb\\x7f\\xfe\\xc3\\x9f\\x7f\\x85P\\x7fr\\xfb\\x05\\xf9\\'\\xff\\xfa\\x7f\\xff\\xf2\\xd7\\x7f\\xfb\\xed\\xaf\\x7f\\xfa\\x9f\\xff\\x0b\\xfe\\xb5\\xfe\\x0e\\xfe?$\\x9fK\\xfe\\xf5\\x7f\\xfc\\xf6o\\xf47|\\xff\\x1b\\x8e\\xfe\\xc6\\xff\\xfd\\xdb\\x9f\\xfe\\xdf\\xff\\xf5\\xb7\\x7f\\xfbo\\x7f\\xfa\\xcb\\xff\\xec\\xff\\xee?\\xfe\\xf7\\xbf\\xfe\\xe1O\\xbf\\x82\\x0b?\\xc1\\xff\\xfa\\xdd\\xff\\xf6\\xbf\\xff\\xfa3~\\n\\xff\\x15\\xf0\\xde\\x87\\xf1\\x1e\\xd5=\\xef1~\\xed]\\xfai\\xe1\\x17\\x84\\x9ft\\xff<;_\\xc3z\\x89\\xd8\\xf6K\\x9c\\x1f\\xe2\\x8b\\xff\\t\\xf0\\x0b\\xe2O\\xa4\\xd5\\xe8\\xff\\xc0\\xff\\x07\\x9fsZ\\xbf,\\xed\\x97\\xff\\xf0\\xfa\\xbe\\xc4\\x9f\\xfe\\x96!\\xde\\x8fO9\\xf7\\x05\\x1ao\\xef\\xad\\x87\\xd7\\x8c\\xdf\\x1e\\x9a\\xb6\\x86P\\xeb\\xfc\\xfa\\x12\\xfb+h__\\xdc\\x8fk\\xbfB\\xf9y\\x9e\\xee]\\x84\\xb8w`|\\xfc\\xef\\xfer=\\xbe\\xc5\\x1f\\xe8?\\x0f?\\xf5\\xfey(\\xd1\\xb7\\xf5\\xf3\\xf4\\xae\\xdd||\\xfe\\xf1\\x89v\\xee?\\xfd\\xf9_\\xff\\xfc\\x97\\xff\\xf1gZ\\xf5\\xd8\\xfc^\\xbbj|x\\xaa?\\xa9\\xf4E\\xfb\\t\\xe2\\xa7>x\\xb7\\x1fZ\\xfd^\\xf6\\xf3\\xa1\\xd5\\xfdD\\xe8K\\xf6S\\x9eo\\x0e\\xae\\xa5\\xe3\\xd4\\x8d5\\xfb?\\xff\\xf2\\xef\\x7f\\xff\\xfd\\xff\\xf7\\x97\\xff\\xbcv,\\xf4\\xbf\\x90\\xf1\\xe8V\\xb1\\xe3\\xc1\\x97\\xfd\\xdb\\x14\\xad\\xfdr\\xf1\\'y\\\\p\\xe0\\x9f\\xd6\\xe0a\\xeeS\\xb5n\\x8bo?5^+\\x95\\xc0\\x17q\\xc8\\xac_F\\xda\\xe2\\xdaW\\xea>`\\xb5_\\x9d\\xfd\\xca\\xee\\xf3)\\xcd\\xfd\\x8c\\xf8_\\xe0~\\xda{N\\xf7-\\xcb\\xd1x\\x0b\\xdf\\xfcO_P(\\xfd\\x96\\xed\\xef\\x86\\xd8Wr~xz6k\\x99\\x89~\\xbb\\xfa\\xeb\\'\\xb9\\xd6\\xfdp\\xa5\\xba\\xf7\\xc9\\xe9g\\xb3\\xb6\\x9f\\x10\\xf0\\x89\\xef\\xd9L!L\\xf3\\x94\\x86y\\xea?\\xde{\\xbc\\x96\\xad\\xfc\\xb8z-xq\\x19\\xdc^q\\xbe\\x93\\xf7\\xf9h\\xf0\\xd3\"^\\x0bi\\x11\\xa0\\xe6}\\xacS0\\x16{>\\x1c\\x00?:\\xd6w\\xb1s--\\x1e\\x9b\\xfe\\xe1\\xcf\\xf4M\\xefw\\x04-\\xec\\xfdWb\\xe9Gm\\x98\\x96`\\x18\\xc6\\xe0j?\\xa4d\\x17y\\x05b?\\x88s\\xc7L\\x93\\xd4\\xcdq-x\\xc4\\x83b\\x94\\x8a\\xabA\\x9a\\xe4\\x0f\\'\\xce\\r\\xbb\\x08\\xafa\\x86\\xea\\xe2>\\xf9\\xdd\\xd0\\xea\\xc6\\xc5\\xbb~X\\xeb8\\xf9\\xef\\x8bd_\\xe3\\xbcu\\xa9Z\\x7f\\xa1j\\xb7.\\xd6P\\xe6q\\xe7K\\xa7\\xad\\xbfo\\t=C\\xa8\\xf2\\xb2\\xe7\\xe6\\xf3<\\xf4\\xa6Y\\x0c\\xde\\xff\\x94q\\xf8\\xde\\x17\\x8fP|\\xd9\\xa7\\xd7\\xb85>\\xe0\\xe9\\x8dh\\x1e\\xf9\\xbaA?;\\xe3\\x871\\x18O\\xae\\x80\\xb7\\xbc\\xdf\\xb6(\\xbe\\x18\\x1a\\x14\\xd8f\\xf5\\xf3\\xd1\\xf5-\\xa3;\\xedg\\xff571:\\xffxc\\xf5\\xe0\\xa6\\xf0S\\x02\\x1a\\x9b\\xa4,\\x80\\x8f!\\xce\\xc3\\x1b\\xeb\\xba\\xfb\\xd7\\xf5\\xad\\xf8\\xe5\\x9a\\x89/>\\x1c_\\xe2\\xa5\\xe1\\x98k\\xd0\\r&\\xe0\\xb5\\xd1\\x1e\\x1eKXN\\xb9\\xc4_\\xd6\\xf65z}\\xe8\\x8f\\x7f\\xffB\\x88\\xad\\xb0\\xd9\\x0e\\xcf\\x0eN\\xcf\\x18\\x7f2\\xe0\\xe1\\xf7\\xeaK\\x80\\xcb\\xc7\\xd9}>\\xa2\\x85\\x9f\\x8cQ\\x8dt\\xac!\\xbb\\xef\\xe1L\\xee\\x97\\x06\\x03\\x8a\\xd7\\xf4\\xc4\\x9c\\xbcpS\\xea[WZ\\xban\\xfe\\xb4}\\x0by\\xfe\\xdet\\x8f\\x18J\\x05\\xbc0o,\\xd6\\x0f\\x963-\\xd6<{\\xfd\\xbc7\\xdc8ivkd\\x8f\\x0e\\xc6c\\x1bz5\\xfd\\xb6\\x95~\\xf6\\xe7eg\\x07\\xf9\\xf8\\n\\xa0\\xcfv\\xf2\\xb6\\xf9V{H7\\x96+\\x1b\\x9b\\x1cb7n\\x15\\x0f\\xcac\\xa1\\x81\\x1e\\xbcNI\\xfa5\\xbd\\x94z\\xe5\\\\[\\xd6B\\x18\\xea\\xd2O\\xeav7V\\x14\\xe5]\\xb7\\xd2=\\x92\\xa9j\\x10\\x0e)/?)\\x02P\\xed\\x15Z\\xfb\\x01\\x18\\x07\\xfe\\xfe\\x8e\\xdc\\xcd\\xcez\\x0fh\\xc6B\\xf4h\\xae\\xc7(\\xd0\\x8e\\x05\\xac\\xa9\\xf2\\n\\xe4\\xfb\\x98o\\'\\xdf\\xf2\\xf5\\xe9>u\\x17\\xb4\\x0f\\xaan K\\xfa\\xe9wC\\xdf\\xf2\\xd4|c/\\xff\\xc6U+\\x08,\\x14\\x98\\x94\\xf7\\x9bc\\xe9\\xd1\\xd2\\xfe\\x03l\\xa3\\xd5\\xcd\\xeb!l\\x8f\\xfe\\xc0\\xbf\\x11x-)(G\\xf7:|\\xbe\\xf5\\x98*j\\xd9OH\\x15\\xe6\\x85\\xa3\\x9f\\xab_\\xd1\\xcdu\\xf7\\xe4\\xa0\\x1b;L 8\\x9e\\xb6|Fj\\xb8\\x96\\x18\\xb2<\\x976G\\xe7L\\x93\\xb1b\\x9d\\xbe\\x82\\xc9\\xda\\x8a\\x9a\\xd7\\'t\\x0f\\xf4\\xd9\\xef\\xf4\\xbb\\xdf0\\\\y\\xc2\\xbd\\xd4\\xb3@\\x11\\x98\\x1b\\x97\\xd8\\xf7\\xb4\\xa0\\x81\\xba\\x9f\\xfd\\x96\\xf8} R\\xb6\\xeeRM?\\xdd1\\xc7\\x9e\\x1bh_\\x92Z\\xd8g\\xa2:\\xe3\\x1e\\x142`\\x8a\\xef\\xcc\\xa9F>\\x0c\\xd6\\x91\\x1a\\x7f${\\x8a>\\x93\\x8c:z(\\x92\\xf6\\xe3\\xa3\\x151\\xf5\\xb8u\\xb8]5r\\xeb\\xe6`\\x07\\xebvvS\\xc2}\\x1d\\x8b\\x13\\xe9\\x8d\\xd7n\\xb1G\\x03\\xea\\x95\\x14\\xb8\\xff\\xd6q\\xb4\\xeb\\x8c\\xc7b\\x8e\\xd0M\\\\,\\xaf\\xdb(\\x01r\\xdeV\\xd8~\\xeb\\x1eNv\\xf3\\r\\xd2[z_\\xcd0m\\x1a\\x9fL\\x89\\xbfS\\x17\\xabxe\\xb7\\xb5\\xed*\\xddS\\x17\\xf4y\\x8f\\xc3\\xed\\xe9\\x06\\x83 \\xe2\\xf5\\xaft#\\x07L\\x85\\xf5\\x0b\\x14 d\\xe5\\xd8\\\\F\\xa04\\x8a\\xb4\\xab\\x1al\\x84n\\xcd\\xb6\\x11\\xc8\\xf9\\xbd?\\xf3\\x8f\\xf8nC\\x12\\x1a2\\xed\\x8f$Wj\\x14\\xb6H\\xf5\\x86\\xe8\\xf7\\xb3\\x0eF\\xf4\\x90iG\\xa0\\xc92D\\xdd\\x96\\xa5\\xe9\\xff\\x1fC\\xe4S\\x13\\xfb\\xa1\\x07\\x9fs93\\x9e\\xe1~\\xa4\\xb4\\xe0\\rr?P;\\x865\\x82\\xef8A\\x957\\xf6\\xcc\\xfc\\x15\\xc5:U\\xde\\xbb\\x9f\\x9a\\x10\\xdaPC\\xbfT\\x1d\\xc3\\x0cf\\x0e\\x96\\xfb\\xedW!\\xb1\\x9e\\xc0\\xad\\xec!\\xf2F\\xa8\\x16\\xb5\\x07\\'\\xfd\\x9f\\xc4\\xd4\\x0f\\xa6\\xc8~\\x08\\xd7\\xb1\\xee\\xc5\\xde\\x07\\x9f1\\xf9\\xf0\\xe2\\x87=\\xf8\\xf4I\\x1c\\xa3\\x8f\\x8fv\\xdd\\x1d\\xde\\xb8P\\xc8%\\x94k\\xf5\\xde\\xd8\\xbd\\xce\\xec\\xe3M\\x9cs\\xe6@$oC\\xa4=\\xbe_\\x87\\xfe\\xf7\\xd5\\xec\\xa1\\x9b\\xa3`&\\x8d\\x1c\\xc3^\\xaf\\x0e\\x01\\xdaZ4+i\\xc0\\xbc\\xa9\\xe0C\\xbd\\xc8\\xd8B\\x9a\\x96S\\x80Q\\xd7\\xdd\\xed\\xa9b\\xbd\\x01\\xa5\\x9e 66\\x1c\\xce\\xf8)\\xfa\\xed\\x84\\x1e\\x13\\xd4$+\\xaeW\\x8e\\xc5\\xb6\\x7f\\xdd\\xd1D\\xfd\\xc6\\xc7\\xe6a\\xf9~+\\xdco\\x15MF\\xf7TY\\xees\\x8f9\\xfc\\xb1\\xcf:|\\x9c)\\xb9o\\xaa\\xbf\\xff\\x8a\\x9bv\\xa3\\x8b\\xab\\x96\\xfb\\xb7?\\xe7\\x04\\xf8\\x9c\\xa6\\xb2\\x8e\\x99vNr\\x8fZ\\xc3\\xc0\\xb4\\x9e\\xe8\\xbd\\xb0\\xdd5\\xed\\xff\\xfe+h\\xf5\\xf2\\x81d\\xa6\\x08\\xdd\\x06\\xfc\\xd3Go\\x9d\\xfb\\x05\\x8b\\xb8\\x02\\x8f\\xb9\\x0b\\x02\\x1e3s\\xb5\\x00\\tSL\\xda\\xff\\xfb\\xf5S\\xe24Y\\xb8]\\xd5}\\xf55\\x8ch\\xad\\xd4\\xa8\\'\\xd7\\xe8\\xc5}Qq\\xa6n.\\xbb)\\xa1\\x08x\\x9f\\xe0\\xeaS|0\\x8e+b+\\xe3\\xae\\x17\\xd5P\\xc7\\x0c\\xec\\xb4\\xd8P\\xdd0\\xc18\\x06\\xcf\\x11\\xf2\\xdd\\xca\\xaf\\x9b\\xc7\\x90\\xe6\\xfd|4p\\xddgU\\x195@\\x13&\\xbe\\xbc\\xcf]a\\xb7\\xa3\\x98Y\\x89\\xfac\\n\\x02\\x1e0!\\x06\\x18xjT\\x13\\xb7(Q\\x0e\\xb6\\x1c\\xea\\xf6!D\\xe8\\xdb\\x89\\xf7\\x80\\x84\\xb2\\x8b\\xb5x\\xe8\\xa8\\xd2\\xcc\\xd6\\xc5\\xf5\\x85xB\\x13\\x8a\\xdd\\xc0#\\x87\\x16row\\x0c\\xaehH\\xf4\\x15\\x1d\\xc3O\\x8f\\xc9\\xc0\\xe9\\x06+\\xb8\\xcc\\x7f\\x82\\xd7M\\x85\\x16[7\\x9aa\\x84\\xeall]Ll4M\\xdf\\xd6#\\xd54\\xea\\x0e\\xb7\\xd9i>\\xf0\\xaa\\x99\\xf9\\x1a\\xde\\xda\\x82F\\xf31\\x1a)\\xa7\\xb5t\\x1f\\xb2\\xceFf/\\xe8\\xfb^\\xa3K;:\\xd1\\r\\'\\x9a\\x1b\\x18\\x1f\\xc0\\x9f\\x9e{\\xa8\\xa9\\x04\\x9a\\xbao\\xce\\x08\\x11\\x1a\\xd8d\\xff\\xaf\\xfb\\xda\\x99\\x86+Pl\\x93\\x14\\\\\\xbaGH\\xe2\\xda\\x9a\\xe0^\\xf8!\\x8f\\'\\xc3\\x8b\\x04\\x1b\\\\,\\x88\\xea\\x9d\\x98\\xfe|\\xae\\'\\x87\\xa5\\xd50\\xb2+q\\xc5\\xa7\\\\72\\xec\\x9d\\x7f\\xfcm\\x8a\\xe5\\x8b\\xab\\xeb\\x0e\\xa7\\xbb\\xe4~k\\xc5\\xcf\\xfa5\\x0b;\\xaf\\x84\\xfd\\xb5\\xda\\xaa\\xf7O\\xeeV*\\xe8\\x99e\\xd6,\\xce\\x9d\\xe3$\\xaa\\x86\\xf8\\xe7\\xc3ki\\xdbW\\x98@x\\x0f\\x15jF;\\xa9d:\\xdd[Wq\\xec\\xf5\\x98\\x18s\\x944\\xae\\xae\\xc8\\x0c\\x01+}|\\\\\\xd5\\xb3\\xd2\\x1f\\x9d\\t\\x1f)\\xc2\\\\D\\x07\\x0b\\xbb\\xb7\\xb1\\xb5\\x86!0\\xa47@\\xf0\\xd1g\\xce*\\x83\\xb1d\\x88\\xe26\\x7f\\x83\\xff.\\x85\\xa0\\xfc\\xf46\\x8dh\\xd9\\xc99<\\xf6\\x1d \\xbd\\xe0\\x94\\x8a\\xa9\\x01\\x02C\\x06*\\xe9ZdD\\xde\\x19_\\xd0\\xedeB\\xd7,M{\\xf1\\xb0\\xca/\\xe6\\xdb\\x07G\\x1eY-*\\xc7*C\\xcbd\\xfd\\x89\\xbe\\xdf\\xf1\\x86$\\xfb\\x15\\x8d\\x8c\\xab\\x81\\xb1o\\xe8\\x1a{XC\\x88\\xd4\\xbdo\\xb9\\x8a\\x82\\xa7\\x85%`\\xd5 b6\\xff\\x9e\\xf5\\x96\\x16\\x82\\x9d\\xdb\\xfd\\xeb\\xf9\\xf4~\\xd1ZS\\x9f\\xde\\xc3B\\xbeh`\\x96\\x8c8uQRi\\x07\\x0ci\\xe6\\xfa\\xd1\\xcetwFYdVk\\x18e[I\\xad\\x0c9\\xb71\\x03\\x05\\x19\\xf5\\xfd\\x0b)Ip\\xda0\\x19\\x11\\x97\\x90\\n\\x01\\x8a\\xb7\\xf5\\x85\\xbd\\xad\\xf9\\'\\x02\\xc2\\xcb\\x15\\xa3\\x14\\x99B\\x86\\x16\\xaa\\xdf\\x0f\\xff\\xb4\\x06\\x08\\xea\\x01\\x96\\x12\\xb5L\\xdc\\xe5\\n\\xcaA\\xbcO\\x13b\\xcaT\\x02\\x15/\\xe0\"4q\\t\\xf4\"\\xbf\\x83\\x9f\\xbeE\\xe19\\x0715\\xe6v\\x9890\\xc2!\\xdd\\xa3\\x04\\x90u\\xeb\\xea\\xb8\\x18Q\\xe2s\\x01\\xe6\\xadud\\xea\\xfdk\\xb7\\xa0`\\x05\\x86\\x83\\xda\\xe9\\xe5\\xd4\\x146`\\x94A\\x0c\\x85\\x07R\\x03\\xc7\\xc9A0^\\x02!\\xb5~\\xc6z\\x06w\\xdf\\xa1\\xee.\\xd6\\x1d2ON\\xf2\\x08\\x00\\x84\\xa2W\\xd0|X9\\x81(\\xdd\\x1a\\x99Q\\xb4,`\\x0e\\xa2\\x9cn\\x82\\xcby`\\xf4Q\\x894\\x82\\xab\\x8c\\n+9\\xc6\\xcc\\xb1\\x06\\xebA\\xc1\\x13Rm\\x85\\xd7\\xf1\\x8d\\xb6V\\x9c\\xde~\\x1c\\xd5\\xe0\\x1fk\\xe4}\\x83Oh\\xd0<G\\xb9!<x\\x15wz\\xbc\\xb6\\xd2\\x13\\x931\\x82G\\x8f\\x1c\\xa7v\\x7f!$\\xa79\\x10\\xf5,e\\xc4\\x17!*\\x9f\\x10\\xe2b\\x18\\xe5\\xfa\\xf9o\\x14\\x0c\\xb8\\xc3A\\xffH\\xb9q\\xb0\\x97\\xac\\xa30\\xc3\\xee@aoz72\\xc4\\xcc!gy\\xd9f\\x9c/%\\xa2\\xec\\xbceMpiG\\x03\\xc9\\x8aC\\x90\\xd5\\xe0\\xf3\\x95\\xa5\\xa6\\xee\\x85\\x8b8D\\x86\\x15\\xc4\\xbb\\xdc\\x10\\'\\x904\\x80\\x1cD\\x8e\\xee\\x7f}Z<\\xe4\\x11\\x14?v@\\xd9\\xca\\x9e\\xb6pe\\xe1K\\xf0\\x1a\\x11\\xb1xmZr\\r\\xf86Y\\xf7:\\x15L\\xb8\\xf5\\xfb\\xe8sj\\x0b\\xeey\\xb1\\xaa\\x19\\xc4v\\x9b\\x92\\xcf\\xc4/\\xb7\\x92\\xf72xtW3\\x08\\xfe/\\xff\\xf5\\x8f\\x7f\\xfa\\xe7\\xbf\\xfe\\xf6g6\\x8ap\\xdf\\x82n\\xc6\\x19d\\xb1\\xc2\\x81\\xeer\\x91\\x8d\\x12\\x93R\\x9a<A\\x8eO\\xb1XmT\\xa4\\x8bja$\\x86\\xba\\xa0\\xb2\\xf2\\xf9\\x16x\\xe81]C\\xa7\\xa0eo\\xb9\\xef$\\x83\\xdc&\\xdc\\xef{l\\x15`d \\xc2$\\x00\\xe4\\xe5\\xd1\\xad*kI\\xb8\\xfb\\x1a(\\x1c[\\x93\\xa6h\\xae\\xe4\\x15O4\\x82\\xbb\\x82\\x8e\\x17\\x06\\xbf\\xaa\\xf3\\xd6Y\\x9e\\x17\\xd9ct\\xa6\\x01\\x1f}\\x15\\x97W\\xce_\\xd2w\\xef\\xd1\\x1a\\x18\\x8e\\xc1\\x15\\xb6*\\xc5p\\x92\\xd3\\xb8;L\\x07\\x95\\xf5\\xc8%\\x02W\\xdb\\xac\\xf0\\xba\\x15\\xe2\\x11\\x1et\\x83 \\x18\\xa3_\\xea>}%\\\\\\x18\\xaeE9S\\x0e\\xcf\\xd4\\xeb\\xde\\x8c\\xcf\\xc8V\\xfd\\xc7\\xc7\\xb8\\x0b\\xa8\\xe1\\xe3\\xeb`\\xf92\\x92\\x95z\\xe3f\\xb4\\xb1\\x8a\\xb3\\xb8|m\\xc4\\x80\\'\\xbeq3c\\x80\\xe5s\\xc8\\x9bFj\\x9d\\xf4Z4\\xc4\\xaa\\xbd\\x84\\x02J\\xe5\\x9b\\x11\\xd0\\xc3\\xa6\\x8d\\x8bX\\x880\\x928B\\x18\\x9eZ\\xe2\\xb0\\xc2\\xb8F\\xcb0\\x96:\\x81\\xa9\\'\\xda\\xeaf\\xde- \\xd3.\\xf8\\xf4\\x93\\x10\\x91\\xab\\xa3|ukl\\xa4\\xc0*|!&\\x01#T\\xdf\\'\\xb1:w\\xc3\\x02/{\\xc2/\\x16\\x84\\x84\\xdfaQ\\x03\\xf3\\x00R\\xb47\\xee&(\\xe2Y\\x11G?z\\xb7#C\\xab\\xc4\\xe7\\xc9\\t\\x82^[\\xf3\\xfd\\xea\\x16\\xf1\\x07>\\x10\\xebzp\\x8d\\xdc\\xf1\\xa8\\x9e\\x94\\\\*\\xb3x\\'\\xc9K9)\\xc1\\'\\xaa\\x93\\x17=@r~\\x15,M\\xe2C\\xcd\\xc8\\xb1\\xea\\xcb\\xae\\xbe\\x05f\\x9b{\\x1d\\x8d\\x18\\xcd\\x11\\xaerm@l\\\\\\xe1\\xcbV\\xa9=\\xb8\\xee\\xd1\\n\\x1eI\\xed\\xd1\\xae,\\xd4\\xfd%A\\xf3\\x16b\\x91.\\xe8\\x97\\xadG\\'\\xe99\\xb6\\xba-&\\xca\\x17$\\x19\\xd9\\xe5\\xc6\\x8c\\xe0\\xfa\\x9c\\xa1\\x19\\x91\\x95~\\n\\xe2\\xa8\\x17\\xb3\\xf9\\x84\\xc8L\\x8bb\\xd6y)\\x0e\\xc1\\x02\\x90xdD\\x8e\\xe2\\xe7\\x8b\\x86\\xb8\\x06\\x92\\xe2\\x10\\x12Rp\\xb4\\x1a\\xf2B\\xf1,\\x04:\\xe0z\\x05\\x8c&\\xd4U\\xc3r\\xc7\\xc6\\x17\\x8cw\\x87Qq80s_7\\xcb\\xccN\\x04|\\xc4\\r7pWQ1\\xb3|\\xe74U\\x11qH\\x8d\\x13\\x9cb?\\xb1\\xf3%L\\xfaz\\xcf\\x87&(%\\xack\\xcd\\x8b\\x10K.O\\xb5\\x18=\\xf6\\x08T\\xe4\\xd1\\x16\\xae\\xa6\\xea.[ezM\\x87f\\xf0\\t\\x1dbe@\\xef\\xb3\\xb7D\\xb6\\\\,\\xba\\xb1\\x0e\\xce\\xbfe\\xda+\\xfc\\xaa\\x05\\xab\\xf3\\xe7\\xb1M\\x1e\\xbc\\xf6\\xfck\\r\\\\\\xa6\\x13\\xaf\\x85OP\\\\\\xdeK\\xa0\\xf8\\xa8\\xf9lGv\\x1e\\x14T1\\xa5e\\xb5\\xcbG \\x19\\xd1\\xb56\\xee\\xce\\xb3\\xff-\\xfcc~\\xdaw\\xc3;Y\\x8b\\xb2h\\x149\\x8d\\xd2\\xe8jk\\xf93ru\\x88\"*\\x7f,\\xf0L0\\xf96\\x80^G-\\xda\\x86(RIo?\\x9c(\\r\\x14:+{\\xe0\\xfd\\xe2G\\x9bLQ$\\xc5g\\x02\\xb2\\xcb\\xeb\\xea+GI\\xd1d\\x07D\\x8aq\\xdc\\x8b/\\x86\\x14\\xabr\\x02\\xd4MLHK\\x0fJ\\r)W\\xc7E\\xa8YERr\\xa2Dt\\xcd\\xc3\\xf0\\xb6\\x97\\xa8g\\xb9\\xdeY|\\xb9\\xdf\\xbf\\xfb;.\\xc0%\\xc3\\x10\\xf4<\\xa1\\x9f\\xde\\xe8\\xc4\\xa3{\\xe2\\xc8\\x97\\'\\xef\\xdf\\xe9\\x99\\xf0v\\x98\\xfb\\xf7\\xfd\\xea\\xeds\\xcba\\xc3S\\xfai?\\x85\\xa8\\xf8/\\x80\\xe0\\xe2\\xaa\\xf5V+\\xe0\\t\\xc9a\\nO\\x0c)v9}\\xad\\x17\\xb1\\xcdlp\\n\\xf3\\xb1/\\xa5)\\xe4\\xda\\xbe\\xdf\\x17\\xda\\xab\\x84~Z\\x0b\\x0fS,!^\\x87\\xe6M\\xdc0y\\xbe:h\\xeaNY\\xa3\\xc1\\xa4AV\\\\\\xcd\\x03?\\xe2\\xb5n\\x9e\\x83\\xf0d\\xb6\\xf6y\\xba\\xe3 \\x03i\\x08EPI-\\x03\\xd7c\\xae\\x9f8`\\xa2\\xdb\\xc0\\xb5\\x1d\\xc2\\x97\\xcf\\xd9!fuU\\xcb\\xea\\xfa\\xfdf\\x0b\\x05VX\\xb3s\\xbb~\\x14{h\\x97eT\\xd3\\x0e\\x12\\x99\\x8a7\\xe4<\\xc3!\\xa5\\xa1N\\xdc\\x8f/Yr\\x0f\\xcc\\xbb/\\xf6\\x8a\\x95\\xf6\\xa1\\xf9\\x9b\\x05\\xf5\\xee\\x00\\xbe>\\x0c\\x03!\\x8e+\\x88\\xfa\\xf6g\\xeeW\\xa1\\xcc\\x98Z\\x1a\\xef\\xdb\\x02\\xc0\\x80\\xcd7ns\\xa3\\xf6\\x19\\xb5l\\xd8o}\\x89\\xff\\x90\\xc5\\xe9)5v\\xdb\\x85|\\x10-\\xb0\\xd5o\\xdf\\x1e\\x93\\xe2\\x82\\x99UF^9\\x1c\\x19Nl+T\\xfc@m\\x9ay\\x8a8\\xc2\\xb9\\xa6\\x15\\xa5}\\x0eR\\x10\\xa2\\xc1\\x1a\\x96^\\xa5\\xf7\\x15\\xf8\\x0eY\\xf1y\\xc5\\xae%\\xb5~\\x18\\xc22w\\x84Lh\\x17\\xb0yjiM\\xf2\\xea\\xf6\\xe3\\xb7\\xbaf\\x14\\xe0~\\xe7\\x91\\xb8\\xd2^\\xb75!,\\xb0WY\\xb6\\xf9\\xe1m\\x15|T\\xe4?%X)\\x91\\xcdJ\\xa2\\xde\\xb9\\x18\\x14fL7\\xd4r\\xcf\\rS\\x8d4`\\x8f\\xdc\\x0e\\xb5w\\xa8\\x94\\x052\\x99\\x1fQ)D\\x86|l~l\\x02f\\xf6\\xc3\\x02I\\x98r\"\\x18\\x059\\xe4D0\\x10\\xe7\\xad\\xf8\\xa4U\\xaaT\\x80\\x16\\xe9D\\xa1\\xe9\\xf1It\\x99!\\xd6O\\x01\\x1a\\xc6\\xa8w\\xc9\\x00b\\xf8\\x14\\xa2\\xf2\\xe3=\\xd2\\x81\\x8e\\xc8\\xce\\xed>d0\\xbe\\xbb\\x07$=\\xe1\\xf3|A\\x1d\\xd2i\\xf2\"P[]\\x18\\xfd=[\\x1em\\x1f\\xc7^;\\x84\\x93\\x03\\xd7\\'\\xd6S\\xafx\\xda\\x93S\\xf6E\\xbc\\xad#\\x16\\r\\xaf\\xb63>47\\x82\\\\\\x92\\x92\\xfb\\xbb\\xff\\x10\\xb3_$_\\xde\\xe9\\xdf\\xe1\\x0b\\xfe\\x1e\\xbb\\xe3\\xc55\\xf7x\\xda}\\x13\\x90\\x91\\xc3\\x0b*\\xa8\\xf6fQ\\xa0\\xbf|7\\xf1\\xc9\\x1d\\xbfM\\xa1:\\xee4\\xb0\\x98\\t\\xa5`y\\xdek\\xc4\\xb7\\xfe\\xf2>\\xfa\\xf3\\xb4\\xd9\\xe4/\\xea?\\x82\\x87\\xa9\\xdc\\x97?\\x05\\x8eem\\xd8\\xa9 \\xf0H\\x04\\xc2if\\\\7\\xae\\xb9\\xf09\\x8b\\x1f\\xfd\\x03\\xc66\\xdd?\\xa4\\xa7<\\xe7\\xb0\\xfb\\x9c\\xef\\xbapswdCM\\xba\\x90\\xc4\\x12\\xe6\\xd8\\xdc\\xca\\x84,\\xf2h\\xa2\\x9f\\x85\\xa0,_\\x86\\xca\\xa9$\\x98v.\\x87yr\\xe3\\xfd\\xe6P*c\\xe9\\xe6\\x1f@j\\xc6\\xc0\\x1a\\x95W(5\\xed\\x18>Z\\'\\xb8_9\\xa7\\xd9\\xc9\\xbe\\x05\\xa9,\\xd7\\n\\xe9\\xbe:\\xd3@$,\\xa7\\x00<\\xcb\\xde\\x12\\x7f}p\\xfa\\xbd\\xeb\\xf61\\x07<\\xf5El{\\x8c\\xdc\\x91kw\\x97\\x8eV\\x87Gj\\xa1\\x9f\\xda\\xfe`&\\x8e)\\xc9\\xf7\\xde8\\x80Q\\xcf\\xdd\\x8f\\xeeI\\x1b\\xc7\\xa4b\\xcb\\xb5\\x13\\x97\\x0b\\x05$\\x89\\xc9o\\x0e\\xe9\\x08\\x1cQ\\xe5\\xb7\\x0f}n\\x18\\x16\\x90\\xa2\\xff\\x91&\\x0e\\xa9OZ\\r\\xf9:+\\x08\\x10F\\nK\\xf9\\xa1\\xb1\\x08\\x8ae\\xb4\\xb2\\x87\\xfe\\x1b\"mq\\x18\\xd7\\x7f\\xe9v\\x10bA\\xd9\\xbeU\\x12\\x85\\xd0\\xd2\\xdc\\xfe\\x07j\\xaaL\\xd82Ai\\x84&\\xa9\\xfb\\xfa1\\x0e\\xc5\\x01\\x070\\xc1\\x02(\\xfb\\xbbW\\xe2\\x05?{\\x9dsaL=\\x9b\\x1c\\xd9\\x16\\x91\\xe1J!\\x10\\x7f|\\xaan\\xaf8<~a\\xfe\\xb0`!\\xe3\\x858\\x1c\\xc2\\x9a\\x1f5\\x1aV\\xca5:@\\xf2\\xfb\\xe9=\\x83\\x10\\xe4\\\\\\xbe\\x9a\\xaaq\\xf5\\x11\\x99@\\xe0_\\xef\\x96\\xcb.\\x97\\x05+\\x92\\x9cw\\r\\xcbCA\\xda\\xb7\\xd0\\x1a\\xf37L\\xf7\\x82HG\\xc8g#7._\\x08\\xe1\\xf0\\xc9\\xcf\\xe5N\\t{Ie\\xa1\\xbe/\\x1b\\x14N|\\xde\\x10`\\x9ab@p\\xcbKW\\x1c\\x1d\\x88\\xfba\\xc2b\\xb1a\\x03`(\\xf2#3\\x84t{\\xe0\\x97\\x05\\n\\x84\\x1f\\xcbG\"\\x85\\x96)\\x95\\x96\\x1d\\xca\\x18\\x98\\xf7\\xb5\\xd1\\xaco\\x8f\\xf2\\xf9\\xa5\\xc3\\xfe\\xda+\\xc0&M\\x8d\\x97H\\xea\\xb0\\xf5\"\\xb1\\x07\\xb7.G_\\xe5\\x88\\x92/\\xa79q\\xad\\xec\\x9f\\xfa\\x8f\\x9d\\x07\\xc8\\x80\\xad\\x03\\x08\\x14\\xcb\\x1d\\x82\\xfb\\x06\\x81{?\\xb0\\xf3&oUJ\\xb9\\xce\\xe3\\xe8\\xad\\xedE\\xf8\\xb9\\xdfg_E*\\x85\\xf7\\xc1\\xf9\\xe9j\\xac\\x90\\x18{\\xcb\\xb0\\xb9N\\xbeh\\x14=\\xc1>\\x1b?\\xa4J\\x1e\\xa0\\x9f9\\x8e\\xbfk\\xeb]\\xb3y\\xf8\\x1b\\xc2s\\x90\\xb5\\xdd\\x8d\\x8d\\xc3\\x93\\xb0\\xd9\\x06\\x97\\xado\\xb3\\xa5F\\x1e\\xc9\\xe2\\x81Iw\\x82\\xda\\xfc\\xd4\\x1f\\x81\\x1a\\xf7\\x8f\\x0b\\x84\\xa5\\x05&nY\\xd9W\\x0f\\xdc\\x08\\xdf\\xac\\x8a\\xc9,\\xe0\\xdf`\\xfa2\\x98)Oh\\xbf\\n\\xe7V\\xd3j\\xe1\\xce\\x16\\xe2\\xb1\\xac\\x1ePH\\x0co0V+|\\xba\\xc6\\xdb\\\\\\xc3h_\\x92\\xb7\\xd1s\\x15[P\\xe2\\xd5#\\xedI\\x18\\xa7\\x1e\\xbb\\x1d%\\xa8\\xfc\\x19\\xd8\\xc6\\xd2b\\x89\\x83k\\xf8\\xee{\\xd9\\xb9k\\xb4\\xcc~\\x7f\\x81\\x11\\x1b\\xf8\\xc7\\xea\\xd7\\xe4\\xbf\\xa5\\xceX\\x19\"\\xdcG\\xc4\\xc2H3\\xae\\x8f\\x99\\xbf6\\xddu[\\x14\\x0f\\x16\\x01FCn\\xddd\\xd1\\xa4w\\x9b\\xcd\\x8c=\\xb3gp\\xe0\\xb3\\xe8;5\\xefr!\\xeb\\x13\\xcf\\xd4#\\xf6\\xd4c\\xc9\\x8a(\\x00\\xfa\\x8c\\xd8Q\\xf9\\xa8\\xf5\\x97:\\x7f\\xea<s\\xe9\\xc0\\x19/\\x9c\\x89\\x18Ki\\xf5~\\xdf\\x9c\\xfd\\nUEq]Mi+\\xd5-\\x9a\\x1e\\xd2\\xa4\\xc4\\x06\\xc5lk\\\\f\\x85\\x98\\xf0\\x04r\\x88\\x93\\n\\xacV\\xf5\\tUk0\\x1c\\xba\\xf8e\\rq\\xff\\xd4\\xdc\\xe6\\x8a\\xcc\\xb5\\xe0\\x0f{\\x9dz\\x8a\\xcb\\xb5}3%oH\\xe3\\xa3*5o\\xb3\\xf7\\xdc8`j\\x1cL\\xe0\\x0c\\xe2\\xcf\\x13\\xe7G\\xdf\\xe2\\x12\\xa1\\xb1(sH3B\\x0cW\\xbbLaY}S\\x9am\\xeeyC}\\xaf\\xa0g\\xaaP\\x1c\\xc7\\xfc\\xf0\\xb9\\xa7\\x1d\\xd5\\x16H\\xa7\\xe0\\xb1\\x8c5s\\xe9-\\x9a\\xa8\\x92\\xc7cGL\\xe8\\xf7=|\\xe6\\xfc!<h\\xf8\\xbc2D\\xe1\\x0b\\xe55\\x8e=\\xa2ZE_\\xcb\\x9f`0\\x96f\\xc0!p\\x82\\xe6`Z\\x07\\xbf\\x91\\xfb\\xd7yvC\\x80p\\xbat\\x81=K\\xe3\\x17\\x0e\\xfa\\x0b\\xf7\\x95\\x1f\\x12T2\\xc2H\\xc1\\xc3b\\xa3X\\x14\\r,\\x10\\x86\\x01`K0\\xc7/FA\\xd8\\x81\\xc9M\\x0f\\xc3\\xcf\\x0bQ\\xbf\\xa0q9\\xedb\\x1aP\\x04\\r\\xeb8\\xad\\xef\\x1f\\x08\\x8dyUf\\xa6\\x85\\x1d\\x8d5\\r\\xc3v\\x1f\\x13\\x86\\x1e\\xb7\\x17\\xb9\\xd7\\xbaRgW:\\xbc~\\x7f.\\x93\\xbd\\xc3\\xde\\xa6\\xebr7\\xa2z{yES\\x14m1\\xde\\xc8T\\x90\\xf9\\xd3\\xcf\\x00\\x1c9Nj\\x12a7e3\\xe2F\\x10\\x9eO\\x15\\xf8\\xb2i\\x1c\\xb0\\xd1\\xc1PX\\xc2\\x13\\xb6{w\\xe1\\xb3\\xd7\\x0eH:BF\\xe9a\\x9e\\nS\\x8fL\\x10\\xab\\x12\\x85(E\\xe3J6\\x16\\x1fL\\x96\\x8d\\xd9\\xab_\\xe3 ?\\x89}\\xabe\\x15\\xb8\\xcc\\xcb\\xd5O:\\x92\\xe8\\xeb\\x91@\\x80,\\xcb\\x99U\\xdc\\x1aq\\xdf\\x8e\\x164D\\x1e\\x81\\x81\\xbf\\xd9X\\xf0\\xd6^=y\\x82\\xf8f\\x0e\\xbe:f\\xf7\\xdb\\xfc\\x83!\\xa4G\\x10\\xc6m\\xd4]\\xe5\\xfe\\x1a\\x13S\\xf0\\xfd\\xb4\\xf5\\x98\\xdb+\\xd0\\x95wQ\\xb82\\xb3\\x93m\\x88\\x9a\\xbd\\xc9u\\x15\\xca\\x046\\xf0\\x950s\\x89\\x9a&[\\xff\\x13\\xde\\xad\\x8600\\x95\\x04\\x1d\\xa9nh<\\x18\\x0c\\x04\\xdc\\xee\\x987A$\\xe4\\xe4\\xe7\\xa8\\xf7\\xce:\\xd4\\x85cN\\xf7\\x17\\x9d\\x82T\\x11\\xc3\\r\\n~\\xd9\"7\\xfa\\x98I\\xe4\\xba:\\xf5\\xd9\\xc9V\\xbc\\xe4\\xf7\\xab\\xfb\\xe8i\\x1d4\\x0b\\xe0Kf\\x88 }HU*A<Z\\xbc\\x1c\\xaag\\xad\\xb0`\\xa0\\x88\\x19\\x8bd\\xa4\\xf3\\xf7\\xc0\\xc7\\xdcNjJ\\xb4Q\\xa7\\x14Q!$\\x8eX\\xe1h\\x8a\\xf8D\\x06@:\\x17\\x16\\x9b\\x9c\\xb6\\x8b!\\xff#(\\t5\\xc8\\x10\\'\\xf1\\xb9K\\x99s\\xf1\\x17\\x08\\x9dW\\xd1h\\x8c\\xc0\\n\\x02\\xebD*\\xfc\\xe1\\xbd|1\\x0c2\\xf8\\x1dS\\xf8 @h\\xcb\\x826\\x12\\xcd:\\xc1\\xcc\\xd8\\x90\\x0c\\xc1\\xa7\\xd7p\\x94\\x8e\\xee0\\xb47\\xd3L\\xad|\\xcb<j&\\x88\\x08\\x0eT24n\\x0b\\x84\\x9d\\xd2\\xdf\\xfc\\x1bLN\\xe9\\x93\\x9f\\x05\\xcf\\x19vK\\'\\x7f\\xb0Z\\x9bFo\\x99\\xa3rk\\x108\\xbf\\x02\\xb9\\xf7\\xed3\\xa0\\xd5\\x97L\\x0et\\xd6 Z\\x01\\xac\\x9e\\xb4u\\xea\\x1a\\xc6)\\x0f\\xbf\\x00w-\\xf2\\x99\\x83\\xcf\\xd9v\\x1d\\r\\xb5\\xf15\\xc2\\xb15o+\\x16\\xad\\xbb\\xef\\xb0K\\x91\\xc4/\\x94\\xf0<1Z\\xe7~\\xf2\\x0b\\xcc\\xccm\\x04\\xda\\x8bx\\xf8\\xcd\\xe2wP\\n&\\t\\x10F\\xd9\\xee\\x0cgs\\x0fg\\xa5\\xac\\xa1\\xfe\\xe6X\\xf6\\xea\\x87G\\x15\\x1dA\\x9c$3\\x14\\xff5\\x8f\\xab\\x18\\x92G\\xe5\\xfa\\xf4W\\xe1\\xfe^K\\xc2c\\xba#\\xeaK\\x0e\\xcf\\x05\\xee\\xe9\\x11g\\x15\\x16b\\x80\\xeay\\xdd\\x82E\\xc5~T\\xcfy\\xb8\\x85\\x8c5\\xf8\\tD\\xf2\\xc8G\\xe0\\x12j\\xfe\\x82T \\x87\\xd3+\\xba#\\x88\\x97\\x88\\x94\\xf2\\x8d:\\xe7\\xc6;]\\xc2\\x00\\x03\\x00\\x94I\\x1a\\x0f\\xb7\\x8a\\x0b\\xc8\\xe9\\x18\\xa8\\xeb\\xed\\xffc\\x14.\\xc3L/<\\xc9\\xdcx\\xd5\\xf7\\xa6\\x1aD\\x98\\xcf\\x7f\\xe2n\\xca\\xc3k\\x03\\xe2\\xfe\\xe6\\x9e_\\xac\\xaa\\xbe\\xd97S\\x80\\xfa-\\xfck\\xadC\\x10\\xf2\\x07\\xee\\xa7Z\\x19\\x02b\\x10\\xdd!\\xa5#\\x1b\\xc3\\xe2\\xfe|\\xf6\\xeb\\'\\xd7\\x85\\xa9S*\\x10\\x8e\\x9d\\xce|aLFA?\\xa0\\xdd\\x9c\\x12_P\\xdc5\\x04<\\x94u\\xba\\xfcKE\\x0e\\x13\\xaa\\xbc\\xa8\\xa1VY]\\x19\\xd6\\xa3)\\xd2\\n\\xbf|>2\\xa2\\xdc\\x1a\\xa7\\x17`\\x97\\x8f<\\x11\\xa5\\xbdf\\xa6\\xd3\\xa2\\x0b\\x93\\\\\\x80\\xd1}\\xdb\\x88\\xc5\\xe1\\xdf89\\x84\\xb4\\xc8\\xd2\\xc9x\\xf3Jue\\xec\\xc0\\x95\\xe1\\xb9\\xcb\\xfe\\xdb\\x17w\\xeb\\xe4\\x13V\\xd6\\xa5e\\xf3\\x90\\xb8\\xb6\\tV,\\xd1\\x0fv!`\\xfd\\xad\\xf6@Y=\\xf7_\\xda\\xccB\\xc2{\\xf1\\x92+\\xbb=\\xca\\xab\\xa8\\x1d\\xf6\\xcb_+NZ\\xb1h\\x9a\\xdf[\\x9dv\\x0f\\x8a\\x12\\x0c\\xce{\\x89\\xbd\\x1cQ\\x0f\\x89\\xa18!\\x88\\xe9\\xec\\xe3\\x06\\x13qP\\xe21\\xe7\\xe37\\xbf\\xd2\\xedR\\xf5\\x8a\\x8e$~\\xfd\\xda\\xf1`\\xbaD\\x94\\xef\\xf3\\xa3;\\x8d\\xa3\\x92X\\xb9K\\x1d\\xac\\x8c\\xa8;\\xc2\\xe4\\x15\\xd98\\xc2KV4\\xf4Y\\x9e\\xa3\\xc4\\xa9_\\xfaX\\xc5T8&\\xb0\\n\\xea\\x8dv\\xbd*\\x86\\t\"\\xbf?W\\x84\\xaee+x\\xd34\\x12M\\x80\\x05\\xae\\n\\xed\\xda\\xdb\\x1f\\x031\\x01^\\x02\\x06\\xa5bk\\xcf\\xbf\\x90\\x96\\x12N\\x01x\\x95\\xd6\\xa9T\\xcc\\xe5\\x160Y\\x9f\\xa8\\x94N\\x94-\\xb1w>\\xa5`\\xf3\\x87\\xe6\\xdbc$\\x99\\x87\\x98\\x8er\\xe6\\x92\\xc8\\xc7MS\\x117\\x97F\\x00\\xda-2\\xeac\\xc3\\xe8\\x8e\\xba\\xdc\\x95\\xfa.x\\xcf\\x1c$\\x1b\\x15,\\xd3D\\x1e\\x05\\xcc\\xdc\\x84\\x12\\x92)\\xd1Q\\xc9MIu\\x01\\xc4\\x93\\xab\\xe0D~\\x06Mz\\xec\\x11\\xeb\\xa8\\xee\\x0b\\xec\\xa3o\\xd7\\xd9S\\xaf\\xeb^9b\\x17(\\x11x?\\xae\\xcbL\\xd9\\xec\\xbaL\\xa4!\\x19tBv\\x8e\\xb3e\\xf3\\x94t\\x97\\x82GU\\xb3p\\xd1\\x87{\\xbd\\xb5?05p\\x94|\\xad\\x06V\\xc11\\xb5h\\xca01p\\xe0\\xff\\xa9\\'\\xeb\\x8b\\x98\\xac\\x9b\\x88\\x1d\\xb4\\xf4 \\xc3\\xd7\\x13\\xa6*{\\xf4C\\xb6\\xb8R\\xf3\\xe5\\x0b\\xc5\\x10\\xa0\\xa4\\xfb1\\x16\\x86m8\\xdc\\xbf\\xfbV\\xf0\\x9cA>\\xccc\\x8e\\x8c4\\x8a\\x02\\x84Z^\\xebQn?1\\xf1\\x0cD\\xd0H\\xcc\\xf7\\xf7V\\xebv\\xdf\\xf0:\\x99\\x08\\xb7m\\xf4\\x8d%<\\xc0\\nc\\n\\x89I\\xc4,\\xd3\\xcd\\x1e\\xb01\\x9b\\xdc\\xbc\\x9f\\xb8Q^\\xd2\\x861x\\x00!\\xb9d\\x92\\xf3\\x1cui\\xc5\\xfc\\xda\\xf3\\x98\\nW\\x8a\\xac\\xab]\\x83\\xeaN|\\xb8\\xd1\\xb5\\xd7\\x15\\x14\\xcaG\\xb2b\\xcc\\x1dl\\xf9u\\x13\\xd2i\\x91\\x0eI:O(c\\x11\\xca&m\\x13\\x8eE1w\\x9cN\\xc4\\xcc\\xed\\x8e\\xce\\xf9D\\x87\\xfa\\x16p\\xae2\\xf6O\\xcbY\\x17\\xfaO\\x9112\\xe7\\xe6(\\x00\\x94C1\\xb4u\\xa8\\xcdn\\x1a\\xca\\xc5_\\xc1d\\x84\\xf1\\xdc\\x07\\xdb?\\x7f]\\xd0\\x88z8k$\\x0e\\x84\\xc0\\xeaG\\x04%\\x0f\\x97\\xf5\\x04\\r\\xc0R\\xcd\\xd1:\\xd5\\xa9\\x12M\\xe0B\\xfe\\x9b\\xc0\\xcd,+\\xe4\\x01\\xa1n)\\x88E\\xa8MX\\t\\x90\\xb5SD\\x867D\\x0c\\xf0\\x90\\xf8\\x18\\x8f-\\xd3\\xc0Wlgi\\x03\\xb4\\xbfM\\x7f^\\r\\xa3\\xc2\\xcd+\\xd0\\xf5\\x84K\\x15\\xc8\\xdf7\\xe6\\n\\xd8\\xfd0\\xa5-\\r\\n\\x8e\\x14\\xba\\xed\\xe6\\x86\\xd9/,\\x07\\xb4CE\\xd1\\x01A\\xfc\\xda\\xaf\\xee?\\x1b;\\xee\\x17,V\\xd5\\x85\\x000i3\\x9b!\\xee\\xe2,)Y\\x8d\\x88\\xb7\\xf2g\\x04\\x0c\\xa5\\xca\\x87&\\x9a\\x16j\\'\\xc7Q\\x80u\\xdd\\x1b\\xc9s\\xf9\\xf3\\xce\\xfaR\\xcc#\\xb4\\xf2\\xa3\\x8c\\xcd\\xf5D\\xd2P\\xd1\\x9b\\xa5\\xf6\\x9e\\xadq>\\xd8v\\xec\\xda\\xe8\\x99\\xbe\\xefM\\xce\\xcc\"\\xb0\\xca\\x9a\\xa8\\xeeEY\\xc6\\xfb\\xeb\\xe2\\xb9(jM\\x0b\\x08C\\xd7\\xec5\\xcd9\\xb5-[i~} )\\x91C\\xf1\\x13\\r\\r\\xa4\\xc5\\xe5s\\xeb\\xb1\\xf7\\xc1\\x9fsx\\xa4U\\xf6E\\xc8\\xdcf\\xf8\\xe8\\xfc\\x03\\xa5\\x84\\xc4h\\x94\\x0f\\xc6 u\\xf8\\xde\\xd7\\x05N+C\\x91\\xf9\\x15\\xb1\\xf8\\x1e&\\xaed\\xd2?o<V\\n\\xdb\\x98\\xca`\\x1d\\x88\\xb0\\xb8\\x8a\\xcad\\xfe\\x9c\\x13`\\xfbX\\xf0\\x8a\\x02\\x15\\x9a\\x8a\\xb8\\x8a\\xc9f{\\xbb\\x8f\\x89\\x98\\x03g\\xb8\\xe4S^8\\x8f\\xe0\\x18\\xdf\\xafNL\\x11x.h\\r\\x0b`.l\\xde\\xd4\\xd8\\xb8\\x10)\\xfe\\xa0\\xc8\\xf5Pi\\xb7\\x04X\\xf1\\x06\\xa61@\\xf8\\xd0\\xe3\\x13z\\xd4\\xb1\\x9av,\\x86\\xc1\\xc8BA\\xc9\\xfd\\xc1\\xd7U\\x8d5\\x9b\\xf1w\\xa8\\x85\\x84\\x8f+FK\\x81\\xa1y\\x93\\x9aM\\x17\\x93&\\x81<W\\xab\\xec(\\x80?\\xfd\\n\\x02\\xa8\\xdd)(\\x99{\\xc6\\xb9-\"jQ\\xc6\\xed\\x04G\\xb2@\\xea\\xd4\\x01\\xbc&\\x85\\xeb\\xe8`\\xc9K\\x96\\xa9=\"K!=\\tc\\x14\\xd8\\xf4\\xc3-\\xd1\\xd4\\x87\\x93\\xd8\\x8d\\x13\\x9e8\\xef\\xb6\\xea\\xc7\\x95\\x1a\\x8d\\x08\\xc3\\x97\\xa8\\x9eP\\xd21~\\x88\\x98\\x1e\\xa2L2\\x05\\x8a\\xc0R\\xff\\x1f(\\x91\\x80\\xde\\xeb\\xa2D\\xfa\\x1a9y\\x89O`\\xb9\\xee# \\xf0\\x1e\\xf5\\x92A\\xb7\\x9e\\xc0m\\xc3_\\x1a\\xe8\\xfb\\x01\\x1fM\\xd4\\xcf\\xcd\\xaei)\\x08(\\xb4\\xf0\\xbd\\xde\\xa9\\xa9,\\xbb\\xbc\\xdb\\xda\\xcc\\xd2\\xf5\\x00\\x15O\\x86c\\xf7\\x08\\\\\\xae\\xb5F\\xfe\\xf9B\\x98wv\\xc7\\x01I\\x95C\\xcc\\x08\\x8b\\x0f\\xad\\x1a`_~@\\xe9K%\\x14\\x975\\xfd\\xc0d[4\"\\xebi\\x18O\\xaa\\x1fz\\xe2\\xf6\\xf5Zt~qF\\xbb\\x15]\\xbc#\\x13\\x14s\\xc6xG\\x84q3W\\xa8\\xbd\\x01n\\xcd-\\x03\\xc2\\x1a\\x94 ;4\\x86\\xa1\\xcd\\x1b\\x86\\xaaSiH\\xf2\\xf3\\xa6u\\x93\\xa6\\x11\\xf6\\xee`\\xcfQ\\x9f\\x8e\\x92\\x865\\xcfd\\\\0b\\x85B3\\xc0D\\xbe\\xdb#<\\x86u\\xb8[\\xfa|]\\xec\\x0c\\xf3\\xa3u\\xf3^\\xb2\\x9e\\x18\\xb8\\xe3x??\\xc6\\xc9\\x07\\xd4\\xe0\"\\xf1\\xe3\\x10bYq\\x91\\xc9\\xac\\xc4\\xce\\xe7k\\x14&\\xd5\\x16Dd\\x9b\\xad\\xdfvC\\x14\\xe2h\\xabQ\\x0ch\\xca\\x91E-\\x8c\\xeb\\xd1h\\x16\\xeb\\x19U\\xfb\\xdd\\xa0\\xabX@\\x8e\\xa7\\xea\\x10l\\x12\\xa6\\xcc\\xf1\\x0cN\\x93\\xf3\\xbb\\x97\\xab\\xd6!\\x06&~\\x1f k(\\x94\\x8a\\xbb\\x92\\xc2i8\\x9a\\x0e|Z]\\xf9\\xedy\\xed\\xf9X\\xc2\\xfc\\x0eJz\\xc2\\xfe\\xf2} \\xbf\\x18@\\xa0\\xe1zT\\x03\\xdb\\xcb\\x95\\x8b\\x90oP\\x90\\xcey\\x93+\\xa9\\xcb*\\x90arq\\xd5c,\\xba\\x01\\xcd\\xa9!e\\xd0\\xb7/%\\xb7US1\\xf13\\xa4\\x0b\\xf8_\\xc7\\xc4T*7\\xf2\\x95\\x88\\xe1\\xe3w#\\x93\\x1f\\t\\xd2Z\\x85\\x00\\xe2*1\\x80\\x15\\xd2\\xd51&\\xea\\xac&%\\xd7V\\x10\\x9b@\\xff\\xec\\x9c&+\\xfe\\x00\\xce<kE9\\xe3\\x83q\\xa0S\\x1dc<\\x94kA\\x8cB\\xfa\\x03_\\x14sp\\xc4.*\\xb6\\xc7\\xc3\\xfc\\xe6\\x9c\\x04A\\xc4z\\xf5F\\x1c\\xb7\\x17\\xd7o\\x9e\\xc5\\x1f\\x93\\xe5*\\x91\\x1d\\xe8\\xa9\\xaa\\xa0\\xb2g\\x91r\\xb1\\xaf\\x89y\\xe0`\\xf6c?G&\\xf5\\x88c\\xad\\xbcqO0\\xa0\\xc5\\x178nw\\xa9\\xa2\\xc2l\\x16\\xd20\\xc1\\xa3\\xb0\\xea\\r\\x85\\xbd\\xe3o\\xf7\\xe6\\xa3}\\x9cA\\xb8\\xb4\\xa4%s$\\x9b\\x8d\\x1c\\xaf\\x11\\xaaD\\xfa2l\\xf8c\\xe6\\xc4\\xc5\\x1c\\xe0U\\xa8oLm\\x1b\\xc952Ri\\n\\x02\\xe2\\xd0\\x9d\\x8a\\x80\\xbe\\xdaX\\xea\\x04\\xaeo\\x16\\x11#\\xf5\\xf5(I@\\xe2Q\\xd6\\xe1s\\x12\\x80\\xc4\\x882\\xcah\\xe2\\xb869z\\xc8\\xf4$\\xdd \\x8fa\\xbb\"\\xf5)=\\xef]\\xa0\\xfe\\xa7i\\x95q\\xa8\\xe2\\xb0E\\x84\\xc6\\x1b\\xad\\xe4\\x1d\\xfb\\x89\\x8d\\x94\\xdc\\xaaz\\xc6\\x13\\xf7b\\x15\\xcb\\xb0a\\x94\\x93\\xa9k\\xfd\\xb0l\\xb169\\x95X5\\x89e\\x1a\\xf2\\x93\\xf2\\x1b\\xdb\\xa7\\x02\\xf74.\\x91\\xf4\\x91\\x93b\\x8b\\x9b\\x90\\xb5\\x8dVh\\x86s7\\xd2\\xa8\\x99)\\xe0\\xa7\\xbcd\\xc9\\xfan\\xec\\r\\x84a\\xdf\\xf6\\xa2\\x87RV{\\xa8\\xe9\\x84j%\\nN\\x92Q4\\x90\\xa4\\xf88^\\x16\\xf4Ba\\r\\xd1\\xd5\\xf8q\\xdd~\\x9f\\x84\\x91\\x17\\xfc\\xe8g\\x03\\xcb\\xba\\xc7k\\xe6R\\x98\\xe6\\x17\\xcc\\xce@\\x9cF\\x9bF\\xcda\\xff\\xb4\\x05\\xee\\x00\\x8d_,w7\"-\\x8e\\xb6\\x8b\\x07\\xad\\x13\\x15\\xa3\\xfc\\xc5\\xdf;b\\xfbF\\xa7\\xef\\x95\\xdf\\\\M{D\\xbc\\x0b4T5\\x9e\\x07-\\xe4\\xd5\\x8d\\xe9\\xddZ\\xbc\\x87\\x83Qi\\x16\\xd5\\xc1\\xb4\\x12\\xb3\\x85\\xccM\\xc6\\xc8\\xc8?j\\x9c\\x04;\\xad\\tV\\xa2\\x7fN[=\\x1c\\x14\\x12\\xd4R\\x84\\xcf\\xb0\\xe8\\xfc&J\\xdd\\xbd\\xfdT\\xab\\xe3\\x9d\\xdb\\x18\\xb59\\xc9ouCU\\x05V\\xcf\\xa2sO\\x14\\xab\\xde\\xe2d\\x9bE\\xd5\\xc7\\xe9\\n\\xbdm\\xb3\\x1cL\\x12\\xa4\\xfe\\xc0\\xd9R\\xe2\\x07\\xdb\\x83\\xdd\\xd1Ue\\xcc\\x1b\\xde\\xb2Oq\\\\2\\x12\\xedQJ\\xe7 *\\xcb\\xbd\\x8c@/D!LbU\\x19\\xd3\\xbc\\x9aZM)\\x99Y\\xa1f\\x19\\xbe\\xc7K\\x85\\x98\\x91\\x07\\xdd\\xa7.\\\\\\xdf\\xd4\\x8f\\xe5\\xcb6\\xfa\\xd1T\\x80aS\\x11\\xacX\\xa9\\xc1\\x94\\x83T\\xaa\\xe9\\x89\\x81\\x1c\\x1bXpT\\\\8+X8\\xf1x\\xf9\\xae\\x0f1\\xf9\\x90x\\x7f|n\\xe9\\x0b\\xff\\x95\\xbc\\x81\\x9dI\\xfe\\x10\\xbb\\xa2\\xb3\\xca\\x88\\x8cY\\x18EZ\\x98\\xcb\\xbf\\xc2\\xd9L\\xe7ix\\xd3xeS\\x9dh4\\x9c(\\r\\xea\\x01\\\\[\\x9c\\x8f\\xcf\\xe2\\xfaX\\r\\xcf\\xfe\\x81x\\xc1s\\xe3\\x85\\x7fB\\xaci\\x94R\\xda2z\\xf7Yu9|/~!{\\x01\\xfa\\x8e\\x9cyc\\x03Q\\r\\xb6,D\\x1d\\xfa\\x85NA4 \\xaf\\xa1\\xd8\"B\\xba\\xc1\\xe1Q>hj\\t\\nA^\\x0e\\x13?\\xfb\\x16\\xbcn\\x18\\xf0\\xa8\\xd1b\\x92\\xb5\\xb4\\xcfV\\x16O_<\\xb5\\x1416_\\xb3\\xdf>\\xf1h{.X\\x94J\\x12N\\\\^x\\xad\\xd1wT\\xdc\\x9c\\xd9&\\x03\\xa6\\x18`\\x91?\\xdf\\xc4\\x99C\\x00d\\x04\\x9el\\x99\\xe0\\n7\\xae\\x98X\\xd4\\x10\\x00\\xa5\\xc1U\\x1cu\\xf4\\x15_\\x94<\\xa7\\xbf*\\x06w\\x90T\\xe4\\xcc\\xa7\\xb2\\xbaE\\xec\\xb9G\\x8d\\xa6 \\x84\\xfc\"w\\xd8\\xb8\\xc9\\xbd\\xb2\\xc9\\xfc\\xe4\\xd1U}Y\\xc5R\\x84b\\xa9=\\x11\\x18\\xa8\\xdc\\xd7T`\\xa6?\\x7f\\'`Vt\\x8cbV\\xb9\\xddTk\\x0f\\x82I\\xf0epBA\\xff\\x1d\\x14\\xceLvmM\\xc9\\xb6\\x9ca?]\\x91\\x1a\\xf0e\\xe2\\x0b\\xdd\\x97\\xdc\\x0f\\xd7\\x8c9dE\\xbe\\x0c\\xe1\\xce={\\x05\\x8c\\x0c\\x0eU\\x95\\x9aj\\xdd\\xfa\\x93W\\x15\\xc6\\xd4\\xe2\\xa6\\xb9-\\xd4\\xdd|8\\x82\\xe6\\x96\\xe2\\x86\\x99r:\\x1ag\\xe7\\xcbq+ \\'F\\xa3@\\xb1+\\xf3\\xc7\\xcd\\xd3\\x0ca%p\\x89\\xb1-\\x83n\\xba\\x82\\\\\\x88\\x1c\\x94\\x8fmN\\xad\\xae\\x80)[R\\x8b\\x9e\\xa6\\xacj}\\xa91\\x05!\\xb2\\xf0S\\x8d\\'\\xa7\\x8a<\\x86\\xab\\xc34\\x16\\xa1\\x81Q,Th\\x1eQ \\xa1\\x18P\\xda\\x98\\xb2\\x17\\xe9\\x9b\\xd3\\x86;\\xccs\\x06\\xd8\\xdb\\xeb\\xcf\\xfahJB\\xb0,[\\xc8e]\\xd3\\xec^:zn+\\xd0\\xe5\\x96\\xd5k\\xf1\\xfcH\\xe2\\x8eD\\xd9\\xf78s\\xfe\\xcc8\\xdc\\x14\\xa8\\x8dV\\x7f%\\xd0I\\x9e\\x97\\x9d1f\\xd5\\x85xL\\n\\xae\\xb4\\xb5{\\xc1\\xa6 \\xdbj\\x80\\x8eo\\x10\\x9d\\x16pn\\xb2\\xad\\x19B\\xf8\\x1eC\\xa4\\xa2\\x08\\xd9b{\\xb7\\xe4\\xee|\\x8b\\xf9B2\\x9b~]\\xdc\\xafa\\x12\"<\\xc9\\xd4d5jMU\\xf0\\x02\\xc1\\xba\\xf0\\x95X<\\x04qm\\xc7\\xe2{^\\xbaj\\xe3\\xa6z\\xdc\\x18\\x91t&\\xff\\xde\\xb7\\xa5\\xb1gOIo\\xd8\\xc2\\x00\\xe9=s\\xddT\\xec,\\xda(\\xf3\\xe2H\\xacAY\\x92*\\x1d15\\x99\\xef\\x1bE$G)F\\xa8G\\x1e\\xcd\\x91\\x86\\xd5g\\x88\\xc5Q\\xb3\\x0f\\xa0B\\xd0B\\x9e\\xfb\\xc4\\xd7\\xa9\\xa9\\xf8^\\xb3 G\\xe0|\\xc9\\xc7\\xb1_\\xa6\\x98\"\\x0e\\x11\\x07\\xef^{\\xa6\\xe6\\xe38\\xb55_9qw\\xe6\\xdc\\xfbe\\xc5 \\xe9\\xd5\\xa2A\\xd5eI\\x0b\\xd0\\x83\\xad45:T\\xc1\\xbd\\xb2\\xe9\\xfd\\xa6k\\xc9H\\xb4E9\\x06i\\xe0\\x9c\\xe7\\xcav\\x1e\\xc5qe\\xe9[FW\\xaa*j\\x0e#\\xc9e\\x0b\\x8bh\\x0c\\x94\\x8b_z6=\\xab\\xe5:M\\xfc\\x1c\\xa4\\x922\\r\\xc1\\xb9J\\x10&4\\x9e\\xcc\\x9e\\xe1nlZ\\xfb\\x15t\\xaa_\\x82\\xbc\\xee\\x9cm\\xae\\x1c\\x19z\\x7f\\xea\\x16aW\\xff\\x97\\xec\\x0e\\xdb\\xfd\\xfc/\\x12g\\x11F\\xd6m=\\x02\\xbb\\xc5;\\xd1\\xa0\\x9apR\\n\\x9a\\x90N\\xb3#\\x107c\\xce\\xc7#v\\x97.,\\x9a3\\xfe@\\x1a\\xd2k\\nc6&Y\\x10\\x04\\xd3P$\\xeaK>:4\\xa1\\xe5\\x7f\\x00\\x96\\xf4\\xa3\\xc7)\\x1d\\x85\\xf2\\x14\\x1cO>\\xfc\"\\xe3\\x83l]S\\xd9\\xb0g\\x87\\xfc\\x0e\\x1e\\xb1W\\xfd\\xbe\\xf4,\\r7\\xbb\\x9c\\xf9\\xa1wK\\xa3\\xdc,\\x1b -Som\\xeb\\x89\\x86@q\\x9a\\xb1ra\\x8a^\\xbb\\x1f\\x85\\xdb ,\\xed\\xae{X\\x04\\t\\xa7\\xc9\\xf4#<\\x0b_Iv(\\xf8RTm1\\x80\\x7f$\\x14m\\x85\\xa4J\\xb4\\xbeHjP\\xfd\\xa7\\xd3W\\xfc\\x0e\\xff\\xcd\\xd25]9\\x0f\\x91[}}c\\x03d9Ncg\\xb7s\\xf4\\xa8\\x00\\xe6`nqu\\xf6|*+\\xd5j4\\xd7\\xeaj7\\xeb\\xfe\\xcdn\\x87\\x9c7u0\\xa7\\x14\\xe4H\\xf2i\\xed\\x10\\x18A\\xc7\\x9e\\xa6\\x1d|\\x9c\\x9e\\xc2\\xc37\\x88\\x13c\\xef8G\\xd0\\xb3+/e\\x010\\x16\\xfd\\xa7_\\xb1\\xbe{\\xa4\\x9f)B\\xee*Fp%\\xebz\\x86\\x9e`\\xb8z\\x97\\xc5\\xa0\\'\\xe0\\x0b\\x826iq\\x88\\xaf5\\xb5[?\\xe6\\xea\\x16\\x88o\\xaa\\r\\xf4D\\xd4\\xc7\\xd1^%\\x9cg\\xa8\\xeb\\xc1\\xd5\\x08UWn\\x95\\x07b$Y\\xbb\\xa2\\xc7&YD\\xfa:EN_\\xb6P\\xac\\xdc\\xf4`W\\x97H\\xe4$^\\x11v\\xe6\\xfeh\\xa1\\x83~\\xabDx*aF\\xe5\\x1e\\x86\\xe8\\x19\\xa9\\xb2[\\xeaJ\"\\xd5\\x9f\\xc3ea\\xb7\\xe8rY\\x96\\xf9\\xf7=\\'\\x03B$\\xd5\\x9aXJ\\xabbnk\\x83y\\xca\\xdcOE\\x1a@\\xe71\\xaf\\xaee{h\\xe6qQ\\x1b\\xd9b\\x10=\\xa7f\\x8bLO<\\xa8\\xd2\\xa1\\xe4\\xc1}\\xdd\\x85v\\xa7\\xf5\\xea\\x19\\x97+*\\xdc\\xb2~J\\xd5!7\\xe7\\xf3G\\x13\"\\\\\\x90Emu\\x91\\x058\\xce\\xd2\\xbc\\x17\\xae|9\"\\xec\\xd0=\\xe2\\'N\\xfe\\xf6zA/\\xdb\\xc2\\x8eP\\x06\\xe9T\\x01\\xb8\\x10\\x06%\\xeb\\xb5\\x1f\\xdaCaF\\xfcm\\xdeO?\\xdd.\\x0e\\xfc\\xf8^\\xac*\\x10H\\x93\\x96\\x8cur\\xa7\\xadt\\x10\\x13\\xbd\\xd9\\xca\\xeb\\x19 \\xf9{\\xd2\\xc0\\x10\\xa1F\\xe1`\\\\T\\xcb5\\xcb\\x90\\xd6<\\x957\\xb2\\x84\\xe4\\x97\\xaf\\xb4\\x0bk4\\xecY\\x03\\x1f \\xc3\\x1ea\\xa5T\\x8b\\x96\\xab\\xf2\\xb3\\x07E\\xd1\\xf5\\xca<\\xdf\\xf5\\x83Y-$\\x86\\xd1\\xce.\\xa3\\xb42\\x82` \\xb0=\\xba,\\x13\\xe3\\x12!yH\\x1f\\xa0\\xff\\xe9\\xdd+}\\xb0S\\xca$\\x89)qtf\\xd4\\xc9\\x00q\\x8e,S)%\\x9e;\\x85L\\x17\\x84ys\\xb7-\\x9ahwb\\xdc\\xfas3Y\\xa3\\x99\\xb6$\\x03\\xa2\\xe0\\xa2\\x90\\xd7x\\x060\\x80\\x9b\\\\\\xa8\\xe14\\x1d\\xa09D\\xe0(5X\\x89\\xc4P\\xaa\\x0fJ\\xe1$\\xa7o\\xd1e\\xdf4\\x97\\x87v\\xc1{\\xcdW\\xee\\x9a\\xad\\xb0\\x08\\xf5\\x80\\x91\\x08\\xa9W\\xe8p,\\xfc\\xd9\\x81\\xf8\\x81\\xf5\\xd6\\x88\\xd5\\x19\\xdeC\\x1fPu\\x7f\\x1f\\xda\\xcf\\x91\\xfa\\x90\\x8f\\xf1J\\x11\\xc7ww\\xbd\\x80\\x9b/\\xd1>%\\xa7\\xd7\\xe9\\xcf!\\x08\\r\\x9fm|\\xac\\xea\\x07q\\xc2\\xd4\\xa2\\xa5h\\x90H\\x96\\x96E\\xa0\\xa2\\xa3\\xae\"\\x86R\\xbe\\xcc\\x00\\xb7\\x98\\x1cs\\xead\\x95\\xd1j$Z\\x1c{\\x0c\\xd3x\\xd4\\xa4\\xebD;/\\xe6Q}FE\\xba\\x15\\x8768\\xa3\\xf7_\\t93G\\xed3\\x10\\x17h\\xe8\\xbd1\\x12\\x00d\\xeec\\xa5\\xad\\x99P\\xd8\\xa8+\\xc2\\xa1~\\xea\\xa7a\\xd5\\xf38\\x8cZ\\x8dv\\xab\\xc1\\xa5=]\\xcf\\x02\\xb8\\xd08\\x91\\x02\\x9f\\n\\x0fy\\xa48\\xae\\xebm\\xc5\\xa9\\x99\\x88H\\xdab\\xa6(\\xc6sY\\xcc\\xd0\\xd4\\xc3c\\xf2\\xff\\xb2\\xba\\x05\\xa2\\x8d\\xe0\\xf9\\xdd\\xf2C\\x85\\xb4\\\\\\x0e\\x02R?\\x1f7zi\\x84\\xc7\\xa5\\x90Q\\xd2\\xca%.\\xee\\x1a\\xd7g\\x9b\\x8a\\xad>\\xe1\\x98X\\x84\\t\\x9f\\xf32\\xfcP\\x1cQ\\x8f\\xb7\\xa8\\xff\\xff\\x08\\x91\\x8b\\x17=d\\xf5\\xe3\\r\\xee+\\x96\\x8aa\\x8b\\xd2\\xea\\x1b1\\x19>\\x95F\\xe8\\xa6Ss\\xb1\\xe7\\xf9\\x8d\\x17\\xce\\xdai\\xec\\xa9\\x82\\x01=?\\xd7\\xa6l\\xc2\\x9a\\xe5\\xc5\\xaa\\'\\xa2\\x9d\\xd2\\x06\\x98Ja\\xa2^1/\\x7f\\x1a\\xeakJ\\xaf\\x8f\\xcfy\\xf9\\x02SJj\\xaf}\\xf7\\x16\\xa0\\xfc\\x8d\\x1c\\xda\\x96/\\xdc\\xcb\\x7f\\x9f\\xd5\\x86t\\xc5K\\x90\\xbb\\x07\\xc9<\\xfb4>\\x1a\\xef\\xcbpUL\\xe6t\\t\\xbd\\xfe\\xf6K\\xcfT\\x84\\xbb\\x8f<\\x8b\\x1b\\xb8\\xbd\\x8c^`\\x97\\xd8\\xc4\\xc4T5\\xe6\\xcb$\\xf8\\xae\\x88\\x9c\\xac(\\x1d_[\\x9d ^\\xf1~*\\xda[\\xa8\\xb8\\xc0\\x8a\\rv\\xd8P\\xfd8m\\x8fq\\x10\\x8a\\xe4v\\xb8\\x88\\x0c\\xd1l\\xa8\\xc0\\xd6\\xc5\\xf17\\x8b|X\\x8a\\xcd\\xca\\xe8?\\x0cuC\\xd0\\x00\\xb6\\xbb\\x85?S\\xd8\\xa3\\xc4~\\xa9\\x88q9\\xc1\\xb2\\xf0\\xd8\\xbe\\tu\\xa4\\x85\\xca\\xc6\\x97\\xc6\\xa4C\\x13\\x08\\xc09\\x18q\\xf4@n3\\xe3\\xdd\\x9e\\x16k\\xd3s\\xc6D\\xac\\xd3\\xcet\\xff\\xcc}\\xe2o\\x95n\\xa5\\x94\\x8d\\xd0\\xcc\\xa4$\\xe2=\\xaf[\\xa1\";\\x957K\\xea\\xfe]93)\\x8aa\\xdd\\x16\\xd7\\x05\\xb5\\xb6\\xaaJ!\\xcc\\x1eV\\xbb\\xab\\xc5\\r\\xeaG-$\\x95\\xac\\xe2S\\x10:\\xf4\\xc6\\rG$\\xb0\\xdd\\x13\\x0e\\xf0\\x9a\\xfd#\\xa0\\x16\\x0cR\\xec\\xdd\\x9dV\\xb7\"\\xb9\\x11Q\\xa1\\x84@\\xbe\\x95ABq+3\\xb1\\xbamP\\xff=Z]|E$\\x84f\\x83\\x00\\xd6\\xb7\\xdc\\x14\\xfcWx\\x96.E\\xad.\\xf9\\xd8u\\xecqW\\xbawR\\x15%6k\\xcaK\\x1b\\xb5l\\r?\\xce\\x951\\x1f\\xb3Qb~H\\xa4\\xbe\\xa5\\xf8R\\x01\\xc03\\xb5\\xf8\\x8b\\xcca\\xa2\\xa914\\xf7Q\\xb8\\xc6\\x90\\x18%\\xfc\\xa0\\xef\\x060\\xf0\\xc5{\\r|\\xe2\\x80\\xd8\\xeec\\x05?\\xb5\\xb7\\x94\\xb9P\\x02\\x042\\x0b\\xa4\\xb5Q\\xbf\\x9a\\xae\\xf1\\x16{\\x9az\\xcbm+\\x1bAb\\xf1\\x1a\\x90\\x0f^\\xa8\\xdc\\x9az\\x16\\xcda\\x95\\xf5\\xaa\\xad\\xa7*\\x06\\xcf|\\x12\\xf2\\x8ai\\xc8\\xb2\\x8a\\x85\\x8f\\xc0\\xc9\\x88R\\xb8\\xd9\\x1f\\x9ea\\xf4\\xc1n\\xe3\\x88\\x8a#\\x1aa\\xf9:\\xfb\\x81\\xe4a48\\x06\\xaa\\x17\\xc3\\x8d\\x9b}r\\x07\\xff\\xe455\\xd0\\x16\\xa3\\x01\\xcc8\\xac\\x12\\xec\\xa7x\\x96\\xe8E\\xe3\\x80\\xbd\\xe3\\x8e\\xa8\\xe8\\n\\x12\\x85x\\xf8\\xdd\\xb3\\xa1]\\xfd\\x80\\xfd\\xe6\\xfe\\x18\\x0e\\xe0+\\xb0\\xec\\x98\\x7f\\xea\\xe9\\xfb\\xa0\\xe46(V\\xc2\\xaf@\\x14\\xb5\\xcd\\x0fJ\\xa0\\x85\\xf4\\xc6\\x84+k\\x85gtj\\xc0\\xdbL\\xe5\\x1d\\x8dA\\x80c\\x0eUO\\x91\\xf6\\x8c\\x89\\x0f\\xea\\xc7\\xa0wP\\xe1\\\\\\x12Y\\x9f\\xd2_9t\\xcb\\x82I\\x1a\\xa8\\x1e\\x1c\\'\\x9f\\xf1\\xd52\\xd8\\x00X[\\x1bP\\xa5V\\x9f\\x139\\x92\\xc8\\xf2TH\\x1fF\\xf6\\x9bN\\xfe\\xa8\\x0cD\\x18\\xbe\\xd1\\xff@\\x9c\\x89\\xaf\\x96\\xb3f@\\xde\\x15\\xad\\xa6\\xa9\\x81\\x8e\\x99\\xbb\\xd5-\\x13\\x99\\x86jNs\\xa7Y-4\\xf2C\\x15\\xa3\\xcc\\x95;\\xbc\\xc0j\\xabN\\xa4\\x01\\x1c\\xce\\xd2>$>\\xb8\\xc1\\x08\\xc2+F\\x05I\\xe9(\\xce./\\xec\\xc1\"\\x91t\\xdf\\x10\\xf2\\xd5\\xc1\\x11]a\\x0be\\nBd\\x1a\\x0bu5\\x90\\xf7\\xe8\\x97\\xd5N\\x15\\xf9\\xaci#26\\xb3ie\\xb6\\x10b]P\\xaby\\xc3\\x1bn\\x13\\xa9\\xb5\\xbeK\\xdd\\r\\x1c#\\x8f\\xdff_\\xbb\\x9f\\xd9A\\xa9\\xfc\\x9d\\x16\\x98\\xbdlB\\xaf\\xa3\\xfb\\x13\\xce%\\x088h\\x86>\\xc1\\xc2\\x06<\\x89\\x04\\xf8\\x93\\x08\\xea\\x01v\\xff\\xa2\\xe5\\x15pLb\\x1a\\xe4\\x87\\xbd[\\xd9\\xb5M;y\\x7f7oj$}\\xec\\xa3~\\xe4#&\\x97\\xa7\\x1fz\\x8e\\x07j\\xac\\xa3\\x1e\\x9f\\xa8\\xe0\\xbb\\xc0s\\xcb\\xbe\\xe8\\xe9\\xf7,\\xa9\\x95\\xeb\\xb1\\xc9\\xd5\\xa5\\x9di\\xeaO\"O4\\xa2\\x80\\xc4\\x9b\\xde\\xe4\\xb4\\x98\\xae\\xde\\x08\\xf2{\\xf4\\xd8\\xc2\\xd8\\x94\\'\\x9bW\\x11\\xcd\\'!-\\x88$*Q>\\xa20\\xf9\\xf3\\xce\"\\xaeKJa\\'G\\x84y\\xf8\\xd6\\x0e\\xd1`\\x0f?\\xc6\\x88>a\\n\\x08\\x01r\\xb3~\\x81m\\x8e\\xd6\\x18\\xd2\\x96\\xd7\\x0b\\xbcz\\x10s\\xa3IL\\x19\\x95/\\xe5\\x8b\\xef\\xd1i\"N\\xd16\\x1a\\'H\\xfak|\\'\\x0e ]\\xd33\\xad\\x12]\\x1d#\\xec\\x15Nq\\xec\\xf1%\\xa7\\xa1\\xd6\\xaa\\xa1Xf\\x18\\xa5\\xe4{\\xd1\\xb2\\xdf\\x95h\\xcb\\x0c\\xa1\\xfcw\\x1bm&\\xfc\\xd6 &\\x12~\\x98\\x16\\x1aI\\xe4\\xec,\\xbcw3/\\xb4\\xca\\xac\\xdc\\x04\\xd1\\xb58\\\\\\x8dX\\xab\\xc4$p+{-4\\xa6S\\x1b\\x83\\xd8C\\xe9\\xd5\\xa0\\xf8\\xa1\\xb5q\\x8d\\xadW\\xc8 \\x85=\\xadE\\xd8\\xef[\\\\\\xfd%*\\x10rX\\x8a\\x13f/\\xcePx?\\xc7l\\xf6\\x0c\\x88%BL\\x8e\\xe2(0i\\xfa\\xd01&Q5\\x7f\\x0bTs\\xbd\\x1c\\xa94+\\x87#\\xa4\\xcd\\x0f4\\xbb\\xdeB \\xa9\\x8c\\xe8\\x8f}\\xaa\\x81\\x91cM\\xdak\\xda=\\x12!\\xedw\\xe6\\xf1\\xc7u\\xe1Z\\xe6\\x8c\\xaa}H\\x06\\xef\\xebm7\\x8c\\xfb.\\xdb|\\x81L\\xa5\\xa9\\xf7\\x05*J\\x16\\x8e\\xfdz\\xb6y.\\x1aQ\\xde)y\\x90E\\xc8\\xc4P\\xa0=\\x82\\x99\\xde9\\xaa%)\\x97x\\x94a1\\x92M4\\x81\\x831u\\x880\\xb4\\x14\\x04\\xd1\\xcb[\\x06\\x0c\\x87\\xa2\\xd6\\x9br\\x8f>\\x95\\xd343\\xe5\\x08\\xa4\\xe3\\x7f1a@\\xf2\\xe3,\\x92@ z\\x1b\\xa9\\xa2\\xc8W\\x16\\xd3\\x03\\xcc\\x81=\\x81\\x12\\xa5+x\\xc8uI\\xb6[Y\\n\\xce\\x8b\\x99\\xbdqOv\\x97\\xb7\\xc9\\xe3\\xacAi\\xa1U\\x9dc\\x08>\\xc9:\\xd3\\x15iN#@\\xcd\\x05\\x86h\\x1b\\x141.\\xda\\x94\\xf3\\xc6\\x89\\xd3D\\x86<(K\\x9e\\'\\xa2\\x83\\xe5\\xd7\\x03Z\\x92\\xa4\\xe4\\xf1\\xd1\\xb9\\xf4\\x01\\xb1\\x9d\\xeb\\xddOv\\x84\\x11\\xa1\\xb3%\\xaa\\x95Y\\x98\\xb6\\x97i\\x84\\xc1(\\xe1j\\xecN\\x8e?\\xd92%HY\\xa2\\xecB\\x84\\xd8\\xfd\\xe0|\\xe7h\\x11)\\xde\\xeb\\xda\\x07 \\xc5\\x82\\xbc\\xfe\\xcd\\x8d\\x88\\x91\\xda\\xd4\\xb6n\\xb8W\\x86Y\\x83\\xf9\\xda\\x89\\xc8\\xbeW\\x84\\xdf\\xef\\xe3\\x1a\\xac\\x03\\xc6{\\xe3!\\xbbUMp\\xae\\xde\\xa2\\xdf\\x99\\xcaa\\x98\\xf6O\\xca\\xe7\\xfea\\x08y\\xa5\\x04\\xa6\\x9cI\\x1d\\xcd\\x03\\xda\\x18\\x83\\\\\\x16\\x93@\\xa4#O\\xf9\\x95z\\xa3\\xb4\\xd6\\xae\\x12P\\xb1\\x9d~o\\x96\\xe3\\x13q\\x1c/\\x99\\x84\\x90[\\xf9\\xc7\\x8e\\xc6\\xa0\\xc3+p\\x89\\x03\\xed\\x0f\\xdc\\xd5\\xa3\\x84u\\x0c\\xd0\\x15{\\x92[\\x94\\xc7\\xcfC`G\\xf1\\xfc\\x1a\\x02[|d\\xf5Q\\x13\\xa8j\\x08\\x8c\\x81:\\x87;\\x87\\xd5?j\\x19\\x03\\x14\\xb1\\tCaCI\\xc1\\\\\\xe2\\xf2Y\\xb6\\xce\\x1a\\x9a\\x05]\\x042\\xd5\\xb5s\\x96-\\xc5\\xd5/\\x98\\x86\\xdc\\xaf\\x1e\\xb6\\x82\\xce\\xcb\\xbc\\x9c\\x1b\\x97\\x02\\xc6Cw\\xffb\\x15\\xda?&\\x91|jGf=\\xf1t &`\\xb2\\xafU\\xb7\\x8d0\\xa7\\xb7l\\x18a\\x91\\xd4\\xac\\x02\\xd2\\x10\\xe2\\xf2\\xa7\\xdf\\x029\\r\\xd0\\x1c\\xb2\\\\\\xf2\\x18\\x18\\xf3<\\xb5T6\\xff\\xb4\\xe3ZP\\x16\\x88\\xed\\x13.\\x9d\\x8c\\x98\\xb3\\xf4\\xb5\\x06.\\t\\xa4\\xef\\xa1\\xeb\\\\x\\xc8\\xff\\x90%n?\\xb9\\xaa\\xb3$\\n\\xb0\\x88Y2\\xa1\\xd10Cp\\xa5l\\xe6\\xc4\\x80j\\xbb\\xfb\\x85\\x06U\\xe9\\x93C\\x80\\xb1\\xd9`\\xfd\\x81V\\xe6\\x85y\\x7f\\x1f\\xb7\\x14\\xe7{\\xdcg\\x88\\x94\\xe6\\xbc\\xb7\\xa35\\xd0\\xed9gf\\xb13`a?*^\\x08\\x1b\\xe3\\x98Ia<\\x16i\\x89\\xa1\\x0et\\xee~i\\x9f\\xab\\xc6\\x8c\\xbbB\\x1e\"\\xb1\\x86\\x03\\xf3(\\x0cB\\xd8\\xb6\\x91\\x92\\xea4\\xea\\xa4\\n.\\x18\\x0bW)\\xad\\x97\\xcfnVZ\\x15#Q\\x84:\\xae\\x01\\x91bo\\xb7>\\xec\\x13u\\x848\\xc1M\\xfa\\xcf\\xb1K\\x1a\\x95\\xb6$\\xfeR\\x1b\\x03\\xd2\\xf6\\xac\\x971\\xd0\\xeb\\x1a[\\xe2}\\xd04\\xe0.\\xeb\\x84I-\\xcd>f\\x17\\xdc\\x9c\\x98Uo\\xf2\\t\\xf1`\\x81\\xe2\\x07V9\\xfb\\x1b\\x0c\\xec\\x97b\\x87.\\t,9\\\\\\xd6Q)4RH\\x1f\\t\\xe5k\\xe6rg\\xfc`\\x9c\\xa7G\\xe2\\x85\\x13m\\x94O\\xa4\\xb5\\xce8\\x8d\\x90J\\'\\xa9\\xbd\\xe7\\xe5\\xab\\xed\\xd6T\\xffY-\\x0e\\xaa\\xc8{`05\\xed\\'?\\xc1K&>\\xbdS\\x8a\\xda\\x1e\\x98\\xfe\\xa2Q0\\xf8\\x94\\x958H\\x94\"\\x15\\x89\\x99\\xe3\\x0f\\xb3\\xb7\\t\\xc7\\xd7\\xcfp\\xfe\\x89P\\xdd\\x9a>f\\xea\\x92\\xe1\\x04\\x075\\xec\\xea\\x11\\xdd\\xcar\\x95\\x9d\\xdai\\x1b\\x84[u\\xa2\\x87{<\\x7f\\xed\\xd3\\x9c\\x96J\\x9a\\x0b/nT\\x98y\\xfa\\xae8\\x07m\\xad\\xaa\\xb7\\xba[\\x1cn56\\xbbS\\x86\\xf3\\x8dG\\x9e\\xeb\\xe3\\xa6g}\\x94\\xa4Y\\x8d\\x04l\\x0bc\\xda\\xc5\".O\\xdce&\\x1f\\xa6j\\xe8\\xdbH\\x94\\xd2\\x1a\\xc1l\\xd6@\\xbb\\xe7\\xa8\\xcf\\x8c\\x8f\\x923\\xdcq\\xf9c\\x803%\\xb9E\\xa7\\x89\\xe4\\xb0\\xe0\\x08Sj\\x1eE\\x13 \\xa9CJ\\x8b/\\\\\\xc1\\x0e\\xd6\\xc5\\x9cb:\\x17y\\xa1o2\\x0f\\xc65W\\xad;\\x9e\\x9c\\x87\\xce\\xa0\\xf2\\xf6-\\xaf\\x93\\xa2iq\\xb2Mki(\\x9e*6\\r\\xf2\\xea-\\x16\\xd0\\xfd\\xb5\\xe78\\xcd^\\xef\\xb6\\t93\\x11A;4\\xd3&\\x8eI\\x89\\n;\\x17\\xb5\\x16_9\\xe8\\x87\\xdaO\\x14\\xab\"\\xb1\\xdd\\\\\\x1c3\\xda!\\x1b\\x80PO?{<\\x19\\x15\\xb5W\\x08\\xc0\\xc5\\xd1O\\xfe;\\xce\\x19\\x16\\xef\\xa9\\xed[\\xc8}\\r\\n\\x106\\x17/\\xe2\\xf8.\\x922:R\\xb3E\\x89#\\x99_ulX7M.\\x0f5\\xb9;\\xe8I\\xd8\\xd40\\x0e\\xbeq_\\xa8\\xbf\\xfa\\xec\\x0eFJ\\xdb\\xc2\\xed,\\xef\\x85-\\'I\\x9f\\x02JY\\xf7Z0\\xfb\\xb2x\\xb2\\xc6\\xd7px\\x14\\xa3\\x99O\\xb6\\xde7S\\x9f\\xa9/\\'\\xec\\xd7\\x84\\x82\\x0f\\x98\\xd1Y\"\\x91\\x8c#g\\xcf5T-\\x1aVPt\\x18\\x82,Z\\x05\\x19\\xd2\\x9dK\\xbd\\xd7\\x1b\\x87@\\xe6!\\x87\\xa6 R\\x109D\\x83\\x1d\\xe1\\xddo1$\\x90\\x14\\x17\\x06\\r\\x85-_\\xffy{\\xf0Fc\\xb3\\xb4\\xce\\x8f\\xc4\\xc3\\x9b\\xbcIPq\\x94|+\\xbc0\\x84\\x97v\\xe8a\\x01\\xf3x\\xd6\\xe0\\xc1 \\xfbQX\\x12F\\t,\\xfbVh~3d\\xcd\\x8f\\x156-\\x16\\xb6\\x8f*\\xae\\xc4\\x90R\\xb3\\xf7\\xe6\\xd3\\xfd\\xed\\x06\\xfaP\\x07aEQ\\x16\\x8d\\xa5\\xae\\x8a\\x9b\\x7f>\\x7f\\x1e?l\\xd0\\n\\xfe2\\xef\\x02\\x963C\\x97L\\xdc\"Pr)\\x8fc\\x1c\\xa7]\\xb6\\x8d\\x13J\\xe4\\xeb\\x9c\\xfd\\xd8\\xda\\x12J6i:\\xa9\\x12\\xcbF\\x19\\xdb\\x9a\\\\eU>\\x9b\\xc2\\x89\\xb2\\x1b\\xb1\\xdd\\xec\\xa2P\\xc5\\xe8\\x8b/3\\x02\\xb1wf\\xa0\\x83\\x1aG^T\\x87qu\\r\\xc3\\x11\\x08\\xdaD\\x16\\xf0\\x11\\xcb\\xf8\\x05\\xbd\\xd8\\xf5J\\xa4\\xa0\\x06,\\xe3K\\xe6\\x81Ob\\x90\\xa5\\x81\\xe4bu\\xa5\\xa9\\x84\\xeb\\x1c@\\xf0N\\xad\\xfb\\xda\\xadN\\xf2\\xea\\xa9G\\x05\\x07NG?Wh\\xb0:\\x05\\xbf\\xb4\\xe9\\xeb1\\x15F\\xd2M\\xb3\\x89\\xd3Kg\\x0c\\xb9?\\xbf\\xf8\\xb6\\xf2\\x05\\xcb\\xb3 \\xe1\\xb9\\xdc\\xdat>\\n-\\x00\\xbb\\xb30\\xcdnp\\x85g\\xee\\xd9NZ`\\x19v\\x16\\x10\\xfc\"gY\\xb8\\x9d\\xdc\\xd9\\x1d\\xa4\\xa8l:+\\xd3\\xfb\\x878\\xdb\\x00\\x94\\x95\\xbe,\\xab\\xa3!\\x9a\\xe9\\x9c\\xe6\\xe7\\xcb*s\\x14\\xc3+`9\\x9a\\xf0\\xe7\\'\\xaf\\x80\\xe2\\xd3\\xa7)\\x82\\xcb\\x8f\\x92\\xfc\\xee\\xc9\\xb3\\xf0\\xa2\\xb7\\xd9\\xfc!6\\x01zd.\\xa8&\\x11z\\x1e=\\xe3\\x8e\\xcfR[-\\xceL\\xf8=\\xa2\\xb0\\x82u[\\xe9\\x8bL\\xd2\\xa1\\x97Y\\x1c\\x88\\xfa\\xb2\\xd3W\\x8db\\xd5\\xac\\xa2\\xe8\\xa8W\\xcf\\xf1\\xf2\\xab \\xb5,\\x12\\xdaR\\x95\\x1e\\xedx\\x86\\xb1\\t\\x8bb\\xbd\\x01G0\\x9eYFO\\xe8x\\x88\\x96\\xc9\\xb4D\"\\x01h\\xbdx\\xd5-\\x10\\xda\\xec\\xdaB\\xc6\\xa0\\xad%\\xd3\\x8f\\x9b\\x18\\xc0\\x1eLWZ(\\xf2R|X7*\\x8c\\xd7\\x18&\\xad/\\\\w\\xb2\\x1a\\xe5\\xa4H1\\x1a\\x8bI_\\x0b\\xd1/\\xdak\\x8b\\x8a\\xabKd\\xc1l\\xb4N\\x03\\xd0\\xd5D\\xd2\\\\[\\x12\\xc0&_\\x13g!\\xcf\\x11\\x8eZ\\x10PD\\t\\xc1Vd\\x199\\x9eB3\\xeeq\\x08\\x13\\xebw\\x18r\\x87\\x004\\xc3\\xca\\x9f\\xf4\\xc1\\xec\\xcb\\x16\\xed2\\xd4\\xe1H\\xdf\\xcd\\x8fp\\xf9\\xb6\\xe1B\\xaeS\\x84\\x00:\\x08\\x8f/\\xafw\\xc0t\\xdb\\xb7\\xe6\\x13%3\\xa9\\xf7\\x03C\\xd1\\xa6\\xa0\\xf4@Bh*\\x99)\\x1a\\x9a\\x9dF]\\xac*r\\x16\\x10d\\x1d\\x06\\xd3\\xc2\\xd6S\\x99\\xc2\\x17R\\x00:nEf\\xd3\\x15\\x0f\\x06\\x8d6\\xad\\'e\\xd6-\\xcd\\x96\\xa9\\xca\\xb3z\\xae\\x8b!\\xd5U\\xf7\\x13\\'G%\\xc9g\\xf7\\x0b\\xbcery\\x96\\x02{\\xb6\\xdf\\xe1\\xcb\\x9eJ%u\\x883*\\xed\\xdf\\x9e\\xa6\\x16\\xbd\\x9bp.E\\xc0yKi|\\xcc\\xf5\\x07*\\x0b+\\xa5\\x0f\\xa4\\xeb!\\xe0\\xfa\\x86\\x83\\xa9\\xecq6\\xa3\\xf1\\xdfZ\\x87~\\x91\\t\\'W\\xedX\\xe9\\x9e\\xc3mK\\xe0?\\xfc\\x99\\xc908\\x9cn\\x88\\x9e\\xc3A\\xb3\\xbc\\x81\\x84\\xca0\\x88\\x14\\xcfq(L\\x076\\xdbsP\\x1d\\x9b\\x84\\x04\\xde\\xfc7D\\xb6\\x03V\\xebd\\x0f\\x0c\\xb3\\x1fSte.\\x90\\xd7<\\x8b\\xea?\\x86\\xc3\\x01\\xc6\\x90\\x04\\xbd\\xd9\\xa0x\\xa1F\\xeb\\xf5\\x0f\\xc0\\xc6\\x95{\\no\\xacew4Y\\xc8\\xf9\\x1c\\xc7A\\xcd\\xcb{\\xc9\\x81\\x9a\\x1e\\xd9i\\xea\\x18K\\tD\\x92R:\\xc1\\xfag3\\xdc\\xfdm\\xda\\x97\\'\\xd1\\xfdp6_W\\xa9ak\\xa1\\xb0\\x8d\\x88\\x83\\x1a\\xcb\\xaa\\x1f\\x99\\xd5!D&T\\x9d\\x02I$tU\\xb3!\\xb6\\xed\\xb9\\xcdRd\\x98\\x82f\\x92YQ\\x1a\\xc3\\x06\\xf1\\xf3g\\xa7F\\xe0\\xc1\\xc9\\xe2\\xab\\x8eM?l\\xc0\\xe4\\xc6\\x95\\x00\\x7fy\\xc4X);N\\xd6\\xcd\\xe6\\xb5L<q\\xf0\\xea\\x1dm!k\\xa8\\xd8\\xe5p\\xf3dl?\\xb1a\\xe9)\\xe1\\xa7A\\xa7\\xd3[\\x8e\\xe9lIE$\\xa1\\xe65\\xf2\\x06\\x9e<`\\x85\\x89\\x8etY\\xb4\\xd6\\xc5,X-ow\\x17\\xe7\\x11\\xf3\\xf9\\xbcv\\x91q\\x16\\x13\\xb4\\xcfcB\\xeb\\x95j\\xa6$jZV\\x0e\\xd2\\xc6\\x9a\\xdd\\xa3\\xd9\\n\\xfb\\x06sRX\\x1d}\\xdcp\\xa5 \"*\\xb32\\xdc\\x9c\\xa6r\\xad\\x1a\\x19\\xc9\\xb1\\x05\\xdd\\xed~B\\x12\\x93\\xbfi\\xf6=\\x8by\\x04\\r\\xde\\x17\\xa8\\xd4\\x04\\xd7\\xa3\\xd7\\xe3\\xc5\\xef\\rRV\\xcb\\x13CU\\x8f&r\\xa9K}\\xcb\\xe4d\\xf4h\\xa2\\x06\\xeb\\xcb!\\xd6\\x15T~\\x11\\xb4\\xae$\\x08\\x13\\xf5>@\\x88\\xa2=\\xd9\\xacI\\xa2\\x80\\x1a\\x8e1\\x0eGl\\xc8\\xf2\\xdef\\xcf#N\\xb8%f\\xf1\\x81+\\x85\\xc6\\xb0\\xb59\\xf0\\x12\\x7f\\x9b\\xfd\\x18\\x0c\\xcb\\xd6<$N<\\xed\\xa9|\\xd8\\xb7\\x18p\\xb7\\x8f\\x83\\x9a\\xc4$@[z\\x8c\\x98D\\xfe\\xac@\\x96\\xe0\\x82{l\\xb0\\x96r\\xa2\\x9a(\\x841u\\x80\\xefe\\xa9\\xac\\x04S,(\\xab_\\x11\\xafOqG\\xcd\"\\x8e\\xa3\\x8d7\\xcf\\x1e9\\x19\\xfe\\xacU\\xf7$\\xdf}aB\"\\xee\\xea\\xe2\\x00\\x16\\xe4\\xde\\xe6\\xd5\\xb2o\\xcf\\xce\\xcd$\\x9fr\\xcc\\xc0\\xebK\\xcfL\\x86=\\xc1\\xef\\xf1V\\xfdB\\x159\\xec\\x04{\\xdc\\xe7\\xfa~\\xd6\\x83\\xc2\\xf5\\x1d\\x83mt\\xeedh\\x1c\\x9d\\xe9\\x97b\\xc5\\x99\\x19K\\x1a\\xaa$d\\xcck\\xb3m\\x10\\x88D\\x195\\xa1\\x80\\x18\\xbc\\x18Q\\xb0c\\xac\\xa7$\\xe3vE\\xef\\xf6\\xd8MB\\x8f_\\x94JF_\\xa7\\xa6\\xc6&u1\\xbf4\\xc7z \\x04WQ\\x08C\\x04x\\x19\\x19\\xeb\\x144*\\xcdE\\x85\\x89\\xf3U\\x07\\x17}\\xa0\\xcf*\\xd4\\x91\\xf3\\xd2\\xed5\\xcfm\\x0c[\\xe8B\\xd8\\x96\\xe2\\xb9;\\xc5d\\xd3\\x87\\t\\xe1\\xbd\\xe1RN\\xe9\\x99*{\\xa49\\x9c*\\xc6z\\x13\\xbcS\\x83\\x9bh\\xf0\\xae\\x17\\x8e\\xb9\\x01\\xa5\\x93\\xb7[\\xa7]N\\xe3c\\xf7\\xd4\\xcc\\xddT\\x9bz\\xd7\\xbb\\x86\\xdd\\x9f\\xc7\\xb41u\\xc3\\xbb\\x8d\\xeb\\xa6B\\xd3\\xd4\\x84\\x14D\\x9b\\x9e\\xd5{\\x81\\x90=\\x16$\\x95\\x8e\\x02\\xcf(Sn\\x1f\\xf3\\x84n\\xaf\\xea\\x1c\\xaf+\\x82\\xe5\\x1e\\x86p\\xb4m\\xf9\\xb5\\xb9\\x07\\xdd3\\x8eQjo\\xda\\x1ct)\\xdd\\xf3\\x18\\xa0\\xb6hw\\xbeQ\\xc9\\x16\\xbbA\\xe2\\xbc\\xdb,\\x14\\xa2\\x88\\xeel@\\xdb\\xa6\\xac\\x04\\xe6\\xab~\\x91j\\x0b\\x98)`\\xd3\\xaaH\\x10\\x9d\\xe3\\xa6S\\xf3\\xc5Qr\\xac\\xfe\\xd2\\xa6\\xfb\\xf6\\x080\\xaf{c\\x90\\xa1zT\\xd1\\xe2\\xe8%\\x17\\'\\xb7t\\xd39\\x7f\\xb7~\\xf6\\xd4(\\xc8L\\xf8\\x93\\xf7\\x06.\\xf3\\x8e[\\x90(\\x8aR\\x11\\xb5Fr\\xc6a\\xcfZ\\xb2\\xdc8Z\\x16Z\\xde\\x03\\xa4\\x0fy\\x11\\xa0\\xd3~\\xdce]\\x1b\\x91J\\xb5)\\xa5\\xd0\\xc2\\x12\\x15\\xb3\\xa7q%\\x8a\\xac\\xdd\\xc1\\x9e\\x16\\x0e\\x9c\\x17\\xd6\\xe8\\x86\\xd4g\\xd7\\xa4n\\xd7\\x193\\x7f>y\\x07\\xbb\\xfd\\xcf_k\\x1c\\xeb\\x1e7m*\\x14c\\xee\\x8b\\x19\\xec\\xa10\\x8c\\xe0\\xd1C\\\\V@\\x1b\\xf2\\x00I\\x85Mz\\x1e\\xb8\\xf2G\\xab\\xcf\\x10{_Q[\\xe1=\\x8d>G\\xc7\\x12\\x0f\\xc6\\'7\\xa0F\\xf3\\xb3m$\\xba\\xba\\xe6\\x8a\\x83a\\xc4\\x0b\\xf5\\x17\\x86|\\xff\\x8e\\x03sg\\xfc\\x10\\x90\\xa5\\xae\\xc9\\xacu\\xfb\\xbd\\xa6Y\\xe4\\x97\\x8d1\\x7f\\x8d\\xa5*u\\x7f\\xf3\\xa5\\xd2\\xf3,\\x14k\\xe5(0]\\xad\\x9cRX\\xe3\\x11R\\x9dr3/\\xba\\x95\\x97\\xc6\\xed\\xcb\\xe0Y\\x11G\\x98bw\\xca|\\x1aa\\xb2\\xac\\x8c\\x9bT\\x06\\xcb\\x007\\xf6\\x01\\x8b1r\\xacbV\\xbc\\x02EZ\\n1\\xa0;\\x0b\\xe0\\xb0\\xef\\x13\\x98\\xe6\\xdbPp\\xae*\\xc6\\xd92g\\xa0&F\\x82\\x13\\xa7[\\x1a\\x19\\xf3\\x13ry\\x16B\\xf5\\x06\\xcc\\xdd\\xc3\\xf3VG*s\\xaf\\x9f\\xaf\\xdc\\x1e\\x15\\x8dU\\xc8\\xd4\\xf8\\x07g^\\x81#}9}\\xdd\\xc7\\xe6\\xceI\\xa8\\xef\\xcf\\xd7\\x03\\x10\\x0b x\\x85`y\\x8a\\n\\xd8\\xe9Lr\\xbdl\\x15\\xa8\\x942,\\xa8\\x89\\x85\\xf7\\xb3\\x8a\\xaf\\xabN\\x0ek\\xbe|\\xcdF\\xeaP\\x94\\xbaT\\xde\\x0bp\\x11\\xc7\\xec\\x03AG\\x03\\xd4\\x08\\xf2Z\\xa3\\x88\\x84\\x98a\\x16\\x8c\\xfe\\xffJ\\xd4\\xf4S\\xf1\\x03\\x1b;?\\x10@6.Rq$\\xc0\\x911\\x8a \\xf6Cy\\xb5Q\\x17\\xab\\x12\\x93uw\\xbc*\\xf8\\x0e\\xa9\\x7f\\xfa\\x93\\xfd\\x90l\\xbb\\xc7e\\x96%\\xd6&\\xba\\x9d\\x9f\\x1c\\xd9\\xcdnT9\\xca\\x91U\\xd9-L\\xa5\\x8d\\xc1\\xc1\\xca\\x08\\xa7\\xd8\\xd3>\\xf6\\xe7\\x96\\x8b\\xc4\\xb1\\ri\\x8c\\x8ez\\x7f/t\\xaf\\xac\\x0fF7\\xe7\\xcf\\xb5\\xee\\x1b\\x1b\\xb4\\x1a\\x97\\x16\\xf9\\xa1\\xe9\\x9fS$\\x95\\xe3\\xe9j|\\x08\\x95\\xf7\\x8e\\x91 O8yZ9\\xc6-\\x88\\xee\\xac\\x0f/$\\xabR\\x8e\\xab\\x88\\xfc\\xc1\\x15\\xca\\x0c\"\\x9c\\x92\\xacT\\xd2j\\xd0\\t\\x8c9\\xc7\\xf6\\r\\xa4E\\xa2C\\x1eD\\tq@CY\\x0e\\xbeZE\\x8dm\\x84\\xc7\\x8bk\\x1c1$0\\xae\\xda\\x88U\\x94\\xc0\\xde\\xb02:\\x90\\xc5\\xa6\\x1d\\x1a\\xfe\\xca1]7:N\\xf1\\xa0W\\x01\\xdf\\x85\\xa5c\\xa0\\xd1cvL\\x85\\x98\\xcc\\x19\\x08&\\xd8\\x03R\\xddOx\\x7f\\xba\\xdcV\\xa5k}J\\td_V\\xe7\\xb2\\xe9\\xf0R&%T\\xadC\\xb4T\\xaee[\\x1d\\x0f\\x18e\\x94s$\\n+ZXo\\xdb\\x8d\\x17B@\\xee\\xcc\\x89\\xdcf\\x08\\x9b\\xc2)e\\xd4>\\x9bv\\xa1\\xeb\\x92z\\xb0u\\xbeb\\xc2\\xc2\\xb9V}\\xc8\\xcd1D*Tp\\xdf\\x0bU\\x87B\\xc5\\xedZ\\xab\\x98]d\\x02I\\t\\rh\\xd2\\xba\\xf7\\xb0\\tx\\xbe\\xbdM\\xad%&S\\x8cj\\xe9\\x12\\xc44\\x1c\\xab\\x82]G\\xc5\\xab\\xca\\xd8\\x99\\xc4\\xaa\\x97\\xab2\\xb6\\xab\\x84\\x19\\xbaJP\\xd9\\xbb\\x92\\xef\\x12\\x97\\xb2a\\r\\xb5z\\xe2\\xd1\\x12Z\\x93\\x08#L\\x9e(\\xcd\\xc3\\xb8P\\x0f\\xd4\\x07\\x9f~\\xc6\\xe47\\xe2In\\x03\\x8e\\xe6\\x1f\\xae\\x90\\xd5\\x94Y\\xa8m\\xcedz\\ncu7\\xb0\\x9ab\\t\\x01\\xf1-o\\x96\\x02Q\\x89j\\x07?\\xf1\\xc3{\\x17|\\x83\\x13\\xc9e\\xbf\\xdc\\xff\\xe3\\'\\x98\\x81\\xe2^\\x7f\\xb7\\xdff_EQ\\xce\\xf6\\xaf\\xc8\\x1d\\x9a2Z2Y\\x0e\\xbb\\xab\\xc2\\xaa\\xee\\xd0\\x14\\xb8k\\xfcv\\x903\\xcf?C\\x03>R\\x0bo\\xb4\\x08\\xb9~\\x912\\xbe6\\x03e4C\\xa0\\xc9\\xb8\\x14q3D\\rB\\xfb3HN\\xbe\\x85\\xa5\\xa0\\x1bAnT\\xcc_>\\'L=]E\\x1b\\x16\\x84\\xfa\\xdc\\xe3\\xb0\\xd7&\\xba\\x99\\xd1\\xcbS\\x0f8rB\\t\\x19\\xaeM\\xccc\\xc6\\x94\\xc2\\x0b\\xc9\\xce\\xad\\xf0,\\x18e6L\\xb9\\xb0\\xa4\\xfc\\xa6\\xb6\\x89)96^W\\x07\\xf2\\xa1II\\xd7\\xea\\xd2c\\xd9.\\x9f\\x9fh\\x14\\xa9&!\\xd7\\xfd>\\xcb\\x0c\\x98\\xf5\\xbaHE\\xe5\\xcb\\x9d\\x88v\\x0f;\\xdb\\xc3z\\x99\\xd9\\\\\\x1b[\\xc8\\x9f\\xaa\\x85\\xdb\\xc4\\x8dIrR\\xff8;\\r\\xde\\xbb\\\\g\\xa5\\xf1hJt\\x19\\xfa\\x91\\xf3\"\\xde\\xf9xbqd\\xe5\\xcb\\xc5\\xea)\\xfe\\xea\\xd50\\x03\\xfa)c\\x96\\x0e\\xeaF\\xd8\\xd39\\xa3\\xc5\"\\xc8\\x83\\xc1\\xae\\x8c\\x80\\xcdML\\xe1\\xb5jO\\x99\\x04\\xa3\\xaf\\xa1d\\xc4I\\x1d\\xc7\\xc4\\xd2yr\\xc4\\x81&X`\\xbfn\\xdbs\\\\M\\x14\\x97\\xe6\\rS\\xf2 R%\\xdf\\x17xu9\\x98\\xfbCA0\\xf2Q\\xb5\\x8al\\x10\\x15\\xa0b\\xd6F1\\x0b\\x7f\\x9b\\x1cSu\\xb0.\\xa4\\x81c\\x941\\x04]\\x9b\\x9a\\x93D\\xeaa\\xc3\\xef>\\x8eiLOT\\x17E\\xb3\\xc5\\x0b\\x9e\\x8e\\xa7\\xb71g\\xf9(\"7!-\\xf7!zvu\\x88\\x0eI?\"\\x0e\\x856\\x86|\\xd9p\\x87\\xed;4\\x7fj\\xef\\x134\\xcft(k\\xd4\\xcf\\x8en\\xb0H\\xf4\\x86\\xde\\x15\\x18k6\\xb9e\\xd8\\x1eX\\xc7zk\\x89\\x8bPg\\xb4e\\x9e\\xb0SO\\xc7\\xad\\xba\\x7fj\\xdf\\x01$\\xe2!_\\xcd\\xee\\xc9\\xad\\xb9]\\xd1:\\xe0%#!\\xe0\\x12\\xa4\\xf1\\xddy\\xb2\\xe5|n\\xe2\\xde\\xaeF}<\\xa7\\x84\\xceN8\\xd2\\xcb\\xdd\\xdd\\x8f$\\x8cMoS\\xabB)\\xee9\\xde\\xdb\\x06\\x0c\\xd5P\\x85\\xbbUWi*[\\x87\\xbb\\x8dy\\x94\\x87\\xc9M8\\x95y\\xde)C\\xbdb|t\\x06\\x9a\\xdc\\xaa4\\x04\\xf4\\x90V\\x88p\\x9a!\\xed\\x18\\x1cc\\xb8\\x8c\\xe0\\x19\\xae\\xfa2\\xc3\\x02e@\\xab*/\\xdd\\xfd=\\x1f7C\\xc0\\x7f\\xdb\\xa84g\\x0e+;Q\\xfd\\xd6\\xa3\\xb7)\\x0f~R\\x8c\\x14+\\x15\\x1c|\\x8e\\xb6q\\xe4\\xdb\\xdb\\n\\x9c\\x1c\\xf7\\xf2\\x80)<\\xeb\\x89\\n\\x0c\\x1a1(\\xfa=\\x06\\xc4\\xf2A\\x98\\xb6V$1W\\xe5\\xb5\\xa3y~f\\xc0\\xee\\xa6\\xfa\\x9d\\x86\\x12t\\x1f\\x96\\xbe]\\xd5\\x96\\x89\\xef\\xa1x\\xc0*zJLa\\xc6\\xe02\\x16\"\\x12\\xa8\\xc8N\\x96h\\xa9`_\\xde\\x1b\\x97f\\x1f\\xd9\\xe1F\\x83HD\\xb9\\xb4{\\xfe4;\\xd2\\xaf\\x91\\xdd\\n5\\xef\\x02\\xb8\\xd5k\\xb0m\\\\\\x9e\\xecw\\xe1\\x1bB^\\x81z\\xb6\\xe3\\xd32&\\x0fi\\x075J\\xde\\xb6\\xfbt{\\xfb\\xbe\\xbb2\\x18q\\xf7\\xbe\\xa7\\x9a\\xf9%\\xf4E#=\\x11\\xacK\\xbfGNd\\t\\xd5JJ\\xfb\\xb6\\xe79\\xd3]&\\xc2\\xb0\\xc6\\x07|\\xb0\\xb38_\\xf0\\xd8\\'!qf\\n\\x8f\\xce\\x97\\x8e#\\xba\\xd6\\x86\\xa0F\\x81Q\\xdb3\\xf4\\x1a\\x95\\xfa.Io\\x8c\\xec\\xcf\\xb9M\\xaa[n0\\x05\\x08\\xdf\\x183\\'\\xc6\\x87L\\x85g\\x8fz \\xbf\\xb4\\xa9\\x90\\x11|\\xfcF\\xac\\xc2\\xf1}\\xf7\\xa8\\tHB\\xb8L\\xb7\\x0e\\x18K\\x04\\xca+\\xdfcR\\xe2\\x9e\\xb3m\\xf1\\xd4\\x91\\xe2\\xa9u@\\xfb\\x14\\x049\\xdb\\x9a\\x82\\x8a\\xfd\\x154[Du\\x10u\\xc5\\x9d\\xf6pp\\xaa\\x07G\\xa59\\x04z\\x1c\\xb1\\xf3\\n0\\xb7\\xac\\x8e\\x12\\x16\\xc8jHs\\x82\\x1e\\xfc\\xda\\xa5\\xe9M\\xa8q\\xff\\x15\\x02\\x0c5\\x0b\\xc553\\x84\\x1a4\\x833\\rK\\xad6\\x86N\\xcd\\xaesJ\\xc4\\xb2*U\\x83\\xb6\\x89Q\\x90/\\t|C\\x00\\x96\\xc8\\xe8\\n\\x9c\\x90\\x84\\xc8t6\\xef\\xb8\\x9fs\\xe1^\\x7f\\xe8\\x1b\\xf7\\xcd\\x895T\\x91\\x00\\xbc\\xadQ\\x1dOS\\xc2\\xa7F\\xe5\\xf9\\x1d\\x05\\xc1\\xa0x\\x88\\x13f\\xec\\x92\\xfc\\xe2\\x97\\x88\\xd6\\x97\\xd5\\xea\\xa7\\xaf\\xc09\\xa9U3\\x1eZ\\x13A\\xf5J\\xcds\\xe56\\x1ay\\x83O\\xc4t\\x86s\\xbc\\\\\\xf6\\x9b\\xada)\\x07W\\n\\xaa\\x82\\xd2\\xfc\\x1f\\xb2h+7\\xe7\\xf9`\\x18\\x13\\xc2\\r\\xfb\\xe5\\x92\\x1dC\\xca\\x9f\\xf6+\\xa0\\x81\\xaaV{k\\x8f\\xffY[\\xcc\\xfd0W\\xf9n\\xb7L\\x08Z\\x9e\\x86\\x1eud\\xf6\\xeb[\\x0e\\x19\\xa8\\xbcu\\x88\\r\\xb6\\x05\\xa2\\x9b\\x92\\x90\\x0e\\x90\\xe1\\x12\\x14I/(u\\xf5\\xf0\\x98\\xc8l\\x1bh\\xf2\\xd9~\\x00\\x11\\xc2b\\x9d\\xd8\\r\\x83\\xa4\\xe1\\xa6k\\x97\\xc7\\x00\\xecTL\\x9em\\x19\\xf3\\xec\\x8e2 \\xec\\xe9\\xa2\\xf0\\x01?G&\\xdc\\x89\\x8e\\x85\"\\xd2a\\x11}\\xa8\\x11w\\x9d\\x1d\\\\\\xca\\xf0\\xa5\\xba\\xd7\\xfb\\'[ -\\xb6\\xcc\\xdc\\xf3sQ{&~\\xdb`\\xdf/V\\x08W\\x97e\\xa8\\xac\\x1dl\\n\\xef\\xf7D\\xa9\\xd5!\\x01&\\x9eY\\xcaR\\xef\\x12v\\xec2\\xa9\\x14\\xe4\\x96;@\\xcc\\x19\\x16\\x9e\\x1d\\xedP-R\\x83\\x98F\\xbc\\xea\\xc9\\x1d\\xc3\\x1eV\\x87\\xcc<\\xd5\\x19\\xc1P\\x85\\xf5\\x98\\xb3\\x98p\\xf9\"\\x92\\xd3\\x17ap\\xac\\x8e<\\xcc\\x05\\xe6V\\t\\xc6\\xda\\rH\\x06R\\xc4M\\xc7\\xb7C\\x08\\xac\\x02b\\xb9\\xdfF\"`Qy0\\x96n\\xb9p\\xf1\\xa1\\xab)\\x0e\\xdf\\xfb\\xde\\x8e\\x9eO\\t\\x1bn\\xdc\\xeb\\x86IqP\\xeaq\\xd1\\xed\\xcc\\xc6\\xa4\\xcc!\\x02\\xedH\\xcbW\"\\xd8b\\xb9M\\x04{\\x05\\xc8\\x9e@\\xc9\\xa3\\xdf\"4\\xd1\\x0f\\x1c\\xcd\\t8\\r+\\xb7Z\\xa7\\xc9\\xee\\x846\\'\\xbf\\x14\\x9a\\x86z\\xcaE\\xf7\\xf8\\x94\\xd3\\xc8\\xc4<\\xa5w\\xa7\\xe3l\\x87d\\xdb\\x19\\xbd\\xa4g~2\\t\\xd5\\xd10\\t\\xbd\\x9b\\x17\\\\\\xe3&\\x9d/M\\xd8\\x01u\\xe3\\x02\\xe6\\xb3b\\xe5\\x90\\xe7\\xf9\\x0e\\xb4\\xbc\\xacZ&\\xe3\\x7f\\x12\\xbcrqB\\xf2\\xc6\\x12_CqEP/I\\x0e\\x85\\t\\xa6_\\x96\\x003q\\xaf\\x12\\x97\\xb0\\xe0\\xbf\\xac\\xa2\\x9d\\tWs\\xfa\\x92\\x07\\xd8\\xfdA\\xc6\\xce\\x13C\\xfc\\xe2H\\xa4\\xd6\\xa2=\\x12u\\xbd4AP\\'\\xb5!6\\xc7\\xc0\\xc9l\\x9e|\\xde\\x18G-fU\\xd4\\xb8\\xdb\\xc6\\xfc\\t\\xffY\\xa1]\\xc3\\x8e\\xc7x6\\x0e\\xc6\\xec\\x84\\xbc\\x94\\x95\\x89!jQ\\x0c\\x8e\\x18,m\\x84\\xa4\\x98\\xf4}T\\\\\\xb6p7\\xcf\\x1bnJ\\xedV\\x12\\xd8\\xd24\\x96z\\x00\\xb5\\xea4J\\xeb\\xf7<nu\\xa8\\xb3k\\x96-\\x88\\x19\\xb8\\xb6uj$J\\x1f\\x93\\xa6\\xbc\\xeb\\x163\\xd7nn\"\\xfa\\xa6?\\xe5\\x992r\\xe8\\xf7\\x93\\xcd\\x14\\x18\\xc6\\xf0\\x8d\\xa3\\x08\\x10\\xcb\\x1eJF\\xdaS\\xfacq~}\\xbc\\xc9\\n\\xa8v\\xcb\\xae\\xc4\\xba\\x9f\\xdd\\x17\\xe4<@e\\x99\\xbe\\x86U\\xdc\\xc9\\xe6N7\\xear\\xb9\\x90\\x86\\xd4\\xb6\\xe7S{\\xc0v\\x12W\\xda\\r\\xeaz\\xd1\\x13d\\xa6\\xea\\xe3\\xa1\\xd1\\x18\\xff\\x1eD\\x0b\\x9ay\\xc0\\'\\xe7\\x9e\\xec\\xe9\\x1d\\x94\\xc6\\xc2\\xdd\\xe9\\xd9:\"\\x88\\xc3\\xeb\\x1a\\xd6\\xe0`\\x89\\x13\\xd8C\\xaa\\xdd\\xbc \\x07k\\xc0\\x8b\\x19\\x8b\\xa6\\xce\\xcbD\\xa4\\x8fy\\xe2\\xa9\\x85=?\\xc4\\x19\\xc7#Uj\\x9bK\\xa75H\\x91\\xabC\\xc9H\\x96*\\xd0\\x1c\\xe4\\xaa\\xf4\\x90\\xb7\\xc6\\xc5b\\x93z\\x88D\\xc9K\\x937u+\\xb2\\xd8t\\x1f\\xc6\\xed\\xfa)w\"C\\xa3\\r\\x00\\x9a$\\xcb2d\\x9f5fm\\nK\\x99.\\x7f\\x08d]\\x1d\\xa8\\x8af\\xbb\\x8a\\x18\\xb6b\\xea\\xb3\\x95fU\\r\\xc0\\'\\x8eK\\xcd\\xd3\\xd9\\x082\\xd5\\x86Z`\\xde#\\x1b\\x89.\\xcf\\xb1B\\xd2\\xa1,\\xc8\\xe7#\\xa6\\xe5\\xa8l\\xda$TD,\\xb5y\\xb1XB\\x9c\\xeeQ\\xfbf6\\xd9$\\xa4\\xf3\\xe6,Y\\xaa}\\x18\\x85\\x16D\\x93\\\\\\x19\\x86\\xef\\xfa}w\\xeeK\\xbb\\xd28\\xdb\\xa4\\xe9\\x9e\\x9fRmj\\xcc\\x192\\xabR=\\x17\\x1e\\xa3\\xd6\\xc5}\\x82\\xc4\\xe0x\\xb1\\xfck\\x1be@}Zy\\xf4B\\xd7\\xd5\\\\\\xf3\\xe0\\x07\\x9c\\xa0\\xe9|C\\x13=\\xad\\xd6w#\\x9a\\xe0o\\xdc1I\\xcc\\xd6\\xae\\x02\\xf6k\\x9d\\xf2\\xc5U\\x8dE$\\x89\\xf6\\x0c\\x13\\x1cC\\x97-\\x894\\xa8\\xd5M\\xeb_\\xcc\\xfa+F5\\xe1D_\\xba\\xd5e\\x04\\xc2\\xcc\\xea3\\t\\xa3i\\xdc\\xden\\xf8\\xf9j\\x9a\\xb7\\xbb\\xe0\\xa6\\x91\\xd3Q\\xc3h\\xae\\xc0\\xda\\xca\\x80n\\xf6W\\xbc\\xb0\\xa7\\xe8\\xa1\\t\\xc6\\xda\\x05\\xecTkc\\x00\\x8b\\x00\\x07\\xb2\\xe7\\xe3bM\\x12\\xc1\\xb9S\\xf9\\x86\\x15r\\x03V\\x86\\x15a\\x85\\xd5\\x9e8G\\x83\\xddo\\xde\\xf2jV\\xf3\\xa6\\xcb\\x8cn\\x96\\xfa_\\xd9J\\xe79 5\\x15y\\nI*\\x92P7\\x1f\\xb8*2\\x17fT<\\x84U\\xf2\\x97\\xa0\\xf8\\xda\\xc8\\xfa\\xe4o\\x9f\\xc7\\xba%e\\xa2\\xad\\xc7I/\\xc0\\xd2\\x1fV\\x9b|@\\xf9>\\x8f\\xa1\\xc6k\\xd5\\xbc\\xf8f\\xbf\\xad\\xda\\xd3\\xa5\\x15\\x90x\\x8fj\\xc8b\\xd3j\\x12\\xddl\\xb6\\xca\\'\\xcd\\xbdW\\xd1\\x8d\"\\xf2sf\\xbc^\\xab\\xd6\\x13\\x08\\x87Rt\\x9ay\\xcak\\xb8\\x9a\\xdd\\x0b\\x9af\\x7f\\x85R\\xc0*\\xe5\\x1fY\\xbaL=\\xb9V\\x94&\\x06}\\xd8\\x18E\\xc1`\\x980n\\xde\\xb8\\x9c\\xd90\\x9a\\xe8x\\xa5fTPy\\x8e\\xa2\\x84ga:4\\xa9\\x8d\\xa2Z\\x05d%\\x04p-\\xbe\\xb9\\xef\\x89\\xe2\\xcb3\\x1a\\xf7\\x90\\x17i\\xa9\\xc0GL\\x8ah\\x92\\xf9\\x1eLU\\x81%\\x14\\xcb\\x87\\x00fd\\x10o\\xf10\\x83\\xd0\\xf2x\\xde|\\xa5\\x8d\\x844\\xf8s\\x10\\xb5\\xcfm5\\xaek3\\xe6V\\x8e<k\\x12o\\xdc\\xe5w\\xfca\\xfe:\\xa0\\x02GTK\\xa6\\xbe\\x1f\\xd7b\\x1a\\xd6i]\\xc6\\x0c\\x01E\\xef\\xab\\xc7\\xc6N,\\xfa\\x07\\xb1\\x00\\x1c\\xd2T1\\x869\\xa6\\xf8\\x1412\\x89y\"*n\\x1b\\xe8\\xf7\\x8a\\xda\\x12\\x94\\xb8\\x9c\\xa29\\xb8-\\x11\\xed\\xfa\\xe5\\xc8AK\\xfe\\x1e\\xe7\\xf3\\x18\\xb9\\x1e\\xf46\\xca\\xfe\\x9e\\x9f\\x17\\'`\\xb54\\xda\\xf9\\x15\\x90\\xbeQ\\xad=\\x9ca\\xe3\\x07\\x91\\xb2}S\\xf2\\r\\x88A\\xcd\\xdcV\\xf4Ae\\x15HUH\\x89|B\\xfe\\x84\\x10\\xec\\x07\\x8f9!\\xef\\xc8\\xa7\\xecx^\\x1d\\xf3\\x98/\\xfb\\x10iP\\xfd)\\x9d\\xe2\\xa5\\x13\\xe6\\x9e\\xed\\xebza\\x90I\\x0cR\\xc5\\xaa\\xe5\\xba\\xa4\\n\\xccy\\x1f\\x98\\x9d\\xc0\\x00\\xa2\\xf6B\\xe7P\\xb8O\\xb2\\xd8\\x13B+a\\xa6\\xd7\\x80M\\x87L\\x9eq\\xb2\\xcc\\xe1\\x07\\x89\\x14\\x98\\x8f\\xb63\\xdf\\xca\\xa2\\xf2\\xd7}\\xa6\\xd4[\\xe1\"\\x12v\\xa3.\\xee\\x03\\x95G\\xdb\\x1b\\xa1}\\xb7\\xc5evQh\\x81\\xb2\\xb0\\xa6oo\\xe9\\xb2I\\xa4a\\xa5\\xf1v{\\x98,\\xe6\\xe9Z\\xee\\x00\\xd3}$\\xc2\\x1c\\xf3\\x1frm,\\r\\xe1l\\xa0\"gR\\xbc\\x91\\x0e\\xbc\\xc7\\x05\\x0c\\xab\\x98\\xc1f@*I\\xb6@\\xdbP#_k\\xb3\\xfc\\x85s;}U\\x0b\\xb4=-\\xca\\xf9[.\\x1c\\xb15\\x1d\\xce\\xeaY\\x11\\x83\\xc5l\\x99\\x1d\\x87\\xf6\\xf4\\x06\\xb1\\x9a\\x17#3,\\xd7\\x8f\\xe2Y\\x84\\x1e\\xbeB\\xa5 \\x82&S\\x0e\\xc2\\x11T\\xabNH,\\x99\\xd3\\x93\\xfa\\xd1\\x83b\\x1b\\xf43\\xfd.\\xf8-\\xd2cr\\xaep\\xf8\\x917\\xda\\x82{\\x98.$\\x98M\\xe4\\x15\\xa8\\xbaLB\\x06\\xfb\\xb4\\x15\\x9c\\xf85m\\xc3\\xe70={:oz\\xf4\\xd1\\xcf\\xbb\\x98\\xfdg8\\x03\\xec\\xb2\\xca\\xcf \\xcf\\xe0\\xc2\\x1a\\xa9\\xe0\\xed\\xee\\xc7B=\"\\x97e\\xec\\xc1\\xee#\\xfe\\xfb\\xbbG\"\\xa8\\x9b\\xc6VG\\xdb\\xba\\x12vy~o\\xb3\\x11\\x10A\\x80\\xaa\\x90\\x81S\\xdb\\xd2\\xcbVO\\x02\\x8aa\\xe1k+C7\\xfc\\x1a#j\\x82c\\r\\xa8\\x01\\xf2\\x9e]\\xe1Vc\\xae\\xd9*\\x8a\\xe4\\xb69\\xdcE\"\\xa7m\\x89\\xf3e\\x0bv\\xa8\\x95j\\xc4\\x87x\\xb0\\xe7\\xb4=\\'+\\xf7\\xaeC\\x1a>\\x1f\\xcd\\x1f\\xb5\\xac\\x07~\\xd1wF-[:\\x18jd\\x9c\\xf6h\\x13\\xf8\\xf8W\\xda\\xe0l+\\x93\\x8csd6o1J1\\x01\\x88\\x97\\x1f\\x14t\\xbd\\xfb\\x9a\\x8d\\xf5X\\xaf0w\\x8cZ^\\r\\xdd\\xa1\\x9e^\\x89\\x90\\xe7K/\\x0cB\\xa9Y9s=\\xb3^\\x9e\\xcd\\xc2_\\xb0\\x9d\\xa4\\xde\\xcd_=Z\\\\-rF\\x13K\\x1b\\x1c\\x0eE\\xa0\\x15Z\\r\\x9a}\\xb9K\\xe6\\x88\\x1c\\xdf\\xd5O({\\xe4\\x95-\\xaf\\x8e\\xa5\\x11P\\xb9\\x18\\xc1-\\xe3`N\\x14\\xa5\\x9c0\\x98\\x8a\\tn\\x81\\x84\\x1a\\xb7r\\x7fy\\xf1\\xbf\\xac\\xe1\\xe49r\\xdc\\x08\\xf6\\'d*Vh\\xba\\\\Qd\\xc5\\x06c\\tM\\x0c\\xd4G_\\xbex\\x01Qf\\xfd\\xa7\\xa4\\xc9\\x1f\\xab4\\xea\\xe0@\\xd4\\nX`\\xe7a\\x8d\\x01\\x16\\x7f\\xa3^m/\\xc0W\\xe6\\xf3\\xa1/\\x14\\xa4\\x1b\\xeb\\x1f\\xb9\\x06j\\x00\\xf9\\x99\\x14\\xdc\\xb4\\xce\\xab\\x04_\\xb1\\xc6~\\xe7}\\xb8G\\x12\\xc4$\\xf5\\xdf\\xb4\\xb6\\xdf\\x9d\\x18\\xcd\\xa0Y:\\xe3\\xca|\\xb9\\xea\\x0c{GYaV\\xfb~S*q\\xa9l\\x18\\xcf-\\xc4_\\xbe\\xb2\\xf0@L\\x98qQ\\xdcs\\xd4W*\\x0b$(\\xd5d\\xc8\\x1cR\\xf9\\xe4{\\xb7\\x1f\\x8aa\\xf4\\xe2\\x8b\\x88\\xcbc\\x97\\xc3\\xc7\\xcd\\xc1F\\x9av\\x8f\\xb1+N\\xe42\\n\\x1e;\\x8f\\x17\\xb6\\xef$uhb\\x80\\xbc\\xf3Ncc\\xf1S\\x11<?\\xdb\\t#j\\xdbZ\\x8b;\\x8f\\xd3h\\xfd95\\xb7\\xc0\\x87\\xb6\\x06\\xef\\xbd\\xa0\\xd8\\\\\\xa2\\x80\\t\\xc5-\\xfe\\xe82\\xab\\xf5\\x9b\\xba\\xdc\\x95\\x04\\x0c\\xe1m\\xe8r\\xfb(\\xbc\\xd1\\xc9>\\xc0\\x00*s3\\x87\\xb0\\x1ao\\xbf4^\\x8e\\xe4M+\\x85%\\xd9X\\xed\\x8c\\xb7\\xc7\\xd8\\xb2\\xbf{:gA\\x07\\x14`\\xdc\\xc6\\xc7\\x90\\x89\\xc2$\\n\\x01\\xad\\x03G\\x0c%-\\x1c\\xcf\\xd4\\x81\\xef\\x81\\xc6\\x18g\\xf2\\xbcr\\xcbm\\xa5\\x0fV\\x06\\x830\\x14>6I\\xd6\\x8a\\xf7\\x1c\\x84G#\\x86G(\\xa8L\\x88\\x7f\\xff0v\\xaf\\xbc*\\xcav\\x9f\\x07L\\xecM\\xcb\\x99\\x92k{\\x04\\x879\\x00\\x05h\\x9f\\xf3\\x01\\x1a\\x96*\\x90\\xfd\\x0f\\xa3S \\xaa\\xc8~LA\\x1bO\\xf8F\\xdd\\xd5\\x8f\\x89/\\xe2\"\\xb5=\\xf3M\\x1c\\xae;r\\xce\\xb8I1+]t\\xe0\\x16E\\xf2\\x1d!=\\x7f\\\\h|ZSC!\\x9fw\\x14\\xf3!rNT\\xd0x\\xc5\\x13\\xc1\\x8bY\\xb5\\x96\\xadD]\\xd46\\xfa\\xe1\\x14\\xb7\\x04^L\\xb1\\xb6\\x9cK\\x19m\\xbd\\x17\\xb2\\xe1\\xeb\\x0eI\\x8c^KtJI\\x9d(\\x11S^\\\\^\\x8b\\xb9\\xd7\\xfdy\\x9aH\\x8c\\xc8p\\xbb+d\\xa9:\\x13\\x8a\\xc1>\\x03\\x9d}\\x9d\\x1d,\\xdd\\xc0\\xf4\\xc5\\x98d$@\\xc09\\x941\\xb5\\xcc\\xd3\\x11m\\xfaB\\xf4\\xd6\\x87\\xf7(\\x80\\xa5&m\\xe2F\\xads\\xd0\\x8b\\x96\\xa3\\xf3\\xccXk.}\\xc0\\xe9\\xa7\\xe9\\x02\\xfeb\\xf4\\xedSIde\\xc74\\xfe\\xe4\\x9ei\\x9f\\xfdr\\xca\\xd9\\x1cl@\\x14\\x06\\xad\\xd7\\x14\\x0b\\xfb\\xb2\\x15\\xe9\\xd3\\xb2\\xa34\\xdb\\x90\\x89\\xd0\\x05\\xe5\\x17(f\\xbc>*1\\x91\\x0b\\x90\\xce+\\xa6R%\\x7fNm\\x84j\\xd4X\\x04\\xf2\\xabS\\xf0\\x0b\\x9b\\xce\\x8cM_\\x9f\\xdd\\xddE\\xa4\\x1e\\x11\\xed~\\x87\\xec\\x17\\x1f\\xc9\\xd4\\xd6&}\\x1d\\xac\\xcd?g\\xb5\\xdb\\xe3\\x15\\x1d\\xd8\\xf1v\\xc3\\xa0\\x9f\\xd4)\\x15\\xf3\\x12X)\\x96\\x11S5g\\xa4\\xd3~\\x19\\xc7P\\xdb\\x1e\\xe4a\\x98\\x86J\\xc4\\xbd\\xbb\\xb5\\xa6\\xf9M\\xd8\\xb3\\xeeH\\x8fv{R\\x1c\\x0f\\xda\\t4\\x0e\\xe0\\xbe\\x1c\\x93\\x12f\\xb0\\xfc\\x8a\\x16F\\xc1\\xb2\\xb7\\xfdn\\xc0\\x99\\xc81\\xc9t\\xa1\\x1bC1G\\x93\\x9f\\x7f\\xd3G\"5\\xca*\\xe9u\\xf2m\\xa5\\xe8\\xa6-\\xed\\xe6\\xb8\\xef\\xf4\\xc5\\xab\\xca\\xd59F\\x89\\rd\\x1a\\xf0\\xb1\\xa7\\xfa{\\xdb\\x80Y1\\xdb\\x88\\xeal\\xbcz\\xdf6\\xc2\\nO\\x14\\xe7\\xc1\\x81\\x02D5>\\xc9m\\xddE\\xb3@Hb\\xc9^%P@8\\xb1|Z*u\\xa3id\\x15h\\xd3\\x18=jz\\xaf\\xed\\xb2\\xecA$\\xbc\\xec\\xa4\\xc5B7H\\xcc\\x99\\xe7{\\xa9\"\\x19\\x9eZ\\xfd\\xd2y\\xc0\\x0b0\\x87\\xdb\\xa4\\xa0\\x04\\x1f1<;\\xadpJmE\\xeeV\\x9f\\x1f\\n\\x0c\\x15\\x7f\\xcf7K\\xa4T\\xb6\\x0c\\xffg\\x16\\xb1\\xefA\\x07\\xf8!`u/|\\x15\\x13\\x0e\\xcd\\x96\\xc1\\x1d\\xab\\xe5K\\xb2\\xba\\xbb?N\\x03\\x8cL|T\\x9d\\xd2\\xd1\\xddX2\\xbc\\xc3\\xe9n\\x8eR\\x993\\xd6\\x14\\xfd\\x10\\x01\\x18\\x99\\xa3\\xda+2,\\x95F\\x81\\x1e\\x87\\xb3E\\x08F\\x82\\x87*\\xa8a\\x10\\xf7\\xee{R\\xf2\\x82\\x86\\x859\\xb9\\x8d\\x02\\x96\\xe6\\x8c\\x8e\\xb1\\x10\\xdc\\x12\\x0c\\x13\\x9aP7\\x08\\xd1s\\xa7\\xa1*\\xa5v\\xc3G/\\x06\\xb5\\x1b\\x11\\x13\\x86\\xd6\\xe5\\x976\\xd98\\x94&z\\xd6\\xac\\xf3\\xda\\r[\\xa5\\x8fx\\xc3\\xb5\\xe2>\\xd4\\x1a\\xe7\\x02\\x96\\x9f|\\x037P\\xb7#0\\xb3.T4%\\x85\\xdd&\\x13\\x02\\xd8\\x03\\x91\\xad\\\\\\xb3?o`\\xa5/\\t\\xb9\\x84E\\xf4I\\x0c\\xd4\\xaa\\x8d~$}\\xab\\xf5w\\xc6\\xe4X%\\xd3d\\xc5\\xc1PjS\\x84\\xc4\\xc0\\xb9\\x95\\xb4\\xa2k6\\x96\\xac\"\\xb9\\xcd\\x973\\xd3\\xf6\\x8b\\x04\\x99\\xc6ay#\\xe3D\\xfb\\xa4\\xf4\\x1f\\xf9\\x1c2\\x17\\xd3?)\\xdc\\xf9\\xd9\\xe3\\xa8p\\xb8S\\x88\\xc2\\xae\\xd6_F\\xbc\\x14\\x070+\\xb5\\x13\\\\\\xder\\xc1N\\xbfeH\\xfc\\xc8\\xa3\\xa1F)\\x9et\\x7f&\\xc5v\\x0c\\xc8\\x89\\x9ay\\x93\\x060\\x06\\xd8\\xe3G\\xbftp\\x15SO\\x9e\\xa9\\x85\"\\x02\\xb9\\xa3sR\\x15;\\xedz\\x0f\\x95\\xd8\\xa3}\\x16\\xd9\\xc26\\x15\\xdd\\xa5F\\xa1\\x1caJ\\xe5\\x8d\\xd6\\x1cU\\xcc\\xd1\\x07\\xe6B\\x98\\xd9\\xd1\\x90\\x12\\xbfz\\x1c}\\x14b\\xa3\\xa6\\x90?\\x82Q\\xae\\x8d\\xee\\x1c\\x11^\\xbb=p\\xec\\x83\\xbe_I\\xaa\\xa2Ut\\x99\\x83.\\xb3P\\x8a\"CeL\\xb7x6\\xcc\\xb1q\\x07\\xcb-\\xce\\xb7p\\xa8nh\\xb0\\x03r\\xde\\xb3\\xaa\\x84\\xf4\\x9ezw`H\\x08\\xa9b\\x17B\\x1b\\x97J\\x1b\\xda\\xdd\\xc9\\x910r}\\xc4w\\x08\\x8d\\xbb\\xa4\\x95\\x9e\\x80\\x1d\\x96P\\x8b\\xad\\x9a\\xd5\\xf7\\xb8\\x9d\\xb3\\xd4\\xf29T\\xc0h\\xb6\\x8d\\t\\x1c\\xf7iL\\xa2\\x17\\xc3\\x00Up\\xb2C\\xd5\\xadH\\x82%\\x1aik^\\x95\\xe9p\\x8e\\xa1\\x18\\xe5\\x1f\\x18\\xc7\\x8au\\x820\\xa5\\\\\\x1f\\xcb\\xdd\\xb6\\xefx7`\\x9ec,\\xb4d\\xd5\\xdb\\xe7T\\xc5E0\\xcf#\"\\xed0D\\xafn\\xcb\\xdf\\xdf\\x8d\\xeb\\xf7\\xa6\\xd7\\x8b\\xc4&\\xd2\\xac\\x98g\\xa183}\\xc9\\xc5\\x16\\xc7N1\\xad\\xee\\xdb\\x92?\\xba?\\xccyS\\x1d\\xf3\\xc6\\x95\\x0bQ@($\\xe8\\xef\\x81%\\xb6\\x82,k\\xd9\\xe7\\x17\\xc4\\xfcjK\\x15\\x8bj\\xc93\\xe1\\xe4_\\xb6\\xbaP!{\\x84o\\xa3\\x06A\\r[\\xe9\\xc9\\xd0N\\x87\\xac\\x18\\x07\\xb96\\xa0\\xeaP@M\\xa2\\x03xG\\x89j\\xd8\\x90\\xf1\\x8fhC\\x9cs\\x021\\xcc\\xf7q\\x82\\xf3\\x1d\\x1c\\xf5\\x1f\\x9c\\xc3\\xed]\\xe5\\xc1i\\xd5\\xa2\\'c\\xa1&#\\xa6\\x0f\\xfa~\\x89\\n\\xb5\\x19e\\xf7\\xa3_\\xd3\\xc0\\xb5\\x1eS\\xecW\\x8dJH\\x91\\x19\\xd9\\xb7kg.\\x1a\\xa8\\xf3\\xec=\\xf6:\\xc6\\x03\\xe4\\x82\\x14w\\x00\\xc9\\x7f_\\xc0\\xfe\\t.^S\\x83B\\x15\\x93\\xe7\\xcag\\x03\\x8e\\x93n\\xcb\\xdd\\x81\\x9d\\xb2T\\xc5\\xe0\\x0f\\xb8\\x96\\xafo\\xc1(\\xe6(s\\xc3\\x91\\x851,\\x9e)0\\x90\\x12)\\x84j\\xc5\\xf5\\xee\\x07\\xcd\\x11\\x0f\\xf3\\xe0\\x00r\\xdb\\xc3\\xd1\\x95\\x9b\\xc3\\xba\\xec\\xb6&(a\\x1d\\x97\\xa8o\\x0f\\xb19\\xca3\\xf3\\xff\\xfe\\xb5ef\\xdf2}\\x16d\\x11\\xb3\\xe5\\xbc\\xae{z\\x14\\xf7\\xbch\\xad\\xfcr\\xc8f\\xa3\\x1eq)4\\xc2\\x8a\\x13]\\x96&\\xb3,\\x8c9\\xb3z\\x1bHO\\xe2\\xf9\\xca\\x9b\\x88\\rVYB\\x19\\x88\\xe8\\xbd\\xe5-/\\xed\\x19\\xfa\\x98\\x0f\\xf1\\xb6\\x07E\\xf4\\x07p\\x92\\xc8\\x04\\x8c\\x90Zcl{\\xa6\\x0e\\xaf\\xb3 \\xd7\\x0f\\xcb\\x128\\xb3\\x19\\x01\\x08\\xc9\\xd6\\x91\\xd1)\\xf6\"@|\\x03\\x9e;\\xe0#\\xf8H\\xcb5\\xa0m\\x1a\\x8d\\xd9\\r7d\\x96\\xd4\\xd1\".3U\\r\\xac\\x0f\\x0f\\xd4\\xd4\\xdbN\\x08\\xde\\xc5E\\xa4\\xb0\\xea\\xca\\xa8\\xe4\\x99\\xcef`_\\xa0}\\xd3\\xb2\\xa0\\xaaX\\xbb\\x1b_\\x82k\\xdc\\xf7gj\\x81\\xd5\\x8aw\\x8c\\xe2\\x01%\\x1e\\xf3u%F\\x1f&\\xf2\\xf6\\xa7\\xbb4x\\'2.\\x0fK\\x9a\\xd2\\x1b\\x05\\xa6\\xee\\xd2p\\x91\\x15]\\xa7\\x08M\\x0c\\x182\\xdb7\\x1c\\xdeQ_T\\x87\\xf0t\\xdc\\x18.\\x11)Ze\\xc0\\x8c\\xdb$\\x97\\xcaR1&\\xad\\xda\\xa7J\\xf5\\xa9c&}\\xee\\x9b\\xb5\\xc4\\x19\\xcc\\x0e\\x06\\xec*+j\\x0c\\xe7\\xbb#d\\xde\\xc3v\"\\xb7]D\\xaeI\\xbca\\xb6nO9\\x9f(\\xb6P\\xcc\\x18s\\xf8\\x82E\\x82\\xdadz\\x01\\x1c\\xdb\\x1b\\xfc-\\xf6\\x1a\\x04}!X\\x17r\\x0cl\\x00%\\xee\\r\\x0b`\\xa3\\x8euU\\xb6,f\\xd2,\\xd4\\xd5)A Lf;\\x1eNw\\x9c\\xfd\\xf2Z\\xfa\\xd9\\x96\\x03\\xf4\\x16+\\xa1zj\\x83>\\xeb\\x05\\xfd\\x8ai\\xc3\\x0c\\xae\\x88\\xb9\\x12\\xde\\xa3\\r\\x8aoA\\x14\\x05?W\\xf5\\xb0\\x17\\xb1\\xbfd<Fk\\xe6\\x1a }{\\xf1lq\\xa4\\xa1%\\x1b\\xf4\\x9fq[BI\\xfeK\\x12:\\x86\\xb2e\\x85\\xacxeg\\xec\\xe5!EA\\x8c,\\xfcb7\\xbb\\x93 \\xd65\\xe7\\x10\\xe7:1\\x9e\\xfaY\\xd6!\\x13\\xd8\\xa4\\x89\\xd5\\xf7\\xb4\\x9f\\xe1\\x1a\\x0b\"k4\\xb3\\x8eze\\xf7r\\xc7*&\\xd0\\x98Z\\xeay`kJ\\xc7\\x08Nx\\xda_nJ\\xa1c\\x86\\x9cT:\\x15v\\xdds\\x9d\\xc7JN\\xdb\\xa8\\x9b\\xeb3t\\x00\\xda\\xaa\\x9d\\x88\\xfc\\xfa\\xe6\\x01\\xba<\\xb9\\x0e\\xca\\xe4\\xb8=AL\\x93\\xe2\\x9eQv\\xa4\\x86\\xc0\\xac\\xf5)\\xcb$\\xd5\\xb2\\x90HN\\x8f\\x17\\xc9#\\x94\\xc2\\xd0\\xa8q\\xc7\\x0b\\xd5\\xb7\\xceZ\\xff\\x9e\\xaal6\\xcdw7\\x84\\x91\\xd6\\xa9g\\xd1c\\x0c\\xaeV\\x9bV\\x85\\x04\\xcbQ\\xa6\\xe7\\xb1\\xa6\\xae\\x14\\x99\\xcbk\\x18,\\xce\\xc9 \\x01\\xd0\\xe3\\x84W\\xd6X\\xf3V\\x98\\xd0\\xe3\\xaa\\x94\\x1eu\\x04\\x0f\\xf0\\xcd\\x88\\xa18\\xcfl\\x00\\x17\\x9f\\xda/\\xd5w\\xcd*\\xfa\\xd4\\xd9S\\xbc7\\x05p\\x1a\\xe1\\x97\\xd0\\xbf\\xa0\\xdd\\xf4g\\xefS\\xff\\xf6U .V\\xd9\\xb0R9\\x1f\\x0c\\xa0\\xc8\\x03\\xab8\\x9bM\\xbdx\\x8e\\x82\\xd1\\xb3\\xd6`m\\x90\\xa9\\x89\\x8c\\xd7`\\x94\\xf0\\xaa\\xf4vq\\x97\\x96\\xad\\x9e1\\x1c\\x88\\x80#\\x0b\\x15\\xeaK\\xae\\x1bj\\xceo+\\xd0\\xfer\\x84h\\xce9A\\xb1\\xec&\\xe0\\xc2\\xd0\\xb6f\\xf8\\x02\\x81Kp\\x14\\xa8\\xcbN\\x90\\xc1\\x046\\xb0\\x19\\xb6\\x8c\\xfcz\\x7f\\xad\\xef!\\xe4w=\\xd7\\x1eC\\r]\\x82\\xd7\\xe2E\\xcf\\xc3\\x1f\\xcc\\xc6\\x86:\\x1a;\\x94@09\\xb7\\xa2_%\\xd4\\x9f\\'\\x13\\'\\x8a\\x144x\\x12\\xcb\\x89\\xb9\\xbc\\x14\\x84\\xeb\\xb1\\x9ez\\xdb\\x8a43=\\xaf\\xe2nqs\\xadp\\x10{\\x1a\\xf45\\x19\\xf1\\xa65\\xc0e\\x83\\xc9o\\x1e\\\\\\xe7x\\x1e\\x89B\\x07\\x81\\x1bZ\\xf4\\x16\\x1c4C\\x9e\\xfc\\xadH\\xe7\\xb4kU\\xd9\\xc0_0\\x15\\x84\\xa2\\xaaS\\xe5\\xd4\\x04\\xfea\\x18\\x0e\\x04<\\x01\\xb9\\x9cG#C*\\x1f\\xf0\\xce\\xbdR\\xce\\xe3\\x16HC\\xe5\\x99\\xf4f\\xa9\\xce`\\x9cZ+\\xda\\x8dS\\x19iE\\xd7\\xe6\\xc8\\xf8R\\xf1\\xca\\x1f\\x08O\\xcc &\\xdf\\x99\\x06.7\\xaa\\xad(]\\x96\\x1e\\xdc\\x92\\xd65\\xd5\\x08\\x03P\\n\\xe6N\\xfeN)K\\xd5\\xc8\\xb4\\xe5\\x8e\\xa6_\\x9e\\xa9\"t#\\xc3&\\xd9\\x16:\\x8d\\x14\\x8d\\xc77\\xc4\\xf1\\xacgb\\xf2\\xa5\\x90!\\xf1\\x88<t/\\x9b\\xcc\\xfb\\xb6\\xbdO\\xc8\\xa6zt\\t\\xfe\\xbb\\xdf\\xc4\\x9a\\xb5\\xf9\\'bk\\xac\\xb8@o\\xa1\"\\xe1\\x91\\xf4\\x12@\\x1fu\\x85\\xc4\\xe8\\xd5\\x15e\\x86)!F\\x82\\xa5\\x0c\\xa9\\x8d\\x10V\\xf1\\xdb\\xd4.\\x9bM\\x1e\\xda\\x9c\\xdf\\x9e\\xa4\\xc1\\x1a$af\\x06\\xa4\\xb5\\xa75l\\xf8X\\xdcK;\\xb8\\x16\\x91h\\xa5\\x1a\\x98\\xdb\\xcd=|k\\x14J4\\x07\\xef\\x1c\\x86\\x04\\xb9\\xa6\\x1b\\xc3TnX\\x18%\\x08\\x95G+n\\x9a\\x05K\\xe5:\\xb2\\xd7\\xd3$,\\xff\\xf4\\x8d\\xd9\\x81N\"\\x1c97r\\xe0Yb\\xd4\"\\xd1\\x06\\xf21^)\\xc4\\xc5\\xb2g\\x854\\xeb\\x95\\x89\\xe8v%#1\\x88\\xe7\\xda\\xa2e\\x88\\xe4A\\x1c\\x87\\xfd\\r\\xa6\\xb9jk\\x16\\x9bP;\\x932\\xcfW\\x11\\xb1A\\xbc\\xe5=4\\xff8P%\\x85r\\x86u[\\x96\\xf12\\xda\\x8a\\xf2\\x18\\xb3\\xab\\xf4\\xcf\\x17\\'\"G\\x93\\xce\\x9f\\x10N\\xbd0k\\xc8-kZ2\\xd7I\\x1bLZM\\x89:4\\xce\\xbc\\xcd<\\x02\\xc5\\xf9\\x92\\x8aY\\xc7\\xcc?\\x179\\xec-\\x1d\\x90<\\xa5\\x06\\xca\\x1f\\xe8a\\xe0\",\\xd8\\x18.\\x0e\\xf8E&\\xb0\\x0c/\\xfc\\xb2\\n\\xde\\x8a\\x98\\xc9W\\x0fq}q\\xd8|\\\\\\x12\\x0f\\xe2yj\\xad\\xb8\\xe2;\\xab\\x1as}\\xbbL\\xf1\\xed\\xf9\\xca\\x8d\\x90\\xc4\\xc3}f\\x10~>qC\\x8d\\x86Rd<\\xa5\\x14\\xb3?\\xe6\\xb00sMc#M\\x8f\\x06\\xc4\\xca\\xd49\\xb4\\xdd\\xa8\\xad\\xb9\\xbd&\\xcc\\xd4\\xa8B\\rz\\xa5<B\\xfb\\x94\\xf8s\\xf2\\xd9\\xea/m@F\\xf4u\\xb9sc\\xd0\\xf2\\\\\\x05O\\xa3\\x1d\\xc2\\t\\x99\\x17!\\x9fm1\\xa1<Fhq@\\xe6\\xf7\\nb\\xf7\\xe1|\\xb8\\x05\\xd7t\\xbf\\x9a\\x93>v\\xbe\\x88\"\\x91\\xf9\\xe9\\x18\\x82\\xe3U\\x97\\x07/\\xb6\\r\\x01\\x9b\\x8dB\\x994\\x9f\\x8c\\x06\\xb2\\x9e\\xb8\\xcc\\xf7\\xb6\\xea\\x04\\xb8\\xe4\\xb9\\x8d\\xf2\\xa0\\xb4\\xaf\\xfb\\x8a\\x99\\x02D\\xd3\\x91w\\xcb\\xdc\\x83\\xc5\\xe3\\xd4VY!\\xb1\\xf8~\\x94b\\x86S\\n\\x0ee\\xaeV\\x1em(&\\xa1r\\x1dM\\x1d\\x91\\xee\\xa0-\\x97k\\n\\xd6\\xd1D\\xf6\\x8b\\xda\\xee\\xc3b\\xa0d\\xee;\\xbf\\xcd\\x10\\xcag\\xb41\\xe0\\xeb6C\\xb9\\xae\\xb6\\xa8\\xd8\\xac\\xdf{\\x14\\x13#ez\\r>\\r>^\\xa3\\x1f\\xb5{\\x15<\\xb52\\x83\\xa2\\xca\\x9f|]\\xec%\\x93*\\xde\\xf3\\x87\\x00\\x03G\\xdc;\\x94\\xa8\\x83e\\x1dI3N\\xa9\\xd40\\xa7\\x94-\\x8b\\x90\\x11\\xb1\\xb4\\x8a\\xfa\\x9ac\\xc1[\\xe3\\xc9\\xf1\\xa0\\xaf\\x0fe(\\x02\\xda\\xd5\\x9f\\x83\\x13\\x11\\xfag&\\xaeO\\xe8;\\xa9\\xf5\\xe8\\xde\\xbe\\xfe\\x9f\\xc2\\xd7\\xbf\\xb2\\x02\\xdeHk\\xa8\\x9b\\xb6\\x9eR\\tyz\\xde\\xc5\\xbbd\\xe2\\xb1\\xa4F\\xc0\\x84\\xf27\\xbcht\\xd5\\xba\\x84w\\xc62\\x02\\xef\\xb7+\\xb0\\x050+\\\\\\xeb\\x05\\xa8\\xd3\\xee\\xca\\x93|\\x11\\xc34\\xcdr&\\x8e\\xf4\\xaa\\xcf\\x08\\xf9\\xbc\\x9b\\xec\\x92\\xa5}\\xb4\\xaeQA0\\x1b\\xf4a\\x8b\\xdd\\xbf.$]\\x131\\x98{\\xe0I\\x89\\xe8\\xaaHC\\x8d\\xeb\\x12\\xe6w\\\\\\xcd|\\xb8#\\x9f\\x10^\\xd6LiB\\xe6\\xd9zn >\\xfa\\xd5\\xdb\\x02N\\xa8F\\x8a\\xc2\\xffm\\xd4i(\\xd9\\xa5\\x0c\\xd7\\xb3\\xdd\\x03\\x88}L\\x87p\\x86\\xfe\\x9c\\x84\\x16SX\\x13D\\x84\\xcd\\xba\"/$Jj%\\x0f\\x8cA\\xbe\\xcf\\x03@;\\xa1i.\\x84\\xe2\\xbcy\\xc08\\xfc\\xa9\\x88T\\x1c\\xfd\\xae\\xa9\\x9e\\x81\\xc3\\xef\\xf4b \\xee/\\x80\\xa5c\\x80\\xdabA\\xb9\\x1f\\xb7\\xd1\\x884\\xd7\\\\\\x19s\\xdb\\xfd\\xa4(\\xb2q\\xbc\\xffd\\x0c\\x80\\xb9\\x19\\x9cC\\xa0\\x13\\xe7t\\x9fI\"\\xc1\\xbb!J\\xa7\\xf8\\xe2\\xed\\xda\\xc0\\xc01\\xb0-\\x86\\x06X\\x9c;.(\\x17\\xfe\\xd3\\x14f \\xea\\x84\\xbf~\\x1d\\xf8\\xd7f[\\r\\xb2\\xc8\\xebP\\xa5\\xdb\\x1e\\x02\"T\\x0e\\x1a\\xad\\xfc\\x08\\xadtR\\xc7\\n\\xfb\\x14X6\\xc2\\ny\\x91\\x93\\x93TA:h\\x81\\xd9\\xe3s\\xe4\\xb7r\\xb3\\x81\\xb8hz\\xf0\\xd3C\\xbeEr\\xf9\\x1c\\xb5\\xd7A8(\\'\\x18\\x13X\\xf1\\xde\\xe2S\\xa6Q\\xd8\\xac:\\xb3*\\xeet\\x83`\\x10\\x9b\\xe6\\xd1\\xc6\\xe8\\x9b3\\xe9\\xe8\\x17\\x9d\\x8b \\xa0\\xa4I\\x1cF\\xd5{f\\xb9/u\\x85}\\xa6&\\x0e^\\xb7\\xd1D\\xac\\xf2I\\x9b\\xb8-J]b\\xde\\xf76|\\xab\\x0c\\xc5\\xfa/\\xb9\\xcb\\xc5\\x9a\\xa75\\xf1\\x84D\\x05\\x9c(!\\xfeX3\\x03\\x94\\x84G\\xa8<r\\x14\\xa4i\\xb7\\xfcce\\xc5\\x03\\xb3\\n\\x13\\x1c\\tG\\x86\\xa3\\x87\\xab\\xba\\xba\\xfc\\x8f\\x051\\xa2\\xf0\\x0f2\\xdf\\xc5\\xe3|\\xe5\\x81L\\x9a\\xe2\\xe3\\xbc[c\\xde\\xb8\\x82\\x13\\x96\\x10y\\xb2\\xbb\\x98\\xfbu\\xfd\\x01\\x1c\\x8f\\x8b>\\xfb\\x15\\x16\\t\\xae\\xfdc\\xde\\x17\\xc7\\x06V\\xb5\\xa3\\xaa\\xc7\\xb0\\xbb\\xd7\\xcf\\x14\\xadl\\x95\\xfc\\x90\\xf2\\t\\xb19a^,\\x0cc\\xa8\\xf8\\x85\\xa3\\xdf\\xbc:\\x06\\xbeM\\xeb\\x80\\xdf\\xfd\\xd8\\x95RWfbN\\x97E\\x86\\xea\\xe8\\xabWb\\x8d\\xe2\\x96F\\x9a\\xc9\\xf7\\xa4q\\xaf\\xb3\\xc1~\\xbfr\\x80\\xba2`\\x93\\xe1\\xd1\\xa8zDcO\\x14\\x80.\\xb0\\xb0\\xf6K\\x8d\\x9e;\\x85/\\xad\\xb5 \\xc7\\xea\\xb7\\x9e\\x81\\xcd[\\xa3\\xf6H\\x92\\x88\\xda\\xaf\\xdd\\x92_4{\\xa3L\\x80p\\x7f\\x9e<yaC\\x9a\\x10\\x96\\x8c\\xccS{\\xf2#\\x9a\\x03\\xd1?Y\\x16\\x80R\\xe2\\x00=\\xe7\\xf7\\xb7s\\x7f\\x87\\x9a\\xe8Y3.\\xe2\\\\\\xd8\\'\\x120\\x1c?rN\\xe8\\xc9rVn\\xd3\\xe50\\x12\\xd08\\xba\\xb3{\\xa6\\xba\\xa6\\xe1#\\xf7\\xa1\\xf0SoN\\x1a\\x81V\\xd8\\\\\\x99\\x1d\\x1c\\xd3\\xf4@\\x9d\\xcd\\xe9/\\t\\xb9\\xfd#\\xca\\xb5\\xdd\\xdc\\xf6\\xcb\\x9a\\x0c\\xf5U/\\x06\\x8f\\x98\\xf5\\x034\\x7f\\x85\\x08\\n\\xcf;\\x94\\xee\\xae8\\x0f0\\x01M\\xd2\\xe4\\xd2\\xfaPz\\xce\\xcf\\xa54\\x93\\'\\x10\\x10 \\xc9\\xaa\\xfan@I\\xf3m\\xc0\\xadL\\x04g\\x02\\xde\\xa4\\x18\\x9f\\xe0\\xa3\\xce\\xc8:\\xe7n\\xca\\xec\\x8b\\xeb\\xd1\\x03\\x98\\xa8-\\x9bJ`\\xa6\\x81\\xa7\\x9a\\x14h\\xe0a%J.0\\xcf\\xac\\x7f\\xcel\\x11\\xa2\\xde\\x1f\\xc4\\xeb25k\\x9f\\x1c\\x89\\x9e\\xba\\x88Z\\x8fYWF\\xbd\\xe0\\xd9\\xc9\\xca\\xb7\\x13\\xc1\\xf3i\\x12\\xcc\"\\x11P\\xba\\xe64\\xdc\\xdb\\xad\\x8ag\\xfe<\\x83\\x89b\\xc3\\x88\\xd0\\x87\\xd2\\xf3\\xec\\xc40CS\\x18\\xa6L\\x06\\x93\\xda\\xdc\\x18\\x9c\\x10\\xbe}\\x92\\x99\\x15\\xcdgR\\x82?\\x04\\xd1Cs\\xabY\\xee\\xcb\\x14)\\x14\\xf5\\xd2zC#\\x12,\\xa7\\x0f\\xb2:\\xe4\\xd7u\\x89Dc8\\xe1\\xaa\\xb2\\x938+\\x9a\\x1f\\xfd\\n\\xfe\\x9c\\xec\\x90k[\\x0e\\xdf.-UJ_\\x14\\xf2lH\\r\\xee\\x16\\x13#0\\xeb\\x07=S\\x0etp\\x87[[\\xadN&/\\x13\\xa5\\xe8\\xa2\\n\\x18\\xf5[\\x96\\xdf\\x90T\\x8d\\n\\xc9\\xca\\xd1\\xe8\\xf3\\xbde)n\\x016{Z(*\\xef\\xf7\\xf3\\x06\\x07m\\x0crf\\x12D\\xb0\\x86+\\xd0\\x00\\xbf\\xf8\\xc4\\x1a}\\xc56?\\xf2\\xd9\\xa8\\xf9\\xc5\\x83&\\x7fN)\\xf0\\xb5\\xec\\x89n\\x1f\\xfb\\xd4\\xeb\\x18\\x90\\xf0\\xd2\\xa4\\xa3T\\x80\\xff\\xdc\\x96HQ\\xd2\\xbb\\xdd\\xa9\\x94\\xc5\\xde0\\x83a\\x94<\\ti\\x0ch\\x90`ya\\xefm2\\xddPK\\x01P\\xe4\\xe6T\\xdb\\xcd\\xcc\\x1d\\xb64\\xd70\\xba\"U\\xe7\\x97\\x19\\xdf\\r\"\\xcf\\x963\\xa43\\xfa\\xe9j\\xc9j?J1\\xb0\\x90Q5\\x078W\\x92\\xacS\\x84Rb\\xd9\\x98\\xae]\\x13\\xac4\\xa6LYs\\x10\\x13qM\\x92D\\xa6IF\\xc9(\\xe1\\xfb\\xb6\\x8b\\xb1\\xd6\\xa6\\x015\\x05\\x90`\\x95<r~Q\\xbe\\x0b\\x07\\\\\\xbaY\\xf6\\x93\\xe2t\\x08\\x05T\\xc7\\xe1\\x83\\xd5\\xb8\\x97\\x91\\xa9\\x1e\\x0e\\xc9a`\\x97m\\xda\\xa4B\\xe3\\x1eO:g?\\x9e\\x1c,X\\xd1\\n\\xce\\xc5i\\x034\\x14\\x90\\x06 l\\xbfV\\xf9\\xe5\\xa7\\xcf\\x9f\\xd2\\x08?\\'\\t\\xbb1\\x07\\x8e\\x12\\xbei!\\xb8D\\xec5}\\x97\\xa0\\x95E\\xa13y\\x82\\x99\\x90?\\x7f^\\xad\\xd0\\x0f\\xc8We\\xe42\\xc47\\x94\"b7f\\xec6\\xcdA\\x1c\\xa8m\\x1c\\xac$$\\xb6\\xc8\\xc2df\\xb6\\xdb\\xcfh?\\rQQ+\\xe9_ ^\\xe1\\x03\\xb9\"\\x9a\\x9e;\\xc3\\x96\\xaf\\xb3\\xe4~\\xe7B\\xb4\\x11j*\\xf2\\xafu\\x8f\\x0c7\\x93\\xa1\\x91\\xe8GC\\xd5\\xdb\\x85\\xb5\\x83\\x16\\x10\\x8a\\xe5\\xd0\\xacV\\x033)\\xa2\\xfe\\xd3\\xc7[\\x8eIU\\xcbj\\xcf \\xce\\x1bb\\xa6\\x87\\xb5\\x8b\\xc5!\\xb2\\x15\\x14\\xe6\\x02\\xc6o\\x8c\\xcdXX\">\\x98\\xb0\\xd4\\xfb\\xe5[Qy\\xf3\\xf7\\xfd\\xa1\\xf3\\x0fJ\\x98\\x9eA\\xb4N[\\x81\\x00\\xea,D4r\\x8ak\\xeb\\xcb\\'`1+R\\xcf\\xd5\\xba}\\xd15\\x16P\\xb4K%=\\xdenp\\xf7\\x8a\\xd6\\r\\xc2\\x9a\\x9c0\\n\".y\\x05\\x9fD\\x05\\xb7\\xd8:\\xbepK\\'\\xc6V\\xd9\\xacr\\xdd\\xfa\\xa9\\x0c%zW\\x85\\xb3\\xea3\\xf7\\x05\\xdb\\xa5\\xe7\\x86P\\xde\\xadY\\x9b\\x81SS\\xdb\\x1b5\"\\xb8\\xa8\\xcdV\\x9e{#m\\xe6\\x1e\\xf6\\xb9U\\xd5Z%\\x1c9:\\x93\"\\x0bi)\\xc4\\x83\\xd3x\\x7f\\xd0C\\x81uN\\xac\\xd4\\xa86\\x12\\x08H\\x8a\\xccO\\xdd\\x8d[\\xa6\\x80~A\\xb6B\\xd2\\x08.9\\xed\\xc2\\xae\\x01M!\\xf0\\xeco\\x95\\x1e_<71\\x9b\\xd3#\\xeb\\xa8\\xf3_\\x12u\\xdd\\xb4\\x9f\\x8fT\\x8e\\x17:\\x06\\xbd\\r\\xd9\\xbb\\xcc\\xfd\\xdf\\xf9\\x03\\xcc\\x0fu\\xa8e\\x8a\\x13\\xea\\xd2\\x92\\xd9\\xc4$E\\x7f\\xe7\\xd5\\x11r\\x8e\\xbc\\x89\\xcd\\x8b\\x9a\\x8c\\xd3W\\xaa\\x90\\xd2Y8Zg|\\xe0\\x0bl\\x0f\\x11.$\\xb0K\\xd2\\xe3\\xd2\\xfbg!\\xd4e\\xa6\\xfa1\\xd3ou\\xa8$\\xf4\\xf4\\xf3{\\xee\\x9ci^$I \\xdeG\\xb3\\x05.\\x8d\\xc0\\x97@\"\\xf9\\x19b\\x9f\\xd3\\x80\\xcb\\x92\\xf9\\xb7\\xc6\\xb0\\xe3x\\x83\\xe8/\\x89\\x1b\\xe4\\xa1\\xac\\x00\\xd9R\\xd7\\xc5\\xfe|\\xd7F\\xe1\\x9c\\x9f\\xd8\\xdc\\x82\\x01\\xcd\\xde[\\xcc\\xf9\\xa7\\xd1\\xe5\\xf0\\xae:.m\\x7f\\xaa>\\xf5\\xa5\\xee\\xab\\xe5O\\x16I\\xbf\\x0f\\xac\\xd8e\\x05\\x1bu\\xcc\\x81\\xba\\xc6v\\xc4*4U\\xde2\\xc0\\xbcJ\\x91\\xb0\\xc7\\xf3\\xa7\\xfd\\x95W\\x96\\xccwPM4i\\xea\\xc7\\xcb.h\\x85\\x81\\x85\\xb2M\\xee\\xed\\x1f\\xc3d\\xa7\\xa9A\\x96l\\xaawv\\x8f.\\x92C\\xb0\\xa7<\\x1e7\\x12\\x85\\xc6\\x16\\x0f\\x98s\\x90\\xbbN\\xe9\\xf1^\\xc0\\xb1Yx\\xad\\x96\\xd5\\xb3N\\xe5\\xba\\xcf~N\\xd69JN1-\\x8eZ\\xb1N\\xd7\\x9c\\t\\xae\\x0e\\xa0\\x12\"e\\xa6\\xd1\\x8d+\\x838\\xaf\\xf46\\x9b\\x16\\x81\\'{\\xea\\x9e9\\xbd+\\x0e\\xe4\\xe3VU\\x9b\\xaaM\\xa3\\x17\\xdf\\x11FQ\\x0c\\xc3\\xb1W\\xba\\x12\\xb9\\xfc\\xd0\\x1c\\xcc\\x98-m\\xd7\\xfa\\x18\\xbe\\xe9\\xda\\xa8\\xdf\\xc0\\xe7\\x83\\xb6\\x9f\\x9a`\\x1c\\x98\\x9a\\xde\\x8d\\xectU\\xd4Uxjc\\xb2\\\\j&T]e\\xbc\\xd4\\xb2\\xe0\\x0cs\\xce\\xbd\\x8f\\r\\xc7L\\x18#\\x10!\\xd5\\xa0\\xc9\\xb9\\x9f\\x7f#\\xe0\\x18\\xd7\\x88\\xe8\\x95\\x84p\\xa09\\x89*\\xe8\\xc7+\\xf4p\\x029\\x84\\xe7(\\xd4\\xb2\\xd4W\\xcd\\xb6\\x1d\\x02I\\xc7\\xf0U\\x8dz(\\xc4\\x1d\\x83\\xc1+#\\xc9l\\xf2\\x8er\\xbf\\xc0\\'\\t\\'|\\xb4\\xf4\\x93\"\\xa3W\\x83c*\\xfc\\x97\\xcc#\\x93\\xa8)FQ\\xb8\\xe89\\x03\\'\\x8e\\xfe\\'Z\\xe0@\\xa2\\x9e\\xd1K\\xc94\\xfb%\\xbah\\xf6\\xa6\\xd1\\x9c\\xe1\\x0b\\xc5\\n!/\\xa4\\xd7\\xae\\x00{\\xf2\\xb3\\xc7vAqb\\x1c\\x9b\\xd9\\xba\\x9e\\xea\\xcc\\xb0\\xd5\\x81l\\xfdn\\xae\\xb2\\x95u\\xcc0j\\xae\\xba\\x9cN,\\x8ek\\x11v\\x9a\\xe1h\\x8a\\x114\\xb5\\xcd-\\xd6\\xbc%\\xe5M\\x05\\xbf6Fl\\xd5\\xa3\\xb6\\x99\\x84\\x16S\\xfcrh\\xfa+\\x8cFvuzB)\\xab\\xdfM\\x80:\\xd7\\x0e\\x10\\x07\\xe1\\x92\\x8btU`\\xe3;\\xc0\\xb8\\x0b\\xcb\\x19q\\xa4\\xd8\\x145\\xa1\\x1cW\\x9adRm\\x90\\xdd7\\xe9y\\x8a\\x9d\\x88~\\x85\\xb3v\\xeb\\x18\\xc6\\x94^\\x01?cb\\xe9\\x04K\\x1a\\xac\\x12\\x86\\xa5\\xf3>|\\x0c\\\\\\xc8\\xb2\\xb4\\xd7\\x874?h\\xba\\xc3=x\\xe4\\xf4\\xf2s\\xbb\\x1f\\xfa\\xd1`M\\xcf\\x80\\xe8\\xd8KX\\x84sl\\x99\\xca\\xf7H\\xa6X\\xdb\\xca\\x91m\\xa6\\xf4\\x98\\x19\\xad\\xa1\\xa8\\x0e\\xc4\\xc0m\\x83\\xec\\x8c\\x08OS\\xdb\\xfe|\\x16b\\xd3\\xa9X\\x86\\xda;\\xb52R\\x1a\\xd3\\x18\\xbfp\\xa5\\xd0`\\x0eE4)\\x07\\xd8\\xff\\xdf\\xb6c\\x10\\xd3\\xc3\\x8dnX\\x19kb]\\xdf\\xee\\xda\\x99f\\x8e&\\x7f\\x86c\\xdcG\\x8c\\x85\\xbbYI\\xd2F\\xa7\\x10\\x12S\\x89\\x14]\\xf7OC\\x036\\xca&\\x19!\\xd0\\xdc\\x88\\xe8\\x0e\\x8f\\x06y\\xcb\\xc6Y\\xe6\\xad\\xc7\\xc5\\x15\\x8d\\x93j\\x9a\\xc2\\xfe\\xb9)\\xf6\\x15\\xa9\\x82\\xa7\\x10\\xf9p\\xaa\\x8b\\x8c{\\x8c4\"\\xf99K\\xf8\\x9c\\xd5]V\\x8c\\x97M\\xbb\\x8cpDT\\xb5\\x8e\\xab\\xe8<\\x89\\xfbd\\xaa\\xb5V\\xc0\\xec\\'\\x1d\\xf2\\x1e\\x82+m?\\x1c\\x87\\x1eN\\x15u\\xa5<\\xe0+\\xcf\\xfaJf\\xe6\\x99\\x89\\xb3C\\xa3xn\\\\\\xc1E\\xfe\\x02\\xb3y\\x99N\\xb6W\\xa1\\xcbX\\xbc8n\\xa6R\\x08\\x8e*\\xa1&=e\\xdey\\xe4\\xcc\\x08L\\x06L\\xa2yc\\nz\\x18\\xa3c\\x14\\xdc\\x02\\x94\\x12Q\\xb7\\xfdY\\xdc\\xe9^\\x85;\\x9e\\xcc\\x0e5\\xecb\\x89u\\xc8d\\xee\\xbd+\\xde\\xb1x\\x82\\x15\\xbb\\x14\\x12M\\xbe\\xf8\\xbd\\xbe.}+s\\xaa\\xddC\\xec\\x87X\\xd6\\xc8F\\xca\\x83\\xb4\\x80\\x11#\\x9e\\x1b\\xbfi\\x91\\xbd\\xa6=\\xe4\\x8b\\x1a\\xba\\xae\\x999\\xa1\\x16\\x86\\xe9\\xde\\x08s\\xa3U!Z\\x84;p\\x81\\x85\\x9aM)Md\\xfb\\xc1\\x88Qo\\xab\\r\\xa2\\xe7\\xc2~\\xf90\\xbd\\x8d\\n\\x8bdXqb\\xaaf|N\\xd2\\x1c\\xaa\\x8a]?W\\xd14\\xc0\\xdb\\xa6\\x15\\x18\\x9a\\x00l\\x80\\xfb\\xda\\xb19\\xb2~\\xd9Cc\\xd7FmW\\xf3\\xf8\\x91/\\x95\\xe8hS\\xc9\\x9e\\x8e\\x86\\xb4\\xc1\\x1b\\xf5\\xe4\\xd2X\\xbb2?\\xa5\\xe2yH\\x0b\\xa1B\\xa0\\xae`wA+^\\xb3[\\xfdc\\xc2=\\xb8\\xf4\\xa2R\\xd8%\\x85l\\xe5\\xce\\x1e\\xd9ef\\xccS\\x16\\xbec\\x8e\\xbb\\xd9G\\xc0UK1: \\x0e\\xb9\\xcf\\xb1\\xd5\\xa7\\xd6\\x8d\\x13\\xa4\\xb1\\x8b\\xca\\x9b\\x84\\xb8hrV\\xcc\\xd3\\xca\\x1c\\xd4z\\x10\\xf9\\xb38\\x06&\\x89\\x06\\xab\\xbf\\x19\\x07\\'\\xc8t#\\xf3\\xe4m\\x1bu-\\x9b\\x1d\\xad\\xb8\\x85\\x14\\x1ej\\x84\\xb9~4/\\r\\x0e\\x1dF\\xf4\\n<\\xfc\\xdb$G x\\x11\\x15\\xf1\\xce\\x1ep\\nY3k\\xfb\\xa6\\xdd\"\\xca\\xad\\xd2\\xb5\\x8cj\\x0f\\xeb\\x04X5\\xb1LB\\xca\\xa0\\xd0\\xad{\\xbe\\xb4P`\\x93;GM0\\xe8\\x93$s62]\\xcf\\xa4S\\x16\\xc2\\x9d\\xa9\\x0b\\xf5~\\xe9P\\x18^4g\\xd9`\\x8a\\x08\\xe7i\\xf1 [(\\xcc&\\xd2\\\\\\x08[\\xd4zH\\xbd[\\x93\\x92\\xcc\\xdaF\\x192DI\\xbd\\xeb^\\xeaG\\xd9s\\x1f\\xb0#!\\xccY\\x08\\x02\\x18uq\\xcd<2\\x85=\\x10R\\x8du\\xc4\\x00\\x1c\\x04\\xd5r\\x7f\\xf6\\x8bM\\x06\\x9a\\xfb\\x15\\xbdLJ\\xa1D\\xee\\xfd\\x10\\x98\\xf7\\xd3sR)\\xea+jZ\\x97\\xf2j\\xe5\\x00\\xcb\\xc3d\\x92\\x8e\\x08\\xf7\\xb8\\xed\\xfae\\xe8f\\x0f\\x1a\\xb0\\xeavb\\xfdu\\xb1\\xa4\\xc0\\xf8\\x15\\x12\\xc8\\xb1\\xb9Zb\\x1d-1\\xc0\\x16\\xcc\\xe0\\xd8\\x91\\xa0\\xd8K\\xf8\\xa9\\x11\\xd6d&\\x83\\xbd\\x12p>55 \\xbe\\x04\\xc6\\xe6\\x85\\x82\\x9c\\x91\\xb9bm\\x93\\x04S\\x14-\\xcf\\xca\\x8dX\\xf6\\xa0Hl\\xb2\\x01k4\\x13T\\'\\xf4\\xbd\\xc0x\\x05\\x1a\\x11\\x04\\xe7bw\\xc3\\xbfJ\\x12\\xa6:V\\x0f\\x0b\\x1b5\\xb3\\x9f\\xddL\\xe0\\xedS1\\xb7w\\xccI\\xa8\\xe7\\xfc\\x12\\x0f\\xf9\\x9b^?\\x82D\\tY\\x1e\\xfb \\xfb \\xda\\xf6\\x92\\xa9\\x02\\xd4\\x8f\\x12r\\xc1\\x94\\xec\\xben\\xd56Kv\\x9c\\x84\\xda5\\xf85\\xba\\xa6\\xc0*\\xd7\\xaf+9\\xc7\\xb3\\x10\\x12\\xb8U\\xd4\\xee\\xc3\\xf5$\\xed\\x01g1#y6\\x90\\xe6\\xa5\\xc3\\xc6\\xa1\\x82\\xf2t\\xc7\\xf4\\xa5(\\x8aTo\\xba\\xb4\\x8cL$\\x82h8\\xa3\\x11Q\\xf4\\xb1\\xf3S\\xca\\xd0B\\xd3\\x88\\xbc\\xabQL\\xb0#o\\xbb\\x88\\xc3\\xaa\\xac\\xb9\\x97\\tm\\xd58QV*\\x8f2\\\\\\xd6Dg\\xc8<n\\x04\\xf66\\xa9Y\\xa6\\xa3d\\xf1\\x14\\x80\\xf1\\xa5r4\\xc0\\xc3\\xf0To<g`\\x96s\\xaf\\xb9\\xdb^\\x94\\xaeu\\xee\\x1e\\xa6i^\\x11k\\x8b\\xa8#\\xb2\\xf7\\xc0\\xa4i\\x04\\xe2\\xa7\\x18\\xe1h\\x8f\\x8cV\\xab\\x84\"m\\xc48R\\x811\\xdb\\xf2\\xde\\xc6n\\xb6W4k\\xe5\\x99\\xa38B .\\xfb(D\\xff\\xb6\\x194\\x14\\xd8\\x12\\xcd\\xbd\\x0fg\\x9b\\xbe\\xcf\\xa2:\"\\xe4\\x85\\xef\\xf4|iG\\xa9\\xd8\\x08\\x0f\\xbd\\xb59\\xe4\\x8dp 8\\x1e\\x8e\\x14\\x0fN\\xed\\xad$b\\xbe\\x01 z\\xa6)\\xd8\\x87\\xbemK\\xdb\\xac\\x19\\xc6\\x89\\xe6\\xbf\\xfbk*St,\\xffb)\\x14$\\x9a\\x9bE\\xc7\\x95c\\xcf\\x18\\x968\\x9f\\xd6\\xd5\\xb8\\xcc!\\x91\\x1d\\x82\\xaeK\\xe8\\xb3\\xe3\\x89\\xb7\\xa6)\\xee\\x99\\x8f\\x9f\\x88\\xe9~8J\\x19\\xafR\\xa5\\x91\\xf5\\xe2\\xb8V\\xdah}B\\r\\xac8\\xc8\\xbc)s\\xcdRBV\\x1b\\x11Ut\\xac\\xfek\\xee\\x80\\x97\\x9d\\xe8\\xff\\x12n\\x8c\\xc0\\'\\x8e\\xa6\\xcf\\xab\\xe8\\x1f\\xaa\\x86e\\x8c\\xa8\\xdeF\\xf8n\\xb7\\xf9\\xb6[\\xcc\\x8bD\\xc6\\x8e\\xc0Z\\xe5\\x9a\\xf6{Z\\xdf\\xfb\\xa2&\\x1fu\\xcaS\\x9e\\xe2\\xb3\\x99\\xb3_\\xb02w\\x0f$\\x81\\x10\\x95\\xa1\\xbb\\xd1;\\xe6C\\x98sC3u\\xafG\\x050\\xef\\xe6\\xfa{\\x1b\\x03r\\xe9I>\\xfd\\xf9}\\x0ee9G[\\xf4\\xad\\xcd\\x110\\xef\\xafs\\xda\\xa3\\xe0-\\xc2q \\x05|\\xafh\\xe4\\x01\\xc4\\xa5.f~x7\\xf2\\xfd\\xe4E\\xa5\\xe3\\xbe.\\xc0#X\\xe3\\xa5z\\xce\\x97a\\x10\\xac\\xf7\\x99\\x03h\\xee$\\x7f(\\x86}<\\x14\\x0e\\xf6Z?\\xab\\x0c\\xdd\\t1\\x98\\xbb\\xb0\\xd6h\\x92\\xbb\\xa6\\x16\\xefESm\\xb0\\xd6z $\\xd0d\\xfaPDI\\xc5\\x1ch\\xbd\\xcf\\xe8\\x1a!\\xac\\x98\\x1aH|Sm\\x98\\xaa\\xcepQ\\xc5(\\x9a\\x905$\\x05K\\xb5C\\xd4\\r\\x9cC\\x82\\xee\\xbb\\x13N@,\\xaaW\\xa6|U\\x8f-\\xd0\\xbb0T`\\x1a\\\\d\\xa6`\\x9a\\xfe\\xd2/\\x8bP\\xc76I\\xc8s\\x19\\xc2\\x14|>\\xc2\\xba\\xfe\\x19\\x1c\\x9d|\\xd1fq\\xe8*\\xce6\\xb9\\xb2(\\x1e6\\'/RW\\xf31\\xce\\xb8\\x84U\\\\\\xf1?\\xc5\\xa2N\">\\x95o\\x9f\\x1e\\xab\\xe8&0\\x9d\\x8b\\xefn\\x02Qc\\x8dt\\xd0\\x83\\x82\\xddm\\xf3y\\xe3\\x1aM\\x01\\xd5j\\x1e\\xa1\\xc6\\xb8x\\xfd_\\x9a\\xc1\\x13*F\\x1b\\xcd\\xa3P\\x133\\xfc\\xc1*-\\xaeQI\\x07e$\\'\\xf7\\xcdLyb\\xac\\xaasq\\\\\\x13\\xcf\\xb5\\x8d\\x06r\\xbe\\xe9\\xe2\\nP{\\x930-h\\x0c\\xb9>gf\\xe6sZ1\\x94=K(\\x91\\x958:\\xb0CMn\\x05\\x9c\\xce:$4\\x9a\\xf1\\x92s+.pi\\xc1\\x9cT\\x97\\x890\\xe0~\\x0e\\x11\\\\!\\x0bQ\\xb9KU\\xbd\\r~\\x8c?R\\xc7\\xff$\\xa1R\\xe9\\x8cO.C\\xfaW\\xc211\\xaa}:O\\xd86\\x02\\x8f\\x97\\xcf\\x93\\xf3\\x8a\\x7f>NzM\\xe1NR\\xa0\\xc5%\\rei\\xc7\\xf5\\xa0\\xa3\\xe5A\\x8f\\x10Qn\\x11\\x02\\xa0\\x9f\\x04\\xd71\\\\\\x04\\x15-\\xc5\\x89k\\xdb\\x82\\x81\\xe1\\xf8p4lQ%S1;\\x94\\xf4u\\xe3\\xf7c\\x82&\\xc8\\xcd\\xf6\\xdd\\n\\x99}s\\xf3t\\x91\\xccL8\\xda\\x99\\x12,a\\x1cS\\xef8\\x04TW}\\xa9\\x08=K\\xcd+\\x135V\\x19\\xef\\xc1%\\x7f\\x85\\xc2BrZ\\xe6z\\xa6~(\\x1dMptJ\\xcb\\\\\\x0b\\xcc\\x9e\\xfc\\x14\\x9d\\xd40\\x94\\xac\\xef\\x97\\xf7\\xe2p\\x9au\\xe2\\x004\\xc01)q!\\xd4\\xddug\\x1d\\x94\\x9c(\\xaa;In\\xb9\\x8a\\xc1\\x8ffD\\x17\\x07\\xfb\\xe3l\\xc4\\xce\\xec\\x1c\\x85\\xd2\\xf2\\x15S\\ra@\\x03\\xa2\\xec\\x893G\\x07_\\xfc\\xebP>+\\xea)\\x8f\\xbe\\xadD\\xee\\x9dT\\xbe\\xe2\\xca\\xd1$\\xa1LE\\xea!\\x8a\\x90\\xdcS8Pl\\xf2\\xf3Le%\\xb8-\\x80@Nb\\x7f\\x87\\x8fXbw;\\xa5i\\x94\\xbc\\xbf]\\x1a\\x91\\x85\\x89\\xdf\\xe0t~\\x7f\\x9b\\xfeF\\x916s\\x0b\\x9a\\xb3\\'\\xdc\\x005\\xd8\\\\\\x1dN\\xc5W1\\x88\\xceX8\\x9c\\x045Uz\\x94\\x10\\x11[\\xb2E|g\\xb8\\x1f\\\\2*\\n([\\x97\\xdd\\xc6\\xf8\\x0c;\\x81\\xc3\\x18_\\x94.\\xe6%Fj\\xd6\\x04\\x02\\x8a344\\x8d\\xfa\\xbb\\x07\\xb0\\xfb\\x0e\\xe6\\x9b\\x93\\xa4\\'\\x9cL\\xd6\\x14\\x1b\\xcbI\\xbd\\x8d\\x933\\x85\\x1bmY\\xdav\\x87\\x18\\x98\\x98\\xf9%J\\n\\x98\\x02\\x03vF)}\\xecm\\xb7l\\x98\\x0cQ7fj\\x84\\xb3\\xb3\\xad\\xb6\\xd5qa\\r\\xcb\\xad4\\xc5\\xea\\xec\\xc5\\xf6=\\x87Zp\\x89\\xd3\\xbf\\xbao\\x95\\x8fj\\xd1\\n\\x8b\\x95\\xeb\\x99\\xc1|f*C\\xb3A\\x89\\xe5{l\\xfa\\xad\\x9e1\\x86\\xbd\\x06\\xe5\\x8aC,\\xabd;\\xfb\\xd8\\xde\\r\\xeb\\xc6=\\x81\\x9a4\\xe3\\xa3\\x99Ik\\xe1\\x06yD,\\xd28tW%\\xe6X\\x98]L\\xd4\\xbc\\xa0\\x81\\xb3\\xfd\\xb9\\x1fTg\\xe7{\\x93\\xbcb\\x10\\x15\\xce\\x04\\x9e\\xed\\x99\\xfb\\xc9\\x96\\xff\\xcdk\\xea\\xd5\\xc9\\xe1\\xf0;{xJ\\x12\\xf3R4\\xe2\\x91*\\x83\\xa7\\x83\\x18\\xfde\\x91\\xf1\\xe6^#9\\xe0j{\\xc8\\xb58\\x86\\xd5\\x8czHF\\xfa\\xaa?\\xc3\\xe6~\\x91\\xc5`7#\\xd2\\x1f\\x93\\x10\\xc3\\xd5\\x15\\xd3\\xcdH\\x12\\xaf\\xacG\\x1c\\x88\\x08\\xcd\\x11+\\xcfU\\xce\\xcb\\x86\\xd8e\\xc5\\xfe\\xad\\xa3\\xaax\\x90\\xcb\\xbb\\xbb~\\xd1\\xb4\\xeb[=\\xc1hpH\\xc4\\xf8\\xa5\\xac*0W\\x95\\xeeXi\\xc6\\xf8\\xc5\\xb6\\xc9i\\x8f\\xce\\xb4\\xca\\x0c\\xb3[B\\x05\\x1f\\xbb\\xe1+\\xfb\\xe9\\x86\\xa3\\xcat\\x9a\\xd3\\xa1<\\x9d+\\xa3f&\\xeaT\\xb1\\xef\\x08\\xf4\\x1e\\x8d,N\\x86Q\\xccA\\xda\\x9f/C^\\xeb9\\x99q\\rB3\\x13:RT\\x0b\\'\\xa1) \\x81k?\\xd72\\x95T\\x0e\\x8dg\\xa7VN\\xc025&\"\\x8f\\xadO\\x99H\\xcdoG\\x1fv@\\xef\\xb8\\xd4\\xb8\\xc1\\xa8\\xe9\\x05\\xb7\\xf2D\\x90\\xb0M\\xb4\\xacU\\xb7\\xd4)\\xab\\x08\\xa3\\xcf\\xae\\xad\\x81dV0\\xe5F\\xbb\\x97&\\xb4\\xda3\\x8eOS\\x07\\xf9p\\x02}\\xb8\\xc2\\x9eO+\\x05\\xc8\\x96&\\x00\\xa9\\x95\\x80%\\xe6\\x96\\x9a\\x18Ti\\xbeB\\x8f\\x86K\\x1d\\x01\\xa5\\xcc\\xb8\\xc2R\\x17K\\xc6A\\xc9a\\x08\\x83*a\\xa4\\x00{,\\x81tl(\\xbc\\x06<\\x06h\\xf5\\x1f@\\xf43\\x8d\\x05;\\xf4\\xd7 \\xb6\\x15\\xf3\\xdbC\\x92h\\x82@\\xd0e\\x0eq\\\\\\xc3\\x9a\\xe7m\\x08N5\\x87e\\xe4\\x13\\x88\\x87\\xee$NAw\\xb5\\xe1+Qw\\x882W\\xcaW\\xee\\x89f\\xd59\\xc5j\\xdee\\x17!\\n\\xf9\\xd9\\xf8\\x05G3\\xe7\\xcf\\xf9\\xa5\\xb9\\x02\\xb3\\xf6,\\x9d\\x8e\\xb9\\xc9\\x15\\xa7\\x80\\xd0\\xc0\\x03\\xfe}\\x12|T1\\xd2FE%\\x0bY\\xeex\\xf6\\x17w\\xeb\\xfb*S\\xdeYFOtj\\xd1y?\\x1ee\\x84\\xc6v[9\\x1e\\xd6\\xd2kQ\\xfb,2j\\xc1o_g\\xd6\\xbb\\xfc\\xec):c\\xed=\\xc7\\xccJ\\x11\\x919=\\x88\\xde\\x9a\\x01/=E\\xe1\\x8e\\x1a\\xc3\\x90\\xd2\\xe4\\xa4pk+\\xf6`\\x9b\\x89\\xdb\\xa6L\\t\\xcd\\xd0\\xba\\xd4\\r\\xb3\\xcf\\xd1\\x9b\\xd7cY\\xe06{\\xd5\\x0eL-dws\\x9f\\xad\\xa3\\xd2mpkj\\x0b\\x97\\xf7i\\xb14\\xec\\xb1\\xe7\\x98\\x92\\xf9\\xbb\\x93\\xa9\\x84\\x1e\\xb8\\x8f_\\x9a\\xcdC\\xf8@\\x7f\\xd1\\x0fXe\\xaa|\\x06\\x9b\\xbb\\xf5\\x8fm\\xac\\xd7\\x1d\\xd1\\x84\\xb6\\\\\\xbc\\xd9\\x04\\xda\\xd0i\\x85\\xb7\\x9cZ\\xdb\\xe2\\x12\\xd83\\x16\\xfa\\x1e\\xbb6T\\xf3$\\xa4XY\\x9aPHL\\xdd<\\x84V\\x89)\\xdd\\x0eJj\\x10\\xd9T\\xfe\\xfc\\xd9X\\xd7\\xf2j\\x84\\x10@\\x0c\\x921\\xe7\\x90\\x94D\\x92\\x81\\xf90\\x0b\\xc1i?|\\xa8e\\x8e\\x1c\\x9e?\\x8aK5\\x0b$\\xd3\\xc6\\x14\\x13\\xc1kJ\\n\\x88\\xe2\\x12\\xef\\xf0&u\\xc3\\xa9\\xcb\\x0f\\x94\"Gj\\x81+\\x82b\\xdf\\xde\\x0e\\xb0Z\\xefIN\\xa1\\xed\\xeeW\\x93\\xe4\\xdf(\\xcb\\x00]^$\\x06\\xc1\\x9c\\xf8 \\x06\\x97\\xc6,x%T\\xe1\\xc0\\x9f\\xba#T\\x15\"\\x94\\xc1Kc\\xdby\\xedAL\\xb6\\xb0\\xb1\\xd5\\x84\\xa3\\x8eH\\xdfJ~u`V\\xbf\\xd9=\\x8b}\\x05\\x00\\x17\\xe8^\\x9c\\x17\\xedN\\xa6v`\\xa0\\x1eX%\\xc6\\xe8\\xf9\\xe4V\\xdfv\\xc6;7\\x1aX\\xa3W\\xc4r\\xf6\\xa2*i\\xeaL\\xc0\\x1c_.\\xf7:7\\xd9je7\\xd9\\r)\\x94\\x93\\xdeT\\xaa0\\xe1VV9\\xe8\\xeeW\\xb9\\xdc9Q\\xae\\xfe\\\\\\xcb\\xc4.\\xeb\\x12\\xaf\\x16\\xa5\\xe0\\xf3\\xb2\\xa4b\\xe6\\xd7\\xf5\\xce8\\xa8\\xa7\\r\\x9a9\\x9f\\x8f\\xe0\\xc5\\x93-\\x90f\\xbe\\xfahUj\\xf2\\xc1\\xb1:\\xc6\\x0cLQ\\x0c\\x94\\x9c\\xeb\\x9f\\x15_\\xe0=\\x8a\\x93m^\\x8cBc,\\xc29m\\x0c\\xda\\x1e3^-\\x95\\xf5J\\xd1$1?\\x95\\xf8\\xb9d\\x8e\\xcf\\xbe\\x04J\\x88>\\x80^\\xc0\\xf6\\xdd\\xa22jb\\x1c\\xd6B\\xd1\\xce5[+\\x94\\xb80\\x08\\x93 \\xbfl#\\x16\\xdd\\x83.\\xf4\\x1f\\xc4Tg\\x8bi\\xd1\\xd2&;\\xde\\xb6\\xb59\\xafA\\x9b7\\xa9\\xcb\\x8d\\n,(\\xb4\\xe5\\x1e\\xf5\\xfccuL\\x8f\\xfe0\\x8fA\\xa0b#\\xabh\\xee3\\x992y\\x08/\\xb6\\x93\\xb5\\x10\\x98f\\x1fmpp\\xe8f\\x15\\x83\\xa6\\xb3\\x1b\\xd0\\xbf\\x88\\xda\\xe1,\\x16d\\x1bI\\xaaN?\\x82&\\xc2\\xb8\\xaek&h\\xd2Ig\\xda\\xcd\\x13\\xeb\\x85\\xc1\\x93\\xe8\\xcf\\xd0\\xa7Q\\xef\\x91\\x82\\x97EW\\x15\\xbd`\\xed\\xe0\\xf4\\xf0i\\x8d\\x8eT\\xac\\xa4\\x0f\\xdc\\x18i\\xd5\\x92\\xa8sn\\xf6N\\xdd\\x97\\xb7\\xec&\\xf8b\\xd1\\xfb\\xb1\\xdc\\x8f\\x14R\\xbd1\\x83\\xf4\\xcc\\xdf\\xfd\\xbbm\\xad\\x9fc\\xed\\xde\\xbe\\xd0\\x00J\\xeb\\xdf\\xfd\\xf3D\\xedA\\xfa\\xa8\\xe7\\x12\"\\x13+\\xcd\\xc2\\x10r\\xd5\\xbc\\x1f\\x11\\xd9\\xbd\\x17\\xb9\\xae\\xbeX1\\x9b\\xee\\xbe=\\x83\\xedC\\x0e\\xf6^D\\xb7u\\xbb\\xb6\\xa7\\xbb\\xdc\\xa4\\xc3\\x9a\\xe9\\tp\\x85\\xec\\xd3\\xcb?\\xb8\\xe2\\xd7\\x80\\xe0\\x85\\xae(\\xd8\\x84\\xf8\\xc0>\\xb87\\xa9;\\xce\\t/2\\n-\\x85)\\xfb&\\x9d\\x1cHV6\\x9c\\x13&B\\xda\\x1354}\\x9d\\xf9\\xd3Jz\\xb6I\\xd1\\x13\\x02\\x9c\\x1b\\xb0_\\xda\\xe8\\x03\\xaa@\\x8dL\\n]\\xc1CI\\x0b\\xf2X\\xbf}#\\n7\\xeb\\xc3\\x02*\\xc9N\\xcc\\x0cp\\xfa\\x17\\x17j[\\xd7\\x1a\\x9fsi\\xcbKYm\\xd3\\x99\\xda\\xc84\\xcb\\x1aaO\\xd2\\xb1\\xad[\\x0c$Wu$\\x0b8u~\\xa9j4\\xbd\\x0e\\x80s&\\xdbM\\xcc(\\xbb\\xe3F\\xd3H\\x987\\x1ah\\x82/\\xcdG~\\xa0\\xa1\\xad\\xf7\\xf8\\xa1\\xc4\\x1a\\xac\\xc9P\\xa9_\\x13\\xae\\x03X)p\"\\x11\\xc3`\\x0c/\\xea\\x81\\xe7RG\\xb5\\x82\\x911\\x11T\\xd3\\x11F\\xb3\\\\\\xf7\\xb2\\x19\\xeb\\x9d#\\t\\xd1\\x9e\\x9c\\xf8X\\x03\\xd7\"\\xac\\xf3\\x95(\\xa1\\xbc[\\x15<_\\xa8o\\x13\\xcc\\xcbl\\xf3TG;\\xe4M\\xb9\\xb5\\xd6\\xbe\\x87\\x9e\\x05\\xb4\\x0ey\\xef\\x00\\xbe\\xa7\\'=\\xe4\\x05}0\\x86\\xef1\\xa9=\\\\\\x97#\\xa09?\\xfd\\t\\xf6=\\x07P\\xca\\xc0\\xa9\\xf9\\xfbQvR\\xa6\\xa8\\xe7\\xdcc\\x98\\xf9\\xf4`\\xc5\\xbe\\x08@\\xf4\\x08(Ji\"\\x07\\xdc\\xdejA\\xcfyu\\x1d\\x1f\\xd3\\nA\\x12\\xe6\\xf6O\\xefG\\x86\\xc1X9nf\\xf77\\x8c\\x1b[\\x07\\x85XW\\xe1FK|.kT;\\x95\\x82m\\t\\x88\\xd9\\xdaby\\xbc\\xc5W1%\\t\\x129+/#\\x96\\xc4\\xd4\\x03.-\\xfc\\x0e7\\xe2\\xac\\xfe\\xa7\\x01\\x13U\\xa5\\xba\\x18}\\xd1\\x10s\\x03\\x97l\\xf9\\xaeG\\xa3\\xc6\\xe4^9\\xb3\\xf1\\xdaQ\\xb8\\xa1u/\\xd4\\xcc\\x12\\x14\\xe61E*\\x98\\xd5\\x0f\\x9dD;\\xb3B\\xc8\\xda\\xc1\\x8a\\xab:\\xe4\\xd4Dc\\xe2\\x07\\xbd\\x1c<\\xaa)\\r,[\\x98f\\x9f\\xf8\\xb4\\x9a\\x07\\xc7\\r\\xc9\\xb3S \\x01\\x9b\\x08\\xbe\\r4M3\\x15?\\xd4\\xb5\\xabPk4\\xad\\n6\\xef\\xb6\\xa1\\x17v\\xaf\\xb8o\\x8c\\x9f\\x0737\\x8c\\x18\\xe1^\\x92z \\xae\\xa6]VB\\xb0\\tF\\x12~\\x07\\x0b4\\x83ne5\\x1f\\xf6*\\xe0P\\x0e\\x99\\x89\\xd7\\x92\\xbe\\xf1-j#\\xb6\\x842;\\x1bB\\xe56\\x1fs\\x0c}\\x1b\\xa8\\xf9\\xd1\\x0b\\xd9\\xad\\x02\\xdb\\x05\\xab[\\xbf\\xa4Y\\xba\\x7flh\\tr\\\\\\x84\\xb9\\xd4\\xc1\\xcfz\\xd6[\\xab\\x80\\xb4\\xb0\\xef/\\x13w+\\xf5\\x1a\\x867X\\xf1\\x82\\x04 \\x9a\\xbb\\xae\\xf0!\\xad\\xc9+\\xa7PJ\\x8cJ>\\xa4\\xe2\\xd0\\x89\\xe6\\x89(\\x12\\x999\\x88L8>\\xe9\\xcc\\x0e{\\xc6\\xf0\\xdcw\\t\\xd78-\\x93&:\\xda\\xc3.\\xdd\\xfc\\xb8\\xa7Y\\xbe\\x94\\xac\\xe9B\\x1aA\\xc1Yo\\r\\xea;W\\x95\\x83\\xaaZ\\xc5@\\x9cM%6\\xceu\\xc7m&>Y1j\\x8b\\x1a\\xe1\\xd3\\tM \\xc5\\xb0\\xeeL2\\xf9\\xabk \\xc6\\xe4\\xbe\\xd6\\x8dQ\\x9d\\x0fUj^\\x7f\\xd0x\\xbb\\xd0\\xd7\\xe8\\x8bN\\xa3\\xee\\xca]\\xb9\\x88\\x0e8\\x81\\xb6\\xe52\\xc3\\xd4#zU\\xabI{r=\\xdcd\\x8e4\\xf2\\xa3\\x8ab\\x89\\x17\\x92+fs:\\nq\\xd5\\x9b\\x94\\x14+\\xec|\\xd1L\\x83B\\x18r\\x06:\\x9f\\x10\\xdc\\xae\\xde\\x96\\xcf\\xf4\\xe2B\\xa3\\xe7\\xb4\\xcb\\x12|\\\\\\xf1b\\xfa\\xfc7\\xd0\\xa7t\\xd3D\\xa2\\x9fJ4\\xd1\\xbd\\xd59\\x13M\\x0f\\xbf\\x12`\\xff\\x02(C\\xab\\x01\\x04%\\xd4\\x92\\x1f\\xac\\x184{E\\x84\\x0e\\xa1q\\xde\\xc8\\x1f\\xaef\\xdf\\xc7\\x88\\xfa\\xb8\\xfdI\\xed\\xcc.\\xac\\xca\\xd5\\xfb\\xbb\\x19\\x0f\\x0c\\x01\\xbds\\xd0b\\xe9\\xc6v\\xf10-[A\\xb1\\xf6\\xa5\\r\\x99\\xf2\\x1eXl\\x15\\x9d2\\x06m\\xe1L.r\\x12Cl>\\x83\\xc3\\x93C\\xa8Le\\xc5\\xd1`\\xab\\xbd\\xdf\\xacZa\\xdd\\xa3\\r5^\\xc5T\\xb5X\\x95\\x1e\\xd6+=ry\\xea>\\xbf\\xb3\\xc1r\\xe1V\\xf4`\\xa5:|p\\xe1\\xea*\\xac\\xb5\\xee\\x9f\\xdb\\x01\\x10\\x16f\\x0f\\xdeA\\xf7\\xaceq\\x81\\x9c\\xf1\\xe1\\x85\\xc6S\\xd6\\xb3\\xfcA\\xe3\\x00\\xc6-\\xb3*\\x08\\x93\\xad\\x9b\\x8d\\\\tQ\\x98\\xecH \\xcdb\\xb2$\\x11%\\x16l1\\t\\xd6n\\x8e\\x94T\\xa5%\\x93P \\xb5$\\x90\\xf3\\x9c\\x1d\\xa7\\x06\\xba\\xb1\\x96\\xa2\\xd1\\xc5T\\xb28\\x8e\\xa0*#\\x9a\\x91G6s8c\\xe7\\xd2H\\x1b\\xf5*,\\x96\\x93(wz\\x03\\xedI\\x89\\xda\\xbd\\xcf\\xae\\x96\\x94\\xebRv\\x88\\x96*z\\x1e\\xe0G\\xb8\\xdey\\xa9o8\\xcd\\x8epjV\\xca\\x8dm\\xc5,F\\xa2\\xbf|\\xc2\\xf1P\\x9c`\\x03\\xea0\\xee\\x0cqaSJo\\xcb\\xfc\\xb5\\xa3\\x9a\\xae{\\ry\\x11\\x18\\xea\\x17\\xfc\\x1di\\x81\\xd1\\x9ax\\x1bZ\\xddz\\xdfF(\\xb3\\x08Q/r\\xd2B\\xfcP\\x04\\xe1\\xc7\\xa7\\xbb\\xcd\\xa6\\xb6\\\\\\x95\\xd7?\\x9fKRw\\xf9\\xe2\\xb98X\\x82s\\n\\x849\\x17\\r\\xeb5D\\xeay\\x10\\x0b\\xd1\\x1f\\x1a?\\x07\\xbc\\xadN\\x9b\\xaa\\xccViM\\xa2M\\xaa\\xa8W\\x9e\\xbc\\xf2CX(z\\x06\\\\,\\xdcw\\x08\\xa0\\x12-R\\x9c\\xb4(\\xdb%-\\xa8\\x06[ F6\\xf7\\xe4\\t\\xb0\\x1a\\x0e\\xada\\xe6\\xe8)C|\\xc6wVa\\xbcM\\x9a\\x07V\\x08\\x0b\\xce\\xe88\\xda\\x82r\\xe2:\\x9b)\\x11L\\x1aTa\\xa0\\x0e\\xe2\\xb7)/\\xd9\\x05\\x8bV\\xec}\\xc0\\x8c\\xe2\\x1ew\\x04E\\x1c\\xc8\\x0f\\xec@\\xac\\x88\\x1aTl\\x1c\\x17;\\xa3\\x03F\\xf6\\xdf\\x0b\\x11\\xea`\\xf8\\xf2\\xc9,^\\x88v\\x99\\x9a\\xe8\\xae]\\xa0~wp\\x0b*\\xde\\x1f{eO\\xfd4y}\\x02\\x07\\x04\\xb7$O\\xca\\xcb\\'\\x9c\\xc6\\xabf\\x8a\\xc5\\xb5\\x99\\x0e1\\xd4\\xbb\\x16\\xa4\\x9c+b\\x08\\x87\\x93\\xe2\\x9b\\x9dg\\xd5!\\xb0,\\xd0\\xca@+\\xf6j\\x12\\x8d\\x88\\xd7K\\x8c\\x197\\xf9\\x15\\x9b=\\xae:\\xac\\xb0\\x9b\\xfc\\xdc\\x07A\\xf8\\x981\\x92\\xbd\\xd0\\x91\\x18a\\xf1@?\\r\\xfd\\xc9M\\x95\\xb8\\xf2\\xa1\\x88.A+NhT\\xd5\\x88\\xba\\xae\\xb0O\\x91\\xef\\x87\\xc0?\\xd5\\x12\\xfc\\x1a\\xe6\\xf9\\x16\\x1azt\\xc6\\x1dN|\\xcbn\\xba\\xa1\\'y\\xe1S\\x1e\\x04B\\xd8\\xa1\\x8a\\x05\\x8c!))\\xc4Q\\xc8\\xbb\\x1e\\x9d\\\\[\\xc0\\xa4\\xad\\xb6\\xe3(}\\xd4\\xe0\\xdb=,\\xdd\\x8a)\\xdb(\\xfd\\x86\\x83w\\x90`\\x0bp\\xbb\\xe7\\x99\\xf3[\\x87\\xa2\\xd2\\xa9\\xfb\\xd4\\x83\\xd0\\xf5\\xc3\\x0fn\\x1eg\\x14\\x86\\x1b\\x82\\xf3-\\t~\\x87Q\\xcdi\\xa4\\xfe\\xfc\\x96\\xf9\\xb2\\xa8\\xb5\\x9a\\xb41\\x94\\xc8|Z\\x15B\\xda\\xf3p5\\xd1\\xe7m\\x18\\xc2\\x1ci\\xa1$\\x8c1\\xac\\x96A\\xb5Ob\\x1a\\xc3L\\x82\\xdbgkw\\x8e[\\xa8\\xdb\\xc4Ez,9*2Rp%\\xd4E\\xe2\\xb4\\xd9\\xd1\\x08\\x8d\\x93\\x9f\\x92\\x92\\xaa<\\xdfN\\x11\\x88\\x99\\x07\\xa2\\x91\\xd9>\\xc7\\x95\\x84\\x1e\\xf6\\x9e\\xbd/\\x96CG\\x02~D\\x91i\\x8dz\\xca\\xdc[\\x1b\\xe2Ms\\x80\\xa5\\xdan\\x15\\x97\\x1a\\xbe\\xa2\\xb52\\xa3\\x19\\xac\\xc7S\\xbb\\x95(\\x0c\\xe4\\x9cD\\xb7\\xd5^\\xea\\xe7D;\\xdd\\xfcw?\\xc9\\xd9\\x91\\xd5y\\x94\\xc3\\xb8\\xf9\\xfb\\xa1P\\xb7N\\x96\\xc9\\x92B8:\\xb7\\x9bt\\xeaS\\xe6\\xf3\\x9c\\x8c\\xf8\\x1c\\x87\\x93\\x12mED\\xe7\\xad\\x89\\xc8\\xa7\\xe9\\xbf\\xc3v\\xae\\x92F\\xc5_\\x06M\\xe1v3o\\xc4G\\x83\\xfc\\xe6lj\\xe9\\xa2\\x84\\x8c\\xa6\\xad\\xfe\\x9d\\xfc\\xa4\\xb2iHG.y\\xe5\\x15\"\\xfe1H\\x88h\\xa4\\xcfav}\\xa1Y\\xc9\\xd5\\xce\\xc0\\x1d\\xcd\\xf0\\xb9lV\\x80\\x10\\xb5h\\xf52\\x1e\\x9e\\xa4\\x0e\\x94\\xe1`\\xe0\\xea\\x02\\xb5\\x8b\\xe5\\xda\\xbbc@1\\xe9+N\\xad-l\\xbf\\xaa\\x14,f\\x94\\rh,\\xcfX&g\\'\\xc0\\x02\\xab\\xa7\\x0b\\xb9\\x83eP3\\xc4\\x11)\\xe1\\xe3f\\xad\\x8dv\\xb3\\x8c\\xfb\\xbaB\\'\\x1a\\xc3\\x8a\\x95|N\\xee\\xfb1:9GX\\xce\\x88]\\x83\\xba\\xc5\\xa4:\\xa7j\\xbf\\xb4\\xc0N\\xc2f\\xb4\\x01\\xa1\\xd8A>\\xbc\\x87A\\xcb\\xd4\\x9a\\xd9\\'\\x90\\xc6\\xbc?\\x8fG\\xcf[\\xb9!\\xcdf\\x97\\xf6\\xa3\\x15\\x9a:\\x7f\\xcd\\x07\\xb7\\xe7\\x9f\\xbdFo\\xda\\x8e\\xd5\\xdduL\\xfcmE\\xcc40?v\\xe8\\xb9]M\\x96\\xc0\"\\t\\xc9\\x02p\\xb1\\x12\\xf9\\x80v\\xbe\\xadJ\\x05\\xeb;\\xdd\\xde0\\xa1\\xfd AC\\x8e\\x18Jq\\xd3\\t\\xdazw\\xa3\\x01\\xfcb\\xc9\\xa7\\xb0\\xd8\\xbf\\xe6pBG#nI\\xcaU\\xde\\x81\\x08\\xf3\\x89\\xe6\\x04o\\xe4G\\xf5\\xfc0\\xc2}\\x05\\x16PhRv3\\xdaV\\x7f\\x92\\x10\"\\x0bG\\x99\\x98\\x93G\\xbf\\xf9\\x0cX\\xadN\\x8c\\xbf\\xb20\\xc6\\xf9\\xe44C9\\xd9*\\xd3D\\x0e`\\x17\\xce\\xe2\\x1c\\xa3\\xab\\xe8\\xbf\\x83\\xe6w\\xef\\xe05\\x90\\xb9\\xd0t\\t\\xc26\\xce&\\xc9\\x19s\\xa74\\x14\\x97\\x84\\x85\\xa3q\\x16\\xcbN\\x99]I\\x91*\\xb2\\x1a\\xa8\\xd9m\\xb3S~\\xaf3w#\\xcd\\x1dK\\xf2\\xd6\\xfb\\xb8\\xe1\\xaa\\x0f\\xdd2=\\'\\xcfu\\x18\\xab\\xfb\\xeeB\\xcb\\x1a\\xfe\\xf3\\xfa\\x95\\xe6U\\xed\\x0b\\xf0\\x85\\x03\\x0fS\\xa6\\x17\\'O\\x92G~\\xf9\\xaf=\\xd1\\xe6\\x154o\\x16\\xb2V\\xaeF!\\x1f\\x99\\xf7!\\n\\xf27\\r- \\xa0\\x1c\\x151@\\x88\\xa2\\xf9P\\x91\\xdd\\x9c6\\x84\\xa6]k\\xe2\\xda8\\xe3\\xc9\\xed\\xa5\\xd7S\\xe6\\x80\\x9a\\x9b\\x01\\x1f\\xaf\\x92nj\\xdd\\xf1\\x93\\xc5ro\\xc8o\\x8f\\x1a#\\r;\\x95v\\xde\\xf7\\x05\\x83\\x02B\\xd5O\\xe2l\\x8e\\x8e\\x8b\\xdco\\xe5d]w$\\x8a\\x07\\xa5\\xab\"\\xf9\\xba\\x85\\xf2\\x94+\\xb7\\xafl\\xb4\\xbe\\x1e\\\\^2gB\\x7f\\xeb:7\\xb4{\\xda\\xdc\\x85\\x9c\\x8a_\\xeaC\\x96\\xea)\\x8c\\xfa\\xfec-\\x82\\xffG\\xb4\\xf5\\x12\\xb5r\\x9c \\xaf\\xcf\\xa2\\xea(\\xea\\x01*\\xb4\\xedG\\xe5K\\x97\\xa6\\xef\\xaf z:>\\xa8\\x17;\\x02\\xa9\\x95\\xf3\\x87\\xb3:\\x98\\xba\\xfd\\xff3\\xf6e\\xb9\\x92\\xf4\\xb8z\\x1b*\\x144R\\xd2\"\\xba\\x0cx\\x0f\\x06\\xfclx\\xff\\xb8\"5\\x90\\x92\\xc8\\xc8~\\xed\\xfe\\xb3Nf\\x84\\xc4\\xf1\\x1b\\xac\\xc1/\\xdaO\\xb9<\\xe6\\xc6\\\\\\xa8d\\x1c\\x1f\\xfd\\xe7\\xfa\\xd3\\xd7\\xef\\'{\\xb2x\\xd0A\\x10\\xf2+\\xf5|\\xbd\\xf5\\xa5\\x91/\\x9a\\xdfUq\\x0e\\x1c-mi\\xc7<\\x14\\x0e@_O4\\x10\\xf6\\xa3\\xd6T/W\\xf2\\xeb\\xf0\\x9a\\xc2\\xc2\\xd6L#\\xde\\xb8\\x1e\\xec\\xd1K\\'>\\x04\\xfa\\xe4\\xb8\\x067M8\\xfbG\\x0b\\xddX\\xa9\\xf0\\x0b\\x8d\\xc7cV\\xf9\\xd0\\x13\\x0cJ\\xf4\\x9f\\x8dR\\x8e{Pa\\xbb#g\\xf2+U@S\\x11\\xe9(?>\\xdd\\x06,@W\\x07\\xcb93\\x13\\xc7\\xea\\xfc{\\xf9\\x87%\\xc1!Z\\x1dJ\\x13TFK\\xfd\\xc3SF\\xd7Lbs\\\\+\\x8d\\x0f\\tP$\\xb14\\x84\\x16\\xa8\\xbe\\xe3MPK\\xa6\\xe9\\x91Ry\\xf9\\xa9,(\\x91}>s52u\\x10\\xdf\\xef\\x8e\\xf5p\\xb8\\xecsz\\x93\\xb6\\xc4\\xaf,\\x9bU\\xf2)lC\\x8d\\xed\\x8e\\xe8\\xb9\\xae\\xe6_\\xc1\\x1c\\xedt\\x96a\\x80H\\xf4Q\\xe0\\xdaUz\\x83\\xd3\\xd2\\xc8\\xa1(i\\xac)d&*\\xa5\\x80\\xb1\\xd4(0\\x9a\\xfa\\xfd\\xe3Kl\\xbc`-\\xf7S[\\x95\\x08\\x90\\xbc\\x8f\\xb2\\x8a\\x0fM\\xec\\x1d-\\x0b\\xd10<\\xa8\\x93&\\x9d\\x12\\xc0-\\x08\\x8e\\x91\\xcczH/(T\\xfe\\xfc\\xe9\\x94\\x96\\xec\\xa594\\xa2\\xe5W\\xbeG\\x9f\\xd0\\xe0q\\x97\\xb0\\x9e\\x19\\x8ay\\x94a\\xacv\\x1f\\xf6^\\xc9\\xfc^\\xd1\\xef\\x03\\x90\\x9a*\\xb6\\x0e\\x02\\x07k\\x1b\\x01\\xd1\\xb9-cz$j\\x7f`\\x1a\\x83)\\xf9\\xda\\xc8p\"*A5n\\xbe\\x9d\\xd9\\xc5\\xa1\\x87\\xeb\\xf0\\x95\\x93\\xac\\xd0\\x149\\x9fX\\x947\\xdc\\xd0\\xc4\\xd10\\x88\\x07\\x9f\\x9d\\n\\xc7\\xd4\\x1e\\xfcx\\xedA\\xbf3\\t\\xf6p3\\x9b\\x1d(\\x81\\x97h\\xef)\\x1e\\x19\\xced\\x95\\xe7}]\\xb78\\xa5~\\x14\\xeeZ\\x89?\\xc7\\xc1h\\xb0\\x91F\\xcb\"r\\x82\\x83\\xe5\\x8b!\\xf4}\\xd5}I\\x1b\\xde\\x05M\\xe5.yX\\xfc1\\xbbs)8\\xb7\\xb1X\\x92\\xc03\\x9ad1\\xe5{r\\x8aI\\xd57\\xe8\\xaf>\\xb1*\\x8c\\x1adQ\\x17\\xcd\\x82\\xfbCO\\x8d\\xda\\xd5\\xbb\\x9e\\x7f%\\xd2\\xa1\\x91\"\\xaa\\x00\\xaeg\\xc3\\x1e\\xc7\\x17Gr\\xcf\\xba\\x9f!\\xb8\\xc0TQK|\\xa8\\xe0*5\\xf9#Sx!\\xcf\\xe8\\x8dAf\\xbf\\xeb\\xf1\\x12;\\x85R\\x17Z\\xbd0\\x8a\\xfbNM\\x81d\\x12\\xf5Ado\\xb76\\xf7\\xc7\\xb2\\xc2\\xc3\\xd5\\x07\\xa2\\xdd\\xd5\\x85S\\xf3\\xab\"a\\xa8\\x82z\\xed\\x12\\xf1\\xdd\\xbc\\xfa\\xe8cN[<\\xd4@\\x0b\\xa0:w\\x18=\\xa3\\xb2]\\xcd\\x8d\\x9b\\xb7`\\x8dG*\\xb2L\\x82\\x1cI\\xd6\\x98\\xb28\\xb3\\xfa\\xa9\\xc7\\xba\\x04\\xd3\\x9b\\x82\\x83\\x82\\x18\\xd6\\x9a@\\xf5\\x8e^o\\xa0\\xd1\\xaa\\xf0\\xf4\\xf3\\xabe\\xad\\xc9\\xf8\\xba[\\xf8{\\x1ck\\xbe\\t:\\xae\\x7f \\xc2:\\xac\\x0fQ!\\x8er_\\x04\\xd9\\xdc\\x96\\x06\\x9c\\x89\\x90\\x98\\xe39\\x1d\\xb9\\x15\\xa3\\x90\\x14\\xb1\\x04_\\n\\xa5\\xc7s\\xac\\x13\\xa2\\xdbm\\x86U.O\\xc0\\xbb\\x82J\\xed\\xd1a\\xe3\\x14\\xd9t\\xc1\\xc8\\xac5\\xa2\\x7f\\x89\\x94\\xf7\\xaaB\\xd3\\xd3\\xd4\\xd2\\x88\\x04\\x14\\xbbF\\x84)m\\xe8\\x16X\\xb3(\\x84\\x94\\x94z{^\\xf54\\xba00&\\xc8\\x01\\xcd\\x8c\\xcb\\x88HO\\xb5\\x1e\\x19\\x06d\\xd2+\\x90\\x0c\\x18\\xa8\\x02xG\\x029\\t\\x9b\\x08\\x13\\xf7\\x8eU\\xf74\\xab\\xe2\\xc7\\x05i\\x8d\\xea\\xbdQ\\xbb\\x81\\xc7F\\x01\\xd3\\xb8\\x1c\\x80\\xb5\\xbc\\x86\\x94\\xd9\\x19) \\x04\\xc2\\x9b%=\\x1ea\\x87\\xf1\\xcb8\\xb2\\'`\\x17U jt\\x85\\'\\x8fq\\xc7Q5\\x1eE\\x1c\\x95RT\\xbc\\x9f[JBa\\xf3\\x85\\xe2\\xcc\\xab\\x85\\x9a3\\xd5b\\xc3\\xf6\\n\\x92!\\xc5\\x168\\xa6\\x90\\x8e\\xb9?\\xb51K\\\\\\xea\\x149\\xeb\\xdf\\x7f\\xde\\xb0\\x86{\\x92x\\x0cz{\\x0e\\x950\\\\\\xf5u\\xb7\\xc1#\\x02\\xd9\\xe2\\xe4V8\\x0e\\x9a\\xc9\\xb3\\xd0J7\\xc7\\xbf\\xa7\\xccMY\\xb8\\x96`En:\\xa1\\x17r\\xb9\\xc1\\x02\\x99\\x9bK\\xa4\\x1e\\xf8r\\x1bP)\\xe5\\x9c\\xb8\\xba \\xf6?\\x1c\\x88{\\xf6Ja\\x98\\x01i{\\xb8&\\x10\\x17\\xc6\\x81\\x99\\x07\\x9e\\xf0\\xdf1\\xe9uc\\x14\\x84\\x1aSR\\x1a\":\\x14\\xa0U\\xc5\\xdb\\xee\\x08\\xe2\\xbcb\\x08\\xbd\\xeb\\xaf\\x12u\\x8b\\x01p\\x0b\\xda\\xf4C\\xd4\\x04uA\\n%\\xe2\\xd3\\xaf\\xabT\\xad\\x80\\xbe\\xde\\x08\\xb6\\xa9\\xa7\\xb9ao \\xd8\\x1e\\xc2N\\xa1\\x8e\\x1c\\xf14%\\xd6R\\x97\\xc4\\xa5-\\xc4\\xda\\xa3k\\xa4E\\xd5S5\\xe6\\x1a\\xf3\\xfd\\xdc\\xff=\\x1b\\x9c\\xdah;\\xa7l\\xf7|m\\x81\\xb1\\x96\\xee\\xf9\\x02\\xbbl\\x87t\\xb3\\x8a|\\xcbk\\xe0kbR\\x91\\xea\\x8d\\xbb#m\\x8d\\x8a\\x86\\x96\\xfb\\xc1Yk\\xd8: \\x92\\xe7*\\xa8\\xc7\\xc8\\xe5\\xe9`\\x83\\x84\"E\\xa7\\x03J\\x96\\xdd\\x16o5\\x7fj\\xa6\\x02\\xdd\\x9f\\x9a\\xdaA*\\x11\\xda{\\x05\\xb4\\xb6\\'8\\xd01\\xb2\\xeaYu\\x8d1\\x8c\\xf7\\x0b\\xe4d\\xe0\\xcfyt\\xee\\xb5\\x157T\\xdfg\\x1aqH`Yu\\xf7L&\\xc0\\x05\\xdfK\\x95\\x8cW+\\xa9\\xd3\\xfdTMp\\xff~r@*\\x9bGc\\x1aR\\xe6\\xed\\xf1\\xf7\\x14%\\xe0\\x8c\\xb3\\xe2,HC\\xa5Aj\\xa2\\xbf2\\xc9\\x1e0\\x04\\xe4\\xa2\\x06\\x82n\\xeb\\xd4\\x98`\\x94\\x8c\\xfb,\\xf2 \\xdd\\x87&\\x95,\\x98\\x92\\x8c\\x81~\\xb8\\xf6\\xf0W\\xc3\\xf2&\\x9f\\x99\\x0f\\xf4!\\xf5\\x14\\xc2\\x94\\xed<d\\xcc\\xca\\x96\\xe9\\xb7vA\\x99\\xdc\\xe1o}\\xee(\\xe7\\xf2\\xdf<hd\\x0c\\x8e\\x95\\x90\\xfc\\xd1\\rDX\\xb0\\xc6\\xca\\x95\\x1a2\\xa2`?\\xc3\\x97\\xb0`\\x80\\xc1Dg@#=\\xb1\\x93\\r\\x92\\xa3\\x8b\\xf3\\'\\x9b\\x04\\x83J;WBW(\\xc7=\\xbb%\\xdbiN0P\\xe9\\x0fI\\x87Q/\\xc1zR\\x9c_\\xbe\\x19\\xbf\\x1c\\xbb`l\\x89$5\"\\x16\\xb1\\xbc,\\xc5\\xfe\\xee\\xe8hx\\xda\\xc1\\x97\\x90\\xfd\\x9a\\xb8YK\\xf104\\x92\\x14\\xeb\\x8b\\xb8\\x1d\\x94\\xed\\xc5\\x11\\xed\\xb7iq\\xa444UX\\xd0\\x81\\xd5\\x047\\x87\\xb8\\x03J\\xff\\x1cPS\\xd8\\x1e\\x9b\\xdf\"j\\xbd\\xa3\\xaa\\xa4w\\xaa3$\\x84l\\x88\\xb5\\x83@\\x7f(O\\x0e\\x92\\xe7\\xd8)0\\xdfIA&\\xcf\\xd7\\xd5\\xef5:m\\x1a\\x7f\\xbe\\xecQ\\xa9)fAsf\\x7f\\xee\\xbe\\xb2\\xd0:14O\\xfbC\\xf3\\xd922\\x03\\x80\\xcd\\x8911\\xd5\\xa4|\\x17\\x14\\xc5\\xd5\\\\\\x02\\x13\\xa0M\\x90@\\xcf\\xef\\xa4[\\x92\\x95\\x85YH\\\\rY\\xa4\\x90~\\xce]\\x1c\\x1c\\xa6\\xfd\\xd6!&\\x0ei?$sB\\x8f.\\x03X$\\xf2p\\x0cb\\xf1\\xf51\\xedA\\x12\\xf5\\xe1\\x8cS\\xda\\xa6\\x13\\x9b\\r\\xf4\\x98\\xa8\\x0b\\xa8\\nb[y1\\xad73\\xe8\\x1c\\x12\\xf3\\x98,*\\xd3\\x15\\x97\\x7f\\x8a\\xe5\\xd7L\\x98\\x95S):\\xb7\\xb6\\x10Pf0C\\xf6L?Z\\xca\\xbdNH\\x19\\x1f\\x9f& \\xb3\\xda\\x85\\x85%\\x8d\\xa8H\\xbc\\x14N\\\\`j94\\xda)k\\t3\\xfb\\xa5<*\\x84?\\r\\x08\\xa8\\x9b\\xccP\\xce \\xb5\\xb2\\x14\\x87E\\x94G\\x12O\\x19\\xfd\\x80(\\xb6\\xc01\\xf8\\xb2\\x94\\xcf\\xbf\\x8c\\x93\\xa5\\xe9\\x12y\\x9fnd\\x85\\xbc\\x85\\xf1uX\\n\\x913\\x94q4\\xae \\xd6\\x00@\\xf3CZA\\x99P`\\x17\\x06\\xbe\\xd0\\xc5\\x1a\\x9f\\xb5V}\\xa4\\xc9\\xabA`\\x02r-v\\xea~\\x0f\\xcdl)\\xd3\\xd4pSq\\x14=y\\xafSg]\\x13<\\xaei\\x98\\\\\\xdf\\xbf\\xdc\\xc5%\\xdb\"\\x18_\\xea`\\xceMd\\xa6t0\\x03n\\xfb\\xb3\\x05D\\x18\\xb3\\xb1W\\x98\\xb1\\x84\\xc6\\x11\\xf5\\x1b\\xc2\\x81K\\xd6L\\x16\\xc82\\x1d\\xe5\\xc4\\xeb\\'\\xe0!\\xd9\\xf5\\xec\\xb1\\x8b\\x8b\\xba\\xdam\\xde&\\xed\\x94J/\\xf9\\xa9\\x1d\\x12\\xc3\\xec\\x02\\x9f\\x1b\\x97\\xd2=\\x194\\x7f\\x00\\x16\\\\\\xe4\\xd6\\xf7\\xf6d)1\\x12E\\xdc|\\xb5\\x9buc\\x8c\\xa3\\xac\\xd1\\x1a\\xb7\\x0f\\x9a\\xd3\\xe6<\\x07\\x0e\\x85d\\xe4|\\xb4\\xf8\\xc8\\xeb\\xded~\\x90\\xd0\\xa6a\\xac.9\\xb0\\xfb$\\xccl\\xed?\\x1a\\t>u\\xd5\\xba\\r\\xb8\\x1f\\x14\\xf8\\x8d\\xbb\\xc9\\xca\\x01\\xe7>Ig\\x19\\xe1\\xceu%T\\xfd\\xe8\\xcewH\\xe2sA\\x19D@\\x8cl\\xcdbJ\\x98\\x01\\xf1\\x07\\x89j\\xa9\\xd4\\x8f\\xad\\t\\xb7\\xcd\\x1f\\xc3\\x99F\\x0b\\xb1\\xa2\\x0fgp\\x07}\\x95\\x18J\\xc6+t\\x1e/M\\xf2\\x96\\x18\\xc8f\\xd6\\x94C\\x83\\x8f\\xfa\\xfag.\\x80\\xdb\\xac\\xff\\xec\\x8bd\\x1f\\xe4B\\xa5\\x95\\xe9\\xa1\\x9e\\x16\\xff\\x00\\xde\\xfd\\xcc\\xac\\x91(\\x08_\\x8al\\xc5-\\xc2C\\xb0\\x86\\x87yJ_<\\x07\\xbf\\x06\\x9e\\x1b[mSC\\x90\\xc55\\xe8\\xf6\\xd2\\xfd\\xd9v\\xe4E\\xc1\\x91v\\x0e\\x1ec\\xd9\\xbc\\x0e\\xd3\\xcf\\x18C>x\\xf5a#7z\\xcd<\\xad2\\x01\\xd1\\xb4.\\xa8\\x80t\\xe8!{ax\\xf3\\x9f\\x0b\\xd81\\xbbD\\xd4\\xcb\\xd0 1XD\\x9a\\x94\\xc0\\xf9\\x97} \\'\\x8bt\\x81\\x95=\\x0b\\xa3[\\x02r\\xd8\\xd1\\x97<\\x04B\\xc4M\\xaf\\xac\\x96`\\xd5\\xadh*[\\x07\\x7fQ\\x1dZ\\x8a\\xa1\\x829\\xac\\x1b\\rKP\\xff\\x89\\x98\\x81\\x99\\x9f\\xdf\\xf0\\x004\\xe4U\\xb9)Q(\\xd2\\x83\\xb92\\xf6\\x14\\x9f\\x15\\x05\\xa3\\xd8\\x93\\xd5\\x1aY\\x9a\\x9e\\xae5\\xab\\xbb\\x11H\\xb5-\\xb4a\\xfa\\x8ctxn\\x12\\xd9\\x87\\x1d\\x02\\xb7\\r\\xe6\\xb5\\xb4\\xe0W=0\\x11\"\\xfa\\x98\\x92\\xc6\\x1a\\xd7rBa\\x83\\xafs\\x0e\\xb4e<\\x15\\xdd\\x82\\x13\\x9c\\x0bS/\\x1a\\t\\x8d=\\x96%m=\\xee\\x85\\xda\\xb7\\xe8\\xae\\xad\\xdf\\x1c\\xe2\\xa5\\xcd\\x0b)1 \\xc7\\xf6>B)\\xba\\xa0\\x8a\\xfa\\xf4z\\x9aC\\xaa\\xe9\\xb7^I\\x8e\\x9e\\x96owe\\xe7`\\xe1\\x99\\x94y\\xe9\\xfa\\xe6\\x81j\\xa3\\xa8$\\xa6\\xb49`\\xb1}\\xfe\\xfc:\\x9a\\xdd\\xa40\\xb2\\xc2\\xf6\\x14\\xb4\\x87+\\x95F#\\'\\xb0\\xc7\\x1fv\\x13\\xd6x\\xbf\\x0c\\xedE\\xc5~1\\xa7\\xc6<\\x0e\\x13S\\x84\\xf0\\x8c8V\\xdcb\\x96\\xe5\\x98zl\\xb5\\xe7%\\x12\\x98\\xe6\\x02D\\xc7\\xb8R\\x98\\xa9I\\x83\\x02\\x04H\\x1d9\\x95\\xa7!I=\\x9c\\xef\\x87\\r\\x95\\x06\\xd4\\xe7\\x94\\x99\\xcbX\\x93@\\x82@\\x10P\\xbdL<\\xc1\\xaf\\xd6\\xb32\\x13X\\x9aB\\xb8/y\\xad\\x02/\\xb3l{5\\xa0\\xd6\\'+\\xa9\\xbf\\xed\"\\xd8t@\\x18Z_\\xd7%\\xef\\x87\\x8b\\x03\\xa2\\xa9\\xbf:x3U\\xc9\\x82Q\\\\P\\xabcDG>\\x14H;U*R\\x10\\xaa\\xd1\\x8a\\xad\\xe0j\\x16\\x0b\\xe1+\\x954\\x08uc\\tLr\\t\\xea-S\\x9b\\xfb\\xa6\\xef\\xca\\xad\\xa69s\\xcc\\xd8k%\\xa5\\xcd\\xf7\\x91\\x81\\xebi\\xbf\\xee\\'\\x11\\xf9\\x89\\xb7S\\xd6\\xdc!\\xf3\\xdd2\\xf0\\x08h\\x9c\\xabsi!\\xefJ/\\xf3\\x93\\xd3\\xe7\\xf3eLM\\xb5|\\x1a\\xda*a\\xc0\\xac\\x9c\\x80lR\\xa3\\x9c\\xcdT&\\xa7\\x89I\\xd2\\xf9\\xe4B\\x8f\\xa6h\\xd1\\xa69`\\xba\\xbc\\xb6\\xc5f\"\\xabX7]8b4Q\\xe0gfi7\\xe4\\x81<9\\x97O8-\\xd4\\x1ca\\xae\\xe2\\x03&\\xc1\\xfeT\\xab\\n\\xc9&8\\xec\\xce\"Rg\\xafN\\x0c}Y\\xbb$.\\x8b\\x9f\\xc6\\x8cd\\x054/\\x98Xy\\xafo\\x92b\\x1b\\x1e\\x94\\xd3B\\xa7\\xba\\xbd\\xfb\\xb1~o\\xae\\x84\\t\\xd4A\\x859\\xb6=I\\xfan\\xeb\\xc7cKY\\x97Lr^H7}\\xab\\xeb\\xa31_\\x0b\\xe39\\x8a\\xc9\\x8c\\xcb\\xe2\\xddY3\\xdb\\x80\\x03\\x9f\\x08\\nE&;\\xceb&\\xabppf/\\xc3\\xe5\\xd4\\x9f\\xfdis\\xa7\\x05e\\xf4gIw+\\x07=\\x9d0\\xa6\\xc3\\xc25\\xa0\\x91`T\\xd1\\xa8)\\x86\\xf45QZe\\xdb\\x00b\\x17mS\\xebY\\x18\\xfe\\x97\\xb6~\\x7fn\\xc3NQB\\xaeb\\xd8V\\xa5\\xd6\\xa27\\xf4T\\x88\\x15\\xbf\\xb6\\xddX\\x91%\\x98[?O?<(\\xb6\\xcf\\x8cz\\x12\\xcar\\xfa\\x89\\x19\\x82\\xc0\\xedm(}\\x122\\xddO\\xab\\xc3m\\xf04T>\\xfaB\\xde\\xce\\x9b\\x9d!j@F\\xd4y\\xd1\\x963\\x80{\\xe0\\x99\\x99LL\\x0bia\\x10\\xa2A\\x1b\"\\xd4\\x98>\\x8e\\xcf\\x8e\\x928\\x13;,\\xc6|\\r\\x8b-\\xf1\\xe3\\xa5\\xbbQ\\x0e\\xe86N\\xc1;F\\xa6\\x9a\\x01s\\x92q\\x83R\\xb5\\xe6\\x9c\\x85S\\xa3\\t\\x04\\xa38\\x9d\\x94\\x82&A[\\xc7OY\\x00\\xccw\\x10\\x88\\xf8\\xa0u\\xd7\\xbc>\\xc8\\xe1\\xbb\\xd5j\\xc4\\xa8L\\n<\\xa57\\xc2\\x8b\\x89`\\x95\\xfe\\xa5!\\xc6\\xe2\\x14e\\xaa`o2\\xf9{\\xd7\\xf1\\xe4E\\xe5\\x9b\\x05\\x8b\\xd1$\\xe35\\x12wSE\\xf8\\xd3R \\xb1\\x0c5K\\x99\\x94`i~\\x82z\\xad\\xb3n\\xb4%W\\xc76\\xe9\\xe5B\\xf9\\xcaE\\xb3\\xd9L#t.\\x91$\\xd2{\\xd3k]\\xc2t&g\\x15\\'\\xbf\\x8d \\n\\x07i\\x152O\\xd9\\xe0;?yl\\xef\\xfe\\x04\\xad\\xbb\\xab[[\\xc9&\\x9f\\xa52\\xd7\\x90rQ\\x92yz\\xa3\\x08\\x92\\xccOz\\x18\\xb8\\x08~\\xda\\xfd\\x7fZj\\xf6\\xd6\\xca\\xb6?n \\xed)\\xa5\\x97\\xf5\\xa2\\x9f\\xb3G]\\x19+^z\\xcdJV\\xaf\\x91\\xdd\\xaf\\x14\\x95\\xa4\\xd5\\xd2\\x13\\xf67\\x1d\\xca\\x00\\xb9\\xc5E\\x0c\\x02+\"!\\xc3$\\xc0\\xc0\\xad\\xdd\\xf18T\\xee\\t\\x15|\\xc1\\x0ci\\xa4\\x8dK\\\\\\x03\\x91L=\\xf7V\\x16\\x1c\\x07m\\x8c3\\xb6\\x18\\x87\\xe1B\\x03\\xeeNlN\\x08uu\\xb4\\xa4\\xe77\\xe5\\xb6\\xef\\x80)u\\xb1\\xbf\\xb17\\xd9L\\xa8\\xd0\\xc6C/\\xbe!7\\x0b\\x0cQ\\xd6m<6Q\\xc1\\x85\\xbc\\xce\\xd8\\xf3\\xa3\\xe7Y\\xf1S\\xf7\\xeb\\x18\\xf2\\x95\\xcd\\x89 \\\\\\xb2\\xfeQ\\x0f\\x85\\x06\\x84\\x17\\x17\\xbc\\x89!\\x9d\\xb5\\x1f\\xef\\xbf\\x18\\xb5[N\\xb5\\xb1\\x02+\\xfc\\xfc\\xe8\\xbdg88\\xad\\xd5\\x9ag\\xf2\\x90\\xd9\\x13\\xd0\\xe7.e\\x82\\\\\\x85o\\xeb\\x07m\\xbe\\xa1X\\x05\\xa9\\xb2\\xa9\\xab\\xb7\\xe5`c\\x1c.\\x9c8\\xc4\\xe7A\\xc7,(\\xfb\\xfe\\xaf\\x07\\xe3\\x8b\\x03\\x89\\xe5\\x1c\\xd4\\xc2\\\\2_\\x86bU\\xc5\\xab7\\xa0\\x166jp\\x82\\x16\\x96\\xe8\\x97\\xd5\\x0f\\xc1\\xf0\\x1bzC_\\n\\x8bto\\xaa\\xf7\\xd65\\xda\\x91\\xb4\\xdb\\xc0k.\\xb0n\\xc6\\xbcW\\xa3+\\xaa\\xe7\\x95\\xac\\x81AJ6j\\x97\\xca\\x82\\x13\\x7f@r\\x98\\xe3:\\x98\\xb1\\xaf\\x0cm\\xafC^\\xa0\\xd7\\x18\\x859\\xf2f\\xc8+q2\\xc3\\xd4\\x15\\x95[<q\\xdb_j\\xa8\\x1cj0\\xd9\\xd0;W\\xa5\\x05\\xba\\xbe\\x00\\x8a\\x0e\\xe2\\xad\\x92\\x12!ncMx\\x11\\xf3\\x0c\\x19`5\\x7f\\xf2|5\\x96\\xa5\\xfeU\\x01\\xe1\\xe1\\xaeW\\x11C\\xb6\\x94\\xebh[\\x85A\\x9cS!\\t\\xca\\xceM\\x88![\\x15\\xe8\\xbe\\x17\\xc3LM&\\x99,l\\xba\\xc5:\\xf9\\xea\\x9b\\x88P\\x1e/w\\x9d\\x162\\x9bh\\x19\\x15?\\xae\\xeet#\\xa5\\xde\\xb2\\xb0\\xd7\\x1fX\\xa3f\\x883\\x10\\xa8\\x98$bR\\xfe\\xe7J\\xcfj\\xd2\\xc8\\xe4\\xf1\\xab\\x08\\xd1\\xe4^\\xb8\\xf2 \\xf1\\xaf\\x1d\\xbe\\x03Bf\\xfc\\xe9W\\x18C\\xdc%\\xab)c\\xd1\\x90\\n\\x96\\xcf)\\xa0\\xcfq\\x15B\\xb6\\xb2\\xa5\\xa7\\xef\\xac\\xaffz\\x8a\\xe6&}n\\xf1\\xdf\\xd9L\\xa3\\x86%\\x1d\\x02\\\\\\x9aj\\xac\\x02\\xd3\\xf1ws\\x8e\\x9a\\x1dg\\xa7\\xf3\\x0e\\xe0zy\\x9e\\xdbm\\xe3Q\\xf2Z\\xa3\\x98\\x96\\xd9x\\xa7J\\xb2\\xa0g\\xcd\\tm\\xa5o\\x9d5$.\\xc4\\xa8\\x8a\\x86\\xe4$\\xc1\\xf7{\\xbc~~\\x91\\xdc\\xa6)\\x852\\x9c\\x8fk\\x07h\\xaay\\x11\\xde\\x82\\xf8\\xdd\\x92\\xc7\\xbfg\\xa6|;o\\xe49%\\x1c\\x05\\x9f\\x83C\\xcb\\xd5-\\x18\\x080Hs\\xc3{,i\\x1dp\\xba\\xb3\\xd3\\x8d\\x1bBxO\\x91.\\xee\\xb5)\\x0e\\xb9\\x8bg\\x07C\"S\\x04\\x86\\xde\\xc85q6-0\\xb0\\xc79\\xad\\xe6\\r\\xd4\\x7fuy\\xdf\\x94:\\n\\xf3S\\x9c\\xf4e\\x82U\\x96\\x981w1\\xe3\\xa0\\x1b\\xc6N\\xe0\\x03\\xdbp\\xf1\\x90\\xff\\x1f\\xfe\\x9d\\xd3\\x81\\xc6\\xa7!\\xec\\x15\\xb4\\xc1q\\xdc\\x8a\\xae\\xc6m\\x03R\\xfa!\\xde\\x82x\\x86\\xb1\\xf1\\xf7\\xb7\\xee).\\xd9\\xfd\\xcd\\x99\\xc9\\x10\\x97\\xc8\\x89\\xa9\\'\\xd03\\x90\\xcf\\xba@\\x88\\x0by\\xd5\\xe1VLF\\x1f\\xaf\\xa2n\\xb0\\xfa{\\x17\\x0ck\\x93\\xae@\\x04c\\x838\\x88\\x1c\\xbc/\\x07\\x98\\xf9\\xcch\\xdb\\x1e\\xb4\\x8e+\\x94\\xfa\\xb5\\x0b[}S \\xf9\\x89\\xdbd).\\x87fk3\\xd3k\\xf1A=T\\xd0\\xdcb\\xf3\\xa9h\\xca\\xae\\x13w) \\xf8\\x08\\x02\\x10\\xfd\\x9d\\xc0I\\xd8\\xa5\\r}f\\xae\\xd3Z\\\\>\\xacv\\x9b\\x98H\\xe5\\x93TxE\\x94\\x08k\\x18\\xe0\\xf0\\x85\\x18O\\xaa\\xdfRO\\xe8\\xbdC`9\\xc5\\xa5\\x16&(|o6(q\\x18\\x98\\xf2\\xcf\\xcd\\x8b\\xf5/8s\\xd6\\xb8\\x0c!\\x97\\xfa\\x8c?\\xf6\\xce\\x9c\\xe1+\\xce\\xfa\\xd9\\xa8\\x9b\\xf1X\\xe6\\x82\\xbb\\xe3\\x9b\\xfd-0\\x81\\xb6K4\\x0f\\xa5\\xd39\\xf5\\xf2%Q\\x7fE\\xbf%\\x0e\\xe5\\xcfe]\\xbd\\x1d\\xdf\\xde\\xdezF\\xb5\\xba\\xfd;\\xc5#\\x17\\xb8\\x9bh &\\x03Je\\xc00`\\x94c\\xf5-_W\\xbe{\\xc5F\\xc9\\xe4\\xb2\\x89o\\x8e\\x17w&\\xe9\\xbf\\x92\\xba\\xa0\\xd7u\\x8b\\xc0y~\\xe2\\x96\\xd3P\\xaf\\xe7\\xd1\\xad\\xedP\\x00\\xefy\\xe0u\\xfbT\\xbf8\\x1d5\\x83\\x14S3\\xef\\xcfl\\xa96\\xead\\x88\\xe0*\\x07!y\\xa1\\x11>\\xbcfJ\\xb9\\xaed\\x8a\\xf5\\xbf\\xe8\\xb9<x\\xe2\\x1b\\xe4\\xf3\\xa3\\x8e\\xab\\x14\\xf8n$\\n\\x81\\x0b\\xa32\\xcau\\xab\\xc1f\\xb9B\\xf5t\\xa2\\xcfg\\xbc\\xa5\"|H\\x9c\\xbem\\xa9\\xab\\x84\\x93\\xe8\\x94\\x94&\\xb9\\xd6M\\xce5\\x13/L\\x97\\x98\\xa2_n\\xce\"&3\\xa6\\'?\\x07\\xf7\\xddF\\xc3N[\\xa4je?G\\xc60\\xa7\\x9a\\t\\xf2\\xa89\\xdb[\\x84u\\xda\\xfb\\x85\\x93\\xa2_\\xbc\\xb0y7\\x9d\\xc7\\x91\\x18Z\\xd5\\xd9y\\xce\\x9b\\x95irB\\x916\\x16\\x06~\\xf0N\\xb9\\xf91\\xb0T\\x1e7*ri^\\xa1\\xb8{\\x99\\xaf\\xca\\x1c\\'\\xa3\\x9c\\x99\\x1f\\xe0YQ\\x9fx1\\x97\\xb0Du\\x91P3\\x97E\\x1c={,h\\xef\\x07\\xef&\\x1b\\x9b\\x0f\\xaf\\xfb(\\t\\r\\xb4\\x18\\x8d?\\xec\\xc8\\xbeWw#\\x84 \\xb4Z\\xfd\\xe3U\\xba\\xafu\\xa3ht\\xbf,J\\x9a\\xeb\\xc3n\\xfd\\xf9{\\x02\\xe5\\x89\\x1fy\\xcb\\xf1\\xb2VQ4>\\xe8\\x89\\xa3v\\xf9u\\xb6\\xc6\\xe3\\x0c[y<\\x93\\xea]:\\x99\\xf6\\xc8\\xd9\\xfeu\\xa8\\xf1.\\x86?\\x97Q8\\xae7\\x16X\\xd3:\\x19@\\x9dm\\xd2t\\xfe\\x92\\xff\\xa4\\xad\\xae\\xaa\\x84\\xc2O\\x82#[\\x05_ECn\\xa0\\xe3\\x91\\xf1\\x1a\\xef\\x91(r\\xdax}l\\xb2m\\xdd\\x10\\xd2\\xd5\\xf8\\xe2\\xb1\\xd7\\xce\\xe5\\xe3{\\xcf\\xc3\\x89b\\xf8m\\x88\\xcdq\\xe0N\\xb0|\\xa1\\xbd&x\\xbe\\xdeo\\xa6\\xd4~NR\\xa2\\xf0S\\x11\\xbb\\xdf{\\xa6:\\xf4\\xd6\\x9f#\\x89zR<\\x87\\xb1*\\xc8u\\xaf\\x06\\xa0\\xfe]\\x1f\\xb6\\xc0\\'\\xc5\\xb6\\xd2CU\\x9a4\\xd6\\xfe\\xfb\\x97\\x87\\xb6\\x7fy2\\x86\\xa2\\x03@\\x7f\\xad\\xecc\\x81\\xa5\\xd7\\x96>\\xca\\x8a\\xe6q0y0\\x9c@\\x90\\\\\\xc1\\xe8\\xe4\\xfb\\xe1D\\x9f\\x1f\\xa5P\\xef\\x87\\xc4\\x9b\\xf2\\xff3\\xb7P\\xb8\\x8d\\xd2w\\xae\\xd4\\xa5Y\\x01\\x86\\xf0\\x10\\xf2\\xf6u\\xf0Qrm\\xcd\\x15\\xcd\\xd5\\xbe\\xa7\\x16\\xfe\\x9a\\xb6\\xc7\\xc6\\xde\\xc2\\xf6\\xf4\\x00\\xd4\\xf9Zb\\xed\\x03\\xdb\\xf5\\x8d\\x94y\\x8bb\\xad\\x98\\x9b\\x98/\\xd9D\\xe2\\x0cT5\\xe53\\t\\xa7\\xcc\\xfaFf\\t\\x80\\xbbl\\x88*\\xbd \\x96E\\x083u~\\x1a\\xa9\\x83h\\xden!|YQ\\xf1\\xcf.E\\xff\\xdb9\\x08\\x85W{`5\\xf4\"\\x9a\\xecm\\xa0\\xe5\\x03.m\\x0c\\xbe{.\\x1f\\x97A\\xf6\\x14\\x05V\\xcd\\xa41B\\xe6\\x91\\x86i\\x02p\\x18\\xbf\\x80\\xd0\\xe2\\xb5JM4ai\\x03a\\xce\\'\\xbaeF\\xc4\\x89^\\xff\\xden:\\xcc\\xe1\\xf11\\x81\\xf2P\\x99SJ#&\\xbb\\x8bB\\xf7\\x81\\\\\\xff\\\\\\xbeB\\x10\\xe1s\\xf4<o\\x95\\xa32\\xefh\"\\xfb\\x9ff=\\x0e\\xf3\\x1d\\r\\x92\\xbb\\xa1\\x0c\\x82\\x9d\\xfe\\xef\\xe7\\x86\\x18\\xe92<9\\xf6\\x1f\\x8f.-\\xac\\t|S\\xbfp\\xc3Pal\\xde\\xee\\xa7\\xe7*\\xe7ts\\x0e\\xdb\\xdal\\xf7\\x0fc\\x81\\x00+&Dk\\xa7\\xed\\xb1|i*\\xbc\\rJ\\xc93\\xb1\\x9b\\xbcm\\x9f\\xf0\\xd3\\x17\\xac=y\\x81\\x90\\xb2:\\xd7B/\\xda\\xe7\\x93f\\xe3\\x84\\xa9//\\n\\xee\\xd4Rh\\x86\\xa6\\x18\\xde@\\xda,\\x9b\\xf0|x\\x9e\\xd2H\\xa7T1:\\x0b\\xc5m\\x89\\xc7\\x1dLt\\xd4\\x02\\x89s^\\xb3L\\xc0\\x10\\xbc\\x7f\\xb5\\xb2\\x07\\x9b\\xf1\\x00\\nM\\xbeuq\\x89X6VDQX\\xda=\\xbf#\\x13C\\t\\tk5\\xff,\\x19+i\\xc7^\\xe2\\x1f=\\x08\\xae\\xf9\\xcc\\x94\\xfb\\xfbg\\xea\\x86M\\x7fY\\xbe]\\x00\\x8c \\x14\\xcb\\xe5g|[\\x08\\x87\\xe7\\xb5\\x05\\xdc\\x92\\xedI\\x1f3\\xc4\\x92\\x87\\xef\\xc5\\xf3\\xe1\\xdd\\xc2)\\xf5\\xf5>+\\x99\\x9a\\xf5cZ\\xd0\\xdc*Y\\xcda\\x96\\xcb\\x98s\\xfc\\x898\\x05\\xef8_\\xd9\\xd61~8\\xd9\\x1dK\\xd2\\x1eD9\\x8c\\x98\\xa9\\x0e1\\xc1\\xee\\xc4\\xbf\\xfb \\x94\\x08\\x7f\\x8c\\xfd\\xfa\\xc1\\xccz\\x8e\\x8f\\xa2\\xf2\\x03\\x05\\xed0?O\\xf2\\xad\\xf9\\xd8\\x02\\x81\\x13x\\xb7\\xef\\x19\\x16\\x82\\xe0a\\xe4J\\xf9\\xcc\\xd2r\\x08\\xb2\\x15y\\xb0\\x99I7\\x85\\x11j\\t\\xfbPW\\xebi\\x976\\xf5\\x9c\\x9f\\xf3\\x91\\x96o\\x84\\xcd\\xb0\\x98l\\x03\\xe5\\xb3x\\xb8\\x94\\xbf\\xadnK\\x13\\xce\\xc8\\x93\"_\\xdf{@\\xd6)\\x06K7\\x16gp\\xf1)\\x05s\\xf3\\x9c\\xafM-,G\\xacQw\\\\\\xe9\\xe2\\xa4\\x19M\\xfc\\xa3?7|\\xd7\\x15\\xc72\\xca\\xfek\\xc3[l\\xc1\\xda\\xfe\\xc1!\\xb2\\xa3\\xca\\x95\\xf5\\xb2\\xec6\\xe0\\xb1\\x0eM!1mMQ\\xa1\\x1fY\\xdeX\\xfbw\\x000\\xbf\\t\\xe2\\xbfP\\x9a\\xe8\\xfexIK\\x8a\\xdb\\xdck\\x05\\x9f\\xa6\\x98\\x97::n\\x99\\xa7K\\xa6&S\\x8fO\\xe8\\x9c)]\\xa2\\x023~\\xdf\\xb2t\\xcdJ\"\\xd5\\xc3\\xe1=z1G\\x16D\\xb4Z\\x08\\x94)N\\xb2\\xd2\\xc9\\xc9\\t\\xe5\\x0e\\xe3\\xad\\xe1Q\\x0b8480\\\\\\xad\\xb2\\xf2\\x86\\xad|A\\xbbZ\\xadNH\\x84\\n\\x1e\\x19\\xc4\\x16\\xae\\xc2\\xd2&*@\\xbfT8\\xe3\\x9b@E\\xb20\\x19@?\\x91\\xb9\\\\\\xe4\\xd7c\\xeb\\xac\\x94iq\\xf9\\xa6\\x8f^I\\xdf\\xd3\\x92\\xb7\\xd8\\x08@\\xcc\\xf8\\xa0\\xf9\\x82 5h?rcf\\x82r\\xf3U\\xa9\\x8a\\xa1\\xc2\\xd2\\x9f\\x14\\x99\\xfefx\\x90\\n\\x065\\x8a\\xca\\xfa\\xaa\\x16\\xb6\\t\\xb7$\\x19*\\xc1\\xc0\\xc3\\xa1\\xcf\\x9f\\xd2Vn\\x12\\xfc\\x81\\xb7_\\x1b\\xfa\\xa8\\xb2\\xc6)u{*X0\\xc1Bu\\xb0\\x0eq\\xec\\x85\\xc0V\\xe9\\xfb\\x81\\xc2\\x184\\xfcs\\xd8\\x1c\\xf6\\x88\\xdf\\xaa\\x150}\\xb6\\x84\\x0fC\\x1e\\x93\\xc2\\\\I\\x81C\\xd3bQ%Cmmg\\x87\\x90\\xbf\\xf2]\\x0c\\x03b2/\\xed\\x8a\\x08y!3\\xbdmn\\xe7#\\x15\\x94W\\x19\\x9dy\\xfai\\x1aMUOr4\\xba\\x94.*\\xc2\\x99e\\xce\\xcc\\xd8\\x0e3\\xb6?\\x81`)qCoV\\xa10x\\xea\\n\\xbe\\xbc\\x9fk\\x1eR\\xd9\\x1aB\\xbd/F\\x02\\xb6\"\\x97\\xee\\xb8\\xad\\x8e\\xe9\\xbbor$\\x1cp\\xb9{e`\\xe0\\xa1\\xd5~\\xf8~\\xbek\\xb8\\xdd\\x0c\\xa3\\xf3\\x02\\x0ff|\\xb4\\x92\\xe2\\xe5\\xe5\\xba\\xee}\\xdb\"\\xef\\xe6kF\\x18C\\x18\\xa5\\x8a<\\x9f\\xfbd},W\\xfb\\x8b\\x820\\x14N\\xc4G+\\xdb\\'(\\xeb\\x97\\x99_I\\xd2][\\x08\\xf8\\xeax\\xf6\\x1a\\xed\\xf2\\x1d\\xc5\\x16\\xcb\\xbd\\xf0\\x8a\\xa9\\xf2k\\xb2\\xe4\\x8eP\\x0c\\xc7k3D\\x04\\xb7\\xffJ\\x91\\xbd\\xb6\\xc9\\x13n\\xad\\x05\\xbfx\\xc0\\xe8\\xbenu\\x18\\xdeq\\xef\\xdc\\xab\\xb7\\xe7\\xf9\\tg\\xfar\\x16h\\xbb{\\x88\\xda\\xd6,\\xe8_\\xc6+\\xef\\xe1\\xb7\\xd0);6\"m\\xe3%M\\x02I#\\r\\xc3S\\xcf>\\xd5\\xb4\\x90\\xcf\\x1f\\'\\xa5f\\xdcY]\\xa3\\x80X\\xd8\\x93\\xe6G\\x0cl\\x99\\x86\\xc7\\xda\\xc5\\xceBBQc\\x9d\\xcf\\xf7\\x96I\\x8e\\xe4\\xfc\\xcd\\x05\\xd6,\\xc1\\xd6\"\\t\\xc3\\xc0;:5\\x9a\\xc5\\x8c6\\x06\\xfc\\xb6>\\x88\\x95\\xa8\\x8bv\\x91\\xeeb\\x8a\\x1b\\x05m\\x8a\\xf8\\x0cw\\xc6||\\xf1\\x9e\\xe29\"Xp\\xae6n\\x88b \\x9b\\x00\\xd8\\xf6\\xac\\xbe\\xb6\\x19\\xb3Hh\\xd3c\\xe59\\xa3^\\xec\\xf2\\xfd\\x1b\\x91Vy4P:\\xe1jV\\xf7\\xb4\\xfdG\\xb6E\\xb7\\xc1\\xe9\\xdc)\\x8eL\\xf5\\xf1\\xd6\\x1e\\xb2\\xce\\x0cz\\xdd\\xeb\\xe2\\xc7\\xe0+k\\xf8$3\\x19\\xe0\\xfc\\xab\\x8c\\xb1\\xe3\\x1d*P\\xb5e\\xfe\\n\\xf8|\\xedP\\x16\\xda\\xf6~\\x07-\\xadM\\xaf\\xb5sE\\r\\xa3< $\\xef\\x0b\\x14\\xd4\\x0e\\xa3\\r#\\xe1*\\x7f\\xed/\\xa3K\\xcc\\x963\\xdb\\x87R\\xc7\\xc2\\xf5=9\\xa4\\x8b\\xfe\\x9f\\x99\\x05\\xf5\\x0fgZ]P\\x94PBdN\\x8b\\xdd:\\xaf\\xfc\\xfb\\xbdQ--\\x8d?\\xcf\\x9dD\\xc8\\x8b\\xb0n:\\xae\\xf5?<\\xa4Y\\x8f\\x82<E\\xe1|\\xf5\\xc5#I\\xaa(*\\x1239\\xbeD\\xe3O\\xa3]u\\x1eBIZ\\x90\\xa8k!`\\t\\xdd\\xe0\\xac\\xc1MB\\xaa\\n*\\x13\\xda\\xb4\\xe6P\\x1f\\xc5\\xc2\\xc3\\x00\\xa6\\xed\\xe7\\x061\\xba\\x1f\\x7f\\xbb`\\x17\\x11$\\xc4\\xd6\\x81m\\xdf8?\\xd3\\xb6\\x84\\x85\\xa8\\rS]\\xb3J\\x82~hA\\xc5\\x17Z\\x03j\\xb0I\\xc6]X{-\\xec\\xb82\\xa8J\\x89\\x90\\xdc^5\\xe5?\\xd6X\\xb9N\\xcc\\x85hQQ\\x1c\\xe7\\xb7w*>\\xa300\\x83Z\\x07\\xc1\\x92TqG\\x83\\xf3\\xab\\xa3\\xab\\x1bMxUW\\x92\\x9ez\\x17\\xa5d\\xb7Lj\\x12A\\x0b\\xd7:\\x10N\\xef?S\\xdc\\xb6\\xa73\\xbf\\x07\\xe28\\xd2e\\xa8\\x98\\x0e\\xd5\\x14\\xebx\\xf56$\\xfaA\\xb6\\x16\\xd1\\xa4\\xad\\xa1L\\xc9\\xc6\\x1b\\x0f\\x81H\\x9f\\xd7\\xb5\\xecad\\t\\xe3\\x08#\\xbf\\xfb}e\\xca`g#\\xe0\\xa3\\x80\\xfc[8G4\\x16kCM\\x80\\xafBH<\\xf72\\xf5nq\\rJ\\xbd\\xa9\\xd6\\xdd\"<g\\xfd^N\\xf7\\xd7\\xb7N\\x83\\x00\\xa9{\\xb9=vS\\xef\\x10e\\xf8\\xb0)nG\\x015*w\\x0fa2S\\\\\\xc6Xt\\x14\\x1a\\xfd\\x87/\\x10\\xbbB;Z\\xfd\\x1e\\t\\xea\\xc4s\\x85\\x8bf\\xe6k`i|p@\\x83\\xd0\\xa5\\xeah \\xfc\\x82\\xf1\\n\\'\\x8b\\xf3\\x9b\\x86\\x9e`\\'\\x93D\\xfc\\xc1\\x8c\\xaa\\xc4#\\x888\\xe3(b\\x11\\x1e\\x06\\xbaF\\x19\\xf3y\\xb1\\x19\\xb3BA\\x8b\\x98\\x1aU\\x11l\\x0f\\x8b\\x90k\\xb93\\rI\\xe4K\\\\\\xbeg\\x99%\\x93k:\\x1bU\\x92I=\\xd0\\x07\\xbe\\x15\\x016\\xff\\x1eJVGh\\xf1\\xa0^\\xfe\\x1a\\xd3\\xf2\\xf8\\xdbw\\xe2\\xae\\xfbI]\\xcck\\xc4\\xda \\x00/\\xe1{\\x9e\\x0e\\xd4=\\xa8\\xa6\\xc8)n\\xcd/g\\xfc\\x1b\\xf3\\x8cb\\x0fF\\x1e\\xbe\\xaf\\x04\\x92G\\xddX\\xeb\\xe0\\xec\\x17\\x10T\\xc2\\x01\\xca\\xa4\\xac\\xa7`bX\\xd0\\xff\\xae\\xa8\\xfc^(\\x95\\x87\\x0c\\xe6^\\xa0\\x8c\\\\\\x7fv\\x9e\\xde\\xa5\\xe5kj\\xbai\\x04\\xa4\\xdf\\xd0\\xd6]\\xba\\xd9\\xb6\\xccx!\\x85U<\\x7f1I\\x94\\xe5\\xd3\\x99\\xb3\\xa4UJ+\\xe6\\xee3\\x0e\\xfa\\x89\\x90|\\'\\xf9(\\xb0\\xff\\xf4\\x1e\\xf7\\xbc\\xad\\xd2\\x18YQ\\xd1L\\xeb%\\xd9\\xb2fe\\xf8\\x80\\xc9\"\\x0eyf\\xe2n\\x1aa\\xdf\\x01\\xc9\\\\\\x04\\x15`\\x1fk^\\x07\\xdd\\x94\\xe1\\xc1-\\x82\\xd9\\xb2\\x05\\\\g\\xeelg\\xe5\\x9eq@5\\xe5A_\\xcb\\xd2\\n\\x08\\xc6\\xf2\\xa4\\xe6\\rcV\\xe2S.\\xeb\\x8c\\xa2\\xcf\\xc5\\xc7MC\\x1f\\xd3\\\\\\x86p\\xe4\\xf5%\\xd0\\xedZ\\x19\\xe7\\xdf\\x919#\\xef\\xedR@,^\\xa8\\xb7\\x9ao\\x1eE\\xca\\xfa\\xd7\\xcc\\'a,\\x87-\\x17a\\xdb\\x9e\\xa3\\xefp<\\xc1\\xdf)\\xe4E\\xcb\\xb0\\xf1\\xc4\\x19\\xa7!\\x9abkv\\x8cF6\\xe1\\xb4iRB$\\xb9\\x10J\\xe2#\\xae\\x9fR U\\rEY9\\'\\xc7!\\xd1\\xdc8U\\x8fE\\x91W\\x80<\\xa9\\x07v\\xde\\xcaZ}\\x036Z\\xa4\\xec\\xaa\\xc4\\xc1\\x1a\\xb4N\\xf7\\xaa\\x88q\\xa4R\\x1e5\\x99^\\x89\\xaf;b\\x8a\\x17\\xe1\\x1b\\xd2\\x00\\xaa \\xf2g\\xb4\\xb6\\x83\\x9e\\x84y\\xb5\\x10ZCX2\\x976\\xcf\\x0cOd4\\x04\\xd3}^\\xfbskLZ\\x15\\x90)\\xf4\\x03\\xa6\\x8d\\x81\\xce\\xef\\x9d\\x0b\\x96\\xa29\\xea\\x93\\xe9\\xba}\\xe6\\x04\\xeb\\xeb\\x89\\xc3-\\xaa\\xb43\\xec\\xf1~\\x19[\\xe3,i\\xa4\\xbd\\x03\\x11S\\x00X\\xf5\\xf0\\x17\\xf96\\xe0\\x06$*k]\\xa8~\\x19\\x9f\\x98\\xf2f-\\x0c?%e\\x95\\xe0\\xa2P\\xe9\\x8a\\xc6\\xcf\\xc7\\xce\\x9cP\\xe0\\xaa\\xcb\\x9eXiX\\xab\\xe1\\n\\xdbQ\\xf4\\xae\\xbb\\xdaV\\x04x\\xd7F\\xf3\\xb2x\\xda\\xe4_\\xa2Km\\xb3C^\\x85\\xd2yZ\\x87e\\x8b\\xe6\\x1f\\x1a\\x93\\x10\\x9c\\x1c\\x15\\xbd\\xd1z!\\xec\\xbeTu7\\xeakf]\\x93b^\\xb8\\x86\\x9f\\x8fJ\\xe7* :?FZ\\xbd\\xaa\\xfe\\xdb\\xf3f:E/k\\\\\\x06\"N\\xb3w\\x9e\\xdf\\x1f\\xd9\\n$k\"K\\x08h\\x88u\\xa4\\xcf\\xdaz\\x95\\x81\\xd4\\x0c\\xa8\\xa1y\\x86#B\\xf1*\\x9a\\xe98N\\xc3\\xe1W\\x16\\xaf\\xfd\\x0c\\x16%a\\xcf\\xae\\xd4zP\\x82\\xd8\\xa8\\x0cM\\\\\\xa5\\xe6\\xea\\xc5\\x84\\xcf\\xaa\\x06\\xa2\\x94\"T\\x80\\x1c\\xf3\\xc7\\xa3\\xb1\\xe4\\xedy\\x17K\\xe4\\x94d\\xfel\\xcc\\xbe\\xb5W\\xc2\\xca\\x8e\\xd6{F\\xe1\\x87\\xb7v[o,\\xd2\\xe8\\xf7,4S\\xdd\\x03\\x1d\\xf3\\x8d\\x15\\xfcHT\\xac\\x1c\\xa3O\\x8b\\x10d\\xb5\\x81ex\\xcd\\x9c~m\\xfds\\x0c\\r\\x15\\xf375D\\xf5\\'\\x86z\\x1f\\x9a\\xdbs\\x15\\x0e\\x96\\xa6\\xea%6\\xb0c\\xf1x\\xac\\x956\\x95I+Zv\\x83\\x93\\xebM\\x1fC6\\xd1\\xfa$OEn!\\x08\\\\\\xb9i24\\xc5\\xe5\\rC\\xb6\\x9eXB\\x04\\xdb\\xe5\\xf6\\x02\\xd1\\x0b*\\xa9u\\xb8\\x11\\xfcF\\x87\\xf3`\\xaa\\x87=\\\\\\xb6\\xa1\\x95\\x858\\xac\\x1aN\\xa6z>\\x9bf&\\xeao\\xd9\\x13\\x00@<\\xe0\\n\\xe9\\xf7\\xa1\\xae\\x83\\xa0\\xae\\xcd\\xc4\\x8b\\x13kJ[\\xf1\\x07P\\x16@\\xdb* \\x91h\\xdfgS\\xf6\\x02\\';\\xa8=\\xf7\\xdc\\xa9\\xe4E\\x18\\xe5\\xb2^\\x1d\\xa3\\xe1\\xb0\"\\x0c\\xe8\\x862\\xe4\\x01\\xa9\\xad\\xaal \\xf9\\x11R\\x91\\xaf\\x82\\n\\x00\\xd8\\xfd\\xe4\\x87\\xb8zO\\x0c\\xa8\\x12Rt\\xa0oH\\xe2\\xcb\\xd4\\xcf\\x7f\\x08Agy\\x903\\xb4\\xea\\xa6\\xac\\x96\\xcd,\\xdd\\xb1\\xcb$\\xd6\\x906\\xc3\\xf6\\xeb\\xe3&m\\xa8\\x00\\xc9\\x0b\\x9d\\xab\\xaa\\xe2\\xdc\\xaaE\\xd3\\x0f> i\\xc4\\x93Y\\x82\\xf8x\\x88\\xcb\\xe9\\xe9\\x1d\\xab\\xac#5\\xf6\\x05M\\x1d\\xceB\\x91\\xe7\\xc2\\xc4\\xdc\\x91\\xba\\x11j\\x90>\\xe7*\\xc4\\xadkh\\x9e\\x05\\xd4\\xa5C\\xf2DT(j\\xd9\\x05\\xed$\\\\\\xbf\\xc1{R\\r\\x13\\xcdr\\xf0\\xc0`\\xbf\\xf0\\xd1\\xea\\x8e\\xc5\\xe81\\\\mm\\rb~H9\"\\x04*\\xce\\x90\\xf9^\\xa8e9e\\x91G\\x1b)\\x15\\xbdh\\x89\\xc8\\xa5x\\xb6Jq\\x8c\\xf2%Yc\\xd2\\xdc\\x80\\xfb[\\xb3\\xe9C\\xc7\\'\\xc4\\xd1\\x1e\\x05M\\x13\\xc4\\x0f{\\xb0\\x01T\\x92\\x1cu\\x14R\\xe3d\\xa2P\\x1f\\xf7$1)\\xb9\\xcd\\x05v\\xb76EQ\\xd0@\\xae\\r\\xf8\\x80\\xc8\\xae\\xae\\xae2\\xc8\\x96\\xb5\\xf3c\\x16\\x1e.9+VC\\xb1\\x86\\x00m\\xe0;\\xce\\xd1Q\\xc6\\x95\\xd2>\\x95f<\\xa0v%\\x9c\\xe6/e\\xcf9m\\xad\\xca^+\\x7fh\\xbf\\x14\\xc1\\x17\\xb35\\xf5\\x898\\x11\\xcf`\\xd2\\x83\\xc1\\xc6H;#\\x98\\xac\\x10\\x1f1Q\\x19V\\xdc\\xa4-G\\xff\\x8c\\x8du\\x88\\xa4\\x85ra\\xb4\\xfb?\\xcbG\\x9b\\x0f\\xc9]\\x87\\x14\\xe2_\\x1d\\xa4\\xea\\x90\\x1c\\x93\\xc85\\xe51\\x0eDeT\\x04\\xf7\\x01\\xcb\\x9e\\xc9}\\xd6h\\xba\\x11i\\x84f\\xf1\\xfb/\\x97\\xd0\\x04\\xa5\\xc8\\x9c\\xba\\xa1\\xf3zDmM\\xd5n\\xc8W\\xc6{c\\x94\\xd43\\x80\\x1f\\x8e=\\x17\\x81\\xc2G\\xbff\\xa3fgZ\\xcb\\xb4\\xb8y\\x13{\\xf5k\\x8aS\\xf0\\xb3\\xaa\\xbdH$\\xbf\\x18]\\x08\\xa5\\x84\\xcaB(\\xa6@\\xec<6\\xbd\\xb5\\x1a~\\xbc\\x8a\\xb4\\xbf+\\xe6b`G\\x87rsXka\\xdc\\xec/\\xf9\\x02\\x92\\xde\\x0e\\xfa\\x0e\\xd8G\\xa1\\xcfab\\ri\\x8f\\x9ctd\\xa9s\\x12WdC\\x16\\xc8\\xb31\\x8e5\\xa9\\xb2g\\x00V(4\\x8dL`\\x04\\xe6(\\x8f!\\x16\\x10\\x1af\\xffz\\x93ct{\\xf9\\x90\\xb8=\\xf3\\xb5u,K\\x9c\\x8e\\x08M\\xe6\\xd0&\\x86\\x9d\\n\\rp\\xc6\\xab:\\x90\\x1e\\x1a\\xc3<x\\xf6\\x0c\\xb6\\xf5\\\\\\x00\\x81QQ\\xfb\\xbc\\xf3\\\\\\xbf\\x99\\xc8\\x85B\"%\\x17\\x90.\\xba$\\x90\\xe6\\x86\\xec\\x04n3\\x1cu\\x1fR\\xfb\\xce\\x899{1\\xedL\\xa7\\x87\\xbc\\xc2:\\x82\\x18\\x05\\x87\\xc6\\xfa\\xd6\\xc8Qm\\x98d\\xf7\\x1f\\x06\\x08\\x8b\\xde\\x10\\x94bi\\x05\\x890F\\x8f\\xe2E\\xc1\\x9e\\xe9\\x9b/\\t\\xf9MT\\xa2\\x89\\to\\n\\xc9\\x7f<\\xa2\\xf9\\xf7\\xd2\\x00K\\x97\\x93\\x19\\x95a\\xadr51\\xfbY`L\\xb9`\\xd9\\xfa3\\xf2\\xca\\xd4\\x80-\\xb4\\xc0xM\\x04\\x8a\\x8f\\x0b\\x8fi*\\xfb8\\xd2\\xf8\\x0e\\xa75GL\\x8d\\xd1\\xf0\\xfc;_\\xae#\\xd6\\xdf\\x8a\\xef\\xb6\\xdf\\xbd\\xb3I\\x85E\\x06\\xd8xF|{ \\x89U\\xaaM\\xb1\\x1c\\x8a\\xa6\\xf1\\x98\\xc7f\\xa8\\x0b@*f\\xef\\xf7\\x01\\xcc3O\\xaa\\r\\x0bRYw\\xbc0{~\\xd4\\x9eMq\\x14)\\xf7)\\xee\\xb7_\\x13\\xfd}\\xce#\\x0c\\xd7S\\x89\\x80\\x11\\xfc\\xc6w\\x0c\\xbd\\xaa\\x9c\\x84h\\xddK\\x95(\\x14\\xe0\\xc6\\xdf\\x9b\\xaf\\x19\\xa7:\\xed\\xc4\\x92\\xe7V\\x16\\x02^|\\xd9\\xf3d\\x11\\x96\\xbc>>Mek(Y\\x92\\xff\\xb8h(cHqG\\xa8\\xc2F\\x9f\\xd6\\xf0\\xb0\\x92\\x11\\xc9e\\x98\\rd\"wGe\\xb5\\xc3\\xcd\\xc4\\x1f\\xd3\\x14\\xb7R\\x83\\xbb\\xc9y\\xb7\\x98h\\x80\\x87C<q\\xf3\\xfb\\x9f\\xde\\xed\\xac\\xb5\\xdb\\xa9a\\x02\\xd1t\\x1e\\x8d\\xdb\\xed\\x8d\\xf1\\xab\\x87\\xbc\\x0c-\\x8aEo\\x15\\x1d\\x13i\\xcc\\xbd\\x8e\\xcf\\xb8\"\\x08zk#\\xca\\xb1lT\\x12|\\xaa\\x9f\\xdb\\x9c\\n\\x8b\\xf3\\xd8J\\x07\\xd5\\x8f\\xad\\xaf6\\x9a\\xc0\\xe5\\xd0SG\\xdeu\\xa8\\xa7Z\\xe4\\x04o\\xa2\\xcdu\\xfd\\xf8\\xe8>,\\t,\\xfc_j\\x85\\'\\x89\\x02\\xf9\\xa3O\\x12\\xc7\\xe0\\xb9\\xa9\\x05Q\\xaa\\xdb>\\xce\\\\\\x04\\x03Y\\xfaj\\xeb\\xb5\\xfe\\x82X\\x87\\xc5\\x16\\xf9\\x0bh\\xf4\\x80\\x8d\\x8c\\xf6\\rB\\x08KT\\xc1ns\\x91\\x04\\x1d\\x14\\xd9\\x0b\\x84\\xe4\\xb0\\xc1\\xae3>\\x8e\\x1e<\\x8f\\xd6OtP~\\xc3W{\\'\\xd1\\x9a%P\\x8b\\x8b\\xf8\\xd5r\\x1a;>\\x8f\\xbe\\xc6q\\xb0\\xc7\\x9f\\xd1;\\x13\\x82M\\x18R\\xa2\\xb1\\x16\\xd9|\\xdc\\x83>\\x81^6\\xf5\\xac\\x90\\xd3\\xe5O\\xb3\\'\\xb4\\xec^\\x98\\xb1\\x1d\\xe6\\xd4\\xa9Fo\\x1b\\xb3\\xe9\\xb8\\xe8A\\xf6\\xbe\\xd6\\x84t\\x9c\\xe2\\x0b\\xd5\\x14K\\xe3}G6\\xeb\"\\x0ct\\xfe\\xa0\\x9b\\xb2[\\xec\\x8f\\xbe\\xd5\\xf7@]\\'rM\\x16\\xc0i\\xf1\\xb2\\xec\\xad*&\\xeft\\x89\\x82\\xe3N\\xee\\xb7\\xeb6\\x12V\\xe0q\\xb8um\\xfb\\x1d\\x9a\\xb5\\x1c\\x9ar\\x85\\xf17E\\x88\\x04N\\xbb&\\x9c\\x90\\xa86y\\xec\\xa3\\xf6\\xd7\\xed\\x01f\\xf5X\\x02W}\\xfdN\\x84e\\xe3\\xd6\\xe4N%Y\\xcc\\xcb\\x921\\xb1\\xc2L\\xd2\\xd2\\x00#r.\\xc9>p\\xca\\xfe\\x1b\\xdeI\\xca\\x0el\\xe1&_\\x07\\xe79\\x81\\x99\\xbb\\xbf\\x90\\xf1gFew\\x98ziv\\xcf\\xab\\x94\\x04\\x88$\\x9d\\xf68\\x8fT\\x9d@q\\xc5\\xc0<\\x01\\x8d/\\xea\\xab\\xb0\\x8a\\xba9\\xb0o\\xa8\\x02\\x15N)(\\xdf\\xbc\\xb0\\xe2\\xb2\\x96\\xc5\\xc1\\x13hIY\\xddER:\\xa2\\xd7l\\xab+9\\xe6\\xab\\x8b\\xc7\\x9d\\x9d\\x00\\xbe\\xef \\xf0\\xfca\\xcb\\xa7$\\xa7\\xc2w\\xdf\\xdc\\x8edbNP\\xd4U\\xc2G\\xcb\\x0b&`\\x9b\\x1c\\xf6[\\x1c\\x92\\xfa\\xc2Co\\xadX[\\xca\\n!\\xbd\\r\\xa6\\xb1\\xec\\x93\\xb6@4\\xb4\\x16\\xbd\\x12\\xafV\\xa4\\x85\\xf7\\x9b\\xf6|Y\\xe8J\\xd3`p\\xfe\\x82!\\x12u\\xf4\\x95(=yk\\xae\\xa8W\\x0c\\xa5\\xf5\\xa2\\x849\\xa2+\\xd5\\x17ce\\x9f\\xb5\\xd5\\xfb(\\xf9\\x1e\\x12;\\x14\\x99\\xb0\\x96@B\\xb4\\x9a\\xb1S\\xf2X\\xf0\\xed[\\x9e\\xdf\\x05\\xe8\\xfc\\xe1\\xab\\xf29\\x95\\xc8\\x1c\\xcf\\xa3I2\\xd4+\\x95\\x0f*\\x86\\xb61\\xbc\\xe3g\\xe6=\\xe3\\xcb\\xe1\\x07sptpQ\\x11\\x11\\xe9\\x07\\x7f\\x99\\x81~tb\\xe9o\\x01]\\x1a,gX\\xd8\\xfc\\x0f\\xf6\\xe3\\xb0\\xe7Q\\xd7(q\\xe3\\xebM{*\\x9cQW\\x18\\r\\xd1\\xdb\\x82.\\xfc\\xb1\\xc5\\xca\\xcb\\xa4\\xc0yR\\x1f\\xc1\\xb9\\xb5\\xec\\x16\\xb5\\xe2]\\xea6\\xe2l\\xaaZ\\x0b[\\r\\xd8\\xaar&\\x983]cf\\x104W\\xeb\\x9c\\x0c\\x1d\\xa4c\\x85\\xba{\\x92\\xe2\\x0c4|\\x1b\\tS!>&&\\xe0e\\x0b\\xceY\\x02\\xf9\\x15\\x80\\xda\\xd1\\x04\\x81e\\x11F\\xcc\\xea\\xa41!\\x8c\\xc4(\\xac\\x03Z\\xa0\\xed\\x8b\\xb2_\\xd7?\\xfc\\xbaK8z>\\xf9J\\xf8D\\xff\\x96x\\xa1\\xc65\\x082{\\xd9\\xd1T\\x06\\xdd\\x07\\xaeW\\xe7\\x0c\\x9f{\\xf9 \\xf3_ u\\xfe\\xec\\xe5$\\xc9\\xb7\\x18W\\xa9\\xf4\\xcd\\x9f\\x1c\\xd1&\\x1ezT\\xa97w\\x8c\\x006\\x0b\\xa6\\x9e\\xce\\x1dm\\xc1_\\x93\\xc9\\xd8xP\\x1e\\x9d\\xfe\\xbd\\xa1\\r\\x8fDu\\xf5\\x15zm\\xcd\\x0b\\xc3l\\xfc\\x84}z\\xd3\\xd4\\x11P\\xfe\\xa1,\\x04\\xc0\\xad\\x915\\xe6\\n$\\xb4\\x1e\\xc2=)\\xc4W\\xc1\\xec~\\x06)`\\x8a\\xf2\\x8a\\x06\\x99/m+\\x82\\xee\\xe3\\xa3\\xa3\\xd9\\x1c\\xcd]\\x0f\\x192\\xa4\\xe33!\\xc7Z\\xc4\\x15\\xea\\xaf_\\xd4f\\x08\\x1c\\xe43C\\x93\\x9f\\xb9\\xde\\xd4\\xc9\\x7f\\xb5\\xeer[=\\x9d\\xa9/\\xd5\\x7f9\\xd4{\\x89W\\xea\\xaa\\x96s\\xfb\\x0e\\xf2\\x954\\x8b\\x92,\\xd3\\x83\\xcf\\x8c\\xbd\\xb0\\xb7\\x96=\\xe4\\x84j\\xc9\\x04\\xf7\\x97\\xc6\\xa5~2(\\x08\\xf8\\xbaK\\x1e\\xeam\\xd7/oi\\xcdC\\xb2u\\xe8\\xe6\\xbf\\x01\\xc3>Yq\\x11\\xcc\\xc5\\x89\\xdfa\\xbd;|\\xediv\\xd5\\xfc\\x082\\x9b\\xe3\\xd8\\x94\\xd2\\x8c\\xb0\\x95\\xcbF\\xbe\\xa6\\xc5$\\xe2 \\xaf\\x04\\xaba\\xee\\x10NT\\x91\\x87\\x14ykkj\\xfd9\\xea\\xa55\\x04[\\xaf\\x0bx\\x9ab\\xfe\\x03\\xa8h`\\xd2\\xc7\\x8a\\x8f<\\xd115\\xef\\x114\\xaak\\xde\\'\\x00A\\xc75\\xf6\\x04e\\x84\\xea\\xf3\\xcc\\xf6\\x08\\x91\\x16\\xd2\\xa8\\x19\\x9fk\\xf4\\xae\\xe1\\x1c@\\xe4\\xb8tw\\x7f\\x04\\xa8\\x9e\\xd5+\\xa1}\\x14\\xe8\\xa5_\\xb2\\x1b\\x9cc\\xee\\xc9l\\xff\\xb9\\xc3a\\xf5\\x9di\\xfb\\xbc\\xa7?f9\\x19H\\xe1\\xab\\x1d7\\xad\\x156\\x823%\\x98p\\x8dV\\x93\\x1a\\xe0{\\x84Q\\xf1U\\xea\\xafw{\\xee\\xa9\\xf5\\x11\\x81Efl\\xe2z\\xaf\\xb8\\xff\\xfa20\\xbb\\xda\\xa5w,%h\\xf6\\xdaX\\x14\\xdf\\x94\\xb0\\\\=s\\xc0\\xcd\\xd5\\t2<a\\x8c\\x01\\xef\\x17P\\n\\xaf\\xa3M\\xa3\\xd6u\\xe1\\x07\\x9b\\xe2r\\x9f\\xc9~{\\xa6=\\x17~&\\xf8\\x8a\\x05\\xa9?77\\xa9\\xc8\\x96\\xd9*\\r`\\x92\\xf0\\xdeJ\\xda\\xc1U\\'\\xa9}\\x04\\x0e\\xda\\xc9a\\xf7\\x98@\\xc5\\xc4\\xea66l\\x02\\x1b\\x80\\x0b\\x85\\xe8+\\x08\\xbbq[\\x88\\xcf\\xfb\\xe9\\xf4\\xa3y\\xa4\\xb2\\xaa\\xb8\\xa5\\xbc\\x15\\xa7\\xe2\\xe2\\x8b\\xb4\\r\\x8b\\xd2k\\x86eD\\x7f\\x05\\xcb\\x08\\xb07\\xec\\xbc~6k\\xf8F=\\xe3\\x8d\\xe0\\x12\\xce\\xaa\\xa6R.\\x90:B<G+\\xa1i\\xa4\\xb4\\xeb[\\x13\\xdb\\x11\\x94\\x9e#\\xfa\\xc0\\x9b\\x8d\\xb2\\xe3\\x9b\\x81\\x9c\\x9b\\xf9\\xe8\\xbe\\xed-n6\\xc2\\xf7]\\xc7\\xdc\\xd4\\xe2`\\xd6>Y\\xb1\\xb1\\xa5\\xb0\\xc9\\x7fA\\x06\\xcb\\x1c\\xfci\\x80\\x955\\xff\\x13\\x04\\x81\\xeb\\x92G\\xb2\\x00\\xb8\\x8c\\xbd\\xda6\\x93\\x16\\xb6\\xa8ZV\\x87a\\xcd[u\\xf0A\\xafO\\xbev\\xf7\\xbbs\\x8eE\\x1dzx\\xdf\\x8e\\xf6\\xf9;X\\x0c\\x9a\\xa3:\\xf3\\xef\\'\\x82\\xff\\x9d\\xef\\xf2>\\xd3\\xfc\\x99\\xec\\xc24LHY\\xdc\\xb9`\\x96[\\xfd\\x8d\\x84d\\xfd\\x0b\\xa1gd\\r\\xcfs\\x85\\x02\\xac\\xab\\xc3\\xe9K\\xde\\xc3^\\xfd\\x02\\x9e\\xcf\\x1e!\\x90\\xb6\\x8e\\xb5\\x1bM\\x1b\\x15\\xb9\\xce\\xf5\\xb3H.4L9/\\xa3\\xcfy\\x19\\x91&szDZ\\xa0A\\x17\\xd1\\xcbN8\\xc5)n\\x01\\xeb\\x1d\\xc2t.y\\xd7\\x8d9\\xb0\\xbd\\x9e\\x05B\\xc7\\xd6p\\xb8q\\x88\\xb0\\x9f\\xd2\\x025\\x8a\\t\\x84\\x0e`q$\\xdcx\\xc8\\x82\\xf6\\xaeV\\x80\\xe5\\xf6\\x1f>\\n\\xc5\\x19Q\\xb0H\\n\\x8a\\xea\\x06@i\\x9f\\xfb\\xf0\\xf9\\xe5\\x87\\xf3\\x8b\\xa6w\\x89\\xf6\\x93\\xfb\\xe1\\x19\\x1dY\\xcfy\\xc3\\xb0\\xe6\\xe5V\\xf5g\\xbfv\\xea_\"\\x10\\xe4;#_zHl)d\"o\\xfa\\x1d\\x9d\\x9e\\x05\\xc7aM\\xb1,\\xb6\\xa29\\xed\\xa4\\xe2t\\xeaQ+\\x88!\\xcfV\\x0b\\xb6\\xcd\\\\\\x1a\\xfd\\x1c\\xbf/\\xe7\\x9f\\x16\\xf4\\xfe\\xc2\\x0e\\xe9\\xb4\\x1a5\\xc4\\x17\\x0e\\xb8\\xd6\\x94\\xd8\\xe7J\\\\\\xaeC>)\\x94\\xad\\xb6\\xbb?v\\x93*+n\\x10\\xfcq4\\x9bg\\x17\\x0bmY\\xb2Cl\\xac\\xa3\\xd5\\x16U\\x90+\\xf9\\x9e\\x07[Y*\\x8c\\x02\\xfe\\xfe\\xb5i\\xa3}M\\xd3\\x90\\\\p2H\\r\\xef\\xfe\\xad\\xa9mj\\x83\\xf9\\x88]\\xcf\\x07\\x93V\\xf9d\\xd7_\\xe2\\xf7\\xc8\\x7f!\\xb6\\xf3\\xbb?\\x0cu\\xad\\xc3\\xb2\\xdd\\xaf\\xa0\\xb7\\x82\\xd3;&\\xa1\\xbc]\\xa2\\xf1\\xe7\\xd1\\xfbh\"\\xe1d\\xb3(\\x8c*M8V%\\xde\\xedE\\xaa\\xcc.\\xf3d\\x87>\\xaa2I\\xd0\\xd28\\x16\\x15\\xc9X\\x81\\xa7\\xe7\\xc4P\\xf8\\xc0\\xe0\\xf5>\\xbd\\xe9\\xc6\\xc8e\\xc9\\x13\\xd80\\xccB\\x04\\x9a\\x0b\\x91\\x93J\\xe6r\\xc8\\x9c\\x9f\\xf7\\xac\\xd9\\xafN\\xf2J\\x05\\t\\x95\\x19\\x82\\xef_^\\x07&\\xe1|\\xe1\"g\\xe6\\x9e\\xaf4\\x0c\\xfc=\\xddt\\x984\\x0eRJ\\xcc\\x85\\'\\xb1\\x96\\x03H\\xef\\xf3\\n\\xe1.\\x0f\\xa8.\\n\\xbb\\xec\\x9fk\\xaak\\r:\\xe5\\xb1\\x0e\\xcc\\xb1\\x82\\xe6\\xfe\\xf1\\x80R\\x88\\xcbH\\xad\\xf1\\xdd\\x91\\xbb\\xc6%\\xaf\\xbaP\\x9c?\\xb8 \\xe4\\xf6\\xda(fh\\xe5+^\\xce\\xdad`\\x96.;\\xe6\\x12\\xda\\xeby\\xfb\\xa6\\xf7\\xd4T\\'\\x9f\\x18\\xc3\\xd2\\x854\\xfd\\xe3\\xeaVd\\xd9\\xcf+\\x86\\xcc\\xa3Z\\xeb`\\x0c\\xa3n\\x9f\\xce=\\xa2k\\x0b\\x98fv%mdSE\\r9\\xd6\\x85*\\xb6/2e\\x08}!\\xe2\\xc2\\x8e`\\xd6\\xb8=\\xd3\\x848k\"\\x00n\\x1b\\xa0\\xda\\x8b\\xd7\\x82{\\tLO\\xca:\\xa5\\x89\\x10f\\xa2\\x88\\xc0MI\\xf7\\xa7\\xa5\\xf0H/\\x1f\\x7f_X\\xc0=Q,=~\\x0bU\\xc0YM\\x06^\\x8f\\x1f\\xa5\\xde\\xeaN1:\\xd1\\xc5\\x18\\xe7\\x83\\xb0\\x9dax\\xaf\\xde_9\\n[\\xe3\\x1f\\xeey=v\\x8f\\xfd\\xc4\\xa1\\xb5\\xda\\x8f\\xd9\\xefu7\\xe2\\xf6\\xfd\\x08\\xfb\\xfc\\xab\\x83P\\xbc.\\xf6\\xd0\\'R\\xc7p\\xb6\\xfcX1\\xf3\\x98\\xc6\\x1b\\x9fE\\xad=\\xaf\\x0f\\x08kX\\xfb\\x08\\x93\\xd4\\x96G\\x96=\\xf6\\x86\\xa1\\xd7\\xd0\\xac\\xdc\\xff\\xdd\\xeaT\\x1a\\x1a\\x84csV\\xear\\x1d01\\x88\\xa9\\x92\\x8c\\xce%\\xf8\\xd3\\x1f\\xd5\\xfc\\xbe\\xe1e\\xc1\\xcf\\xf3\\xb1\\xc7I\\x1a,+r\\xc46\\xf5\\xd2p\\x86\\xee\\xc3%%\\x89\\xaa\\x05\\\\\\xb6\\x99\\xbd\\x05IDXl\\xaf\\xb0\\xda\\x9bb\\xe1l\\xd6\\xcb\\xae\\x03l/\\xfe|\\xd83\\x12\\x93\\xbe\\x9e\\x08\\xeaZ\\x8et\\xe1\\x12\\xe7E\\x13\\xce\\xd0\\xeb\\x99\\x92\\xd0l\\xeaP\\xdfwK[\\xc9\\x82m\\xe6\\xe5\\x14ppKQ\\xa9`vBV/\\x0e\\x9e\\x8c\\xab\\x15\\xa2R\\xc8y\\xfdL\\x93\\xfcR\\xb0z\\x89\\x87\\x89\\x17\\xce\\xdc\\xc6W\\xb52K\\x81\\x01b\\x7f\\xe2\\xb4\\x03f\\xc0\\xd9m\\x13n\\x8fq\\xc8\\xee\\x14\\xcc\\x04[h\\xd8\\x81\\x07\\xcb\\xa1\\xa4um\\xb92;\\xdf\\x86\\xb9T\\\\?\\xc3\\xd9-\\xf7\\xba\\x9e7QVi\\xdd\\x03N\\xcd\\x03!\\xf3N\\x1a\\xf7\\x90\\xc1\\x18\\xaf\\xb7D:e\\xe75\\x08\\x89\\xfd\\x1c\\xbc\\xd5\\xa5#\\xd9 >|\\xb0\\xde\\xa0\\xde\\xe2\\x1d\\xca\\xa3\\xde2\\xda\\xd2\\xf6\\xde\\x05\\xde|Z\\x0b\\x18\\xe4\\xd9D\\xd4\\xd7?\\xa5\\x8f\\xea2b\\xb5\\xf1\\xb0h\\x8f\\xe9U-K\\xde5\\xe6\\x0f\\xd5\\x8d:\\x85,\\x95+\\x0f\\xdbRA\\xf9\\xf3\\xe3i\\x85@\\x86\\xbbQ\\xdd\\x9b\\xb9\\xbc\\x96 &\\xa2/\\x04\\x92\\xf3\\xd7\\xd6\\xf68\\xd9\\xbaG[o\\xdc\\x18.\\x9b\\xda\\xa2\\\\\\xec\\xec\\xac\\x877$`\\xe3\\xe9`\\x81b\\x8b\\xf7P\\xd1\\xea\\x1b#\\xa5\\x97\\x13\\xe3\\x90\\xa3_\\x80\\x12kM\\xed\\x13J\\x9c\\x11\\x05\\xee\\xfa\\xd6Mp\\xcc\\xad\\x8a\\xafW\\xe5\\x90\\x1fY\\xff\\xbc\\xd9\\x83%\\x1bo\\x1bm\\xdfK\\xbb\\xb7\\x155\\xfe\\x18\\x07\\xf4\\xbb\\xeb\\xd2\\xd8G\\x8b\\x1b,\\xac{\\x82y8{\\xd1Ri\\xf6)\\x1b\\x88\\x9c\\xd3\\x86\\xe3??q\\xa5\\xa2\\x88(~\\x7f\\xfa\\x87e/8\"\\x82\\tzO\\x03\\n\\xba\\xa6\\x07E\\xdc)3\\x84!V\\xf3\\xe3m\\xaa\\xc2K\\x16M\\x86\\xb5S\\xb3J\\xbbLE\\xa9?\\xf7y9\\x08\\xbe\\x10\\xa3\\xca\\x94m\\x1c\\xdea\\xc5\\x96D\\xec@\\xb3\\xf9\\x8d\\xfb1\\x8c`I\\x9c\\xc6\\x08KH\\xd9\\x8e\\xb4\\x04UP\\xdd\\xed\\xfb\\xa9ZA\\xc4B7\\xe1\\x80;\\xa9\\x9ei\\xbd2-\\xbfJ4T\\xac#\\xd1\\xbf\\'\\xbb\\x95,\\x0c\\x1b\\xaa\\x01\\xfb\\t\\x04\\x8a\\xbag\\xf3B\\x8f\\xf2\\xc7v\\x01\\xbdr\\xf3\\xd8\\xa3j\\x80\\x1dpK\\xc4\\xc5\\x94Q\\xf1\\x84{\\xf52\\xd1\\x80\\x0f[/\\xf4{\\xe5\\x8f\\x8a\\x87Y\\xd7\\xe6B\\xc9\\xf5y1\\xf7*\\xeens#\\xae\\x16\\xbc\\x829Ha\\xabK\\n=K\\x83\\x1b\\xb9\\x0cuD4\\xe9\\x05\\x14\\xd7\\x9a\\xce\\xf8\\xe9\\x15\\x1f\\xbd4C\\x84\\xdax4`\\x96z\\x99\\xae\\xe7\\xa5Z\\x1a\\xda\\xd2Xr\\xb6K&\\xe0\\xe0\\xf9B\\xb2y\\xb9\\xe4\\xffAB-\\x8dD\\xc1\\xb4d\\x95w\\xae3QxeM\\x8eN:V\\xe3\"\\xc8\\x14\\\\\\xed\\xaf\\x19!mo\\x0f\\x13\\x05b?\\x0e\\xbc\\xef[\\xca\\x14\\xc4\\xf2\\\\\\xb2\\xa3\\x9e{\\'S\\xcd\\x11E\\x8dbUad\\xb17\\x13L\\x15\\xff~j\\xcd\\x93wB;\\xe2\\x7f\\xef\\xde`\\xed\\x98-\\xb4/~0\\x0fS\\x11\\xfe\\xe6E\\xb8\\xb8|#\\xf6q\\xe9\\x19q \\xaf\\xbc\\xad\\x16\\x96v\\x84I\\xd3\\x80J\\xf3\\r\\xed\\xe3=w-\\xb0n0\\x92^/\\xc8\\x10\\xf1\\xa9\\xad\\x0c\\x1bp\\xb7\\xfd\\xa3\\x17r$\\xd0\\xa4\\xd8\\xc1\\x84&\\x80\\xf1\\x86\\xbaV/\\xceb{\\x9c{\\x1d\\x04\\r\\x1dpS\\x85\\x1aj\\xdd\\x86\\xf3\\xacz\\x147\\xdc\\xa7\\xcd\\xbac$\\x03\\xe3O\\x9aD(\\xfbm\\x9b\\xba\\x02\\xfd\\xdfFY\\xcat\\xfeM\\x88\\xcbr\\xbc\\xf0d\\xf7\\xea\\x10\\x1a=\\xea\\xa2\\xc3\\x15\\x11\\x8b?\\xc3\\xa03\\xbe2R\\xdc\\x1b\\x8e\\xc0d\\\\\\xc8\\xc1+\\x8c\\xd9;\\xf7P\\xe2M\\x8a\\x00\\x17\\xca\\xc3\\xf0\\xb0\\xd0$U\\x17rI}\\xb7\\xdbP\\xb7\\x85\\xad\\x99\\xf8z\\xddY\\x8a\\xdaI\\xa2{\\xc1\\xc2\\x14[\\x957A\\xb6\\xda\\x9f|\\xd0vsZ~\\xb2T\\xb1\\xdbc\\xf0\\x1e\\x90\\x8c\\rOBg\\xe8\\x19\\x88M\\xc2F\\xae\\x98\\xb6\\xfc)\\x18\\x17\\xe3\\x1e\\x9d\\xd9\\xbc\\xb1aJ\\xa8\\xe8g9\\x86T\\x9aC\\xe5\\xb9\\xc9\\xcf\\n\\xe3\\x02\\xf6|v\\x9f\\x92\\xbb\\r\\xc6.\\xa1\\x8cQ\\x92\\xd2\\xec\\xb8\\xb0\\xed\\x13\\xb8\\xd6\\xd0/5\\xd0H\\xaa(\\x13\\x80\\x94\\x96\\xd2\\xba\\xdd\\xb09R\\xb5\\n\\xe7\\xc0\\xb6gkf\\x9e\\xc5\\x8f4\\xe2+\\xce:\\x14^y\\x88\\xf6\\x05\\x9dO\\x8f:E\\x92\\x01\\xe2\\x8c\\x1d\\xb7N\\x9c7\\xbfp!\\xa2\\x9dNz\\x84\\xdeg-\\xfb\\x00\\xabN\\x00\\x02\\x81h\\xe3\\x87\\x9aV}\\xf5K\\xca) \\x8a\\x85X\\xd4\\xcf\\x18\\x90qZ\\x1f\\xf2\\x11\\x9e\\x98\\x07o\\x95\\x05[C\\xc9\\x9e^z\\xd2\\x17<\\xd0n\\x1e\\xd4\\xa5\\xf7uE\\x11\\xde\\x05Cs\\xe1>\\xefxQ\\x9f\\xbe\\xe0\\xaa7*a\\xbb\\x14+\\x9b\\x10\\xab\\x90\\xfbe\\xea\\xc3\\xb3H\\xa1\\xee8j\\xe1\\xad\\nm~3B\\xa1D\\xdfUy\\xc4\\xe4\\xd81A4~7\\xa0\\xb6`\\xfe1\\x9c\\xf6@J7\\x98\\xa4\\t\\xdc\\xe1d\\xf5\\x95{/\\xa8\\xae\\x8c\\xb0\\xfb\\x87\\xff\\xd5\\x858\\x08\\xd8\\x19]\\x9c\\xff\\xec\\x04\\x0c\\xdf\\x8c\\x93+\\xa9\\xb5m\\xde\\xcd\\x97&o\\xb1?\\xeb\\xc4\\xf5\\x9e\\x19+M\\xf1!4\\x87\\\\1=\\xfc\\xd1_8aZ4\\xect\\xa9KL\\xd2\\xde\\x0f\\x0e\\xe1\\xbaKO\\xb1\\x96\\x95H~\\x99\\xc2\\x0c\\xe3k\\xa9u\\xd1\\x1co\\x9f\\xec\\xf1\\xab\\x9f\\xce\\x0fI\\xb9Z\\xee\\x866\\xbd\\xbdo\\xff\\xbbQ\\xf70M\\xd9\\xad\\x98\\x1e\\xf2\\xe7w\\xafK\\x91\\xe8t\\xba\\r,\\xf3\\x1b\\xbf\\xff\\x01\\xc8\\xa4\\xbd\\xa7,\\x1csA]\"\\xfa\\x12\\xb6\\xe4\\x80\\xa76,h\\xeds\\x01\\xb7\\x9a8\\xbb\\xad\\xe9\\xc7\\x99F\\x0e\\x97\\x82\\xa8_v\\xd2\\xe6\\xe7zy\\x89\\x96i\\xa7\\x91\\\\\\xf4 \\x0c\\xdd\\x9e\\xf3\\xc9I\\xcc\\xd5\\xb1\\x9fU\\xcak\\xdc\\x82\\xcdGo-H\\xe6W\\xc8@\\x0b%E\\xd6\\'\\xd5$8m\\xd6l\\x1b\\x06Y\\xf5Z_\\xa2\\x99\\xce\\x0eOVZA\\x99\\x08\\x97\\xc7o\\xb8\\xfevsL\\x94\\xfd\\xe1#\\x14\\xa6\\xaaf\\xd3\\xe5\\x99\\xa4AL\\xb1\\xfa\\xa4\\xf1}r\\x99\\xc7\\xe0\\xc9s%TX\\x80\\x10k\\xd5>,\\xbd\\x8fqW\\xec%\\xcb<\\x01\\xe66\\x02W\\x89Q)Eb,\\xcb?1\\xf1\\x03\\xb8\\xbb\\x04G\\xbbn\\xed\\x87\\xe7^O\\x14\\xf1y\\xed\\x8f\\xa3J\\xdc4\\x8dTf\\'-\\xb2\\xbd\\x0fQY\\xd5\\xaf\\x00\\x85Z\\xd4\\xa0\\x8b=\\xd6\\xc8\\xbdV\\xb0*\\x84=\\x0b\\xc9u\\x8c\\xb2\\xc5]\\x089,q\\xc5gQ\\xc0\\x97\\xa8\\x85\\xfb\\x04\\xc6Vy\\x90a\\x80r\\xebX\"+>\\xd79\\xe6/KEn\\x0eW\\xdf\\xf3T\\x07\\xec\\x97\\'X^\\xeaH\\xa3L\\xeb\\xcc\\xa7\\xc3\\xcc\\x8c~z\\t7\\xf3\\xd0\\xb9\\xa9\\x07{\\xa4G/\\xd7\\xd1\\x96\\x86A%%\\\\\\xcd\\xc6\\xd7\\xe5*\\xc7v\\xfa\\x8f\\xaf\\x99\\x00\\xcdz\\xcf\\x97[c.r\\xb0DH&\\x9c\\xf2te\\x8a\\xc9\\xf3J\\xec\\xa3\\xb1.\\xe12\\xdcA\\xab\\xa1E1\\xfcP\\xce+\\xf1\\xcfe\\x9f\\x15a\\x85i3\\xc7!\\xb9\\xf0\\xf1k\\x8b!,\\xaa\\xb6\\xc2\\xc5\\x9a\\xefgH\\x13\\x1e\\xab\\xd4\\xc4\\x839\\xd3Cj0\\xcfNN;\\xceb\\x97\\xdf\\x8c\\xcdS\\x1d\\xf4;\\x05\\xe6\\x8e\\xde\\xef?\\xb7X\\x99\\x94\\xb8q\\xdd(\\x13\\xb1\\x82\\xf3\\xbe\\xfe\\xec\\xd8K\\x10\\xce\\xe8.\\xf5\\x82[\\xaf\\xc5\\x8c\\x9c\\x8e\\xc6$\\x8a\\xe0~\\xac\\x81\\x17\\xc86\\xb96\\x91\\t{<9\\x14\\x1e\\xd6\\xc0CH\\x88\\\\\\xef\\x95l$\\xecu}[\\xa1\\'[\\x0eN\\x90\\x88\\x95|P\\x04su\\x87|\\xc9\\xe7|)\\x13\\xb8S\\x1f^g\\x17\\x18\\x91\\x92\\xad\\xfa\\xad\\x91\\x88\\xc1)\\xfe\\x15\\x00x\\x03f\\xab\\x97\\x0f#\\x8bp\\xba\\xee\\xb8\\xb8\\xd7P\\xed\\x1eg\\xce\\xbf\\x08\\x04\\x8e\\xf0\\xe7\\xe3\\xee\\r\\xfc\\x1c\\x98\\xd4\\xef\\xdf\\x1c\\xe2\\x028\\xbc\\xa2\\xe9\\xc2\\xa2\\xf3\\x87w=\\xf6V\\xe1dE\\x14\\xef\\x16\\xddM\\xd3\\xa3\\xddW\\xcb%\\x95G\\xde\\x03\\x0f\\x07\\xfd/\\xeb\\xc8\\xe1\\xa4\\'\\xdfx\\x14\\xc3\\xc0\\xf0\\xf4\\x06\\\\d\\xfa\\x07\\xba\\x9d\\x93\\x98\\x03[\\xeeH\\xb3D\\xd7\\xf5\\'{\\xff/8?\\xc6\\xbd\\xc6\\x99E\\xcb\\xe3\\x99\\xcbw\\xd6\\x82\\x0c\\xd3z\\xac\\xf5\\xd3\\xa2\\x99C4\\xd1\\xa9\\xe99+\\xf0\\xb2}Fb\\x19\\xee!Zz(,\\x96\\x14\\xad\\xd8\\x89\\xd5\\xe1\\xb0\\x84x+\\xd3\\xb6\\xf7\\xd2Vr\\x9dok-\\xa7%\\xb8\\xd7U\\x0e\\x84\"U\\xdc\\x07eH\\xf3\\xbb3\\x14\\x06\\xbf\\x8c$\\xcch4\\xd8\\x05\\xe4\\x0c\\xc4\\'\\xa4HE}K\\xec\\x99\\xd3\"\\x9aS\\xaa\\xcc\\xb8\\xcc\"\\xab\\n{|W\\xa2\\x0b}\\xb9\\xbf\\x00\\xb4\\xc8\\xf4\\x10\\x13\\x14\\x88.\\x1c\\xb9\\xdc\\x9a&\\xbd\\x94Z\\xe4}\\xc2!\\\\e\\xe0\\xac\\x07<\\x81\\xcb\\x14\\xa2\\x10\\xf4b\\xeak26#i#\\x07\\x0b\\xaf\\x96\\x91\\x11\\xb6\\xb8\\xad\\xe9NG:\\xd1\\xc4\\xb1ygD9\\x0b\\x1b\\x11.\\xa6\\xaf\\x8a\\x06p\\x08\\xad\\xc9\\xaf\\xc7\\x98\\x0f\\x03v\\xf5\\x01\\xf4\\x1aa\\xc8\\xe7h\\x9748\\xc7H\\x7fSp\\x01&\\x14\\xe2\\xa4\\xf4\\xc1\\x16\\x15\\xb6b\\x12\\x90\\xb9\\xc5\\xbb\\x9c\\x02\\xe7\\x17\\x13\\xf4\\x052\\xcc\\xd3\\x8a\\xc0\\xf7\\xa4\\xab\\xd6;\\xa1\\xc6b\\xca{\\x0e\\x9dk\\xaf\\xdf\\xf3\\xc25x\\xb2\\xfa\\xc7\\x92\\xd0H+i\\x0b\\xd4 \\xb6\\x1d\\xe6l2Dr\\x1fI\\x9a\\x91Wcaw\\x13\\xcf\\x85\\xcdg\\xd0\\xbb\\xe8T\\x9c\\xc0\\xa0\\x98\\r\\xf0pV\\xf7J\\x98*yI6Y\\x05[]\\x8e\\x88Z\\x19\\r\\xd9\\x0bA;k*\\x8cH^\\x18\\xa1\\x9dc\\\\Z\\xae\\x99\\xb6\\xe5\\x1a\\xa6\\x84j\\xd4>X\\xdbj\\xf8.5\\xc6f\\x02/\\xe8\\x8a\\xd6\\xa1\\xa45\\xd6\\xfe\\xb8\\xb9\\x8e\\xa67\\xa71VLmO\\x8fL\\x8c:y5P\\x1f\\xa0\\xbc\\xbd\\xb0h2<CQ\\xbf\\xbf\\xa7I\\xa7N\\xee,\\x1e\\xe0\\xe7t<\\x13\\xf4QQ\\xc8\\x8f \\xa6\\xb4\\xafc\\xd4\\x0c\\x1c\\x896}IS\\x8b(\\xac\\xdbe\\xb2n\\xd0\\xb0\\xb1\\xddXU$V\\x9ef\\xc2J\\x8aC&/n7\\xf5\\x9f\\xde\\xbf\\xbb\\x80\\x10X\\xf3\\x0b\\\\\\xca$\\x12\\x9f=^\\x9egQ\\xd6\\xf2\\xf9\\xf4\\x81\\x92\\x95\\xb2\\xc7\\xca\\x9f\\xd0\\xd1y\\xf7=L\\xd5\\x97\\x17\\x06\\xde\\x84\\xd4\\xbe\\xa5S\\xda\\x1f}\\x83g\\xfc\\x96X\\xc5\\xea\\x1b\\xfbQ\\x86\\xf5z\\x91\\xf5s\\xce\\x89A\\xbe`D\\xdd\\xb1\\x90\\xb7<\\x91\\xab\\x10\\x81O\\xa6\\xfeb\\x1e\\x15\\xd6\\xb1\\xd4\\xc8\\xa1\\xf1\\xb0\\xeb\\xc7\\x97G\\x15B\\x9f\\x87\\xd3\\x87\\xf8\\xf1\\xb9\\x08\\x11k\\xcb#\\x14\\xfb\\xa6\\x9eQ\\xe9\\xa5\\xab\\xc3G\\xe1\\xcff&\\xad<M\\xcce}\\xd5\\xcf{\\xf8j\\\\fqI\"^\\xe7s\\x8f\\xd1\\xadA\\xad@*\\xa9\\xfd\\x07\\x15\\x19I\\x1fzEd\\xf5\\xed\\x92\\xd8\\x1a~\\x14\\x02\\xb7\\xc5s\\xdc\\x1b\\xfb\\x97g\\xd7%g<:lV}\\x18\\xab,%f\\x81_\\x9c\\xc2`\\xf7\\xf8DD\\n\\xa7\\x0f\\x91\\xaf~\\xd1\\x99\\x7fh\\xa9\\xe3\\xd8*\\xf8?\\x86Yj\\xccq\\xc1\\x99\\xa33\\xbeA\\xaf\\xf5\\xc6\\xb9\\x97\\xcb\\x86 r\\x95M\\x1c\\xae\\x03\\xd5\\xfb\\x96*=\\\\\\xb1}\\x80\\x89\\x0c\\xac8oJ\\xf5(\\xad!\\xb2\\xf0\\x805b\\xc0&&\\xdck$\\x1f\\xd3V\\xe9\\xb5^\\x17\\xca\\x8e\\xd1l\\xf9(\\x88!\\xee\\xd9B\\xb1~)\\x10W\\xb6(\\xb0\\xd8\\xfe}Y)\\xa1<\\x7fx~c\\xb2\\xc8:6w\\xa16\\xae\\xc8\\xcc\\xa9$\\x94i\\xa5\\xab[\\xbed\\xbe\\x9a\\xe6\\x8fF\\xa2^\\xaa\\xc3\\x16N\\xac32\\xac\"|\\x00A\\xdeL\\x0e\\x81z\\xa6\\xd3\\xef)\\x93\\x16\\xe3HEV\\x15V\\xcb\\xa4\\xa6\\xa8 >\\xef\\x9b\\xc6\\xf7\\xb8\\xdeT\\x9c6\\x97p\\xc4\\x93\\xc8\\x8e\\xa6Vg\\xde\\xdf\\xd4p\\xbd=\\xe0QuS\\x01\\xb8AU\\x17\\xdb\\xc3\\xd0\\xc3\\xcb\\x99b@\\x7f\\xcd}\\xb2\\xack\\x9c\\x88\\x8a}r\\xf3\\xd0\\x93\\xfe\\x83J4\\xff$9\\x95k\\x0c\\xc8\\x9c\\xc2\\xda\\xfbX\\xb25\\xe8\\t\\x94\\xe0\\x1ef6\\xbff]\\xb6\\x9fN\\x9bN\\x00\\x8a\\x82\\x86\\xa6}|\\xff\\\\Rh\\xb2\\x06\\xc6%0\\xb0\\xdf\\x0c\\xbb\\x9e\\x8c\\xa5\\xa3\\xe2\\xad\\x19\\x8bc\\x11E\\x8b:\\x0f@\\x9c\\xc2\\x0b\\xf3R\\x85W\\x9eiNC^\\x02\\xe5f\\x80\\xf7X\\xcd\\xba\\x8b\\xb6\\xb7t\\xc4D\\x8d\\x8a\\x9fZ}\\xe9j\\xbdw\\xac\\xef\\xa3G\\xa9\\xa1\\xa1\\xd9\\xcba\\xcfWw\\xd7\\x19_\\x11\\xdf\\x17\\xcb689\\xe0e\\xbcyG\\x02\\xc9\\x82i\\xb2n\\xd9s\\xc5\\x00\\xdf\\xa3\\x8d\\xc1\\x9e;\\x82Zqb\\xc9hk\\xf0S\\x8f\\x00#\\x10+?\\xc1\\xc3\\x9a\\xcb\\x801C\\xf3\\xbdXqE%w\\x06/\\xe4\\x86\\xbe,\\xc2\\xab.\\x98\\x1d\\xc0o\\xdfA{W\\x04\\xc4\\x1eV\\xb0 =\\x10DmGv\\xff\\x03\\x01\\xbf?\\xdd\\x80\\xfb\\x1f\\x80\\xcc\\x83K\\x18X\\xd2w\\x87\\x815\\xdb\\xf0\\xb3:\\xc2\\\\\\x01V\\xba\\x05\\xf3\\xf1OD\\xbe\\xe2\\x85\\xe5]Y\\xc0z\\x8d\\xf9\\xbd\\xeb%\\xddC\\xa4\\x14\\xa1\\x96\\xfb\\xadC3wEO\\xc4+~5:\\xa6% \\xb4\\xe9X}\\xc0\\x8e\\x05\\xb8\\xc0\\xcc)\\x1e\\x03\\xed\\x89M\\x8f\\x01\\x96>x\\xfa.\\xb4\\xd0\\xd4\\xbcz\\\\\\xb2\\xbe\\xd0\\x88V\\xeb\\xef\\xf6\\x06e\\x02,IK\\xa8a\\x8b\\xd2\\xd9\\x00E2\\xa4O\\x1aC\\xb8W\\xab\\xfb\\xd0\\x99d\\xf9\\x80\\xdf\\xdf\\xd7\\x8b\\x84-\\x94n-\\x8885\\x17EUGH .\\xbc\\xa9\\x80\\x89T\\xc6\\x92\\xc6<QVl\\x82\\xb9\\xce\\xea\\x15\\xd7a\\xc5\\xa5\\xe8\\x84\\xc9=\\xfb$\\xc7\\x83@sP\\x8f=U\\x1d7\\xfd}\\xee\\xcd\\x0bF\\xf7G\\xd5XTTi\\x10JU\\xf0\\n\\xa1\\xce\\x9b\\x1a\\x08\\xb8\\xa9\\xa1\\xbe\\xa0\\xc4\\xa4\\xcde\\x9ej7\\xe9J\\xaa\\xd9\\tj\\x94\\x89\\xf1\\xc4X30=o[\\xed*\\x9f\\x9b\\x1f:\\xc9\\x88\\x99\\xcf\\xa3\\xcf\\xd8\\xe1\\x1e\\x9c\\x18\\x06\\x9b;-\\xfc\\x02\\xde\\xab\\xc7\\xa7\\x90\\xb3\\xc0:\\x02\\xdf\\x93)\\x8f\\x9e_^\\x1d.T\\xdcq\\xd3\\xed)\\xe5\\x8f\\x0e\\x16\\x9d?\\xc2Q\\xe7P\\xe5\\x8f\\xc8.q\\xd8\\xb2\\xd9\\x06\\x18\\xaa\\xd5r\\xa96^\\xb0\\xb3\\x1c\\xbb\\xfa\\xd7\\x87\\xa8\\x80\\x820F\\xcb3\\x96F\\xb4:\\xe5\\x1e\\xb7\\x87\\x1e\\xa7\\x8a\\xc1_\\xd4\\x1e\\xdbKu\\xb0\\xafO\\x8f\\x85T\"\\x87\\xceb\\xb5\\xf7\\x956/\\xbej1_p{\\xbe\\x019X#\\xbb4\\xfcz\\x95\\x10\\x08R\\xc7\\xc2\\x9cPc7\\x12\\x0e,<K\\xac\\xf8\\xb5\\xe1\\xbc\\xcb\\x8d\\x9e\\xae\\x83\\xe6M\\x817\\x98\\xd1\\xfb\\x16\\xce\\x00U\\xfd\\x12\\xa8\\x08\\xe3^km\\xd2;>vm\\x13QH)@\\xe5c\\xb9\\xb6\\xe0\\xae\\xa6\\x04o\\x03\\x0298E\\x0e\\'T\\x96\\xf44\\x99{\\x88\\x16\\xbe\\x85\\x05\\x03\\x84k\\x83b_\\xfb\\x00\\xb4\"\\xbd\\xf8w\\xad\\x89\\x95_}\\xe2\\xe6z\\xdf\\x8d\\x86\\x89\\x8a\\xc6JJM\\xd0&\\xdc\\xfe\\x06\\x0fF|\\xc0\\xd1.\\xf6\\x83\\xf3,\\xb2f\\xa2CH\\xb6$\\x8e\\x9e]\\x8e2\\x85)\\x8c\\xff\\xeb\\xad\\xe7\\xd6\\xca\\xa4r\\x1dr\\xd9\\xa5,\\x04\\x98\\x19\\'\\xd0J\\xf2da\\x15\\x9f\\xb6&x\\xb0\\xff\\x1c\\xda\\xc5\\x9fT\\xaa\\xdew\\xae\\xa2 \\x1a\\xd9\\r\\xb5^\\xd3\\xd8r\\xc9\\xdf(&\\x0b\\xb6\\xf6\\x05\\x90 \\xf8ex\\x10!l\\x80\\xa4i\\xb1\\x9e\\x17~\\xfb\\xe8u{\\x8b}\\xc2x\\xb5\\xc7\\xd3k0,\\xfc\\x8d\\xf1\\xfc\\xd1\\xbb\\xd8B\\xad\\xc8\\xf18\\xb2\\x90[\\xea\\xe7\\xa6\\x8c2\\x81B\\xfd(\\x03\\xf6\\x07\\xa3\\xf7l\\x92`\\xeb0\\xb8\\xc1\\xd7oJ\\x02o\\xb0\\xc6t\\xd5*\\xfbr#\\xb9D\\xdd\\x9c\\xa9g\\xbf5!\\x04\\xab\\xd9\\x18\\xeeu\\xd7\\x8bB\\x11d\\x1e\\xe7\\x9b\\xeb0jV\\xaf\\xb1\\x13\\'\\x1a\\xbb^\\xf3$i\\xe5\\x0fh\\x15\\xfagi\\x1e\\x83O\\x9elS\\x14N\\xce\\xa1\\x17\\x98\\xe49Q;\\xca\\xa5x\\xeb\\xa6f\\x84\\x0b\\xce\\xcf\\xed\\xa3\\xa8\\xee\\xd8a\\xb8\\x12k;\\x9b\\xccS\\\\\\xc1;\\x7f\\x12D\\xa2\\xcbp\\xf88\\xf6\\xbb.\\xdc\\x87\\xac[D\\xc3\\xd3k\\xe7\\xe0}\\xdd\\x9a\\xbd\\xb6\\x96\\x1c\\xb8\\xc5#T\\xce\\x05$u\\xf4\\x7f\\xcf_\\x03\\xd9\\x81z\\xb9,\\xf4\\xfdHi\\x1d\\xfcu2*~2*\\xb2\\xb1P\\xdc\\x06:\\xef\\xa7\\xfe\\xf4\\xefy\\xde\\xa6\\x03\\xdd\\xdeJ\\xfd]\\x0b\\xccR&O\\xd4\\x90B\\x01\\xc1K\\xf9\\xbf\\xfe\\xff\\xff\\xfd?\\xff\\xcf\\xa4b\\xa0\\x0e_$Q\\x08\\xd5\\xf7(\\x07\\xc6\\xd0XX\\xcb^\\t\\xe2B$\\x9f\\xb4\\x9f,f_\\x02\\xdcp?v\\xac\\x83\\x82B\\xfb\\x89\\r\\xc4\\xbe\\xc1Y_~\\x10x\\xe0h\\x86z\\x9e]\\\\\\xb1\\xb7\\x95\\x99_\\x19h\\xb5\\xa8\\x9crp\\x99K\\x01\\xd32\\x97.\\xc9!\\x9e\\x93\\x12\\x12\\xc2\\xb9\\xe6\\xfa\\x02z\\xa1p\\xedlC\\xf6Y\\xeb\\x8d\\xefOI\\t\\xfc\\x1c\\x01\\x81\\x15\\xc1\\x92$\\xac\\xc9\\xaciY\\xce8XM\\x9a\\xc2\\xa6\\xf7\\x0c\\xcd3\\xd9\\xfc\\x18>\\xebp?\\xb8\\xff~\\xbf\\xdf\\xaf\\xb4\\xb6\\x1a`|\\xc2\"(\\xe9F9H\\r\\x7f\\xf2\\xb4\\x8aH\\x1f \\x7f}\\xc1]|d\\n\\x93H\\x06WI\\x84j\\xafa\\xec\\xe7\\xefJ<\\xaf\\x03\\xf4\\xa5wU\\xf3m\\xf4\\x87\\x12\\xab\\x8c\\xa0\\xfa>\\x04\\xbe\\x8c\\x15\\xadj(\\xe0w\\x07b\\x00a\\xab\\x9bTs\\xf9\\xe7\\x0b\\xed\\x03\\xc6\\xe7\\xfc\\xf3\\xbd\\xf7\\x83\\x1b\\xb3\\xde\\xe3\\xb2\\xf6*\\xf4\\'\\xe7\\xab\\x92g\\xa7\\xa6o\\x1ec\\xe6*\\xc9,\\xdeI\\xe7kZ\\x83\\xbfC\\x97=:JF\\tL\\xfa\\xae\\x97\\x1aBo\\x18\\x17\\x8c\\xc7\\x9c/b\\xc5-RQ\\x8anI\\xc0\\x99\\xac[DCc\\x06=\\x16\\xf7\\x12$l\\xf6v\\x9e\\xb0Zpn\\x8e[\\xe3X.\\xea\\x8b\\xbb@\\xcf\\xc3\\xc6[w2\\xca-\\xf0#\\xce\\xdf\\t\\xa1\\xb6\\xe9]{HQ\\x96\\xba\\xe0R\\xa6\\x84\\x13$r\\xc59\\x1c\\xee\\x83o+\\x01kI\\x7f\\xb5u\\x0e\\xb7\\x971\\x1fq\\x18zE\\xc7\\x031se\\xec\\x89\\xdd\\xa5(=\\xc4\\xc4\\n\\x90\\xd6\\x0ct>\\xf71\\x02>\\xa1\\x16\\xa9\\xbaE\\x936o\\x03\\x0c\\xc5\\x06M\\xba2\\x8ay\\xcc\\x0f\\xa9\\x8b\\xe0\\x86y\\xbb2\\x82F\\x03\\xaa_\\xccaRLM\\xea\\x04\\x1ev\\x01a\\xca\\xb9\\xcd\\xde\\xd2y\\x02t^`\\x97\\xd0\\x04b\\xc2\\xdc\\x9b{\\x1c@\\x1bJ\\xbc\\x18\\x19\\x16| ~?\\x858\\xac\\xa0\\xe4\\n\\xda\\tL\\xbfM\\xe9\\xc7\\xa9\\x00\\x841\\x8d\\xb9\\x1e@p\\xae\\xad\\x99D2\\n0\\x1a\\x0b\\x1a\\xce\\xa9\\x1e\\x80\\xcb\\x10\\xf3\\r\\xd4\\xa1\\xbfzn\\xfe \\x06F\\xe9\\x99\\xda\\x008\\xcb\\x9b\\xad\\xb1\\xf2\\xd7SfQO0i:\\x81\\x96\\xca:\\x0b\\xb9\\xff8^\\xa5\\xfd \\n\\xe18\\x9f\\xaa\\xa1w\\x13\\xd2+\"\\xfe\"\\n\\xadv>I\\xef\\x07\\x06\\xe3\\xf9\\xbc\\x17x-\\x93\\xae\\x90\\xe7\\x1eE\\x05\\xef\\xf4X\\xc0\\xe2\\x12\\xf6\\xa4\\xa1\\x12\\x81\\xc5\\xd0O\\x87\\xcc\\xb0l\\xcbP\\xa0\\xd2hN\\xdb\\x85f\\x9f\\xf3\\xca2V\\x08\\xf4h\\x81z\\xe7\\x99\\x106\\xf2\\xbf\\x1a9}|\\x1a\\xedO\\xdb\\xf5a\\xef`\\x11\\xd1\\x83\\x957\\xca(\\xec\\x0e\\xa5\\x1d/\\x04\\x92\\xc0\\xaa\\x02h\\x90|\\xb2\\x98a\\x0b\\x13\\x99\\xf4\\xc2<\\xe6\\xf8g\\xd5\\\\7$\\xd6nH\\x07\\xe9\\xdai\\x8b\\xc6\\x9e\\xe3\\xf6M\\xaf\\xd6?\\x803c\\x18jL\\xcaei\\x1b\\x11\\x99\\xcd\\x06\\x1e\\x8b\\xb5S\\xa8\\xd3\\xbb\\xbc\\x04S\\xcc}OY\\xb2\\xdd\\'z;n\\x06\\x9d]ea&=\\xc47b`\\x15\\xd6\\x1f\\x08\\x882>\\xeeN\\x81@\\x17\\x99\\xcba\\xebV-\\x9b\\xb4\\x175\\x0eu\\x19\\xdf[\\xd8\\xe5\\xde\\xc3\\xd72Zp9Tj\\\\\\x9b\\x9ax\\x13\\xa0\\x12\\xff\\xf2\\xee\\xe9=8GB\\xab \\x06\\xa0\\xf6=\\xdf\\xed\\xfbZ\\x00[\\xfb[\\xac\\xebn<O\\xbfo\\\\\\x0e>Ic\\x07\\xbb\\x10G\\xdf\\xbc?\\x08)s\\x1dk\\xf2\\'P[jL\\x91\\xc4\\x15\\xef\\x8fg\\x11\\xdfMD\\xa7\\x1b~J\\xf9\\xa0\\xb8\\xf4\\x16\\x9b\\xf5\\xf9-\\x9e\\x1cNE*\\x0c\\x8e\\xcb\\x1dZSZ\\x0cx\\xaa+U.)\\x02\\xfb\\xc6P\\x86\\x0b\\xd9\\x06rB\\xa0\\x17\\xcdm\\x98\\xa5\\x05e\\xb9\\x9e\\x9d\\xd0\\x9f\\x7f\\xdd\\x94\\xe6\\xa3\\x02\\x1aN\\x9c\\x85U(Q\\x1c\\x07\\xeb\\xaa\\x96\\x84\\x9a9\\x86\\x97t\\xc0\\xc1\\xc2~j\\xd6l\\xa4w\\x1c!\\x0f \\xd0\\xfe\\xd9\\xb5\\xb2\\x9a\\n(\\x13\\xa1Y\\x8b\\xf8\\xc1{W\\xb7#5\\xb9z\\xbc\\xea\\xf7\\xdeW\\x82`\\x1e\\xd4\\xb1*$\\xb6\\xa3\\x9d\\xbf\\x08\\xdc\\xa6(\\xee\\x87 \\xb42\\xcd\\n\\x9c\\xe8H4\\x10y\\xee})\\xff\\xc5\\xf5\\xc5I\\xfd\\xb0\\xe6{Y\\\\./0\\x86E\\xa7\\x82\\x80\\xb9O\\x83#\\xa4\\xd2\\xd8\\xb9i\\xd2t\\xb4\\xb0\\x93\\xca\\x98e\\xdf\\x95\\xbc\\x8b\\x1b\\x08b\\x8cT\\xd0\\x17\\xf2\\x8fa\\x9a\\x0e\\xb1n\\xb9N+\\xb5\\xe0v\\x06\\xf9g\\xfe\\x9c\\xfb\\'\\xb1\\x0c\\xcc\\xc5( \\xc7V:\\xe9\\x92\\x1e\\xb9\\x84\\x05Yc\\x19\\xc9\\x7f\\xf8\\xfbNA\\x0e\\x14=j~L\\x10\\xef\\x9f_6\\xe2\\xfe\\x07 )\\xf8\\xb0\\x04\\xc0E\\xcai\\x8da~\\x10?+\\x90@\\xfdyT\\xa4E\\xf0\\xd6r\\x07\\xc9_\\xe3\\x8e4\\x81\\xd0\\x82\\xdad\\xcc;>\\x036g\\x01\\xc5\\xc3\\'w\\\\\\xd4\\xd2~\\xab\\x18)\\xee53V\\xa5!,\\xa2\\x0e\\x86z\\x94\\xe4N\\xa2\\xec\\xf7`\\xb5\\xbf\\xe4!q\\x803\\xfa\\xf1?Ml\\xde/\\xd03X6\\x01\\xa2\\xb1\\n\\xc0$X\\x85F\\xc5\\x90\\x11\\xdf\\xf2\\xb9\\xc0\\xd2\\n\\x13\\x08`\\xb5d\\x88\\x1a\\x81\\xbb\\x08\\x98\\xa73\\xfet?\\xc4\\xa9\\x99\\xcb\\x91 \\xee\\xaf\\xcdM\\x0cs;\\xa3\\x16\\xf0\\x10\\xd6\\x8cF\\xd1\\x0b\\xd9\\x01$\\xebL\\xb3\\xd4v\\xed\\r\\xe6B:\\x13\\xd65\\xfe\\xd5\\xdd\\x97\\xf2j\\x04M\\xc9\\xdeF\\xd4{*\\x9a\\xb8\\x96\\xa8N8%\\x9a8\\xaeJ@,\\xa7\\x08\\x1e\\xa4\\x13N\\xf0tN\\xf3\\xbbG\\x1a\\x8eE\\x83\\x89\\nN\\xb6\\xf1\\x1f\\xa0\\x8a2*\\xec\\xb3\\x88\\n<\\xdb\\x15\\x93t\\xe3\\xf3!Z\\x8b\\x10\\xe2HZ\\xaf`\\x86\\x0f\\xdc\\xa4\\xe4+\\xfe@\\xcdr\\xf4\\xf49\\xd4t\\xe4\\x12\\xac\\xf9\\xb7\\x8b\\xaa\\xd7\\xb6\\xf7-D\\xa0\\x8e\\'\\xd1\\xcf\\xfb\\xb4\\x88~\\xd6f\\x90t\\xf8s\\x7f?\\xef\\xc9\\x0b.6Fe\\x98#, +6\\xadm\\x84&\\xbf\\xfa\\xb7\\x1bw\\x1b\\x8d\\x9c\\x92\\xffQ\\x16k!1M\\x9dA*\\xd9)\\x82k\\x1d\\x96\\x00u\\x98r\\x9c\\x88\\x06$\\x04\\xf4\\xc1\\xa5\\xee\\xd1\\xefv\\x0bUnO\\x9c\\x12l\\xaa\\xd6.l4\\xa3\\x00n\\xabG\\xa0\\x17\\xe6%\\xa9\\x12\\xd0\\xc8\\xbe\\xe7 \\xfc\\xf5\\x1c\\x11VL\\xbb\\xcfc\\xba\\x9dXv\\xc5N?\\xc4\\x1b\\xbc\\xc8\\xe4>\\xb1\\xf3\\xa7\\x19\\xba\\x03\\x16\\x9b\\x06\\xd2\\x1e\\x9a\\xcb\\xb2HW\\xff\\x01\\x025Z\\x8c\\xcf\\xe0\\x84\\xec\\x8aE\\xc6 ?s\\x8d\\xf0\\xd6K\\x10\\x16\\x17M\\xe6\\x18\\x0b\\x90\\x0e\\x1f\\x15X%\\x84&\\x97SF\\x10\\xc4\\xdb\\x1ba\\x98\\xcbp\\x00ub\\xb1e\\x92\\x0cz\\x87\\x1d\\x88\\xf8\\xa3%\\xef^\\xf9\\xae\\xc7o\\xa26\\xe2\\xdc\\x1a\\x1f\\xbd6\\x80\\xf0\\xc1\\xf8\\x8a;8\\x81m\\xd3@S\\xb9:b\\x90\\'\\xa0u\\xf7\\x10\\xdbe*\\x1c\\x94\\xd2\\xa7WU\\x8c\\xa27\\xa7\\xff\\x08\\xd2\\tTG\\xea\\x88\\x8c zS\\xeb\\x14\"\\xa8#\\xa9+\\xbe\\x1e?\\xb8\\x01\\xb1\\x89@\\xb4V\\xaa(\\x9e\\xf9r \\xa2\\x17\\x82\\x82\\x06\\xe9\\x12\\n\\x81\\xa4\\x94\\x06\\xc4\\x83\\xd0\\xb63\\x89\\x83\\x11\\x1f\\x81o\\xa7\\x04\\xb2\\xcf|z\\x7f\\x90\\xd0\\x8a\\xa3\\x83\\x14u\\x02\\x9d\\x83\\xc7\\x17\\xf4\\x1dC\\x8e6$\\x1d\\xf5\\x9f\\xf7\\x92[\\x04o\\x1a\\x9f\\xf9\\xcf\\x11m;\\xebK\\x18\\x9f\\xc5\\x14\\xd4\\xf40C}\\x842\\x9cYd\\xf0\\x12\\x93\\x89b\\x99\\x16 5\\n%%\\x8c\\x1aN\\xa8\\xceY\\xaf\\x8f\\xcc`\\xf3\\x10vP\\xc2\\x18\\xd1\\x9f\\xd7\\x19\\xb2\\xe6#H\\xdc\\xc9V!\\xde\\xb31\\xb7\\x11\\xd1\\xe2A\\xa2\\r\\xe6\\xe5W\\xde/33\\xfd\\x7fl32\\xd0~\\xfd\\xa0\\xa3@\\x13b\\tV\\x17\\x88\\x8a\\xebe<\\xc0g\\xccR\\xd7N\\xb7\\x87x\\x8b\\t\\x83V\\x88!\\xde\\xc0N\\xc8\\xa7j\\x93\\xfe\\xe4\\x9b\\x9f\\xb9\\xffTdtl@$h,\\xd7\\xad\\xed\\x91{P\\xc5\\xa5VMqB\\xd3\\xe2\\x0b\\xb82&\\xe6U\\xce*\\x98\\xf7`\\x89*`\\xc9\\xb4\\x1c\\xeb\\x94|\\xef\\xab\\xf8\\',\\xb5\\xa9F\\xc2d\\x97\\xf9Q\\x8f\\xb6\\xbc8\\xb3\\n\\xb6)\\xa0\\xad\\xef\\x9c\\xa2\\x187~\\x94\\xec\\x958\\xdaO\\xbd\\xe6c]\\xbd\\xa6I\\xd4D\\xb0_Vm\\x01B\\x14N\\xd1\\xe6\\xdeo\\xe5\\xcbJ{\\xab\\x13\\xf9\\x82\\xe2\\x12\\xe3\\xcf\\xbf\\x80\\x19N\\x96\\tG\\xa5\\x07\\xed\"\\xc5%\\xd3k\\x8aJ \\xea\\xb9\\x8d=\\x15\\x1f\\x93\\x1e\\xb3\\x82\\xf8\\xc2s4\\xa3\\xc5\\xd6\\xf9\\xd0\\xbd.H\\x90\\xaa\\x10\\x95\\xb0\\xde[\\t$k\\xa1\\x1b\\xfe\\xd6Eg4\\x95\\xdd\\xe6\\xcf\\x18\\x12\\xa2J\\x92\\x0b\\x19\\xb8\\xd7\\xb1]\\x83\\xe8\\x06\\x9f\\x00\\xc4^\\x1d\\x8a\\x14mUH(\\x18\\x14\\x86\\xc1\\xed\\xfd\\x97{\\x89\\xfcQ]\\xce\\x07\\xd8\\xc8\\xa9\\xf0p\\x0b\\xe9\\x85\\x19O\\x98L\\x9c\\x13\\x05\\x16\\x15\\xe8Tze\\xc8r\"\\xdf\\x8bf\\x18z\\xe2\\xa7\\x82N\\x0c\\x0b\\xf7\\xf85\\x8b\\x858\\x1acm3\\xe7Vd\\x14\\xa3\\x91\\xa78\\n\\x98\\xd8\\xa3>^H!\\n\\xa9\\xa5\\x0frx\\x9e\\xaa\\x80\\xfb\\xdbCKU\\xe6\\xc5\\xcf\\xacP\\xa6g\\xa3\\x96\\x97\\n\\xf9\\x02\\xae\\xf7\\xe0\\xfeX\\xef!\\x13\\xca0\\xea@ja6\\xf7\\xc3[\\xa3\\xe2\\x90\\xeb\\xb4\\x1e\\x87\\xe56\\xf3E|\\xc8*J xA\\xf26k\\xc3\\x8a\\xa9%\\xbe\\x83\\xdd\\xe6\\xf9\\xe4\\x9bw\\x86\\x0e\\xe0\\xb4W\\x16_:4\\xa1\\xb2e\\x81\\xe5\\xdc\\xcc0Gm\\x9e\\x05\\xd4\\xc9\\x9a\\x07\\x15\\x12\\xa0$\\x17\\x0f\\x91\\xc9If\\xea3@6\\xd2\\xde\\xa1\\x16R\\xcer\\x17\\xd6\\xe7\\x19_\\xcf\\x97\\x82E\\xab\\xb62+\\x8d\\x1bx+}\\xe3\\xd5*\\xaaDq\\x0fI\\xcb\\xae$\\xed\\xe1\\xf5\\x9d\\x8b\\x12B\\x1f\\xfa\\x1d\\xd8\\x07;\\n\\xd0\\x8f\\xb9\\x89\\xc2\\xdd\\x17\\x89\\xdc(\\xf3\\xb2\\xb2\\xe6\\x95\\xd1\\x98v\\xeeX\\x9a\\xd38T\\xca\\xa5@\"\\xee\\x0c\\xc96\\x0c\\xae|\\x88\\xc7\\xf7*\\x81\\x03\\xb2\\xa9\\xb3\\x84*\\xe4YU\\xfa\\x89\\xd5}Z\\xaa\\xce\\xe8\\x02\\x91\\xe2rS\\xe6o\\x92\\x06+\\xe6V:\\xb6\\xd0\\x91~}U\\x10f8\\x82\\x9d\\xd3\\xcbg\\xd9\\xcb!n@h\\xde\\xfb\\x99\\xb6\\xeb\\x8d\\x99ZP\\x10aR\\x89e\\xf9\\x87l\\xc2;\\'^\\x7f7\\xb9\\xd1\\xbb\\x8a\\x9c\\xde\\xda\\x82y;\\xc49\\x1a\\xb7\\x8b\\xd4\\x81\\xfc\\xe5o\\x93\\xcab:\\xa4\\xfdA5\\x97\\xd0\\xde5*\\xab\\xc1T\\xf3\\x16s\\xfb\\xd6\\x1a\\xc4\\xa0\\x92\\x8b\\xda-\\xa6\\xd0\\x9a\\xb6\\xa8\\xbb\\xa2\\x92\\xa3-nTNNO\\xe8I\\x02\\x124B \\xe914\\x85\\x8d\\x04XM\\xcd\\xd7\\xbd\\x83\\xd3\\x9d\\xd2R \\xb1\\x99\\xa2\\x1e\\xba \\x14\\x1d\\xd4\\x87\\x9f\\x11\\xf1v\\xb1\\x81*\\xdb\\xcb:\\xe3\\x17\\xf7T\\xbc\\x80\\xab\\xa2\\x88\\xe8\\xaf\\xfb\\xd3\\xfek~\\x96\\x14-\\xaf\\xe1\\x1e\\x14`\\xda\\x98\\x15\\x883\\xe2\\x93.\\x9f\\xb3\\xe0\\x1b\\xafT,5\\xdc\\x02\\xd8\\x91\\x92\\xb0\\x88\\xf8\\xba\\x90\\xd6$Y\\xcc\\x83\\x1f,\\xd1\\x88\\x89M\\xae2\\xa2\\xf0\\xae\\xfb\\x95b\\x1b\\r\\xf2\\xce}\\x1eTX\\x08W\\xf0F\\xef\\t\\x800S\\xca\\xf0J\\xa5\\x92r\\xb4\\xab\\xa5\\xdd}&=\\x18\\xf5\\x8el\\xfdy\\xd35\\x0b\\xc1l\\x85L\\x85\\x0e\\xf8hq\\xac\\xdfc\\x0e/=\\x010/p.\\xd4\\x06\\xcbq\\xc5\\xda|\\xf4\\xd4\\x87:\\xf1 \\x1b\\x83\\x1c\\x05\\xa7\\xd6\\xffMV\\x18\\xc9\\x19\\xd7^\\xfeT\\xcd\\xc9Ba.Y\\xd0\\x8d\\x9e\\xde\\x11\\xb8\\xf6\\x06\\xfd\\xe0\\x85h\\x85\\xf5cq\\xd4\\x92ol\\x81/\\x95GE?<\\xaf\\xb0\\x1e\\xa2\\xeb\\xa0\\xee\\x8c\\xd1\\xd7r\\xffC\\xde\\x18\\xb8\\xf8\\x1e\\x05q\\xe1\\xa2\\xf0\\xf7{\\xd3\\xbf\\xa96\\x9e\\x98\\xb0O\\xc6@\\xe0!$\\xc5\\x04\\tuO\\x13?z%\\x82\\xafj\\xb4\\x91\\x19\\xe0\\xd9A\\x17\\xb7ER\\xccu\\xf1<\\xea\\xc3\\x0b\\t\\xb4\\xa2e\\xa3J<\"z\\xf4\\xbf?\\xf8\\xd0\\xfeT\\xba\\xa2\\xdc\\xb3\\xe2\\x89\\x05\\x8c\\x8a\\xc4\\xc4\\xca\\xea\\xa3\\xaf\\xc2\\x8b\\xd4d)a#qq}\\x12T\\x8edViX\\x03>r\\x9f\\x8e\\xaf\\xdc\\xc3.\\xcf\\x86\\xbe.\\xe6\\x10\\x8f\\xd6\\xda\\xdf\\xe8\\x92\\xf0\\xc64@\\nC\\xd7,\\xea>\\xc2>\\xf2\\xa4\\xe7{C\\x8d\\n\\x83\\x85T\\xc2\\x9eJ#\\x91.\\x0f\\xbd7\\xe1*\\xa5\\xbe\\xfbH\\xb2\\x1b8i\\xe5\\xf0Z\\xd1V}\\x84\\nk\\x86Ppz\\x10\\x8fp^=K\\xa0\\xda\\xfb\\x11\\xaaD\\xe8\\x95\\xdf\\x03\\x17\\x97\\xd7\\xc4\\xe3\\xcd?\\xeb\\xb2{Bg\\x9c\\x0eZ\\xbd\\xaaZ\\xa4]\\xbboA\\xf3\\xabp\\xf32s\\xab\\x85\\xa7\\x90\\xa6\\x14\\xbb\\xc3\\x04\\xaf-\\x053\\x84\\xc53\\xf1\\xc6\\xbb\\xc6)\\xe8(\\xae\\x9e\\xc0\\x90\\xb8\\xd75\\xe7[\\x11\\xc1\\xfcW\\x9a\\xef\\xa54\\xd3\\xe0D\\x8f\\xaa\\xd6\\xf5\\x85D\\xe8\\x94\\xf2,\"\\xd3\\xf1\\xe3\\x0b\\xec\\xd7U\\xc2 \\x0f\\xee\\xe3\\xd1\\xb6:\\xb0\\xc5\\xd5\\xad\\xb4\\xc6\\xbe\\xa8\\\\1\\x8b\\x91\\xaf&\\x85\\xb2\\xaf4\\x9a\\xa4\\x9d\\x92\\x18\\xdb+\\xec\\xe3\\x0fR\\r{\\xec+{\\xb1\\xce\\x1bgS\\xf8\\x05\\xdd\\x87\\xd2-\\xdd\\x0c\\xd5/ \\x9f\\xc0\\t\\xa8\\xb7\\x10\\xab\\x1a\\xaa\\xd8\\xa5\\x06rKK\\xd4\\xdd\\xa2\\xbb\\x81\\x1fC\\xa0\\x0b_R\\xca\\xb9\\xa4~K)\\xa2\\xc9\\xa5s/\\x91r\\x11Qc\\xdcx\\xa3`\\xc7b7V+~\\x95\\x96\\x7f\\xaf&\\xda0\\x04y\\xd7\\x839/H\\x9c\\x80\\xe7\\xdc\\xa3\\x934\\xb0\\xd9Jw\\xd5\\x037\\x8f\\x11,;\\nd\\x1b?:d>\\xb8\\x05\\xc2\\xb5\\xeb^\\xa4w\\xb4!c\\xcf\\xa1N\\xc0qr5JA\\xdfHB4*\\xcc\\x8a\\\\\\x93\"Uw=\\xae~\\xb4\\xd2\\x10+\\x90-\\xdd.~m\\xa7]\\x1f\\xf3\\\\\\x82\\xabb\\x86m;\\xd1\\x99\\xb5\\x15\\xc0\\x9cP\\x1f\\x8aq\\xfd\\xb8\\xf0\\x90\\xd2\\xe9\\xcf\\x19\\x19\\xa5\\xd0\\x06\\x86\\xfe\\x0e\\x1d-\\xae\\xe6\\xd0Jq\\xb8\\xff\\x03E\\xa1%\\xb4\\xc2\\x9a\\xff\\xf3\\x93\\xf7\\x12\\x83\\x90\\xf7T\\xbdj\\x18\\x98\\xb2v\\xc0\\x8aR\\xc0\\xea\\xc0\\x17\\x1b\\xfe(\\t\\x93[F\\xbd\\x04{0/\\x08zJ<\"{\\xfd\\xafr)fi\\xb0\\xf52l\\xd0\\x80\\xde6v\\x8fa\\xeaw:F\\xe0]\\x0bC\\xdcA\\xa9F\\x83\\xdb\\xe1\\xc1\\xcaV[#\\xf0\\xe4P\\xad\\xda\\xdf\\x1c\\x9e\\xa0\\xf9]\\x1a\\xf4\\x11\\x19B{-\\xb0\\x1b%#=\\xd2(\\x94\\xe8\\xa0\\xfbZ\\x01\\xb4e\\x00f6\\x1b\\xe8Xgj\\x12\\xe6\\x06\\xcc4\\x89\\x86\\xf0@\\xcd\\xd3\\xdf\\xe4\\x98\\x0b6\\xb6\\xa5\\x0c\\x16D\\xad\\xb6a\\n\\xf3\\xc6 \\xcc\\x19\\xeb\\x9b\\xef\\x08l`\\xa4\\x86H\\xe0A\\x8fsl\\x83m\\xeaY\\':%\\xa7KA\\xe0.\\xc3\\xde\\xd1\\x956\\x8c\\xa0\\xf5\\x96\\xb4w\\xf0?\\x9d\\xd1\\xfb\\xb5\\xac\\x97ZK/\\xda\\x84\\x88\\xc0\\xc7K\\x1e\\xf6\\x82\\xcf\\xdc\\xd8\\x83_\\xc2\\xb0&\\xa2na\"\\xf4S\\x9d\\x8a\\x90\\xfbIf0DLR\\x1e]\\x8a(\\xd9\\x85}\\xb8\\xb5_\\xc4\\xf1R\\nO<\\xf0\\x81\\x85\\x84M\\x95\\n\\x94p\\x86\\xaa!\\xd1z\\xca\\xe1-\\xbe\\xc9D\\n\\x81\\xd4b\\x92\\xb2\",\\xde\\xf1\\xcf6}\\x16\\xf6y-T\\xa3(\\x9a3n\\xa9)g\\xe3\\xbc\\xceo\\xe2\\x87d\\x98\\xc6\\x1dp\\xfd\\x9a\\xff,\\x05K\\x9af\\xc5\\xfa\\x888q|,\\xbc\\xcfW\\x170y\\x82l\\xde\\xb6\\xa5\\xc7\\xc9\\xe5Rjb\\x0b\\xd1=\\'\\x8c\\xa3\\xb8\\xe3M\\xffq\\\\\\xb7D#<\\xe3t\\xfdd\\x88\\xa0\\x02\\xbe\\xa6\\x8f\\xa0\\x00\\x9a\\xdc\\x94r\\xbe\\xbf1$f\\xbc\\xdbt\\x18j\\x19\\xa3h\\xb18>\\x9a\\xa4\\xd2J\\x18<\\x02\\x01\\x1e\\x01\\x86!\\x04FW]\\xc8\\xc64\\x1c*\\xbe\\x90\\x03\\xe3O\\'\\xfd\\xcc*\\x10\\x1bY\\xbf\\x90\\xbc\\xc9]\\xed\\x04\\xe0\\x15\\x889V\\x99\\xd7\\xb5ZuK\\x84\\xb2\\xc6\\xa2\\x8a\\xbc\\xd5\\x0eu)\\r\\xd7\\xb3\\xe7\\x89\\x17\\x01\\x802\\x17\\xcc\\x99\\x86\\xb2\\xcao\\x80X\\x0f\\xf0\\x8a^\\xf2\\x05\\xec\\xaaA\\x85\\x1f\\xfa\\xde~\\xcdv\\xf3\\xc3\\x00\\xb8\\xdfX\\x94+\\xba\\xe0C\\xd1\\x1f[\\x88g\\xe69\\xaf*\\x8c\\x15\\xa7\\xb2\\xd0\\xe9\\xe5\\x8f\\x90\\xac\\xb7\\x00\\x15\\x9e\\xf6A\\xca\\xc3\\xf39\\xb2.\\xa2\\xed\\xfa\\xdc\\x8b\\xaf\\x94T\"m?\\x1c\\xcc\\x9d\\xcc\\xaf\\xf3\\xd8\\xac%\\n\\xb5DG\\xd7\\xd8[e\\xae\\xed\\xad\\x06\\x1f\\x99r~\\x10\\xa9Es\\x93\\x84\\x84\\xac)B\\xc4\\x8c\\xb3\\xfb\\xc08\\x0f\\'fJ7X\\x89\\xa4\\xaau\\x90\\'q\\xed\\xb4\\x7f-\\xf1U\\xb4\\xf5A\\x89H\\xd7\\xd4\\xa2C/\\x93\\x97\\x93\\x0f\\xbf\\xab+\\xb8@%\\xb6\\xccA7\\xf1\\xb0\\xcbE#8\\x10\\xc6\\x12\\x8b\\xe4CA:\\x96\\xed\\xe8m\\xc5\\xc029}\\n\\xb3\\xc8s\\rb\\x03\\x0b\\x91\\xd6@\\xeeN\\xe2T\\x83\\xf3\\xbf\\xc6E\\xcdS\\x04\\xf5\\xba\\\\\\x87[}\\x8ce6\\xdfs-\\xd1\\xc0\\x8a\\xec\\xdd\\xbc\\x13\\xe7B\\x8c8\\xef\\xaa)\\xa2\\xc6]P\\rP2c\\x8cL\\x81\\xac\\x01\\xc8\\x8d\\xca\\xc4*C\\xfb\\xf0\\x8e\\x99\\xaf7\\xd3.1I\\\\U\\xa8=\\x0e<\\xbd\\xdf\\xf9W\\t\\x14D\\x8b\\xb5\\xb7D\\xcd^ \\xf8>D\\xaa\\x0c\\xcb8\\xc4O\\xf3X\\xd9\\\\c\\x16\\x8a\\xa0\\n\\x86\\xb8ys\\x05:\\x0fI!\\xc39%\\xfe@\\x7feK\\xcd\\xcc8\\xa1>y\\xf2\\t:4\\x18\\xf2\\xd6\\x851\\x95T\\xd0Kz\\xb0\\xed\\x8eMO\\xce\\xac\\xa7i{\\xe4\\x10\\xe7\\x8aP\\xfbJi\\x13\"\\xcf\\x93\\x7fx\\xaf!\\xb7\\x13T\\xa3[$\\x86r\\xe66\\x8e9\\x0e\\xf2\\xcb-\\xba\\x15\\x9b L\\x15sn\\x86A{\\xb8mj5\\xb6\\x8fa\\xad\\xf0\\xcd\\xd8\\x8b\\xc3\\xf0\\x8bx\\x1bE\\x8dkC\\x9eg\\x1f\\xe6\\xb4\\x00\\x98\\xd3\\xef=\\xcc\\xfcW\\x12U\\xe9\\xe7\\x8f\\x0f4\\xc33\\xbe\\xf7z\\xe6\\x0e\\xf7\\x99\\xfe\\xf4\\x11s\\x8b\"`\\xab\\xb8y\\x9a\\x12\\x18\\xe6,\\x85UP\\xb31\\xe3\\xe8\\xe7b\\xb1T\\x94\\x07\\xde\\x84\\xbd\\xd3\\x0b\\x9e\\x9cI\\xab\\xfd\\r*\\xcb2g\\xa9\\x13c6\\'\\xfd\\x8e\\x16?\\xa4\\x87D\\x89X$r\\xd2\\x8a/\\xadQ\\xbb\\x0foT\\x8b\\xbeq\\x89a\\x12%{\\x91\\xe8\\xa6I\\xc6\\xf5\\xf9\\x1a6\\xeb\\xfa\\x1b\\xbfG2~\\xa3\\t\\x97\\xc9\\x9e;\\x11[\\xab\\xbb,[IqTkQ%\\x9fU\\x84G\"B2iL\\xc8(\\xd3\\x84\\xb1\\xa4IQh\\xc3\\xafO\\xa3Fn\\xc0\\x837\\x167\\xf3\\xb5\\x07\\xaa\\r\\x8fE\\xa9\\xf7\\xc2\\xc0\\xcc\\xde\\xb2z\\xd2\\xec\\xbd\\xbc\\x14R\\x08yV\\xa4\\xc5\\xef\"EEk\\x0c3\\xdcSE\\x10E\\x17g62\\x15\\x17\\x02\\xe9\\xdcj\\xb3@\\x8f\\x93\\xe7\\xf1\\xa3-Hs\\xbf\\xd38\\x92R\\xd0\\x19\\x01\\x85U\\xf6YSZ\\xff\\xd5\\x85\\xd3i\\xcb\\'\\x92\\xcb\\xd7\\x1a\\xbf\\xb0\\xd83\\x19U\\x84\\x86\\xf8S\\xfe0\\x97\"\\x08\\xbd\\xdf\\x08\\x82\\xe6\\xe8\\x99\\x1d\\n\\xc5\\x80\\x9a\\xf4\\xe63[U4b\\x16N\\x95\\x89P\\x96\\xf9K\\xb6\\xce\\xd7\\x9c5kV\\xeb^8\\x01\\x98\\xf4\\xa9Yv\\xa4\\xbf\\x80\\x10O\\x95\\x00\\x00\\xee\\xf7\\xe2\\x87\\xcc\\x97\\x9b\\xaa\\xc7\\xdf\\x8f\\x0b\\xd3\\x80^\\x12\\xf8\\xcc&\\x95*y%\\'\\xf4\\xa2\\x8d\\x9b u\\xab\\xbc\\x9b\\x88\\x00C\\xf1R\\xdc\\xf2\\x90\\xd7\\x147\\x9bs\\xb2\\x16&\\x03\\xf7\\xfd\\xea=81:\\xd9v\\xa3\\x183TM\\x8b\\xd1\\xb9e\\xd2\"X\\x9c\\xea\\x189\\xe0\\xd7\\xa7U\\xa5\\x92\\x1dR\\xf3\\x8c\\xd65o\\x9d\\x1b\\xb8\\xfa\\xbb\\xa1i\\x02m\\xf9C\\'/\\x039+k\\xfb\\xc7$\\xbc.MS\\x12rQ\\x81?\\x9ag;\\x84\\xb6t\\x9e\\xcd,\\x01\\xcbz\\xf8\\x80)m\\x0f\\x15\\xdb\\x1d\\x149\\x8c^\\xf7\\xf7A&&s\\xb8-9M\\x1a9z\\xbd~\\xf6\\xfc\\xec\\xfdS\\x89\\xcd\\xe3\\x1b\\xa9\\x18Q\\x96T\\xa8\\x91\\xcf +3K\\x0cK\\xd9K^?\\xac\\xb5\\xba\\xed\\x9f\\x8b+\\xee\\x90\\xfeh\\xba\\xe6(\\xbd\\xc0H+\\xa3|\\xee\\x8d\\x96o\\xaa\\x8c\\xa7\\xcf\\x81y[\\x10\\x17\\x16\\xe5\\xfe\\xfb\\x85\\xf0V\\xb8$|C}\\\\\\xc3\\xed\\x1f\\x90\\x1a\\x04m\\xe1\\xedW\\xc9W\\xd9/\\xc7?\\x13cQ\\x08\\x9d\\x11\\xd5\\xc2\\xa8\\xa4\\x0fT\\xc8\\x0c~\\x816W\\xa7\\x16*\\xf4\\x1c\\xc9S\\x04\\xb3\\xedJ$A\\x1d\\x95\\xf4\\xee\\xab\\x13\\x1b{\\xe5\\x05\\xceK\\xdb\\xa6:\\xf7\\xfb\\x0f\\xb8(\\xd6n\\xe6o\\x1f\\xb0\\xb1\\xa3a\\x8c%\\xac\\x19;\\xcf\\x11\\xfe\\xe1\\xbf\\xbe\\xc4#V\\xa6\\xa5\\xddnT\\x88\\t\\x10\"\\x17\\x18`\\x85\\xae\\x95\\xb9<M\\x10u\\xd7\\xcc\\x9c<\\xef\\x9aE\\x1a\\xd3\\x82`\\x1e\\xc0\\xces/\\xdf;\\xb5=\\xe5u\\xcfS\\xd8\\x1d\\x19u\\x9f\\xba\\x88B\\x81\\r\\x1c\\xb4\\x8e\\x80\\xc3&\\xd2\\x9f[\\xb0\\xfew\\xb9\\xba4\\xcd\\x80\\xda w(\\xee\\x0e \\t\\xd0\\x90>\\x7f9\\xf6\\xfdD\\xc5\\xd2\\x9d\\xc7\\xcb^2\\x99I(\\xf2M\\xe6\\xfa\\xc1U\\xdew\\xd8\\xec\\x9aF\\xe9+ILO\\xbf\\xfck\\xf3\\xca1\\xef&\\x14%\\x9a8\\xe7\\x13Z\\x10\\xaa\\xd8\\x93\\x98Sy\\x9c\\xf5zU\\xb3!\\xe2\\xf8m\\xbc,\\x8cY^\\x7f\\xe4\\xb9X\\xb4\\xdf\\x0ci[\\x84\\xda\\x7f\\xbe\\x12\\x88/\\xab\\xe7\\xa5\\xff\\xbf\\xcc\\xf7\\xcc\\x96\\xe0[!\\xafSM\\x95,\\xba,\\x96\\x91\\xf6\\x82\\xaaRgpn\\x04\\xa1\\x14\\xa6\\x83|9\\xe88\\x7f\\xb3*\\x92O<\\xa7\\xb1\\xad\\xb3\\xbc#F\\x86\\xf6\\xe4c[\\t\\'~\\xdf\\xf8\\x9e\\xae\\x00\\xd4tW\\x9c\\xf04\\xb0f6C\\xb0\\xe3\\xf2\\xf2\\x86\\\\\\x16F\\xd6t\\xb8\\xdd\\xc9v\\x08WJ\\x9eg\\x11V\\x9b\\xca\\x8ede\\xcb\\xf1\\xd6NHr.\\x02G\\x02V\\xa8\\x0f8\\xb1m\\xaa{\\x8f/e\\x01\\xf5\\xcb\\xf7\\x83C\\xd7\\xaa:\\x1e\\x9crnH.\\xfd\\x0c\\xf8\\xcf\\xb9\\xebe.*\\xa5\\x9f|Oh\\xe5\\xd3\\x1bvF\\xd7J\\x83\\xe7r\\xa2\\xe1\\x9c\\xe3\\xfa\\xc4\\x14\\xa9)\\x8e\\x86\\x1f\\xaa\\x03MdM-S\\xa1\\x86\\xe0\\xc9Sf\\x96\\xa3S\\xcc,\\xad`\\x92\\xf7\\xe6\\x89\\xcbS\\xc5W\\xdd\\x10\\x95\\xc8\\x1d\\x86%$\\x0c\\x11\\xd9hA\\x90ej\\xe0\\x04m\\xae\\xdfq\\\\\\x14\\xc2\\xf5\\xcd\\x1b\\xb0\\x8a\\x99\\xadO\\x8bK\\xf0\\xa9\\xe8\\xfb\\xdc\\x12\\x96\\xd6\\t\\xd6ME63YJ(D\\x81\\xe0y\\x90\\xfc9`\\xec}U\\xbf\\x85\\x86\\xbbj\\xef\\xcb\\x1c\\xdcA\\xfe\\n\\x17\\x08U\\x1e\\xab%qfz\\xa4\\x981zbc\\xcc\\xb4VI[\\xe2\\x88p=\\xbc2\\x8c\\xff\\x03X\\x83i\\xc9[\\xe32\\xa2\\xe4\\x8f\\x7fD\\xd1\\x15]}\\x99\\xc3\\xcd\\xa4\\xe1\\x01\\xdf\\xef\\x0cs\\x8d\\xcbw\\xc4!\\xfe^T\\xa7\\xe3h0<\\xef~0R\\x05\\xd9\\xcfx\\x95\\xf7\\x1b\\x93P\\xba\\x17\\xfanj\\x95\\x8c\\xf3\\xaf2\\x0445\\xe4\\xb9\\xe7\\xb1\\xb3\\xc9@\\xc6\\xaf\\xd2c@\\xd6\\xc4\\xd8{\\x83\\xc6\\xb3\\xb4\\xef:mxD$\\xaf\\xb5;\\x9es\\x9f\\xb9\\xb7\\xf3\\xa8\\x10\\xd8\\x14\\xc5W\\xfc\\x0e\\\\u\\x9b\\xd1$\\x92\\xf9\\x01\\xcd\\xee\\xf7\\x9dLI\\xb2\\x19M\\xb8\\x13`\\xbd\\x9eN\\xe7Y(iA\\x89\\xad}!\\xf6\\x87%\\x0e\\x95\\x1cN:\\xfb\\xd5\\xdbd\\x85\\x8a\\xca\\x1aT\\xd7\\x89\\xfb\\xd3\\x84}\\xcf\\xa7\\xed\\x17\\xc1\\xd2Ti\\x18\\x97@\\xde\"\\xb52-S\\x96@\\xd6u\\x10\\x962\\xb4\\xed\\x97\\xd2HK\"\\x1d\\x13\\xb0 \\x94\\x13\\x9f\\x19\\x0e\\xffVDZ\\xc8\\x8f\\xc5\\xe8\\xee\\x94\\xa6\\xd5\\xae\\xcer\\x8d\\xcf-\\xeeV\\xc6 \\x96\\xadb\\xf4Vp\\x82V\\x83\\xfd\\x88\\xd6\\xd5\\xf4\\xe4h\\xe5\\xb4s\\xbc\\xfc\\x9b-[9l[Qn_-\\xd9C\\x16z\\xab\\xdf\\x83\\xed6\\x04\\'\\x15rpni\\x87\\xb9\\xaf\\x01s\\x1e\\x8f\\xef\\xfe4T\\xd6\\xd0\\xd1H\\xd6\\xf3u\\xf7r,\\xa4\\xd1\\xc2\\xefs\\xd2\\x8bpn>\\x7fXA\\xa6i\\x05z\\xc8X\\xf7\\x7f\\x80\\xa7&V=\\xd6\\xebX \\xd4\\xc3\\xc1\\x0e\\xceU\\x88\\xa6X\\x03\\xc7V\\xd1p)(C\\xbb^A\\x9f\\x08\\xa7\\x8f\\x9a\\xa2\\x90\\xf8\\xd6\\x13\\xc5\\xfa7`]a\\xeb\\xb8\\xe3\\xa2\\x17\\xb0\\x878\\x18W\\xb5\\x08\\xf9x\\xeb\\xcbW7\\xf5v^A\\x80&\\xa4\\x08,\\x92\\x00\\xca\\xf5\\xcd\\xb1\\xbcxln\\xc3\\xdeM\\xa9\\xec\\xa1u\\xa8\\x1d\\xb4X\\x85\\xef\\xa8=\\xe4\\xadX>{\\x05&\\x13\\x9aP\\x0b4\\xa3!JM\\xc5\\xdb\\xe3\\xc0\\xe7\\xb6 i\\x90\\xcd\\\\\\x8ev\\xc7U\\xe3\\xa1g\\x1c\\xcf\\x8d\\x80\\xe6\\xd6\\xcf\\xbeOx\\xbfa\\xc3\\xbf\\xf0]nWD\\xac\\xfe\\xaa\\x9c\\xb1\\x92put,\\xfb\\x8a\\x00&\\xef\\xf9\\xc0\\xdf\\x03\\xbe\\xeb\\x1f\\x08\\xb7e\\xa7g\\xed\\x01\\xcbb\\xa6\\x0e\\xd0g\\x91Z\\x13\\xbd\\x96k+K\\xa5\\xe7\\x97\\xce7\\xdc\\x10\\x0c\\x9d5K\\xe6\\xd4\\x1b,\\xe5\\x87\\xaa]\\n\\xf1\\xfa4{\\xd9\\xe4\\xf2R\\xc5\\xb3r{#r\\xac?e\\xbe3\\x94\\x9d*\\xad1\\x04\\xa9\\xb0\\xd3\\x14\\xf0\\xbe\\xd0\\xde\\xf1\\xe1\\xb4\\x06\\x99\\xbdN\\xed\\xdd4q\\xbb\\xeeW\\xec\\x05\\t\\xb2X\\xdf\\x9a\\xb6\\xe1\\x87\\xf2\\x1b4\\xa1Ul\"\\xcf\\xd0XQ\\x9d\\xfe\\xa4Z\\x97\\n\\xb5\\xb8P\\xf7\\xb1F\\xef\\xf0\\xa2\\n\\x00\\x16/\\x94\\xbbLk\\xd3\\xb5,;\\r1C\\xe0\\xcdO\\xb4\\xea\\x0bT}\\x0c\\xfa\\x9a\\xcd%aKo\\x01]\\xa0\\xce\\xcd\\xe6\\xab<\\x0b\\xdb\\xf5C\\xd9\\x14\\xecB\\x0cG\\xbeg\\xd6\\xe8\\x1d\\xe1\\x96^\\xfb\\x06\\xbe\\xd7\\x01\\xd8S\\xc5\\x03DCjrR\\x10\\x8e\\xad[p\\xa4\\xb2+\\x0e\\x93\\rX\\x10^\\xeb\\xcfF:\\xa2\\xeb\\xf5\\x9c\\x9e\\xbc0\\xc1\\x1d\\xffFC\\xf2\\x06\\xe0\\x82D\\xc0q\\xb1\\xf8\\x81\\xab\\xbd\\x88\\x8b[mJ\\xf9\\xf1\\xb92\\xb0\\xd6\\xdcX\\xf5\\xce\\x14\\xeap.\\xb9_]\\xd8\\xe6\\xd9?\\xf6\\x9ce\\xbd\\xc0\\x17\\xf4W\\x05\\xdfZu!\\\\\\xc5\\x97#\\x88\\xf1\\t\\xc1Ah\\xb0\\xbb\\x1b\\xaa\\xeb\\xda\\x0c\\xf31\\x9c\\xbd\\x8bi\\x82\\xe8^\\xbe\\xeb\\xad\\xfe\\xcd\\x01n\\xbf\\x84\\xec\\x97\\r\\x00Mju+\\xa1\\x91\\x83N\\x85\\xfbVE\\xa1\\x97\\xff\\xe8\\x13K\\xdf\\x033N\\xda\\x8f\\x81W\\x15\\xb5\\xb1\\xd8\\xcf^qm\\xb8\\x1fh#\\xfa\\x9c]\\xd9\\x07N\\x7f\\xd19\\x13\\x1fO\\xf3\\x89\\x8f\\x8dK\\x1c\\xf1\\xf9\\x97\\xfc\\xdfO\\x11\\xcd\\x0f\\x9eV--\\xcb\\x071-\\xbc\\xce\\x19\\xd5\\x0b\\x04u\\xdc\\xef)f\\xe0\\xa9z\\xb1\\x12\\xd1Lg\\x99B\\x8c\\xa2^\\x14\\x16\\xb1\\xc5\\\\\\xa9U\\xd8\\xee\\x0b\\xf7\\ro\\xb0nj6\\x7f8^\\xd5b@\\x18\\xf2\\xaaWL\\xcfjt4Q\\x8b\\xd3\\x9aY\\xa0\\xc5B(\\r\\xf1\\x1ayT\\xcav&\\xb0\\xb4\\xe3[\\xd9\\xf2\\x83\\xca@;{\\x9e2\\xd8\\xfaV\\rA.\\x97\\x88b\\xdc\\xc2\\x05f\\xdeFV6\\x12T\\xf4>53\\xc9\\xd7\\xa2\\x8e\\xa1\\xeb\\x84\\xae\\xe3\\x12\\xfa{\\x96\\xd5\\xb4~\\xcaBo\\x94\\xfb\\xe5O\\xca?\\x90\\\\\\xe1;\\x06/\\x85l\\xde17P\\xaa\\xef\\x0e\\x14\\xf2\\xafc\\x86{\\xfb\\xa0\\x92\\xaa\\xb3\\x97\\xfa}V\"\\x1a\\xf8\\xa0x\\x96K\\xa9\\xc6\\xed.b\\x8f\\x17#\\x81l.\\xc0C\\x16\\x90q\\x93\\xec\\xbb\\xbb\\xafF\\xc5\\xa96\\x1bL\\x10y8\\xeb5\\xe0\\xfa\\xea\\xdd\\x01\\x9b\\n\\x7fn\\x81z\\xed\\xc2\\xebC1\\xe10.y\\x0cj\\x1d\\x11\\x92@X}@_\\x0bI \\xe6\\xf7\\xa6\\xfb\\xe4\\x843\\x9e\\x05\\xc8F\\x06C\\x0c\\x16\\xfd D\\xb7\\x14aLn\\x1aM\\x1a\\xe1OVL\\xe6\\xa0\\x86\\x15\\xa4\\xad\\x10\\xdf`\\xca\\x10)\\x04\\x17\\xc8\\xda\\x16\\xf6z\\x00\\x9e\\x16\\xd8\\x14f\\xb5\\tJu\\xbf\\xdb\\xe9~\\x05\\xc0\\xab%\\x7f\\xee\\xcf\\x97\\xb92\\xdf\\x8dC!9+\\xd2\\xc6x\\xda\\x8f\\xc6H\\x9a\\xf4]\\xe1`m\\xe6-\\xbd\\x83\\xd4\\x7f\\xadF\\x0b\\xbfB\\x02N\\xac{HP\\x08h)-H\\xb1\\xcd\\x1d\\xc3\\xc58\\xa4\\x81\\xe8\\xd9\\x89+\\xa7\\xc2\\xd8`\\x9b\\xae\\xd7p\\x1f\\xaf\\xe8C\\x16\\x8edb\\x17|\\xa7[\\xa2\\x8f\\x11`\\xfei\\'\\xf2;\\xd5x\\xcfAi\\xaa\\xa9]\\xea\\xdd\\xc8*o\\xbeqH\\x01\\xb1\\x0c\\xcd\\\\\\x8d\\x82\\xd8\\x16\\x99\\xbc\\xad\\xf9/\\xa1\\x1cv\\x18Z\\x11\\x1a,\\xa01\\xdb\\xfe\\x9d\\x9c\\xefF\\x14Q\\xa3\\x87+\\x90\\x04\\xb5\\xed\\x02\\xfd\\x99\\xfc\\x93\\xde\\x91\\x96\\x80C\\xdd\\x8an?<\\x89\\x1dm\\x99\\xcf\\xb1Xl\\x88\\'[g\\xc0\\xdc\\x96Q\\xd1\\x9b\\x0e3b\\x14[Z\\xd3\\x02\\x1b\\xc4\\x86\\xbe\\xb8\\xad\\xdc\\xb5i\\xaak\\x17\\x9f~<\\xf2~ip\\xbc\\x7f\\x8e\\x9bs\\xc9\\\\\\x1b+6\\xad\\xf3KW\\xb2\\x19\\xd2\\xdezqL\\x977\\xd4\\xfa\\x80\\xd0\\xd1\\x1a|\\xaa\\xb8\\xc8\\xd6U\\x96,,:\\x08<$\\xea\\\\\\x02\\xbb\\xee\\xf8\\xbf`\\xa5 \\xb4\\xe7j\\x8f\\x13p\\xdd\\xe8#\\x13\\xba\\x812\\x10Y\\x11O[\\x1cf\\xd3\\xec-\\x12VO\\xb1\\x9c\\xf1%0t\\xc0T\\x0f\\x9fw\\x1d\\x13\\xaf\\xa1E\\x9b\\xea\\x16\\x84\\xf8\\xb1\\x18\\xc5R\\xb3\\xa5k\\xca\\x0f\\xb5.[s%\\xeb\\xf0\\x1d)\\xe5\\x96]/\\xc2!\\xc9\\xe2k\\xe0\\'\\x03\\x8c\\x91\\xf31\\xf1]\\xb3j\\x93l\\x8e\\xea\\xbfH(\\xd6T\\xfa\\x83PJ\\xf6\\x16:\\x17uY\\xb0\\x0e,\\xe7A\\x91\\x98\\x13\\x0b\\xad\\x02$Y\\xe8O\\xf6w\\xee\\xd7y5\\xed\\xe6\\x97\\xc6|\\x16\\x06\\xce\\xe59\\xdb\\xccw0\\xf7\\xb8\\xf4\\x86t\\x0b[\\xa8\\xa86wVkJ3\\x11\\x88\\xdcx\\xb2\\xdc|\\xdc\\x16\\xe5\\x96\\xf4\\x05\\x82\\xbf1\\xa9\\xdf\\xa5\\xd9\\xb6\\xdc\\xb3\\x00q5\\xcd\\xb1\\xfc\\xb1\\xb4raa\\x98M;\\x91U\\x8f\\x03=\\xb0\\xaaVSqaL\\xb0d6\\xa2\\xa0\\'d\\xd1s\\xa3\\xe5\\xc3\\xb2F,\\x01U]f\\n\\xdd\\xc7\\xba\\xf4\\xc0\\xc8=\\xa7E\\xe2\\xc4yD\\xac*\\x8f\\xb2\\xd4l\\x83\\x10g\\x15\\xd7\\x96\\t\\n\\xdf&\\xd7\\x0b\\xd0\\x99\\xb4\\xcdZ#\\x0c\\xf3\\xad\\xa8\\x08\\xbf%h|\\xbeL\\xff\\x1c\\xc4\\xec\\xa61\\x01\\xbc\\x8fW?\\xba\\xcc97\\xd6g3~\\xd3:\\xe5b\\xea\\x95\\xa4\\xd2y\\x9e \\x9a\\xc3\\xcd\\x8d@\\xf7\\x12yX\\xd4b\\'\\x0f\\x96\\xbaZ\\xe5\\xc5\\xcc\\xd3\\x89\\xe4\\x8cw\\x8d*\\xa4z\\xbd\\x13\\xc4\\x83\\x8b\\x06\\x9b\\x06\\xaf\\x07\\x9a\\xa8\\xc6\\xb7\\xee\\xeeM\\xe3rN\\xaa\\xd6c\\xc7\\x12\\xb3N\\xa2\\xa02\\x87\\xf3\"4\\x88\\xdd\\x9b\\xda\\x00aL\\x8a\\'\\xf6\\x17|\\x12\\xc6\\xeeV\\xe7\\x8bS\\xd0\\xa4k\\xfb\\x16p\\x9a\\xe6\\xfe]o\\x8e:\\xf7d\\x04\\xb5\\xb6\\x9bOk\\x9eU\\xc7\\xe4\\xee\\xfd\\xb3\\xd55mr\\xfc\\x0eW\\\\\\x1c\\xfb\\x18\\xada)\\xabB7\\rg\\x02\\x9e\\xb7l=\\xfc\\xba\\xf5gm\\xc30?\\x8c#\\xb1\\xc2W\\xbeB\\x15`\\nkl1\\xb4rh\\x0e\\xcb\\xf5\\xa1/\\x0c\\x167\\x89X\\xd3\\xe8O\\x01\\x06\\xa1,\\x82(y\\xa2\\xf5\\xf5+\\xf1c\\xfd\\tY\\x8e\\x0eX\\xc5\\xd0\\x1aM\\x01\\x8aBD\\x85&\\xe0{\\x87\\xa0Y\\xe5jEG#\\xa7\\x84\\xa4\\xb4)\\xb1\\x87,\\xc6\\xd2}\\x9f{\\xf4\\xee\\xd4\\xbf\\x0b\\xc4\\xbch|\\xef\\xc2f^\\x1a\\xc2\\x1c_\\xfc\\xc3\\xd0\\xa2@\\xd0\\x19@\\xb0J\\xa6\\x98\\x1a\\xae*\\xf5\\x1c\\xc73\\x0f\\x0b\\x11\\xe5\\x89:\\x1eU\\xaa\\x8a\\x90[0\\x89>\\xfd\\xf07?\\x8c.d\\xad\\xbb\\xcd\\xbaL\\x9d\"\\x8f\\x07\\xc6\\x9f\\x1b\\x13\\xa4~s?\\xf4Cb!\\x13\\x16\\xe5\\xc5)C\\\\\\x1d\\xb1\\xf5\\xa7\\x1dY\\x0c_\\xe7\\x8d|\\x91\\xffs\\x1d\\x97\\x9b\\x98\\xd1?Y\\xe2\\xa0i*a\\x9e\\xed\\xd5\\xc4\\x86\\xeb\\xde\\xde\\xa2>\\xe9t\\xf9\\xb9g\\x13\\xcd\\xb19\\x8c-\\xa7\\x81RZQ\\xc9\\xea\\xd1\\xc3\\x12 37\\xb8x\\xd4\\x1f/\\xd2T\\xda\\xe6%\\x9b\\xcfl\\xf8\\x9b\\x9f \\xd7\\xe4#w\\xbd?\\x86\\xdfe\\x08G*\".\\xe8\\x8c\\xbb0\\xd2&a\\x13\\x10\"|\\xa9\\xf6V\\x81\\xae2W\\x8a\\xb5\\x91\\xa9\\xdc\\xcb\\xf8w\\xc2\\x13\\xdct\\x84[\\x07\\x86\\xcc\\xe5ST\\x1e\\xba\\xa0\\xd2\\x85\\xfa\\xbe\\xf4\\xddb\\x01\\xf1*\\xde\\x1f\\xef\\x85\\x1b\\x8f9VE\\x95)?\\x14\\x84\\x9e\\x14\\x95\\xd7D\\xae<\\xc8\\x8e\\xf9\\x04h\\xa4\\x19\\x15}itg\\xe7\\xf8n\\xaeu\\xd1\\xd20\\xabx\\x83^\\x16\\xc5u\\xe4\\xcc\\r:\\x01K.=\\xde\\xb4/[\\xdan\\x1bO1\\x80\\x85\\x98\\xf2\\xc8\\x92g=/s\\x9c<UaUP\\n\\xe4\\x15!\\xe0{)\\x88\\xa3\\xf8\\xec\\x87\\x9a\\xb9\\xb6\\x87\\x88\\xbc\\x89\\xb7il\\x03\\x8e\\xa4\\xfbYAK|\\x81\\xecpE\\xd0\\xd1k\\x89\\x12\\x1a\\xebd\\'\\xa3\\xa0\\x1a^%\\x86\\xae=z\\xe9\\xfd\\\\\\xde`U\\x99\\xda\\xbdF\\xc1\\x1b\\xbb\\x9ac\\x1bdBJr\\xd4\\xe7\\xed\\x82\\xa2\\xc2\"\\xcd\\xfd\\xf0p\\xa4qU\\xb4|*\"wN\\x16>\\xba_\\xfb\\xf4x0\\xf6\\x06B\\xce\\x9f\\xbf^=Z\\xb0\"\\x94N\\x01\\xa2\\xf5bt\\xcf\\xdc\\xdc\\x9f\\xaf\\xd6\\xb1\\xadGp\\xf0p2\\x88\\xa1\\xa3\\xf1\\xdc+-X\\xfd\\xc9(\\xa8,QbVRa\\x08\\xa3\\x1ceD\\xe0\"\\xd6Tp\\x98\\x07~\\xed7\\x8f\\xaf\\xcb\\xdb\\xb6\\x1f\\x0f\\xad\\x0c\\x01\\x87\\'J\\xd4\\xbcv\\xabBeR\\xef\\xb5\\x1b\\xce\\xb0rPK\\xe9^\\x0f\\x85\\xdf5\\xddL7\\x03\\xe7\\xae\\xebu\\xe5\\x16\\x84\\x19\\xb0\\xfb\\xfc\\x87j\\x9cs\\xd3w\\x95\\x10\\x9c\\x98\\x8e}\\x97\\x98\\xb8\\x90\\xc0\\xb5\\x9aT\\tL\\x99{\\x1a\\xef\\x8c\\x17\\x8ah\\xca\\x84y\\xf7P\\xf9\\x83\\xbc\\xf4Y\\xe33\\xd5\\x9a\\xd7\\x0fHA\\x9d$\\x9c\\xb8\\x9eouQ\\xc7L\\xf9\\xac8 \\xee\\xe7\\xaa@\\xf8\\xbeE\\xeb\\x8b\\x06\\xc2\\x86\\x9d`\\xb8\\xdco*/\\x19\\xac\\xf6\\xa79\\xdc\\xe9+\\xb2\\x91\\x8cD\\xb0\\x96E\\xe8\\x02\\x85\\xe3\\x11-H\\x94\\xc0\\xa6B\\xaf\\xdd\\xc9|\\xbber\\xfd\\x8e\\x9f\\xcbV0\\xa6M$\\xa6\\x86\\t\\xbb\\xb8\\x8f\\x058\\xd1\\xeb\\x9ac\\xb8\\x86#N\\xcdc:\\x81Xo\\xff\\xe0\\x0e\\xa1\\xfdB\\xf4\\xc3\\xa9n\\x7f\\xff\\xb2i\\xf6\\xd6\\xaf\\x1e\\xc8\\xc9\\x9c$\\t\\xa4G\\xfa\\x054\\xfd\\xe0\\x80\\x0ckVE\\xe3\\xd3\\xf7d\\xb8\\xa3\\x13C\\x17\\x9fJd\\xe2\\x16E.\\xe9\\x05\\xd0*!>l:\\xf0\\xfe\\x9d\\xd1<\\x84m\\x06kN\\xb1\\x80J\\x1fU\\x17\\xcb\\x0b%/s\\x9bMzO\\xfa\\xe6.B\\xe5\\xec\\x1fm\\xb1\\x8e8\\xe5\\xe4TxS\\xe2\\xbe<\\x19\\x1d.b\\'\\xa3\\xbaC\\xeb)j+\\xe0\\x9ak\\x90D;\\x01\\xdd\\xd2\\x13uV\\x96\\xbe\\xa9y\\xc1\\xe2^e<\\xb5\\xdfre\\xb1r0\\xb6x\\x1e\\x1e\\x02|\\x05\\xeej\\xcd\\x99\\xed\\xb02=\\'9P\\x05\\xe8S\\x95\\t\\x99o}\\xd4\\x0e\\xee\\xacYJ\\x8c\\xe2\\xc3\\xf6\\xce\\n[<\\x82^\\x9e\\x0ee\\x95%q\\xc0\\x98Pc\\xc9\\xe9\\xafY-\\xd4\\xc4\\xb0KS\\xbe\\t\"f+\\xaf\\x83Nb\\x83\\xf8{\\n\\x83\\xa9\\x93\\x86\\x18\\xef\\xda\\xbd9\\x8dOv\\x7f\\x854\\xc5\\xe7\\x0e\\xfa+\\x84m\\x15b\\x1d1T\\x08)\\xaaTF\\x8aIx\\xae\\x1b\\x7f\\x17\\x97(\\xed\\xf2\\x83\\xcby\\x1b\\r}\\xb8U7\\x829\\x9cb0\\xc8]d\\xf4\\xb5\\xf1\\x85\\xdb\\xb8\\x92Z=\\x9e\\xb6M\\xd5\\x0f\\xfb=\\xdfk\\x94\\x9a\\xc6\\xcf\\x161\\xa9\\xbf\\xec\\xf5\\xbc,\\x10[!I\\x16M\\x00\\xb4\\xb7\\x13\\xab<\\xf6\\x7f\\xcd\\xc3\\x8d\\xc5\\xdd\\x19\\t\\x9b\\x18u\\x99\\xce\\xca=\\x96\\xb9|)\\xcb\\xa7\\xca\\xdb\\xe7\\xcf\\xce?5\\x15\\xd4\\x8b\\x96\\x9e+g|<\\xed\\xa1.v4/\\x0e\\xc2\\xaa\\x08-\\x0b\\x9a\\x82Q\\xfbt\\xf3\\xece\\xcf\"C\\x9b\\xd7\\x17\\xb7q\\x0f\\xf7=\\x03\\x0f\\x81\\x83\\x11\\xe9h\\xc2\\xe1\\x87\\xea\\xe6\\xfe\\x8b)I\\xebQ\\x8bb\\x94\\xf3\\xa8B\\xce=\\xb5\\x17\\x96\\xef&\\xf7\\x99`\\x05\\xfeNm\\xc5\\x17\\xadQysK\\x89\\x83<{\\xbd\\x98\\xe2\\xeaJ\\r\\x02gvO\\xa2r$X\\xc1\\xf9\\xb5c\\n\\xc2L\\xd0\\x82\\xb6\\xccw[Ij\\xe2\\xb2D\\x8a\\xc2K\\xd3\\xf4y\\xee%\\xc8\\xd0\\x1fS\\xd9\\x7f\\xa4\\x89<.\\xc2.%\\x9ecYh\\xea\\xae \"s|l\\xc2\\x95\\xa2\\xd3\\xd3\\xc8]Y\\x97\\x04\\'\\xc6\\xe56N0\\x0c\\xdf\\x9e\\xb3Yj\\x9bP \\xd82/\\xab\\xa1\\x80\\xe5\\xce\\x1c\\x8bg\\xe0\\xafMr\\x1a\\x88\\xccx0\\x06cY\\xc5\\xbd\\xa5\\xb8\\x86*\\x81\\xc4\\xcdz\\xab\\xa1\\xc6*{\\xc1Hoh\\xb4\\xd7T\\xdf\\xcf\\xba\\x8d\\xdd\\xbfv\\xb0\\x98\\xdf\\x8e\\xb1cJ\\xdc\\xce\\x05\\xab9\\xc0F<\\xea\">\\xbd\\xb9\\x10\\xf6\\x89\\xb0\\xe6H\\x06\\x08+\\x8f.J\\xc3\\x83\\x08\\xd6\\xea\\x0f\\xed\\xb2\\x82C)m\\xe1\\x0f\\xb50\\xc9\\xc0\\xd4\\x9d\\xc3\\xe5\\xbb\\x8f\\x7f._m\\xf4\"a\\xda\\xacQL5\\xaa\\x9d5s?)\\xd6W\\x8c`J\\x13L?l\\xed9\\x9c\\xa2\\x9a\\xe5<\\xad\\xac\\x0c\\xab\\xf7\\xe5\\x83\\xea\\xf4\\xf2\\xe5k[\\xd0\\x0c^P\\xdc\\xca\\x10c\\xa3\\xdb\\x8e\\xa1D\\xca[\\x91\\xc3\\xd4\\xa9Gb,V\\x81o\\xe9\\xd9\\x96\\x03\\x83\\xe0U\\\\\\xe5\\x10\\x1a\\x9b\\x14\\xfd\\xd8\\xb8 $\\\\\\xcc|I\\xb5\\xeb\\xbb^\\x885,\\xc2\\xb7\\xd9\\xac\\x14\\x8c\\xab\\x97\\xa7`\\x8e\\x99\\xc3\\xa2\\xb9\\xfd\\xc6\\xb9\\x17^2\\x85\\xd1\\xdcs\\x1f\\x83\\xb5\\xac\\xf6\\x9d\\xd0\\xa3\\xb8\\x15Q\\xb6P\\x15\\xc4Aq\\xc6\\t\\x85@\\xf0\\xd5sd\\xd5\\xa3\\xb1[\\xfbo\\xe3\\x82g\\xc0\\xcf\\xf9\\x13D\\xe3\\xab\\x17\\x9a\\x04VA\\x84Z/AG\\xbc\\xe6\\xfe\\x1a\\x17\\xe4\\xc0\\xea\\xc4Q\\xd5\\xefaO\\xc4\\xc0\\xe1\\xcc\\x08\\x86x,\\xc3\\x9d\\xfdr\\xf6\\xf1\\xe3\\x93+$\\x91\\x87`\\x10\\x7f0\\t_un\\xd9\\xef\\xf5t\\x18\\xda\\xae\\xf2\\x9b\\xe6\\xe2\\x16\\xb0\\xcb\\xe4\\xc4V\\xd2\\xff\\xbb*\\xdd\\xe2s\\xe2\\x11\\xba\\xf1\\x17{a\\x92\\x08\\x14%J\\x9a\\x9e\\\\Y\\x8bU\\x13\\x0e\\x9eo%\\r\\xb6B\\xbb\\'O\\x8b\\x85L\\xebP\\x8dX\\x82\\xb0\\xbd0\\x05\\x02\\x94\\xdc\\xee7\\x84X\\xd8\\xe4\\xa8%6.}\\xac\\xe1\\x8el\\x9dmQ\\x9a6,\\xd6\\x14^\\x94\\xcf\\xe26\\x99\\x8c\\xde\\x11\\xba\\x88!*nC\\x11:H\\xe6R<R\\xd0;\\x11(9\\xd7\\r\\xc6\\xb3PN~\\xf8\\xc1\\xa73Z\\x16\\x01\\xd4\\xb4p|\\xc8\\xce$\\x06\\xaf\\xa2\\xfa^\\x98\\xb7`\\xfde\\xa4\\xe6L\\xc9C>\\x9d\\x81\\xe5{\\x04\\xa7\\xe7\\xaeF\\n\\xc1\\x93\\td{\\xd7R\\xad\\xae!\\x8dM\\xd0/\\xe4\\xf3\\x93\\xce\\xd1a\\xaf\\rxBC5\\xb0W\\x9eV\\x7f\\xc1)\\xab\\xd6\\x83\\xd91d\\xff\\x07be\\xe0N\\xb4\\xc2\\x06m2^\\xe0\\x8f\\x81z\\xa9y\\xe8\\xaah(\\xef\\xca\\xf1\\x81\\x8e\\x8cvo\\xea\\xe8?\\x14:\\xb2\\xcf\\x82\\x86mu\\x12ehm_~\\xcf%r\\x89\\xa45\\x95\\xf3\\xdbS\\x03\\xe3\\xe1\\xea\\x04\\x9a\\x80\\xba\\x1a\\t\\x07\\xb7{(\\xa9\\xfe\\x1c\\xb9\\xfe\\x95\\xb5B\\xf6z\\x7f\\xd5\\x11LW\\xa1\\x10\\xa6\\x04q\\xffu\\xab\\xacD\\xb2E\\xbb\\xd7\\xd9%\\x04\\xb1\\xd8\\xb2\\xb2\\x0e\\xb2d\\xca\\xd0.\\xe2\\xb4\\xe1\\x02\\x97\\xc1ZTYIv\\xf4\\xfe\\x8aB_J\\xc2W\\xc5d\\xd9zl\\xa6\\x1f\\x1d\\x9a\\x1c@\\xd8[\\x18\\xcc(TVK\\xc3\\x00\\xec\\x99\\xc7\\xa5\\xdd{X\\xf5gi\\x13\\xe4\\xf5\\x14E\\tj[\\xb3@g|\\x1a\\x95\\x05\\xbd\\xae0P`\\xc9\\x9c\\x99\\x18\\xa52\\xe6D\\xfa(\\xb27 \\xbc\\x085\\x85x\\xb1\\x8a\\xad\\xa78z\\xc8i}oS\\x9e\\x05Ub\\x08\\xf4p\\xe0/]\\x90\\x90<\\xfd\\x0f\\xb6@8\\xc2\\x97\\x13\\x1a\\x1bc\\x93L\\xaf6\\x98\\xf2\\x7f\\xc7\\x80\\xaaVn\\xed\\x83\\x95\\xf1\\xd1\\x93T\\xdd9\\xf5\\xa3\\xcdw\\xd2\\x94\\xc0\\xc3\\xa1BT}{\\x04x=Y[c\\xe4|\\xe8\\xfc3\\x94\\x1e\\\\TC3\\x1b \\xe0\\xa2\\x8e\\xf9\\x16\\xe7\\x91,\\x1a5\\xfc\\x9c\\xd7>\\xd9\\x13\\xd8\\xb0\\xa8\\x93\\n/Q\\\\IK\\xae\\x7f\\x98i\\x85K\\xe5\\x18\\xca\\x92R\\xf8@\\xdbg\\x184A\\xf9\\x8a\\x9cc\\xd2Y\\xb4H\\xbbX\\xccUC\\xcf\\xa9\\x1fI^]\\x19\\xa7\\xb2\\x06Tm\\xbe\\x84\\x05B\\x10|7s\\xdc\\x84\\x13\\xc4w\\xf4\\xd8O\\x06\\xefi\\x95\\x8ap&\\x99\\xa1h\\xab\\x84.hpOM\\xfe=\\xdc\\xc2\\xe6\\xc6\\x858\\xa7k,\\xd0)`\\x10\\xd7\\x1f\\x86:\\xc8\\xe2\\xe2s\\x00\\xb9\\xf2p\\xcd\\x9a\\x14\\xe5F\\x96\\x98\\n^\\xca\\x17\\x01\\x04\\xb0\\x8b\\xe0\\x9e\\xdeIOUEF\\xa6E\\x05\\xb1\\x97^\\x99\\xca\\xd0{m\\xd5\\x1ck\\xfb\\xbf\\xfb\\xaey.\\x9b\\xb2\\r\\xef5\\xd5\\x92\\x1b\\x8bF\\x83\\xd1\\xc8G\\xa1\\xca{\\xe0!\\n\\xea\\xa9q\\xa6H\\xd6)\\x8fz_TR.\\xb2=\\x94\\xad\\x862piA)\\xe22\\xecM\\x9b\\x025\\x99\\x9d\\xc6p\\x19\\x93\\xa3S\\xef\\x85+\\x95\\xdd\\xf0:Bv)\\xa8g\\xacZ\\x97\\x16\\xd9.z\\xae8i\\xae\\xf8{>9\\x10\\xc7\\xeb\\xaf\\xeb\\xf0.b\\x16D\\x05+T\\x82\\x04\\xc9\\xd8\\xbaK\\x15\\xf5\\xfc\\xc0\\xcb\\xda\\xb9f\\x16\\x1c.\\xe6}lD[QIn9\\x8b`\\xfdf\\xa8\\xddS\\xe2\\xb5RD+\\xd2\\xa6\\x82\\x98j\\xbd>\\xd3X\\'*\\xde\\xd7\\xe0\\x97\\xcd\\x93)-?\\xbd}\\x8f \\xd4\\x12s\\x9cl\\xc8\\xa8\\'\\x8a\\x80\\xa20\\x0b\\xcc\\xcdd\\x87L\\x15l\\x8bj\\x15\\xdaR\\x14\\x12\\x08\"\\xdesl\\xe6\\x8d\\xaet\\xe64S\\x1c/@\\xc7\\xf6\\xfb.\\x18\\x0c\\xa2\"\\x93\\x92\\x1d\\x97#\\xd5\\xc8\\xaf\\xe8\\xd0\\x19\\xf4\\x8dY,n\\x11\\x1b\\xcd.\\xcf\\x91Z\\xeci\\xcf\\x19\\x97@\\x89\\xb5`\\xc4\\xc8\\x10\\x89\\x83r\\x8c\\xab\\x8b0\\x0b\\xb7\\x1eV\\xef\\xc2\\xc7rC\\x99\\xb3\\xb3a\\x9d\\xd5a\\xcd?\\x8f\\x8dQ\\x1c\\xe0hm\\r\\x9e\\x96\\xf4C2\\xde\\xfa\\xfa\\x15\\x89N\\xfbi\\x9aQy_a\\t\\x9a\\xc3\\xe0f\\xe8z\\x02>F\\xee4\\xcd=\\x16\\xbe\\xb5\\xf6\\x98\\xc9B\\xc8<\\x0c0\\xf5\\x81\\xfb%\\xef]_TN\\x9bts\\xb3\\x06\\\\\\x88\\xdf||q\\xc0\\x0b\\xa4\\xb49\\x88\\x04|\\\\\\xfe6s\\rB\\x0eG\\xc9\\xd7\\xf3;\\x0f&\\x7f\\xd4\\n\\x855x2\\xdb2Z\\xc0\\xfb\\xc3R\\x1a\\xdc\\xd6\\x0f2\\xafU\"YT-\\xd5\\x07\\x84\\xa7\\xec/m\\r]\\na\\xe1\\xb5\\x99oq\\x8dW\\xd1\\xd6\\xd7.i:e\\x1ew\\xc4\\xc5\\xed:\\xcbAXE\\xbf\\xb9W\\xe5\\nP\\xff\\xec?_9\\x1b\\x95\\xc0\\xf2X\\xe5\\x1c\\x17\\x93\\xd7@\\xa6\\x10\\'\\x12\\x17\\xbd:v\\x89N\\xc0J-\\x08\\xd1\\xca\\x01e6\\xc2\\x1a6\\x99\\x1f\\x1a\\xfb\\x00=\\xdd\\xf0\\xd0K?\\x04\\x8c\\xf1Z\\xb8\\xe7u\\xdf\\xe9g\\x00[\\x0ew\\xf7\\x96\\x97F\\xc5\\x0f\\xb9\\x07\\xfa\\xb3yL\\x8d\\xb9J\\xaai\\x99\\xa2\\x98|\\t2\\xd0$C\\xb3\\xfd\\xb1\\xdc\\x84\\x1d\\xfd\\xdb\\xce\\xed2\\xb0fu\\xdf\\x886\\xc1\\x9b\\xec\\x19?^\\xb4#\\x99\\xa5\\xc3\\xfb\\xb64\\x01\\x9b2\\xab\\x04\\x88\\x94\\xb0\\x949f\\xacn\\xad\\xc4\\xcd\\xd0\\x853\\x83z7\\xa2\\xa9\\x87\\xcd\\xaf-\\xc8\\xae\\xda\\x01\\xf5r\\xe4\\xfc8nE#\\xb3\\x1a\\x9c\\x8aL\\xba\\x04\\x05\\x94\\x8d\\xdf\\xb6\\x9eU\\xff\\xc6\\x81\\x10\\xcf\\x07\\\\\\xc1\\x81\\x18\\\\\\x9b\\xbbQ$\\x1a\\xc4\\xc1\\xa5\\xe2Z4V\\x81D\\xb1FB\\xa8p\\\\\\x87\\'\\xd6\\xf5\\x94[\\xe4Y\\x94\\x05\\xaaC\\xfc@? \\xa9\\x1d\\x88\\xcbZ\\xa3\\x9c\\xbfY\\x91\\xba:$\\xef\\x1d\\x11\\xd3\\'\\xc7\\xb5\\x94m\\x98C\\xfdkP\\xec\\x17{s\\xb5\\xccZ\\x94\\x99\\xcc\\xfa\\xce\\x85\\x0e\\xe5\\t\\xceG\\xd9Z\\x86\\x1fXtE\\xecBa\\xa8\\xe6jS\\xfe\\xb4Z\\xc2\\x18\\xd6b\\xf6^NP\\x1b\\xabw\\xd0\\xbd\\xa3LK\\x1d\\xd0\\xa8\\xfdk\\x98(/1\\xc0\\xcb>\\xaf\\xe5\\x9cu\\xff\\x0b\\x19v\\xc7Cl7C\\xda\\x02L\\x96\\n\\x82\\xef\\x01n\\x98@+\\xd28\\xc2\\x96\\xc3\\xac\\xc0\\xfc\\xd8\\xc5\\xd4\\x13\\x0c\\x97\\xdbJ\\x8b\\x96\\x97P&\\x05\\x8bk\\xc6\\xe9\\xc11:\\xd64\\x06\\x98B.D\\x00\\x10\\xc9%5\\x86\\xa4E\\xbb3)\\xcf\\xd5/A\\xa6%K\\x96\\xd3\\x91\\xdd\\xef)\\'\\x07\\xb9%\\x8es?@\\xad\\xbdVEJ\\xdaq\\x91\\xfa\\xd5_\\x8af\\x95]\\xbe\\xae\\xaf\\x1c\\x90#\\x91,\\xd6@\\x02\\xb9\\x05\\xd1FB\\xbbX\\xac\\xed!\\xac$X;\\xe7l\\xd7L\\x91Je\\x8dq}\\x90\\x19\\x99\\xfbp\\x87\\x10\\x8f\\x9d\\x01\\xed\\x9b\\xf8p&\\'\\xfa@\\xabHl\\xa4\\xfc\\xabe\\xa7^\\xf8,\\xf5Bg\\xdc$\\x8c\\xb3\\xa7\\xe6bha\\x1b\\x9bi\\xeeb+\\x81\\x13\\x94\\xee:\\xd31F\\x06\\xb6\\xb3J\\xd5\\xf97\\x91\\xd8\\xbe(UJI\\x9e[\\xe4\\x8e\\xe0\\x8b1\\xd0k6|\\xe4E\\xad\\xec{\\x83\\xb2J\\xd5\\x1f\\x92\\xe8\\x19\\x0f{\\x0c\\'\\xf8\\xb1\\xd4%\\x1eh\\xeft\\xa9\\x15|%\\xe5{g\\xcdc\\x03g\\x84\\x14\\xccr\\xf9\\xc2\\xda\\xf7\\xe2\\x9aS\\xcd\\x87\\xb1[O\\x18C\\xed\\xea\\xfc\\xb3N\\xa8\\xe0Y\\x7f\\x96|r\\xca\\xd8M*\\x95\\x0c\\xff\\x03F@\\xc2\\xf5\\xc7p8\\x95\\x07\\x86\\xcd~\\xadQk\\x0f\\x0c\\xfd\\n\\xf9\\xd3\\xc2\\xbe\\xf7~K\\xbfA\\xc8\\xe5^\\x99fy\\xb7\\x1f\\xf5K\\x0eb\\xdei-\\xe7v\\xcc_@\\xb7\\xfb\\x07\\x87z,s\\xcdr&\\'\\xd5/\\xa2\\xf8\\xfd\\xf5\\x93\\x85\\x82\\xce\\rE\\x07c\\xd1\\xe6\\xe9\\x92\\xe3`J1D\\xe2\\xef\\x1d`/4uYE\\x98\\xb9\\\\sq\\x92&\\x95\\xc9iaNP0\\xe7C\\x8d\\xa4h\\x104\\xf6\\xf4cy\\xa1\\x16L\\xab\\xc8\\x80\\xcb\\x1a\\xdabh87\\xd2B\\x1b\\xe1\\xd4F\\xb9\\x05:h\\xf1T\\xd4\\x0cB\\x03O\\xe9\\xb8\\xf7\\xd5j~\\x88\\x94\\x88\\xb3\\xe6\\x03\\x07&\\xab$B\\xe2P\\xc6\\xe9\\x8b\\x1c\\xa0.-\\x17s\\x87\\x8d\\x1b\\x97\\x82F\\x04\\x87\\x7f,l\\x88\\x86\\xe0\\xbe\\xdcK\\x0fl\\xdfH\\xbbT\\xa9\\x82\\xfa\\xd9\\xf9\\xed\\xdf\\x0b\\x047\"\\x0b\\x1c9\\x1f\\xd8\\x98<-x\\xad\\xf8]\\x08l\\xa0\\x0c\\xc2\\xc0\\x0b\\xa9B\\x0b\\x81\\x8a\\xaf\\xd8\\xe5S%\\xc4g\\xc1\\xab\\xb51\\xd8cm\\xac\\x88\\xc4\\xc5\\xc4\\x8bHkV\\x8d\\xbb\\x84\\x82\\xb9C\\xe5T&\\xe1\\x8bm\\xa2?\\xf3\\xf4h\\x972C\\x05\\x96\\\\\\xaf\\xa9KI\\xca\\xfeo\\x14im\\r[\\x7f\\x88\\x04\\xe0\\x14\\xc9_\\xa4\\xc8\\\\\\x84r\\xaa\\xc9\\xe5\\xece\\xa0\\x8f\\xb7.}\\x00\\xdf\\xb4\\x85\\xf5\\x15\\xf0\\x1dqHR9j\\xde\\xd4\\x98\\xfbk\\xd1\\x10q8\\xe0\\xfcy\\x1b|\\x14\\xea36\\xfe%\\xcdE\\xd1\\x1b:\\xbc_\\xa5\\x85\\xa2(?\\xafoA\\x10\\xb76s\\x8c\\xadm\\xba\\x90E}\\xc3z$\\xea\\xce\\xc2^p(\\xcd\\xc3\\xe9\\xeb\\xc0sKo\\x0cp\\xebK\\x9b1\\xa7\\xd2F0\\x9c^F\\x19\\x04\\xa0\\xcc\\x84\\xfd\\xd5!\\xd9x\\x16\\x11!o\\xd4\\x9d\\x8d\\xdc\\xa8\\x83bs\\xf2\\x03\\xa1\\x855v\\xb2\\xe4bp\\xc3\\x8cj5\\n\\xaf\\xa7\\n\\xcd~m\\xcd;\\xff\\x810\\x89M\\x8aG:pf\\x9e\\xf2D\\xff\\xf41>iU\"\\x11M\\xf5A\\x8a\\x85\\xed\\xde\\xac\\xe94\\xed\\x8f@\\x1d\\xa6gWYN!\\x9aE;A.\\xe3\\xd0\\xb7S\\xf2T\\x120$\\xf3\\x86\\xb5\\xe1\\xda\\xae$\\xca\\xd8\\xa3\\x99\\x86\\xbaT\\x97\\x1a~K$\\x88\\x03\\x14\\x84\\x15\\x81\\xb9\\x12\\xeeo\\x03E7\\xe3\\x81f)b\\x05f\\xd2o\\x90\\xa0\\xe6\\xefBR*5)\\xc4\\xfe\\x99)\\xc9\\xde\\xf0\\xfad\\xcciY\\xd4\\x9am):\\xb9\\xe8\\x12O~a\\x82\\xcd\\x11mE\\xec\\xfc%(\\x08\\x02RabGhc\\x14\\xae\\xae\\xd4\\xed\\xde\\xc8Z\\xd3\\x0f7A\\x7f&\\xf6@JT\\xe3s`\\xc4k\\x92\\r\\x83\\x81\\xc7\\x12\\xd5\\xbd_\\xed~2P#m\\xc0\\xf0\\x0e\\x8cK\\xe4\\x0bI\\x9b\\xc4\\x0f!\\xf9\\x88\\xad\\xf3\\x91\\x90\\xab\\xe3=\\xa4\\xad\\x0b\\x12\\xa7a\\xf11\\xb3\\xaf\\xbc\\x04\\xb46\\xa8\\xf3\\x14\\xa1Q1\\xb5\\xec\\xaaPB\\xd9\\x1b\\x83\\xf2#=\\xf6\\x06\\x1em\\xcd\\x94\\x85d\\x92\\xcbA\\x13,\\x00\\xb4MN\\xe7\\xae\\xbe\\x07\\x82\\xa5\\xf5f9T\\xa0c4\\x9e\\x8e#\\xfe&\\xb652\\x8d\\xf0\\xb8P\\x8e\\x1a\\xde\\x06\\x92\\xe7\\xe6\\xdd\\xaa*\\xd0\\x7f\\x90\\xc0\\xf5\\xca\\xa3\\x0bB\\x02H\\xdc~\\x83\\xe3\\xd0\\xbff\\xd2<\\x1c!4\\x0e\\xa5\\x9au\\xf4\\xfc\\x19\\x8d\\xf4\\xb3t\\'\\xca\\xde\\xe9~\\xa8.\\xccl\\x048\\x93KZ\\xc3\\xd0k\\xab\\x85z0\\x1a%\\x14\\xd7\\x81:\\xdc\\'\\xc4[\\xa8\\x8eO\\x7f\\xfc\\xee\\xf30\\x9b\\xe8\\xcbt\\xf4\\xff,\\xdfG\\x00\\xcf^\\xab\\x97ey\\x94\\xc2c/\\xd7~\\x15\\xff4%/:\\xc77V&w\\x98\\xa2>\\x98\\x84\\xe2h\\xd5\\xf6\\xdfN\\xdb\\x01\\xc7l;zt\\xca\\x04\\x9exg\\x929\\xb2\\xd6\\xb2\\t\\xb4\\x9e\\xdf?\\xc4\\xa9\\x80\\xf9\\xe2\\x19[\\xda\\xc8\\x7f\\xb3\\x96/$\\xb5P\\xb5R\\xc23s\\xd5\\xb2\\xff\\xe91\\x9f\\x86^\\xa0ep\\xcfK\\xcel-\\x1bB\\x8f\\xb1=\\xaa\\xc6c\\x13\\x14\\xdd\\x92b2\\x95\\x0e\\x12\\x81>N\\xef\\xb4\\x14\\n3\\x07L|]\\x8f2\\xcd?\\x8c\\x16\\x9f\\xd7\\xa3R%?w\\xdd\\x85\\xb1\\xe4H\\x99\\xd1/Tx~%\\x80w\\\\\\x87a\\x87\\xae\\xf1\\x97\\xd6\\xcd2\\xb1\\x975N\\x05\\x9fs\\x03\\x14R\\xb2\\xcf6\\'y,L\\x8f$\\x96\\xd7\\xda\\x9fk\\x83\\x7f\\xf8\\xe6\\x96\\x1f\\xf3\\xacI\\x12R\\xc7/\\x0b\\xfb\\xdeW\\xee8\\xf0\\x8d\\xca\\x81i:\\xf0v[.\\xaf\\xdd\\x80M\\xe6D\\x167\\xde\\x8c\\xe7@W4\\xe0~_\\xb0*\\xdaA[\\xa8p\\xa2\\r\\x80)\\xbe\\xe6`\\x0fA\\xfc\\xb8S=\\xc9\\x818\\x03^\\x7f\\xf9\\xc36\\x88f\\x1eI\\x1f\\x08\\xa0\\xe4\\x88\\x99\\xc9\\xc6\\x97\\x1e\\xd3&\\xcd\\x81;\\xd2:w\\xa4s\\xb3\\x87\\x89\\xd4Nh\\x06\\xea\\xfdG\\xf1N\\xd9\\x8a\\x05\\x81\\xc6\\xe6Yv\\xd5\\r}|G\\x04\\xe1f\\xf1\\x06S\\x02\\xc1\\xc0\\xeb}\\x17\\xddW\\xe4\\\\u\\x96#/\\xd5\\xe3I\\x8bE\\xa1\\xa9\\xf4\\x89\\x85\\x96\\x85\\x1e+\\xc2~%\\x7f\\x97,8/\\x8a\\x03\\xb4z\\x1f\\xb5\\x08\\x9e\\x07\\xf7?\\x94s2\\xea4\\x1c?\\xc2\\xf7\\xe0\\xb9\\xf8\\x9c\\xfb]\\xbf\\xb8\\xfd\\x8akR\\x19N|\\x13J\\x1c\\x9a\\xa8\\xd7\\x1ae\\xcc\\xa9\\xe4\\xb1s\\xac\\x9b\\x9cc*\\x8f\\xcc\\x83\\x92HW=\\xe8#\\x98\\x1a6\\xb1\\xd0\\x9cN&\\xa2d\\x9e\\xaf\\xbc_\\x11\\xb6H\\x08V\\x7f\\x1f\\t\\x05D{Z\\xe5o\\xcb\\xad\\xa9\\xd5\\x81\\xd40$}\\x95\\tA\\xff\\x02k\\x15h\\x12\\xaf\\x11t@xc]\\xd4#\\xb6\\xaf{>\\x1f\\x7f@T+\\xb5\\xcf\\xef?Q\\x1d\\xabN\\x9a>\\x0f\\xb8\\xec\\xc2NA\\xf7\\xa9\\xef\\xf9o\\rXmj~\\xa6\\xa7\\xd0\\xe40\\n\\x15\\x0c\\xd8\\xf7\\xc9\\xf8\\x1cvC\\x9a\\x1c\\x9c\\xaf.\\xae\\x08\\xf3\\x123\\xe7\\x87\\xddTq\\x96\\x90\\x82\\x10y\\xcei:\\xbax\\x1a~\\xa9`\\xc5\"\\x11\\xdbVh-e\\x82(\\xb4aC\\xf6B,3X\\xa3x\\\\M\\x06]P\\x06\\\\Y\\x94\\xfb\\x8f=\\xff\\x10&\\xbe\\x08e1;v\\xec\\xb6N}\\xaf\\xcd]\\xc1\\xbb\\xae\\xe8*{\\xee\\xf0,\\xa3m\\xbcn\\n!-I\\xd3hNg\\xf7\\x8c\\xda\\x93\\x08\\xcces\\x18\\xd6\\x82\\xdf\\xa6\\xdfU\\\\R\\xe9\\x13\\xd3*\\x95a\\xcd]ls\\x93\\x80w,\\xcdI\\xb6\\x90\\xfe\\xb6\\xfb[LlC\\x1e\\xa5V\\xbbz\\xc1\\xb8f\\x0c\\xe6 \\x0f\\xbd\\xd1\\xd1\\xc6N\\xf9\\xdeY\\xb8\\xf2*~^3\\xbadB&\\\\ESe\\xac\\xbax\\xd2j2\\x80\\xbfE\\xdd6A/N\\xd7&\\xe2c\\xceQ\\x8bb\\x01\\x9b\\xfc\\xd6\\xec\\x8bVL\\xee7\\x04\\x9d\\x00\\x9c\\xc2\\x99\\xee\\x19u\\xf1\\xf8>\\xd4\\x06CU+\\xb6\\xd4\\xc2~\\xe8\\xca\\xb2i\\xde\\xad@n\\x0fDs\\xbd\\x9fz\\x10\\x97\\x13\\xec\\x94VHi\\xb2\\xa9\\x011W)\\xb7\\xb6/\\xd9\\xbd\\x11\\xf1\\xc3,2\\xaa\\xfb\\xe4\\xde\\xcd\\x0be~S\\xf9\\xd0;r|qG\\\\mi\\x1bfX\\xbd\\x01\\xc2&\\xeb-\\x02\\x9c\\xd1\\xd3s~\\xd0\\xc2\\x96\\xe4J?\\\\\\xc1=\\xa6\\xe8\\x16_\\xb7\\x19\\x7f\\xb5\\x90\\xc2\\xfc\\x01=bS\\x91/\\xf3\\x02\\x14\\x1c\\n8\\x1a;\\xeef\\x10\\x8f\\xa8zcj2\\xff\\x85\\xea\\'\\xfc\\xfc\\xadUK\\xf9\\xf4JZ_!\\xe2\\x13\\xb3\\xf49\\x0b\\x88B\\xe8\\x9b\\xbeY\\xc9\\xd4 &%\\xba\\xf6\\x07\\xb8\\xce\\xae\\xf1\\x04q\\xbf\\x92I}\\xfb\\xb4\\x95gu\\xda\\x0f\\x8b\\x1c\\x18\\xf8}\\x1d\\xbfPs\\xd1\\xd6;\\xf7(~H\\x1d(\\x0b\\xe6\\xdc\\x1a+\\xfc\\xe4\\xf7\\xdas\\t\\xdd\\xa6\\x81\\xe2>\\xb0\\t\\x17\\xec\\xf3w\\x7f0!\\xd7sS6\\xeb\\xdb\\x07\\xd7:y((Rn\\xf7\\x0b\\x04\\x04pWj\\xdd\\xb1\\x9aG\\xf9\\xf9\\xe6\\xc2\\xc8\\xdb\\xbfb\\x8eM<\\xb6\\x0c\\x17\\x94;4\\x96\\x85\\r\\xdf\\xd3>\\x92\\xf5LN\\x8a\\xee\\xf5\\xdb B\\x94\\xb3\\xbev\\xc1\\x8a\\x8b\\xb4\\x9f\\xf7\\'\\xf1\\x862\\xb4\\xf9Q\\x81[1\\x85\\xa40\\x12\\xc8\\xbf\\x19[\\xe1\\x8e\\xf2\\x87\\xbfe\\xa5z\\xf3\\x84\\xbd\\xa2G\\t\\xb79V\\xcd\\x83\\xabm(\\x17\\xbe\\x17\\xf2\\x86{d\\xeb)\\xfb8x\\xd5\\xca\\xb9,a\\xcd\\xcf\\xed\\xedB\"D\\xe4y8\\xa0\\x14\\x1e\\x02{\\xabh\\x00\\xb7-E\\xe5\\xb9jK3\\xd3\\xfa\\x93=u\\x06j\\xa7\\x8e\\x05^sy\\xd5u\\x06\\x10\\xbb\\x8cB\\xfc\\x9c\\xae\\x84  @\\xa6\\xfcS\\xad4w?\\xff$\\xba\\xeep\\xab\\xfdc\\xe4I&\\x1fQr-\\xc1\\xaf\\x05\\xfa\\x07l)\\x03\\x99\\xaci.0Y\\x1c\\xe4\\xc1\\xbbW\\x0e\\x85\\xc3BT\\x19x\\xa7\\\\Xl\\xce&@g\\\\\\xfe\\xc4\\xa0\\x0e9p\\x81\\xbf\\xde\\x94y(q\\xdaZ0uh\\xb9\\xbe8\\xcf\\xe4\\x7f\\xdb\\x00u\\xb8\\xef\\xa8\\x05\\x87s\\x0c\\x7f\\xb0\\x80\\x8ey\\xa8\\xd3\\xbcF\\xf5!/\\x01Nm\\xd4>\\x7f\\x00.\\xb7\\xf3@m\\xdc/\\x80Y\\xe0\\xa6\\xa6\\xfa<\\xe8dHJ\\x17L\\xd9\\\\\\xba\\x90\\x05\\x92LQK\\xe4\\xd0\\x82\\xa4\\xc1\\xcb\\x84\\xc8\\t\\x9f<\\xeab\\xbd\\x12\\x95p\\xde\\x9f\\xb0Q\\xd6FUi\\x87S\\x0b\\xef\\x88\\x9aFix>\\xde\\x95n\\x8e\\xe5\\x87m1P\\xf9qI)\\xc5\\nl\\xd6kcy1m\\x11B@\\xdc\\x9b\\x98\\xcb*R\\xdf\\x8b\\xbe\\xf3\\xc6\\x80\\xcb\\xc0\\xf1\\'\\xddR\\xed3\\xfbF\\x1c\\xab\\xdd\\xab\\xc0\\x1a\\xff\\x0b]e\\xae(\\x1b\\xe8\\xbc\\xfd\\xde\\x12\\xbc\\x96O\\n\\x90\\n\\'\\xe4\\xa7\\x82L\\x00\\xfd\\x1b\\x9c_\\xbd\\x17\\xa5\\x90-\\xc7\\x83\\xde=\\xb2}\\xe1k\\xa66\\x7f<\\xc2q\\xe3IpI\\x19\\xf8\\x83\\x96B\\x0fySL\\x8d6~n\\xfd\\\\.\\xe1(\\xe3dTR\\x86\\xbc\\xd9\\x03\\x11\\xd6F\\xa0\\xec#\\xa5s\\xd5\\xeaPN\\x96\\xc9\\x03q\\x82\\xfb\\xeb\\x9aX|BC\\x05E\\x8f\\xafgZ\\xee\\x1b\\xb9\\xa2\\xfe\\x87\\xff\\xd594\\xc7\\xf9\\xef\\xdcS?\\x05\\x15l\\xd1gk\\xaaD2_\\xe1\\x02d\\xf5x\\xb26\\xf2\\xdf,=\\xbc\\x8e\\rkQi\\x11\\x08\\xd2\\x81\\xd5\\x92\\x17\\xc3_^\\xfed\\xa7\\x0e\\xc4\\xa2\\x8f\\xbc|4w*X\\x93\\r\\xb5!e\\xa4\\xe6\\x80\\xf7@?|&*m\\x93(\\x19k\\x80:\\x10\\xf2\\x1c\\xee\\xbd/ktP\\xb1\\x0b\\x8c\\n\\xab\"\\xa3\\xbc\\xe1\\xfa\\x17\\xcc\\x90\\x8a\\xbe\\x01w?\\xd0@\\xf8c\\x9b\\x95i \\xf1\\x84{\\x0f\\xbf\\xf9\\x91\\xf6\\x8cf\\x98Kk\\x90\\xa9\\x12\\x9c_\\xfb\\x92\\xbd\\xffW\\x1f]\\xa1\\x94\\xa4\\x9b\\x08%\\x979/\\x99r\\xe5H\\xcahC<WI\\t.pZ\\xb6K\\xfb\\xa1\\xa2k$5\\xef\\xd7d\\xd9\\x14\\xed\\xe8\\xedPM\\xaa[f\\xf1{fe|\\x7fBD\\x861f\\x93\\xd1*U\\r\\x82\\xaf^\\xa2\\x80\\x08\\x95\\x0b\\x8d\\x19\\x83[\\xfa\\xa3V\\xd1Z\\x9a\\x02\\xe4\\xea\\x01zYegK\\xe9\\x8e\\xa6=ob\\x00W\\x17)\\xd8\\xcc\\xbfH\\xb8\\x0cY\\xe5\\x95\\x05\\xcf#h\\x0b\\x8cCsp\\xba\\xb4\\xb2z\\r\\xa5\\x88\\x1b\\xc2\\xdfZ=qu\\xc0\\xee\\x0f\\xd9!\\xd8\\xd0f\\x91\\xc0o\\xeeP\\xc1sF\\xeb\\x079*\\x112#6\\xb357\\x04k\\xa8\\xdb\\xee\\x9e#\\x14\\xda\\xe5\\xddng\\xfa\\xfc\\x99^P\"o]2\\xb3\\xe8\\xf3y\\x89yK\\x8ah\\xf3\\x82\\x8e\\xf3\\xbd\\x13\\xc5\\x11x\\xf5\\xaa\\xbb^/\\xf6\\x16\\xc8E\\x98\\xbc\\xe9`\\x9da6\\xa5\\x83u\\xc0%12\\xf8\\xc5\\xd4\\x19\\xa6q\\xca\\xd7\\xf1\\xd93\\x8f\\xa1X\\x07\\x10W\\xf7\\x0e\\xc6\\x84XI\\x1c\\t\\xe0-\\xa4\\xd5B\\xb8M\\x8a\\xb4*\\x05\\xe1\\xcbBC\\x9af\\xc3\\xb8\\x1b(CmX\\x0b}e\\xad0\\xeb\\x0e|\\xe7%\\xc43\\xd5\\xee\\xca\\x10\\xc3\\r\\x87L\\x93\\xc5;\\x8cj\\x14\\xd2PN\\xa9\\xfd\\x06#4\"\\xa0\\xc4\\x93\\xe4\\x1d\\x9dg\\xae\\x13\\x98W\\xc1C$jEV\\xe6^\\x87\\xfa\\x97\\xa1\\x8a\\xba\\xe2@\"\\x9c\\xfe\\xf1\\x05\\xaa\\xb0<4q\\xaf\\xc1\\xd3\"NSR\\x88-\\xc4{t\\xf5Q\\xb1A\\x1c\\xfb\\xb8}\\xadro\\xdb\\x17|\\xc6\\x9c\\x18Si\\xda\\x8f\\xef\\xf3\\xe8C\\x154\\x9c\\x1f\\xa3\\x15t\\xb9\\x1e\\x8a\\x9d\"\\x1cl\\xa1\\xa4`\\xa6zG\\xad\\xffiK\\xda\\xda\\xd2,\\xfa\\xb0\\x14\\xa09\\xf9\\x8d>\\x89n9*\\xfd\\x80\\xa0\\x0f\\xcd\\x8fpq\\xb6\\xaa\\x00F\\x9bJ\\x04\\x1e\\xa1aY\\x9d\\xe8$I\\xd0\\xb7\\x17\\x0c\\x81\\x92\\\\|\\xa7\\x0e\\xd9\\xd7\\xf5\\xfd\\x95?\\xff\\xbf\\xd7\\xdc\\xad\\xe21;\\xb1\\xce(\\x1d6\\x1f\\xb5\\x01,\\x032\\x80=\\xd5\\x92{\\xe8\\x12\\xf6\\xe7\\xfe\\xfe\\xe0\\x8c\\n\\xe3\\x15\\x81\\x8e\\x0c\\xf6,L\\xf5\\x03#\\x80\\xc4b\"\\\\\\xbd\\xa7\\xbc\\x08!1;\\xdd\\x01\\xe0BJ\\x136\\xe8M\\xab`\\x07*\\x07}e\\xfa!b\\xd4\\xde\\x7f\\xa1\\xd4\\xa4\\x01\\x94\\xdf.\\xb0\\xaa\\x90z_\\x05\\x1d\\xc0\\xdcJac\\xd2&\\x82\\xe9\\x99\\xb5\\xb0\\x13\\xef\\xf7EC\\xab\\x00\\\\\\xac(Ey\\xdal\"s{\\xec\\x07\\tL\\xf1P\\x8b!\\xaf\\xeaL)\\x95V\\xa4\\x1a\\xfb\\xd3S@%\\xb5\\xcce\\x92\\xe9\\xdeV\\xea@:\\xbcI\\x12\\xe2\\xda\\xe7\\x99\\xfd7\\xca\\x06\\xc0\\x90S\\xd3\\xc0\\x85M4\\x15V\\x94\\xc5Q*6g\\xa7\\xa1\\x85[;\\x1e\\x9b\\x1fT\\xb1\\x1aU\\xd7\\x81\\xc9\\xb3,\\x92\\xc9\\xa4\\x02*\\xa5O%\\xd3\\xfe\\x0ey\\xb6\\xf9CS\\x13\\xe9E\\x83\\x06\\xa2*\\xa57\\xe0B\\xc5\\x8c8(\\xb6\\x1eF9\\xce\\xa9\\xa1\\xc4\\xa5\\xfae62\\xd8\\xc2\\xb5ro\\xea\\x11\\x8c\\xca\\xaaJ\\x06\\xf4\\x0c\\xe1\\xed0\\xa8\\x15\\xe2\\x93k\\x89dn\\xba+\\xe9\\xc1\\x95\\xbf\\x17\\x06\\x88\\'\\xf4\\xc9\\x9a;T\\xa0#\\x02zT\\x9d\\'\\xbb\\xfc(\\n\\xc30\\x038\\xc8\\xa8!\\xf2\\x0c/\\xfeQ\\x15X\\xcb\\x9c\\rq`%\\x13\\xccu4lJ\\x12\\xce\\xb2N\\xb1\\xd9 \\xd4F~ VK\\xa4%wT&-\\xe0\\x96\\xd7j\\xb22h\\xbf\\x8f.\\xa9n\\x8aP\\xddBb\\x1a#\\xc0)\\xb0}\\x914R\\xae\"\\x19X\\x7f\\x17M\\xc0\\x10^\\xfd\\xfcU\\x88B\\xab\\xd6B\\xdd`kMk\\x98\\x17z\\x12<#\\xd5\\x15\\x9a\\xe0\\x9a\\xa6\\r\\xd5\\xea\\xb3\\xb5\\xf5\\x00\\x1b\\xf1\\xf5=XY~\\xe2E\\xed\\xed\\xd16\\xe2|tJ\\xfe\\xa6\\xe1\\xc05\\xb1-\\xfd{\\xbdL\\xd0\\xeb\\x80\\x07R\\xf0{U\\x81\\xf2\\xb2\\x1f\\x99b\\xd4\\xff\\x1e,\\x06\\xc2\\xf3\\xaa\\xbe\\xa0\\xf4u\\x8d\\x12\\x148\\x0078D\\x93z\\xd3\\xae\\xe3\\x81\\xa0\\x10$\\xd0\\x0e+\\n\\x18\\xfa!T\\xa1T\\x11%-\\xc1\\x1b\\x93\\xb0\\x8d\\xeb}\\x13\\xe8\\x85\\x043\\xd3\\x13e\\xdd\\xed\\x86T\\x94\\xdbk7l\\xd5\\x1a\\xb3\\xbb\\x9a\\xf7eX\\xe0Im?\\xd7*\\xe7\\xec\\xaf\\x1d?\\xcad&k\\x1c\\x97\\x8aP\\xbc5\\xaf+\\x8e\\x19z\\xf8\\xc9g\\xc3]$/*G#\\x18\\x972T\\xac\\xde\\xba\\xab0\\xad\\xcb\\xf4\\x08\\x01\\xca?\\x1a\\xad\\xab\\xbf6\\xafxF<\\xab\\x15O\\xc3\\xa03\\x05ft\\xfe\\x9b\\x15\\xab\\xc5\\xce\\xcb\\x94B\\x94IrC\\x83\\xa2\\xf5\\xbd\\xdd\\xfd\\xe9y]\\xdc\\xc4\\x03\\xbc\\xb5^\\xaf\\x95\\xd9\\xf1g\\x9f\\x97\\x7f\\xf8_\\x9dsh,Y\\xe3\\x1f\\xcd\\xe9-3\\x98\\xc7\\xe4\\xc3\\x95\\x86\\x94\\x80S\\x03\\x16\\xf5\\x0cy5o\\xcd\\x85\\xe6\\x89M\\x81\\x14\\xd3\\x0e\\x89\\x01\\xdf\\x9a\\xd0Z\\xb3*\\xcd\\x9e}q\\x08\\x7f\\n`z\\xfe\\xcb\\xf5\\x85\\x8c\\xcf\\n\\x0f\\x85\\xbf\\x82\\xa1G\\xd3\\x83\\xe4B\\xe1\\x14\\xffG\\x1ff\\x94\\x11\\x1f%\\xb3\\x97\\xcc}G22wQ\\xbd@J\\xf3]kEN\\xfbtP\\xe0\\x06\\'\\xa8mY\\xf5b?\\xf3!O\\xe7\\xc3\\xddW\\x15\\xef\\xd8l\\xcd\\xd4\\x87*\\xe4\\xa4\\x1d\\x0f\\xc1\\x12\\xe8\\x17\\x93;\\x8a\\xe7j\\xcc\\xa0\\x98\\xc9\\xd5\\xe5d_\\xf4\\x90\\xb4 \\xcf\\xa6\\xd0\\t\\xa614\\x06\\xd6\\xe9\\x9a\\x195$gP\\xff\\x80\\x07\\x94\\xdb\\xdf\\xad\\'\\x83b\\xa2|\\xe6\\xc7\\x1a\\xca\\x15\\xddt\\x86\\\\\\xb4\\xb6Y\\x1f\\x96\\r+=\\x15\\xdf&J&+\\x0b\\xe0`9\\xdd*\\xd6\\xbd\\xafZ:k\\xe6l+DJ\\x9fI\\xd9\\xf5\\xfb\\xcc\\xd5\\x12\\xff\\xdd{H\\x12\\x06\\xc0^\\x96\\xd0\\t\\x84\\xff\\x82h\\xdb\\xee\\xbe\\x952GT\\xda\\xc6\\xe8\\x8bB\\xf37j\\xbd\\xfe\\xdccR\\xaa\\xb5\\x107\\xd2\\xc1\\xba\\x1a\\xbd\\xd6KD\\xee\\x15%j\\nEH\\x1d[\\xb7\\x02\\x15mqV!\\n\\xd4^\\xab\\xfc\\xc4\\xe9\\x92F%\\xa8b#\\xa9\\x7f\\x9e!a?d\\xf9<\\xa9\\xa5\\x04\\xe5gG\\x106\\xf1\\xe6\\xb0\\xc4\\x93\\xec#\\x89\\xb4\\xdc\\xa7-\\t\\xe57S\\xbe\\x03?\\x8fVE\\xef\\xaf\\xa85\\xdc\\xa7\\xf5}\\na\\xf8\\xef*\"\\xe2P\\x043\\xcd\\x94rDA4\\x84;\\xbd\\xdb,\\x07\\xe5\\xeb\\xe5\\xcd\\x92\\xa9\\xe0\\xb8\\x01\\x92\\x02\\xf0\\xaf\\x891uf\\x94AdbR\\xe8C9\\x8aM\\xa4i\\x1bR+\\x01\\x82\\x94\\x1f\\x1f\\xd0\\xd6b\\xbf;s\\x1a\\xed\\xa6z\\xc9[\\xb7\\xc4\\xca\\xd2l\\xd1x\\xf8\\xb8\\xc7\\x0bc\\x15\\xc8\\xa9\\xa8ya\\xb6e57hz\\xdd\\x86\\xa6\\xa2\\x98\\rz\\x10\"\\x13\\x16\\xc4\\x01)<\\xe1R\\xbf\\xf4\\xce\\xf9\\x85]\\xb5U\\x15\\x11o{N\\xafsH\\x02,\\xfd<\\xe4y\\xc4\\xe2Xc\\x9c\\xaa\\xef=\\xd8\\xadD\\x9dG\\xcb\\xaaD\\xd2<);\\x02K\\x97\\xfc\\x165\\xfd\\x11\\x8e<an\\xf4\\xf4\\x03\\x11\\xc9N\\xebp\\x99\\x1b\\xceB\\xb8#m\\xa8\\xe1\\xa3P\\xa24\\xe7\\xce\\xdc\\xd0A\\xbd9\\xed\\xa97b\\x0b\\xa9m\\xb5\\x92\\x88\\xde\\x8ae0?\\x14PG\\xf4\\x0b)\\xc1\\xda}\\xd7\\x01M\\x8b\\xef,\\n\\x86\\xfc\\x91\\xf4\\xe7\\xc7\\xf0`Q#$>\\xe6\\xc4\\xab\\xb6.\\x04\\xd0\\x14\\'\\x1eL\\x95\\xde\\xab/\\x1dJS\\x1a\\x87V]i\\x0c\\n\\x8e\\x19\\x14[\\xf7~h#\\xfa\\xa9\\xfb\\xae\\xa8\\x1f\\xc1\\x12\\xa33\\xb7\\xd0aBc\\xcf|\\rNG\\x01\\xdcy\\xb3\\xd2\\x9bU\\x94(\\xd1Ur\\xf5\\x8b\\x96\\xc0t\\xc69q{\\x93}tl\\x00\\xe6\\xad2\\xa7y\\xdd\\xf7\\xac\\x9f\\t\\x9e\\xf3\\xd6\\r\\x08SW\\xe0\\x8d<J.\\x1c\\xa5\\xdf\\x1a\\x8b\\xe6 \\xab\\x10\\xde\\')O<\\xb5\"d\\xbd-\\x8e\\x0b\"\\x85n\\x83\\xad\\x10Sj\\xcf1\\xd1\\xee\\x13\\xea\\x93\\xa5\\xc1H{\\x1ez\\xe42\\xcf\\xdb\\x01\\xa9\\xe2?\\x10/\\xeb\\xa6\\x1eT\\x19\\xb2jl(\\xfa\\xc5p`\\xa8x.\\'L\\xa1\\x0c\\xa4\\xee\\x182\\xc9M(\\xc6oh\\x1d\\xc0\\xbd\\xaa\\x95\\xb3p\\xe0Y\\x08\\x80p\\x08\\x81$\\x91m\\xed\\xc5v\\x0f\\x8a(=\\xa0\\xaa\\xb8\\xe4\\xb6\\xd8\\xba6\\x8e\\x1f\\xc59`H\\x89\\xdc\\xbf?mi\\xa5h%{\\xcc\\x04.\\xeb\\xbc\\xff\"\\xb6\\xd96\\xe4\\x04\\x88\\xa7t\\xec\\xf3#\\x82P\\xd7\\x0f\\xb7f\\xa7\\xf3\\xbe5l\\xbf\\xf2\\t\\xda\\t>\\nW^g\\xfdr\\xf4p\\xa5\\x05\\xa8\\x9a\\r\\x12\\xa8\\xberW0.D\\xb9=\\xf6y%\\x0b\\x06\\xec\\xf7t\\x07\\x1d\\x08\\xf2\\x98\\x16p\\xb5\\x10\\x1c\\x0fW\\xcc\\xf9~\\xc1\\xaf~\\x9bM\\xe4\\xcd\\xaf2E\\xf9\\xe6\\xc7G\\xad!\\x91\\x10QxjX5\\n\\xe0\\x16\\xad\\xd7)*v\\x81\\x05*\\x8cO7\\x9a\\xea\\x1b=~u\\x0c\\xd2\\x13\\x13\\xa5\\x97\\x8a_\\xe2\\x00\\xad\\xdcg5:[Nf\\xfe\\xe8\\x86\\xe5\\x8e?g\\xfcR\\xe2\\xc3\\xf8\\x1c\\xee\\xcf\"-SN7>\\xc7\\xda\\xf7f)\\x8e\\xee\\x16\\xa4h\\xa7\\xa4\\xfa\\x92\\xd6\\x1c\\xcf*\\xd0*\\x81\\x025E\\x96X\\x9dh~MH\"\\xaeo\\xc2\\xb5\\x9c\\x07\\x00\\x01\\t\\xe42\\xc5\\xc0v$P\\xe1\\\\\\x11\\x97IG2U\\xc72$MC\\x93\\x06N\\nPy\\x7f\\xf5k3\\x82W\\xb4\\x0e\\xa1\\x08\\xe5\\tB\\x13@\\x81W+y\\xfc\\x1b\\x017\\x97\\x93\\xe9\\xc4\\xd5q\\xc9[\\xba\\xfb\\x1b\\xf6\\x83\\xea<\\xe1\\xf6\\x97\\x0e)\\xaf\\x89\\xfb\\x875_\\xaf\\x11]\\x19\\x02\\x0eO+\\xd3~\\x11\\x1b\\xf0\\xd1\\xe7gc\\x10\\xc3\\xf2\\xa8\\xb0Nk}\\xab<\\x10^0\\xf1\\xfek\\xfbb\\xbd\\x08\\xb8\\xdc\\x1c\\x0br\\xd8\\xb5\\x9a\\x1b\\x08\\x10\\xc5\\xad\\xa0\\xf4\\xa2g\\xd6\\xc3\\x96\\x86\\x18\\xfak\\xce\\x01\\x87\\xf8\\x99y[\\x031<\\xe0\\xdd\\x8f\\xd2`\\\\\\'o\\x81\\xd8g\\xc1\\xf7l(\\xa4a\\xe9$\\x87\\x14\\xf8~\\xf6\\xe1\\xb6\\xda\\xe4<\\xa8\\'\\xc7\\xa05\\xb6\\xc6\\x1dn\\xb0@\\xd9\\xb8\\x9e\\xd4L\\xe8}\\xca\\x8b\\xa8hi\\x86\\xf5\\x1b\\x05\\xf1\\x96\\x1dH\\xae]\\xf5\\xe1G\\xc2$\\xff\\x15MJ\\xbb\\xf8&\\xfc\\n\\x9d\\xf5\\x05\\n\\xde\\xa6KI\\x16eT\\xf6\\'\\xcd\\xe1\\x8c\\xc7\\xd6\\xf8\\xc0Gc\\xe7\\xf7\\xb3s\\xc1I\\x02\\x89\\xff\\x1fH\\xc7$\\xedS>!R=\\xee\\xa7\\xa0J\\xee\\x86 P\\xf8?\\xb0\\xa55LK\\xd6\\xe3\\xa0&\\xa1m\\x9f,9\\xb2J\\xd4\\x05mG\\x1c\\xa1,\\xfc\\x05X\\xcd=\\x04RB9\\xa5\\xdeB\\x0bk\\xd6j\\xed1B \\x17\\x11\\xad\\xb0\\xf5E\\xe8\\x84\\x9a\\xc25(,\\xe6&\\xf3AT\\xa5\\xbd\\xd4^\\x80<o\\x84\\\\\\x94s\\x1a\\xceJ\\xef\\xbe\\xb4m\\n\\xc1\\x8f{\\t\\xc4\\x92\\xd2fyp\\x18\\x92p\\xfc\\xbd;\\x92@\\xa3\\x06wm\\xf5aA\\x96\\xea\\x83<Z\\x15q\\x9d\\x98%\\xad.\\xec\\xfd\\xe7r\\xdd\\xb69.D|\\x8f\\x8a^\\x00\\xc4\\xc8\\xa5m\\xfc\\x91\\xfcp\\xe9\\x8b\\xd0:\\xd9Pm\\xbc\\x8e\\x89\\x9b*$7\\xa48\\xd1\\x06H\\xef\\xce\\xf1:\\xa9d1w\\x1as\\x82kk1`J \\xf6P\\x18\\xc9\\xb6P\\xab\\x0c\\xb3K\\x0c;1\\x8b\\xc3\\x81\\xb2\\xca\\xd7f\\xa0\\xdd\\x03\\xbb7\\x11\\x14G\\xcd\\x97\\xd2\\x80\\xf4`*\\x88\\xcc\\xff\\xd3\\xd8uXAr\\xc2\\xd0\\x86\\xfc\\xfcH\"\\x14\\xe1\\xeb\\xbf\\x1c#\\x11$@\\x9a\\xbd\\x02fw\\x02\\x08\\x85\\x1f\\xbe\\xf9\\x17\\xa1\\x97`.\\x0f\\xc5\\xe4\\xfbg\\x9c\\xd0x\\xf8(\\xdd\\xe3}\\xf0\\xfa\\xd0\\x84k\\xb8A|\\x991\\xae\\x10\\x02\\xe5\\x94\\xd9\\xee\\xf7/\\x0c\\xb1\\x9f?^\\xcb\\x9cX\\xcc\\xd7\\x9c3\\xc4V5\\x08\\xa8\\x1a\\xd9\\x90t\\x80s\\n\\x99\\xa39\\xee\\xd2\\xd8\\xee~4V\\t\\xf8\\xd8\\xef\\x1e-\\xc5s\\xc3\\xc38\\x12*\\xf5\\x1c\\xe2y\\x96@\\xf4\\x8ca7\\x11\\x9c\\x19\\x9b\\x80\\xe9@\\xccx\\x97Y\\xc9\\xc4T{\\xeb\\xc18\\x06\\x0bI\\x91b\\xde\\x168\\xed-Bf`\\x05r\\xb6\\xd6\\x0b\\x19\\x08q\\xc1\\xe1r\\xfbGW\\x8f)\\x15A\\tQ\\x9f:B\\x91,j;\\xb3OXX\\xd0tG~\\xf5\\x18M\\x92\\xc5\\\\.\\xa3\\xe4<\\xdb\\x87\\xe0\\x93[\\x00P\\xcev\\xee}6\\xfc\\x1d\\x94\\x16M*\\xa21\\x9e\\xa2\\xf5\\xde\\xb05F\\xa3\\xb0\\xe3 \\xf3\\xcc\\xaf1A\\x08\\xe8\\x94\\x12\\x91\\xf4\\xad69\\x92\\xe3\\xee\\xba\\xc9\\xfe\\xc6\\xb6+v#\\xab\\x96\\x8c;n\\x1c\\x8bi\\xeb\\xfd\\xd9\\xc30]y\\x91\\x84\\xb5.\\xce\\xac9N\\x9b\\xeb\\x9dZ\\xb7\\xf4\\xd18\\xbc\\xb6\\xb0r]\\xf7o\\xb0\\xe6\\xa6\\xa8\\x05\\xddn7\\xb1\\x18\\xb2\\xff\\xdd\\\\\\xea\\x1f\\x1c\\x1bs\\x1a\\xfa\\xb3d\\x1ef\\xd96\\x89>\\x86Y\\x05\\x1e\\xf2\\xd7>s\\xa6\\x9b\\xad\\xee\\x0ev\\x9d\\xe3\\x18\\x87\\xe8\\x07\\x03\\x8b\\x15[\\xb2 \\x85\\xcc*4y\\x88\\x00\\x8e\\xfb\\xde\\xdehL\\xb6\\xb1\\xdf\\x932\\xcf\\xf1\\x99\\x9d\\xbd\\x7f\\x00\\xb7\\xd1\\xb9J\\xbd\\x07\\x9c\\x07\\xaeJ\\xd0l\\xad\\x8e2^i\\x0fB\\x10R\\xef\\xf6\\xcc\\x020\\x9b\"\\x82\\x84\\xc8\\xc3\\xda>\\xce\\xdfY\\xd4\\x8e\\x91\\xc3\\x17\\xf4~o\\xa9m\\xb6\\xed\\x177y\\xe8\\x1a\\xbb\\x93\\xca\\x1f\\xc5\\x1d\\xff\\x98\\x1e\\x07\\xac\\xdeI\\xeb\\xe1\\xc5^\\xfb\\xc6\\xc7\\x83\\xb6\\xe7\\xe6\\xda\\xa5\\xae\\xae\\xc1-\\x89)\\xb1\\xc6\\x1b\\xd7Zw{\\xb4\\xd1\\x18\\xfc\\xb4\\xe1Ag\\xe3\\xb71\\xfd\\x9e0\\xb3\\xdb\\xb57\\xabt\\x0c\\xfbp\\xfe\\xf1sh\\xaf\\x8d\\xa9J\\x7f\\xfb\\x0bsgU\\x96e\\x18\\x0579$C-\\x04\\xcd)\\xf1&HU\\xbaT\\xb3\\xd7D\\xc1\\xfa}\\xf3V\\x06\\x18\\xd0\\xc6\\xb6\\x0ek\\xa9\\xa7X\\xf1\\x0b\\xb0`\\x03p\\xfd\\x18\\xde*\\xd3\\x93\\\\\\xe3bK\\xdb@q<\\x14\\xf3\\x00Z\\xcaP\\xe3\\x04\\xc6\\xf2\\x07\\xd2\\xc3\\xe3\\xd0G\\xc3M\\x07(\\xc2@\\xc9\\x96\\xb5\\xc1Vrl\\xeaQ\\x13R\\n\\xfe{\\xcf!N\\xde\\xcdTXnV\\x10J\\xe6\\xd6\\xa1\\xde\\x0f\\xc8\\xe1\\x15\\xa7\\xb74\\x04\\xb6W\\xd0g\\xaf\\x95C\\x85W<X\\xdb\\x11\\x1cw3\\xac\\xfc\\x9b|\\n\\xc2\\x00:\\x8a\\x13\\xc6\\xb9%\\xb8\\x99~\\x8c@\\xe2\\xc4\\x97\\xbe\\xa0\\x01\\xefW\\xc1\\xf4\\xa3\\xe2\\xf3e\\xb8\\xb5\\xe8h\\xcd~\\xda\\xad\\x96\\x9d%\\x8b\\xd4c}m\\x83)!\"V\\xf1[\\x1c\\xcel\\rcZ\\x10\\x8e\\xbcD\\xb8m1\\xf1L{\\xf2\\x10I\\'-:\\xf5\\xb3E\\x97\\x17\\xe0\\xf0#\\xb5\\xf0y\\xcao\\xa9\\t\\x8e\\x10a.\\xdfci\\xec\\x8f\\xeb)Z\\xa8N&I\\xfa\\xee%\\x15\\xe8<\\xbc\\x108A\\x11\\x0cr\\xb3\\t\\x88NL\\xedQa\\xcaY\\xcc\\x97-\\xe5i:\\x175\\x90p\\xce\\\\\\x83\\x98\\xf8\\xe8\\xb9\\xec\\x1d\\xd1B\\xdd\\x81yly\\x01\\xca\\xf3G\\xa0E\\xf2\\x9c\\xaac\\x12\\x04\\xfa\\xcfl\\x91 S\\xe1\\xa1,\\x87\\x9e\\x10\\x9f\\x86cz\\x13\\x10q&Fg;\\x00\\x1fm\\xe6\\xacy\\n\\x13\\xe1\\xe8S\\xec\\xf6\\xb2\\x94\\x90M\\xcc!\\x82\\xd2\\x02\\x89(I\\xe9\\x9aX\\xd7V\\xa7\\xf5\\xaer\\x96\\xf1\\\\\\t\\x03\\x1a*>sk;\\x052\\xda\\xcb\\xb8\\xbfLO\\xca\\xb0Q\\xd8ba\\xde9\\xa8\\xc3\\xed\\x15\\x0e[\\xf6\\xe2\\xc5K\\xcaV/\\x86\\x04\\xb6\\xfc(\\xf8\\xeeM!\\xfd\\xaa\\xed#\\x15!+iHN\\x89\\xc8X\\xa5Zj\\xd3\\x1f\\x1b(u\\xd5\\xa0\\xc4\\x1e\\xda\\xb2u\\xb7R\\xfeJ\\xba1\\x97\"R\\x84\\xc0)\\xb3\\x99pb\\xea64K\\x14Q\\xf1&\\x84G,\\x0cq/b\\t:\\xae\\xa4\\xac\\xa1\\x14\\xee,\\x98\\x07y\\xb1\\x8c\\x04\\x04\\xfa\\xc3zk\\x99<A\\x822r\\x12\\x83Q\\x05\\xb0?_\\x1bqy\\x92\\x92\\x00!\\x95\\x98\\x9b\\x1a\\xdfx\\x84\\x9c\\xa7y\\xe3\\xfb\\xfc\\x15D8~\\x03\\xcb\\x0c\\xc4\\xb4\\xe0\\to\\xba\\xd7\\xab\\xefo\\x95+\\xa6\\x1fr \\x14\\x98.hV\\x8f\\xc4\"*\\x98\\xa4\\xb5\\x82\\x97\\x82\\x82@\\xef\\x89i^;mGc\\xa5\\xca\\xf7\\x03T,W]cY]\\xbb\\xb3\\x92\\xb7b\\xcc\\xbb\\xc9k/W\\xf6\\xad[\\xa5\\x1ay\\xe3\\xc5\\xfa\\xe6\\x10\\xb1\\x06\\x86\\x9f\\xff\\xf0\\x83\\x18\\xf5\\xa2oZ\\xb5\\x95y\\xda`\\xbe\\xbf\\x00\\x89\\xcc\\xc6A\\xc6\\x9aX7\\xe9\\xc2\\xd6\\xc0D~R\\x8c\\x96\\x88G\\x8c\\xa2x0\\x1d\\x92\\x1d5Y\\xc2\\xbf\\x87\\xbc\\x9d\\xa0\\xf3G\\x8b\\xca>\\xab\\xb5\\xf3\\xc3\\xa5\\x0c\\xfe\\\\rjXo\\x19\\x07\\x14\\xc9\\xeb\\xb8:\\x90\\xbc\\x05\\xeb\\xbe\\x1b\\xa9Q\\x04]{$\\x03\\x9b\\xe1\\x80\\x7fc\\xfc\\xdc\\xf7\\xcb\\xf5\\xfc0\\x0f\\xf6[\\x81\\x13\\xf4\\xbf\\x06\\xb0\\x00\\x9f1\\xe7-u\\xa7i\\xd5\\xaePEP\\xb3\\xcb\\xe3\\x15\\x81;\\xfbP\\xd2\\x17J\\x7fk.\\xdc*\\xda\\xd1\\xfb5\\xc2\\xfbeG\\x86\\xee\\xe3\\xa6\\x946\\x84\\xc0\\xb9\\x93\\xd6\\x9b\\xd9\\xef\\x1d\\xcd\\x9e\\x95\\x8c\\xaf\\x17{\\x8cOH\\xd63`\\xad\\xeaH\\x06Df|I\\xcaP(\\x02\\x063F\\x06J\\x16\\xcbIf\\xf7EH\\xbd\\xbe]\\xc8y\\xdb\\xa4\\xc5qM}s\\x08\\xc2q\\xcfL\\x96\\t\\x8eQ\\x1f\\x88\\x1b\\n2\\xfe\\xda$e`\\x83O\\x88\\xad\\xef\\x8f\\xbbH\\xec\\xcf\\xed\\xee\\x90\\xe2\\xc9=\\xf3\\xe8!\\xf8\\xc82\\x0f\\xc9:I\\xf3\\x1a\\xb7\\xbe\\xe5t\\x04F\\xc2OP\\x9f\\xf2\\x85\\x9b#\\x06\\x9b\\xc2`\\x8e\\xa5\\xf2\\xc6,\\xdf\\xe7\\x89o\\x91\\x1c7\\x94,\\xa8\\x02\\xc3\\x034\\xb5\\xd1\\x15#\\x80\\xaa\\x9c\\x934\\xd2w6c\\xf3\\xde\\x06\\xe4\\x0e\\xeb8\\x0c\\xbc\\xe8&E\\xcc\\xf0,\\x99\\xb9\\x8aBN2\\x9cA\\x80\\xc5\\x141\\xe5\\r{\\x18\\x8bE\\x1f{\\xa6$L7\\xf6\\x1aQ\\xcf_\\xb2\\xb0H\\xa7\\x1cp\\x8f\\xa6\\xc2\\x9a\\xcbP&$]\\x96Q\\x8a<}bX9\\x9f\\xf9\\xae<\\xb2\\xbe\\xf2\\xcdti\\x1c\\xc4\\xa3y\\xfa\\x02a\\xa3\\x8f\\x93#\\xbb\\xc6\\x07\\x9e%\\xa5\\xe8{\\xd9\\xe9\\x8ajU\\x1aje!\\xc2\\xd7#{n\\x8eD\\x1d\\x9f\\xf0\\xaep4*\\xe5\\rm\\x03\\x18\\x1b\\xe6JI\\x99\\xcfC\\xf2A\\x8ba:T(O\\xbe\\x9fV\\xcd\\xe5\\x98\\x04\\x99\\xdbj\\xc0\\xf4}N\\xe6hr\\x9dB\\xe2\\xc4\\xa50\\xd9\\xf4\\xca\\x97\\x03\\xb5\\xbd.zm?}\\x96\\xa2\\x88\\xb7\\xcf{\\x80\\xb1X\\xf7W\\x03\\x10i\\xca\\x8b\\x03\\x99qet\\'\\x8f\\xf8\\xd9+8E \\xfd\\xbcS\\xc4*\\xc6\\x814\\x15\\tFd\\xd2X\\xb0\\xc8}X\\xe2\\xa7\\x97O\\x19Y>\\xffGs\"\\x03)8\\x9e\\x1d&\\xc8A\\x95Y\\xbe\\xd2ir=Hrm\\xc7\\x98\\x99#g\\x82\\'\\x86\\xd7\\xa9\\xd7\\xdbye\\xab\\xcb\\xda$R\\x12o\\xf4\\xa7\\x97m\\x0f]\\xc2P\\xdc\\x1c\\x98\\xf5C\\xaeE]K\\xbe\\xba\\xe5\\xe2c{\\xc0\\x93\\x850\\xed\\x0b\\xb16PI7\\xffUzQ\\x07\\xe3\\xfc\\x90\\x16\\xdf`\\xe0\\x0f\\xad\\xcc\\x9ek\\xbc\\xd4\\x9b\\xd0#\\x017\\x81\\x8c\\xba\\r\\xbb\\x03c\\xbcuP\\x9da\\x85l\\xa5X\\xe2$\\x04\\x012\\x8a\\xc4f\\xae\\x95O\\'\\xa5\\xeb9_UB l\\xba\\x84\\xe3\\x9a\\xe7\\xc6\\x95\\xe9\\xc3\\x81_\\x18`\\x0cW\\x9eRY.\\xcd\\xa4?tq\\xb8\\xc0@\\x97\\xe8,K\\xb0\\xa2z\\xe3\\xef\\xdb(\\xd4\\x15\\x96s?p\\xf7\\x83\\x7f9-\\xf4\\xfb\\xf7\\xed\\xa6&\\xc6\\xc4\\xf6\\xa5;\\x07\\xfb\\x83\\x7fp1\\x8d\\x01\\x97\\x98O7\\xc8p\\x19\\xc0S}\\xffA\\x15F\\xc5\\xfe\\xa2z\\xb9d\\x9f\\x19\\xe5i\\x83\\xcf\\xc1\\x93\\xa7\\x87\\xc2\\xcbD\\xe9\\xfd\\xa55j\\x00uP\\x89\\xc2\\xdf h\\x1f\\x85\\x86\\xaf\\xf9\\xc7\\xe8\\xb6p\\xebF\\xc5Px\\x90\\x9c\\xac\\xff\\xccS\\xaa\\xe3E6A\\xe1|P\\xa1\\xb5\\xaf\\x03>N\\xbd\\xf7\\xf7\\x07\\x12\\xf3\\x85\\x7f(Oc\\x0e\\x0c\\x8f\\xb0\\xab\\xf7\\xfb\\x95Y\\x88\\x8b!\\x16\\x1a4J\\xa8\\xfbU\\xb6\\xec%S\\x83\\x8a\\x1f\\x8c\\xa4X\\xf2\\xe3\\xfc\\xa9\\x99\\xd0l\\x97\\x15\\x8a\\xe8\\x13\\xbfw>#y\\xa3DZW\\xab\\xf3\\xc2\\xe0\\x83\\xb1\\xd8wk\\xa3\\xa15\\x88\\xa2\\x9b\\xed\\x03\\xef\\x16+1\\xeb\\x07\\xf5\\xb0\\xb1\\xaf\\xcaB\\x15^\\x95\\xc6\\xe5\\x88\\xe6%\\xe2\\xf3A\\x14\\xe8\\xb1\\xf1\\x1e\\x82\\xbe\\x19\\x02\\x81\\x88I\\xbfX.\\xf2\\xbaj\\x96d\\x9f?U\\xd5\\xd7\\xee;S\\xb4\\xa1\\xac\\xc0\\xd4s\\xe5\\xa9/\\xf9<p\\xcan\\xe9CGk\\x97`Q{\\xc2\\xc8\\x8a \\xbe\\x9a\\xe5h\\x1dV\\xa6G\\xeb\\xa5\\'\\xb1W\\x06f\\x1c\\x97@jC\\xba\\x03I\\t\\xc0\\xad^\\xdb\\xb9~4\\xa0\\x822\\xbc\\x8cR\\xfc\\xde\\x04\\xd7\\x10i6(\\xd7\\xf7\\xf2T\\xa8[\\x1ao\\rhv\\x1b\\x95NF\\xffd\\xa2\\x8fc\\xd2#<\\xaa\\xbch\\xaa\\xe8\\xa4\\x97\\xf6\\xdf\\xd7\\x02%;\\x0f<\\xda\\xc5\\xae\\x14\\r\\x04\\x93\\xaa\\\\\\xdbd\\x18(\\xd2\\xb7Am\\xcf\\xab34Os\\x14\\r\\xa3\\xdb\\xeb\\xfa\\x95\\xf1pLV\\xd3KG\\xaa\\x19o\\xd9\\x15\\xe2\\x12#412\\xfd$\\xf1U\\x9d\\x11d\\xa6\\x1b*\\xa8\\xc9\\xf9\\x0e\\x02\\x1db\\x97\\x83\\xdeA\\xb56\\xab6\\x84\\x82\\x93\\x0e\\xa1F\\x10\\xa9+K4\\xf5\\x05\\x90=E\\xdeu\\n\\x96\\xcd\\x17~\\xff\\xbfz\\xa6\\xba\\x90(\\xda\\x91/\\x94\\xf1\\xf7\\x81TF9\\xa2H\\xdc\\xc5 \\x0c\\x01K\\xfc\\xbc\\r\\x14\\xb3\\x1c\\xfb\\xff\\x9d\\xd5\\x94\"\\x9c\\xdd\\xac\\xd7\\xe9\\x9b\\xa7\"Ei~\\'\\xdf\\x18\\xedc\\x8f\\xc6\\x12Y8\\xa1\\x04\\xca\\xb3\\x12\\x9a\\xdbZy\\x1fu\\n\\xadbm\\x12\\x9c\\x8a\\xe7\\xee\\xc3\\x0fs\\x81Z\\xa7G\\x9e\\xf6a3xnC\\x98\\x0e \\x08:\\xf7\\x03P\\xab\\xfcDb\\x10\\x8fx\\x98\\xa7\\x9f\\xed\\x97\\xe3\\xf7\\x8e\\xc6\\xa1\\x007\\xe9L=\\x17\\xa4\\xbe\\x14o\\xe2\\xbe\\x1a,\\xc8[y!\\xe4\\xab\\xa2nD\\xf5rJW\\xc0\\x0b\\x8b\\x0e\\x93\\xdb^\\x96\\x02\\x83\\xec\\x11\\xd6\\x05\\xdf\\xb0I\\n\\x8e\\xec\\xc7\\xbc\\x02\\x13\\xf4\\xc0\\x86\\xba`\\x9f\\xba\\x1e\\xe5\\x83\\x92F\\x1fv\\x8e\\xf9\\x9c?lnB\\xf6\\x08\\x85H\\xba\\x0ew^u\\xaby\\x10y7\\x16\\xe2Q\\xab\\x176\\xf7I&\\xba\\xb5\\x91;\\x88b\\xbf\\x16\\xe2\\x12\\xe2\\xd5\\x8c-\\xe7\\xc5@\\xc5H\\x92\\xdd\\x85\\n\\x8cgU\\x10O|z\\x07\\xc2\\xdc\\xbfe\\x18\\x84\\xc2vu\\xcex\\xe2\\xbe\\xf3\\x1c\\x15\\xeap<1+\\xb4|H\\x9e\\xf7s%\\x1d\\x98L\\xc8-\\xdf\\xc9\\xca\\x1f\\rx\\x0e\\xb3u~\\xddr\\xcd\\x81A\\xfe\\xcf\\r\\xef\\x14\\xa9\\xb411\\xe1\\x1b\\x0e>r\\xc7\\xcc\\x06[8\\x1c\\x90\\xfa\\xd3>4\"\\x90t>\\xabU|`\\xc7\\x1e\\xed\\xc6\\xde=\\xe5[\\x15\\x8b\\xc3\\x9a\\xe2\\x0f)U\\x85\\xcf\\x86G\\xbd\\xe2\\x1d\\xaa\\xcc\\x16\\xc98j\\xbf\\xe8T6\\xe8\\xc0\\xc2I\\xf4\\xc4\\x8d\\xb4w,6\\xc6v\\xb85\\x9f\\xba\\r\\x9a\\xaf\\x92[\\xa4\\x988\\xc5\\xb15\\x8b\"\\xdd\\xc0\\x89*\\x82\\x1a\\x85\\x9e\\x0c/k-\\x9ag\\xb2{%\\xd5_\\xa5t\\xc9Y\\x94\\x8dV4\\xa7\\xf1^\\x1d\\xc2\\x96\\xf7\\xb9\\xe42O\\xd7R\\xb5\\xf65\\xc9}\\xd7\\xa1\\xe4v\\x7f|\\x7f\\x80!\\xd51\\x04\\x9e\\x05\\xd5\\x8fR\\x7f\\x7f\\xbe\\x9c\\xea\\x92\\xc8\\x17I\\xe9\\xb5\\xe6\\x1c\\xa9\\\\_\\x1dNt\\xbf\\xfeO\\xec.+\\x0e\\xa2\\rtS\\xd5XB\\x14\\x9e\\x08\\xf6|\\x0b\\xe2\\xc4#\\x1e\\x14\\x83\\xdcV\\x05cRa2Qg\\xcfid\\xce\\xeeS,r\\x171\\xb9\\x8c+\\xef\\xf5\\xe6\\x84\\xb6\\x8a)U\\x89\\x9aOA\\x15\\xa0\\xc8=\\x12r.e\\xc2\\x82\\xfa\\x19\\x06i\\xb4\\xb4\\xf6\\xad\\xc7\\x1aYH\\xc6\\xd4\\xa0\\xf1\\x84\\x07\\x0e\\nH>\\xe7\\xc6Xq\\xd3B\\xa3\\x17\\xab1\\xfe\\xa3\\x99\\x8e\\xa6\\xd4\\x96\\x01\\xb67*]d\\xb2@\\xb1p\\xb3\\xfd\\xf4d\\xb9_\\x0b\\xc58\\x92\\x1e\\xafk\\xab\\x80_\\x87A\\xb2g\\x9admE\\x18\\x06Qmg!#\\xf1\\x83G\\x841n2\\xae\\xe5\\x0fl\\'H\\xabyZ\\xe9\\x9b\\xf9\\x03\\xe0\\x94\\xd8]\\xfe\\x87\\x06\\x7f!\\xf6\\xd4\\xe51\\x84z8\\x1fv)\\xbb\\x00\\xf1d\\x97r4\\xe5[n\\xdc\\x980\\x95\\xb1Q\\xfb\\xb6\\xdc\\x16\\x12\\xa9\\x85\\xad\\x07mi\\x858R\\'\\xa6`\\xa6\\xc1\\x1dK\\xfc\\x85\\xd7lc\\xe6tB\\xb2J\\x10\\xc2\\xc8\\xe9;$W\\xca.)*)wPRZiC\\xb0\\x1e\\x1e\\x05\\x92\\x11;\\xa8\\x02\\x1e\\xfa\\xf52\\xd3\\xfb\\x8ap$\\xa0\\xef\\xc7\\\\\\xe5N\\x18{\\x9e\\xf7\\xea\\xc3>y.\\xe8\\xda\\xde>\\xf6\\x02~\\x06g\\xf7\\xf92\\x02\\x92\\xe7\\x90_\\xa3\\x82\\xf3\\xc2\\xea4\\x99\\x94\\xe4\\x82U\\x02\\x99\\xcf\\x8bL\\xa6\\x85%9cf@a^w\\x10\\xd7\\\\\\xe3l/\\x1a\\xc9\\xfd\\x9c\\x89G\\xa5L\\xcc.\\xbd\\x0f}\\x1f\\x85H[+\\xc3;\\xe5\\xaeV\\x91\\x91\\xb1\\xbf\\x9c))@p\\xd5\\xa4H \\xa3\\xd1/\\x9f\\x10?B\\x05\\xf1\\xa1UA\\xffZV\\xa1b\\x01\\x85\\xfc\\xf0\\x90\\'\\xc6\\xfe}2&!\\xb9\\xf9!\\xb1\\x94\\xa7:\\xec1\"r\\xe1\\xd7\\xc42P\\xc7A\\xc9\\xa6\\xbck\\xf0\\x1b1\\xdb\\x13\\x99\\x027\\x06\\xa3\\xef\\\\F%V\\xb3Y\\x12&\\xf7]\\xa8Y\\x04\\t\\x8b7\\x87\\xe3\\x8d\\xfe\\x94\\xbe\\xda\\xbe\\xd2\\xa7\\xa2R$\\xafX\\x85\\xd8\\xde8\\xa8\\xccJ)\\x96\\x85D\\x0f\\x1a\\xf9}mtTG\\xcd\\xaa\\x7fy\\xf4\\x89\\'\\x0f\\xd5\\x04H!L\\xdcaQ\\xa8$\\x81)=\\x18\\xb1\\xf7apxA\\xd6Z\\xcaDR\\xbc\\x0c+\\x15\\xef\\xe5C\"\\xed\\xee3\\x97\\n\\x82\\x88op\\xd1q^\\xd1?+B3\\xc4\\x07(ic`M\\x06\\x10\\xe6\\x9d\\xd8\\x14U\\xa0\\xac\\xd0\\x9a\\x80\\x1a}!*\\x86\\xb3\\xd69 \\xf3\\x91+C#\\x8f\\xea\\xaf;\\xcd\\xee\\xdcS\\xefl\\x17t\\x08V\\xc6\\x8d\\xd7\\xdf\\x86p\\xa1\\xa7X<\\x94\\xb42\\xc8\\x86\\xb9\\xa3\\x86\\xa8(^X\\xf7\\x99\\x92\\xdd\\xd8\\xbb\\x1f\\xc2~o\\xaa\\xef\\x1cw%mQ\\xda:\\x99_\\xafbBZ\\x89\\x8c\\t\\x8b\\xabn\\xa6\\xbf\\xa7`Ja\\xedF\\xab\\xd0j\\xe4\\xa5\\xece\\x99U\\x1b\\xcbg\\x89\\xb6\\x83\\x81\\xfb\\xec[ \\xeaGz\\xcf\\x9c\\xfdl\\x02\\x0b[\\xac\\xf3\\xc6\\xed\\xa3\\xb4\\xb8\\xcc\\xadT;\\x1fB\\xfe\\xca0\\xfa=\\xbd\\xa8\\xc1\\xc9#E\\xdf\\x9a\\xc8\\xd5k\\xeaX0E\\x17\\x97\\xd2\\xaa9\\xc5N\\x84\\xfe9I\\xdc\\xbd\\xd6\\xe0\\x96i\\xb4\\x02\\\\F\\xceFR\\x1e:5\\xc7\\x13\\xe8dm\\xec0\\x9a \\x8aVu\\x8c~\\xd5\\xf6f\\xd7\\x06u}\\xad,\\xac\\xc7u\\x86k\\xe7j\\x1c\\xc5\\x1e\\x88}\\x93N\\xe944\\xb4\\x89\\xca\\xba\\xb9\\x13XO\\x06\\xbe\\x87f]\\xcf_\\x7fH\\xba\\xa3\\xacm\\xbdS\\xe6X\\x828M\\xac\\xe4\\x93\\xf3\\x8fZ\\x06N\\xf8\\xa9\\xf06\\xdf\\xca\\xf8w\\x82\\xb3\\x1c;K\\xf8\\xed*R\\xbc\\xb3\\xa6$\\x1b\\x1e\\x83r\\x1e\\x83\\xd0\\'\\x85\\x17%<w\\xe7 W\\x1d\\x051\\xe4\\xed\\xe6!4\\xa0\\x9e9$\\x99d)-uH\\x95M\\xb4MD?\\xc6Qbb\\xbe\\xe5t\\xadKp\\xda\\xa2\\x84\\x91\\x116\\x89\\xbc\\xbd\\xe8\\xb6Vx\\xb0\\x88\\xadR}\\x8d6\\x8a\\xe2\\x97fu\\xec\\x0b\\xecWjNe\\xcela+\\xcb;\\xa6%Xf\\xaa\\xefC\\xa5\\x1eDP\\x11\\xc2>5n\\xac\\x9a\\xf6\\xd8$\\x8f\\xa7I\\xc9g\\x88K\\x1f\\xdd\\xd6%L$\\xe1\\x19N\\x98A\\xa6d\\xed\\xbfkk]\\xffKv\\xacZ\\xcf\\xad\\xf8\\xb2|wJ2\\xe0t\\x85$\\t5[\\xb6\\xdc\\x1c\\x9b\\x88\\xdaS5\\xbc2(\\xb1\\xd4{\\x912\\x98\\xc6\\xbf\\xf3G\"A\\xf3\\xaa\\xc1Yjl\\xcd\\xfa\\xea<\\xad\\x05\\x1000\\xc9\\x86\\x99\\x17\\x02\\xc8o\\xb24\\xd3,\\xc2h\\xf8\\xc3\\x9f\\xa5\\xec\\xfe\\x81\\x85\\xab\\xa0\\xdel\\xd2\\xfco{=\\xbe\\xcelC\\'i\\xfe\\x04\\xf9\\xc1\\x9dZ\\xe3\\xd97n\\x1b}()\\x06\\xc2s\\x9f\\x1aEy\\xf3\\xef\\xb4\\x1ciUR\\xa4\\xbe\\x19\\x9b\\xda\\xf3IY\\x8c\\xa0\\x89<\\xaa\\xad\\x16(\\xb6w@qI\\x10o9\\xdf\\xb9!\\xa8\\x14a\\xa2\\xfe\\xf6\\x18\\x03f% \\xbb<\\x89^\\x1d\\x1d\\xf5\\x0c\\x99\\xc1\\xe96\\x7f&\\x92B\\xc51\\xc0\\x08\\x8d1\\xe2\\xf0]N\\xf6\\xa4\\xcd\\'K*\\x0f\\xb0u\\xf9\\x91w\\xeeS\\xc2\\xa5\\xbb\\x8d\\xd4\\xe2R$\\xb6\\x11\\xdea(\\xa8\\x9d\\xb4\\xc0 \\x9a V9\\xd8S\\xbe\\x16n\\xf2E\\xcc\\x82\\xe4f\\xe2\\xac\\xb1\\x90\\xd4\\xa7\\xd6D_\\xa0;~U\\xe7\\xe6\\xf7N\\x04\\xf4U0\\xe2\\xb1\\x08\\xcd!\\xb3\\xad\\\\\\x02N2R>n\\x1b}f\\xd7qdlmdY7\\xab\\x8b\\x1fm\\x1d\\x89\\xf9\\x9a\\xdbd\\xf5\\xbd:bHn\\x9f9\\xa2\\xd9\\x96\\x06jz\\x9c\\x90v\\x94\\xabY5\\x98UNdG\\xa4\\xcf\\xab\\x13^X\\xf2\\xc5\\x9c\\xea\\xb5\\x81!*\\x12\\x07\\xd4S\\x8d\\xf5\\x8f\\xa6H\\xe9|Ym\\x98\\xbdj\\xdd\\xe8\\xe4\\x17\\xe5\\xf4\\xab\\xcd\\xe3\\xc8aW\\x99)\\xfaR/\\xc7\\xa4?\\xcf\\xb4\\xaa9\\xda\\xceU&\\x87\\xbe\\n\\xf6\\xa4\\x9dW\\xb6\\xd1\\x06\\xd7(x \\xbcop\\xd5\\xeb\\x1b\\n\\x05\\x85Q6\\xf4X_\\xc5W\\x1e\\x0e\\x16\\xb3\\n\\t\\xd8\\x17K\\xa3c\\xb1o<\\x16\\xc1\\x95M\\xca\\xb5\\xbb\\x86\\xc27~R5\\xfa\\xda\\x122V\\xc6\\x8ejuJ \\x1fix\\x86E8\\xb4(\\x1e\\x05(\\xc38\\xe55\\xa3\\xab\\xf1ku\\xed\\x05\\x9dP\\xe4\\xfb\\xede\\xb8e]k&\\xd1\\x9e\\xa4`\\xcf\\x9c\\x0e\\xfa\\x82\\xe3\\xe4\\xe0Q__\\x8b\\xb2\\x91>\\x06\\x1cM\\x90\\x04\\xdb\\x81\\xcb,\\xaa\\xfdP\\xe9\\x8f\\xa7cs\\x8f6\\x8c\\x8b#<\\xc5\\x07\\xdc\\x16q\\xd2:+5C\\xf9*\\x02\\xe6S\\'\\x9a\\xeeD\\x15\\x9e\"\\x9c\\x9f\\x8d\\x97\\xd6\"A7O\\xe9\\xc9\\xbe8V\\x97\\xd9\\x9a\\xeb\\xf4`Y\\t\\xf7\\xafpi\\xf3BH\\x9b\\xedF,\\xce\\xfc\\xa5\\xba\\x08n\\x8d\\x184\\xf5\\xd5\\xb9\\x94\\xc3t\"?\\xf8\\x90.\\xf2d\\xdeB\\x9a\"\\xa4\\xbb\\rX\\xf1[p0\\x86(XY;6\\xbb|\\x1a-N%s\\x8c\\xc24\\x14\\xcc\\x9d\\x18\\xb0\\x873\\x9c\\xd8\\xefO\\x9dw\\xe9a\\x97{u\\x1e\\xe4Z\\xee\\n\\xae\\xae\\x99\\xb9\\xd5\\x1c\\xce\\xb4+\\xaf\\x127\\xa0\\xfb\\xd4\\xfcc\\x13\\xde\\x8c,\\x9c\\xa8\\xe2\\xa3\\x93ok\\xfef\\x8a\\xa78jP\\x86\\x93\\xfd\\x04IZ\\xd7\\xef\\x1c\\xe4\\xae\\xe5\\x1d\\xad2\\x9d\\xe9\\x91rn\\xcfB{\\x8a\\x1dR\\x8eQ\\xa8\\x94=x.N\\'\\xbcg\\xf3\\xbc\\x9a\\x0e\\xf5\\xa8+\\x15\\x85\"Z@\\xe6\\x04\\x90$\\xbd\\x83\"\\xbc\\x93kp\\xafZ\\xd1\\xb5`z\\xad\\x18\\xa2\\xe5\\xd7\\xd9\\x93\\xe0\\xc5\\xfd\\xb0\\x1d\\x12\\x1ba\\xf9u\\xc3]\\xf0\\x95\\xdb\\x1bfZ\\x84\\x00V\\xcd\\xf1\\xad\\x84\"h\\xff\\xfb\\x03\\\\_\\x10H\\xfd%\\x9cM\\xfa\\x9a\\xb9\\t\\xc4\\xb5\\xcf\\x1f\\xfc\\xfd\\x93\\xca\\x80\\x15g\\xc5\\x02\\xe8\\xcd\\xbe\\x91\\xbe\\xbe\\xd7\\x8f\\xb9\\xf4`\\x02\\xfb\\xdfFX\\xff\\xfa?\\xc9/\\x15\\x17^PX$\\x90\\x13?\\xbb\\x86\\xb5\\x9bo\\x9fZQ\\x84\\x9c\\x12\\x15Tk\\x8c\\xd33\\x91\\n\\x90IN0\\xe8m\\x86\\xb2\\xc4oL\\xa4 &\\x0c>_\\x92\\x80>\\xc6\\xa5\\xcb\\x07v\\xd9\\x04\\xd4\\xe0\\x88\\x06\\xe4\\xda/3\\x14Ku\\x1a\\t\\xf3\\xc3[\\xf9]\\xf3.\\x08\\x8fh\\x0by[^\\xfeqjkvkO\\x83\\x86/\\xa5R:\\xa4$\\x90\\x95\\xd6\\x9f\"&%\\xa8\\xe7C\\x7fg\\xab\\xa7b\\xca\\xbe\\xe41\\xb9>Z\\x87;#\\x166\\xc6wo\\x19\\xfb\\xb4:@\\xaeo.>\\xfcMW%\\x94`!\\xd1\\xc9x\\xfcu\\xe5~\\x08S\\x9c\\x9e\\x8c2\\xd3\\x0b;}WQ\\x00\\xf0\\x15\\x8d|\\xde\\xf4\\xd0\\xeb?\\xfc+\\xdd:\\xbfL\\x152\\x8f\\xa779/\\xbfx\\xf0\\x9a\\x8f,m\\xfd\\x80\\x0e+\\x8fX^&E\\xb7\\x0f\\x9b\\xea\\xb6\\x8c\\xef\\xbc\\xfb! \\xac\\xc0\\xf9\\x91\\x0e\\xb7\\xae\\xf6\\xc6\\xd5\\xa5\\x11`Ji\\xf2\\xf6*p!\\xd2mM(l\\xe8\\xd4;\\xdb\\xf2\\xa1z\\r\\x83z\\x1f\\xc2A\\xf5}+A\\xf4\\xa8M\\xb5\\xc1LMG2\\x82\\xd9\\xdf\\x0c\\xcd!\\x960\\xb994\\x1a-\\xe6x\\xf6IKf\\x15\\xa5l\\x1e^$,4\\x953\\xe4\\xc1\\x1fU\\x07f\\x15\\xc30xpI\\x01\\'\\xe2\\xaco\\xd5\\xb8f\\xef\\xa5\\r\\xd5+5\\x8c\\xadj\\xa2\\x04\\xa3_\\xd9+\\xe4\\xd1>R\\x9bX)-\\x14\\x87\\x89\\x9b\\xea\\x07\\xa7o\\xa3\\x99\\xb1\\xdf9e[\\xeb\\xd4\\xf97\\x9a\\xa9Z!Lg>A8)\\xc4\\xa8\\x84\\x84{\\x8d%\\x02d\\xc2\\xf9\\xd6{\\xe8\\xdd\\x15\\x89\\x02\\xeb\\x9bA0\\x90H\\x8f\\x02\\xc1@\\x92<\\xc7\\x14k\\x8d\\x02\\x96\\xa7Zi\\xde\\x0f\\xebUI\\x99\\xf1\\x9b$\\xaeI\\x90i\\xbf\\xad^\\x87\\xf0\\xc4\\xc7\\xd9\\xaa\\x96}\\x95\\xf6d\\xf22F\\xef\\t\\x16c\\t\\x7f\\x809{\\x15T\\xebm4T`\\xe1 M\\x8e*\\xb6\\x13\\xac\\xe9d\\xc8\\x85\\xcb\\x12SS\\t=\\x1a\\x92\\xda_lm\\xbd3kf\\x85RaCW\\xe0\\xd0\\x10%\\x17\\x91;\\x10\\xdd\\xc1\\x84\\x10\\xf1\\xa0\\xcb\\xdb\\xd5\\xf8\\xb3\\xee\\xc53`\\x92{\\xe5\\xe1\\xb1Y=f^\\xd2O\\xbc\\x94\\xc71\\xad\\x8dO\\xbc\\xffL\\xabf\\x10\\x8e{\\xa6\\xab\\xa5\\xe5\\x02\\xa7m\\xa7GC\\x112\\x1c\\x81\\xb8\\xb8*\\nIg\\xbcu\\x04\\xdb\\xf6\\xbd\\xa9a\\x17|\\x99\\xf1\\xd4\\x92U\\xe8\\x87O-\\x17\\xde\\xb6gT\\x8bLm\\x85\\x83\\xa1\\xa3N\\x08H\\xf1\\xb6\\x93\\x10\\xe3\\xb6\\x9d\\xa4\\xa6w\\x98\\xfa\\xaa|\\xe3>\\xb8b\\x93:\\xdf69?\\x86C>0\\xe6\\xc2dyS\\xca.\\x13\\xa4]K\\xc9bIB\\xf5\\xeb\\xa3\\xe0\\xf5$\\x1d\\xa5\\xaaz\\x03\\xa6\\x0c\\xf4\\xda,\\x95`l\\x8d\\xf8al{\\x87\\xb3\\xb0\\xb6\\xb69B\\xef\\xc9JL7\\xef=\\xca\\x9a\\x8f\\xa3\\xf7s\\xd6\\x96\\xa0V\\xcb\\xe0@\\xc8\\x1b\\xfc8\\xfb\\xd0=\\xb9b&|\\xac\\x95\\xb6\\x96\\x98\\x19\\x932\\x19<\\x10\\xe8@\\xdba\\x82\\x8b\\x10\\xcc\\xf0\\x00\\xa3e\\xa8\\xfa\\xab\\xfb\\xedV\\x90\\x8c\\xc9\\x13\\x17_%[%Lhn\\'\\x9a\\xbcI\\xefvO$\\x9a\\xec\\xa1\\xd6\\x1b\\x92\\x90/\\xb1)\\xf8\\x8d\\xbab\\x1a.\\x1e\\xe2\\x9e/\\x1bHD\\x9c\\xaf\\x0ek!\\x11U\\xa3\\x10K\\xf81d\\xec\\x9f&\\xbeUH\\xab\\xe2\\xf46\\xb1\\xca\\xa4\\xf2W\\x07\\x1eKy\\xf9\\xc4X\\xfd<\\x14z\\xcd\\xe9(V\\x1c\\xd8\\xdf\\xe8\\xec\\xc3d.\\x1b2T\\xba\\xd9E\\xb9\\x07\\xa7\\xbd\\\\\\xac\\xd6\\x1a\\xf1\\xe3\\xf2\\xc1\\x05(\\xc2x\\xec\\x07\\xf7\\x9c|\\xf2\\xd0=T[\\xae\\x00\\x8cv\\xfeA7-\\x89\\xcep\\x8d\\xe4\\xe7\\xaa\\xa0\\x19\\x9a\\xad\\\\$\\x83P\\xf6\\xf36\\xf8\\xb3\\xe7\\xd6u\\xf9\\xde\\xb7=\\xe8\\x04?\\x0c2\\xef_\\xf1U\\xbc\\x14\\xf8|\\x98:\\xcc\\x8a\\x9b\\x0e\\xa6\\xce\\xabsd3x\\x87\\xf5\\xe2\\xdb6iR\\xe9\\xbb\\xfe\\xba\\x87\\x1cU0j_\\xcbB\\xb6\\xb8\\x1a\\tt\\x18P\\t\\x85\\x9bOx\\xde\\xf7E\\\\\\xdf\\xc3\\xa5\\t\\xa5}k\\xad\\x9e\\xcd\\xb2@\\x8d\\xfb|\\x8a~v\\xa2\\xb4\\x81\\xea-\\xc7U\\xd7\\x0f\\xd4\\x00\\xce\\x8bH\\xc1\\xf8~\\x11\\xcem\\xf9\\x95}\\xe4\\xab\\x94\\x974d\\x14\\x8f>P\\xf8\\xc2\\xb8\\xee\\xaao\\xa2\\x8a\\xa4\\x91G\\x80\\xb6\\xb0\\x1aF\\x14\\x18\\x9a/7|\\x1b\\xea\\x8a\\xb9\\xbf,\\x0c\\xa9\\xfeH:>\\xd6{\\xcf\\x00\\x9flU\\xca\\xfd\\'\\xa0\\x0e8\\xb6V>EFZ\\x98\\xa3\\xd1B\\xc6\\xdf^\\xe3\\x1f{a\\xfcM\\xfe\\xaa\\xc6k\\xe8\\x97\\x9f8\\x17\\x14Od_\\x08^:\\x0fB\\xd5\\xa1\\xce\\x8f\\x06\\xd7\\xcc%m\\xc1M\\xab\\x90B1\\xdeR\\x87@\\xbd\\xb6\\x7f\\x97\\x82\\x94\"7?\\xf7^&\\xaf[\\xbd\\xf1\\x9b34m\\xee\\xaf\\xd2\\xd40K\\x0e:Z\\xa9\\xa7\\x7f\\xden \\xcf7\\xe8g8;\\x08~a\\xcd\\xe2\\x93\\xf5\\x00$\\xd9\\x9e\\x86Q\\x13\\x1f\\x0b\\x00[&\\xdf\\x19\\x7f\\x88\\xe0\\xc34\\xc7\\x1cw\\xf0J\\xb1\\xae\\xcb\\xf1\\xbd\\x7f\\x0c\\xd5*\\xf5 \\xa3\"\\xd3T\\xdd\\x9a\\xe7S\\xfa\\xe2\\x95\\xd6\\x186=\\xc2\\xe8S\\x89\\xcd\\x13\\x85\\xb9\\x81\\xc5a\\xa8\\xe4K\\x904\\xb1S/(\\xd6\\xaf\\xdf\\xee\\xfcc\\xc0\\xe9\\xb4&5\\x91\\xd26\\x86\\xc8;\\xed\\xbc\\xb3\\xa5\\xe1L\\xa8\\xf8\\xf6\\xf4%\\xcf\\x83}[\\x1d\\xa4\\xc7\\xeb\\x0c\\xa3\\xa8S\\x16K\\x15|\\xa9\\x1fg R)\\\\V\\x0f\\xc1\\xe4\\xdb\\xc2\\x99\\xbdx\\x8ay\\x1f\\xa8R\\x02\\xaa\\xfcD\\x82\\xc6A\\xdb\\x9aZC\\xa5\\x1e\\x9dV\\xa0\\x85\\xedzU\\xbe#~H\\x0b7\\xf5Rp\\xd8&\\xdb\\xac\\xea[$\\x1a\\x86\\x82\\xd5\\x0eN\\xe8\\x058c\\x11\\xcf3\\x83\\xdc\\xc8\\xcf\\x0e~\\xee\\xe9\\xfb\\\\\\x07\\xd6\\xf0\\xdd\\xa3i\\xe6\\t2\\x88\\x15MQ\\xee\\xc0\\x7f\\x15\\xe6\\xa3\\xa8n7\\xb9~\\xd7+\\xd5(w\\xda\\x00rj\\xf3\\xeb\\x9a\\xfc\\xc7\\x84l\\x97+EU\\xd3F\\xad\\xd4\\xb5SMDb\\x9b\\xc6\\x18\\xa7c}\\xe3\\xc6\\x8f\\xf8\\xce/\\x14\\xc4\\xeb\\xdd\\xe8\\xeay\\xa7[\\x16\\x97d\\xad\\xd0nx\\x94\\x07\\xa4\\x10\\xac\\xbf\\xb6bc\\xff\\xe76\\'\\xfeJ\\xca\\x9b\\x84M\\xa5\\xa0\\x83\\xaa\\xec\\x13\\x08\\x84u\\xd6\\x04\\x8c \\xf1\\x10@\\x14z\\xea\\xcf\\xf8D\\xdcR\\'\\xc1%==a\\xe2\\x9d\\xa0\\xaf\\xa8\\xe1\\xb6\\xd0\\x0fhm\\xf1P#\\xe7z\\xe9k\\xc2\\x9c\\xca\\xa8\\xd7\\xe4Y\\xed\\x84\\x17\\x8c1\\xa3\\xeb\\xd5G\\xa6!\\x9dT\\x17jN\\xa5\\xe4\\xdeq\\xbe\\x12c\\xb1\\xe9\\x87t+.?\\xcbO\\xdd\\xa7\\x81$\\x01\\xb3|{\\xcd\\x7f\\xc1x\\xf7\\xd1\\\\\\xcb`\\x95*g|/sw\\x92e\\xd5ltVN\\xc6\\xa3X\\x84\\xc5\\xf3h\\xd3Z\\xbf%\\x13\\xeaD\\x83\\xd3\\xf6X\\xf1%\\xb1\\xb7\\x12\\xa4J\\xb4#\\x05\\xcbP`\\x81\\xed\\xed\\xf4f8\\xd3\\x82\\xb1\\x03Df^\\xbek\\x14\\xa4\\xf6\\x0en\\xc6}\\xde\"8r\\x9e3\\x96,\\x88\\'\\xac\\xd1\\xe5\\xc6\\x0bN\\x0c\\xa7mnF\\x88\\x96qZ(U\\xcc\\x1bM\\x0eT\\xc0\\xfd\\x9fTu\\x9d\\\\\\x85\\xc2k\\xf9`\\x8e\\xe1\\xca\\xa5\\x1cGY?\\xfd\\x18\\xe0\\xbdcqv+\\x897\\x9cV\\xd2}\\xd9\\xaf\\xb8k\\x1b\\xafE\\xb2o\\x8d\\xbakxjy\\x9d\\x90\\xc5z\\x81=YI\\xc5\\x12I\\x82\\xb8\\xb5\\x0bL\\xd8$\\xf9\\xfbj\\xe6]\\xd0S\\xcf\\xa5\\xeanS\\xc2\\xd1\\xc7\\xe0\\x18\\xd8\\nz\\xa5e\\xfc\\x8dya\\x19\\x1c~\\xb1^\\xd0go\\xfe]\\xd3\\xe1e\\xfdY\\x1b\\xa8j\\xcf\\xfd\\xb8\\xe0\\xf3\\xc2\\x06=\"\\x85\\xbf\\xb41\\x98\\xd9\\xdf\\xa9\\x1f\\x14\\x9cJ\\x98\\x8c\\xd0J\\xb8\\xa7KI2\\x80\\xe0t\\x9a\\xe8\\x05\\xacAH\\xd5Om$VaSg&\\x15\\xd0P7\\xe7\\xe4\\xe2\\xf4\\xe2\\xd1\\xf1\\xf6\\xc6\\xeb\\xec<>$\\x87~\\xb1\\x07\\xdb.\\xf7\\rz\\xd3\\x80\\xb4\\xac\"\\x13\\x90\\xf8IJ\\xc4l\\xdcB!\\xf7]\\x01D\\x89|\\xb5\\x1a|\\xdd\\x15\\xc8\\xbeX=\\x11c\\xc3\\xe0\\x1e\\xfdQ7\\xf9\\xbcV&X\\x05\\x7f&\\xa9\\x01\\xd2X\\xba\\xe3r\\x90\\xe8\\\\\\xb3^\\x8b\\xb3v9\\xe4Z\\xbd\\xf0T\\x7f\\xf3\\xc6\\xb5\\xc8\\x1cRz.o\\x92^xp\\xa5\\x1e\\xad\\x861\\xaa\\xe6P\\xa7\\xffm\\x15\\xf5\\xd4\\x93\\xf9\\xfb|\\x1e\\xe8y\\x08L\\xfb\\x1c\\xb5\\xf7\\xd9\\xb3\\x9d\\x95\\x0fZ\\xc3\\xfd\\xbe\\xde\\x86\\xea\\x99,:]+\\x0b\\x84m\\xc2\\xa4\\xc2@\\xd7>w\\xdf\\xfc\\xd2\\x14\\xb1E\\x8a\\x12\\t\\x96f%\\x07+\\xc0\\xea\\x16%\\x7f\\xa6Pe\\xd9\\x13\\xbf2\\x81\\xcd\\xaf\\xa2\\xd9$Q\\x87\\xfe\\xd5\\xa0\\x98\\x93\\xc8\\x1e\\xa2\\x18+e<FO\\xa5\\xf1\\x16O\\xaf\\xde\\x142\\x03v\\xc4\\x13\\xdc\\xd14\\x92\\xceSU\\xca\\x1dVG\\x7f\\x11b\\xf3\\x8f\\x89y\\x174&\\x194!\\x82c\\x82*\\nM\\x86\\xb5>e\\x0e\\x9e\\xc3\\xabE\\xb2\\xc1$j\\xc9\\xf5*eopl\\xd7+\\xc4\\x8e\\xd5\\x0et!]\\x1b\\xe5Ip\\xd2\\xf6\\x0bZ2\\xe5_/\\x9cd\\xff\\x00\\x0b\\xc2\\xcb\\x0f\\xa0F\\x1c\\x1f\\xa9\\xc5x\\xaa\\xa3\\xf58\\xc4\\\\\\x13N\\x84\\xfe\\xe0\\xed\\x9dP;l\\xf9\\xc1\\x8d\\xd9F\\x93\\x8f5o2\\x81)83\\x88\\x16.\\xb5g\\xf6\\xf0\\x91\\xc7\\xee&S\\x0f\\x1f\\xd7\\xfc\\x1e\\\\Y\\xefL\\x1b\\x97\\xecZ?\\x82j\\x04\\xdaS\\x10\\xb1x\\xdc?\\xfaK\\xef5v\\n\\xa3\\\\\\xd6\\xee}k(\\x153r4\"\\x9d\\xbc\\xca\\x84\\xd5\\xafh\\x05\\xd6\\xaaY\\xdf\\xbdQ%y\\xfa\\xb3\\x81\\xf0\\xa0\\x87\\xefn\\x0bV\\xd0\\xbe\\x9f\\x84\\n\\xc65FV20S),\\xffZ\\x18\\xdd\\n\\xf1\\xfa{\\r\\xd5\\xfef\\xef\\x00\\x89\\x8f\\xbd\\xce\\x94\\xb1\\x8a\\x86\\x97UE\\xf7\\xf7\\xdf\\x13\\x04\\x12\\xc2\\xdd\\xcf\\xde7\\xcb\\xb2\\xe5\\xb1z\\x1c\\x99\\xd0\\x91\\x973]\\xe97\\xcc\\xdd\\nK\\xd5\\x1f\\x05\\x89b\\x1ac\\x05>#j\\x06\\x0e\\x14;R\\x1d\\xdbd~\\xefJ\\x84\\x1b\\x85E\\x1f]\\\\d\\x9f\\xaf\\xf1\\x7f\\x1eX\\xfd;@\\xe4\\xb8xu\\xdf\\x9e\\xe2-\\x93\\x17\\xa4a*\\xe8\\xc3ZtV\\xc9X\\x1b\\xe6\\xcd\\x97\\x15\\x05\\xc0\\xa7\\x85\\xd2\\xbe\\x12\\x19C\\xeaD\\x00}\\xc9Gt3\\xfb\\xc1\\x8e\\x842\\x8eL.EQ)\\x99j\\xff\\xd8\\x06\\x9b \\x1b\\x91I\\xc55\\xcf4\\xdb`\\x98-g\\\\\\xb9b\\x85\\xf8R\\x7fP.\\xfbQV\\xc3\\xf0d\\xe6\\xd5Q\\xb6\\xb2\\x98Y\\x89c9\\x9co\\xd1uH)\\x9e][3\\xf5\\xe9\\xa5\\xd4\\xe0\\xfa\\x1f^\\x13\\xc5/\\xb1\\xd8)\\xb2\\xfa\\xe7iV\\x17\\x8f\\x87NT\\xbchJX\\x9d\\xd6d\\xe6\\xf8\\x85L\\xa2T\\xeeZ\\x8d\\xab\\xffa\\xee~D\\xa4Te\\xb6\\x16\\xa3\\x13\\x12|\\xce\\xfaB\\xae-F\\xaf\\xc88\\\\\\xe5\\xda\\xa4\\x98\\xd53VD-\\xa9\\xc0z(<^1\\x91\\x81\\x9e0\\xedJ\\xc2\\xd2\\x03\\xe6\\xea^\\x98:U\\x85\\xbc\\xc8\\x0e\\x83(\\x06\\xc7\\x99<L\\xcc\\xafcPu\\xf5\\x1b0{\\xc4\\x1a-\\x94\\xa6\\xb0\\xa2\\xa2\\xd4\\xa4\\xb4\\x92\\xeby\\xbe\\x13\\x14>*M\\xf5\\xdc\\x10\\xa86\\xbe\\xb4EqD<\\xc2\\xb4\\xdc\\xb8\\x0f\\xba\"\\xfc\\x16\\xe3gQ\\x04\\x05\\x13\\x05\\xe2\\xad\\x8b\\xc8\\x9b64\\xd0T\\xf3Lt\\xeb\\xe1\\xed\\x94\\x14\\xbf}\\xd6\\x85P\\xcf\\x95\\x1b\\xa3B\\x90\\x1f\\xbdE%d\\xf6\\xa2j\\xc1v\\xdf/7\\x9f>\\xcd\\xf2\\xe0\\xc0\\xa18\\x01\\x8d\\xf8a\\x11\\xdf\\x93\\x84R\\xd4VO\\xf2Ud)&\\xcc\\x1b\\xe7\\x80\\x97Jc\\xc9\\xee#\\xb5\\x9d\\xd7\\xb5\\xa9Bv\\xd1\\xa5\\xc4\\xe6\\xb4$\\x06\\n\\xb5\\xc6\\xe4\\x10!\\xc5 Jg\\xa3\\x1b\\xdb\\x96]\\xe0\\x05\\xf9\\xe5Q\\xf7T\\xe6y\\x03\\x99G\\xc5\\xed0\\x00\\x1cJ\\xbfAj\\xec\\x98\\xa21\\xf3\\xc4((\\xddm0\\x18bn<\\xbd\\xb6\\xf1\\xd2\\x0e\\xc5r\\xa2n{\\xd8s;\\xe1#\\x1c>\\xef\\x05\\xd3r\\xec\\x94)\\xe3L\\x94\\xdc\\xdf7\\xd2~\\xfc\\xca\\xa0\\xa1\\xe7#\\xb9\\xcf\\x08\\x01\\xdc[\\xef\\xbb\\xc7\\xdf\\xf3\\x16\\x88\\xaa:Z\"\\x01\\xe5\\xb5\\x90-\\xc5O IA\\xcd\\x02\\x1c)!;`[\\xc9C\\xe8\\'\\xe3P~V\\x98<)\\xc8\\xb4M\\xff\\x01\\x14*\\t\\xcf\\x0b\\xc8\\x8e\\x87\\xf9\\xa6\\xd4k\\xc1\\xf1\\xc8\\xa5H\\x87r\\xcb\\x1c\\xb5\\x9etm\\xae\\xa3\\x88\\xf8A\\xcb\\x9dB(!\\x98\\x90\"\\x97\\xa7\\x8d\\xd6\\xfb\\xf1\\x83[U}4\\xbb\\x94\\xa8\\x7f\\xec\\x07\\xbb\\x9b7>J\\xc3\\xce\\xe3\\xcd\\x94\\x04\\xe6&\\x92\\xb2\\x93\\\\\\x103Tc\\xa8W\\x08D\\x1e\\x0eU6D\\xfe\\ti\\x15\\x13\\xbc^\\x06\\x95\\xe6\\xe4\\xe1\\xa23\\x1c\\x97\\x03\\xee\\x1f\\xfd\\x85{\\xa2\\xfbiC\\x89\\xd4x\\x95\\x99V_\\x98*N\\xe6\\x11\\x1f0\\x90\\x18s\\xf9a\\xae\\xeb(\\xff:,\\xb4r\\x8c\\xeb`L\\xdfR\\xfb\\x9eNFC\\x14&\\xc2\\xf6\"\\x14E\\xf4\\xf5\\xa9Qy2\\xb7\\xb3%]1\\xe0\\xfe\\xa7\\x87\\xdb\\xb9+\\x86?\\xdc\\xd1\\xbf\\x07\\x1f\\x19\\x16l7\\x1b\\x88\\x98\\x88\\x1c\\x07\\xb9\\x9f\\xaa_\\xda\\xa4\\xa4+\\xac\\x7f\\xdf:\\x84\\x16O\\xd2Q*<\\xb5|\\xf7\\xd3\\xbc[G\\xa9\\xeai\\xa9P`uT?x\\xdd\\xb5\\xdc\\xeb)\\x95X\\xb7\\r\\xa8\\t\\x90\\x87\\x88a\\xd3\\x97\\xe3\\x00\\xf4\\xfd\\x04\\\\\\x93=\\x1b \\xef\\xe9\\x00<\\xbdz\\x03\\x08\\xbb\\x013\\xdc\\x04\\x14\\xfd\\xf2g\\xa4\\n\\xa9\\xa7\\x0b3ZX#\\x91J\\xb9\\xb8\\x86Y\\xc1\\x91\\x92\\x16\\xe8\\xef5\\x1c\\xc9\\xb2B1\\xbc\\x80\\xd0\\x98tc\\xbb,S\\x1f )}o\\x0f\\xc0x\\xefb<8\\x8a\\x9e\\xfa\\xc7\\x0f\\xa7\\xef\\xac\\xc5%\\xd7\\x1cO\\xe7\\xca\\x88\\xd3UMm\\xc3\\x04\\xb7d\\xde\\xcc\\x18\\xdf\\xa8\\xdd\\x1e.\\x02\\x7f\\x11\\xb3g\\x13\\xa8\\xe6\\x91^<\\xe1}\\x1aR\\xcds\\xff\\xdbF\\xd9\\xa3\\xe0\\xfc\\x9c\\x01+\\xb3\\xb8\\x90Y\\x9fOy\\x04^ry(\\xf5\\\\o\\xbfV\\xc1\\xbd1f\\x169O\\xc73I\\xca\\x0b\\xc0C\\xad\\xbe\\xb1\\r\\x98f$\\x1f\\xdd\\xa4\\xbb\\x9dE/\\x95 \\x8d\\xb8\\x8djZ4F<d\\xef\\xcb\\xd6\\xae\\xff\\x847\\xfa\\xa8\\x1e\\x90>\\x0b\\xdfX33wD\\x10\\'\\x938\\x0e\\x80\\xfdp_\\xfaeV1\\x86\\xf3\\xbf\\x07\\xe2U\\\\\\xe4\\xffT\\x03\\xe0\\xfa\\xd76\\x95&\\x8eb\\x1d\\x9a\\x9a\\xcf]\\xd5\\xc8\\x00\\xc5\\xa6\\x83\\x10\\x9dZ\\x12\\x9eQ\\xd6=\\xf7\\xb8\\xdb(\\x07\\x94o9\\xd7\\xcc\\xa1\\xc1\\x12?\\x18\\xf9\\x0055\\xee\\xb7\\xdcO8~ds6\\x10g\\x8b\\xbe\\x9d\\xcf\\xbb6\\xb6U)\\xe3\\x92F@\\x9b<\\xd4@\\x14<\\xb6\\xac\\x86\\xa3\\xe6M<0\\x15\\xa9\\xa4=\\x00\\xfa\\x05\\xc0\\'\\xbd\\x82\\xa26\\xc9z(\\x8c<\\x91\\xda\\xb7~7F\\n\\xa6\\xedI\\x1f\\n\\x94 \\\\x\\x08\\xc9\\xa8i\\xeb\\xa1=oUA1\\xd0\\x84\\xb5\\xd9\\x87\\x98\\xef\\x124z\\xe3yk[c\\xc3RaB\\x19F\\xb8\\x8fM\\x1fAh(\\x1a\\x7f\\\\+\"0\\xfd\\xa1\\xe0\\x1cj[2\\x11f\\x83\\x90\\x10QF\\xd6\\xd9+\\xa6\\xf6;\\x81\\xabepW\\xde\\xf4\\xafp\\xb1m\\xa2\\xc1\\x1a\\x95\\xe9)*\\xf0I\\x10\\xe3}\\x93\\x01\\xd0hZM\\xe2\\xc9\\x1cL\\x8a\\x88\\x7f\\xa6\\xc7\\x18\\n\\x12b\\x932\\xeb=\\x06\\xc7T\\xa5\\x17\\xa9<_\\xde\\x90\\xe1=\\x9dCb\\xd8VM\\xef\\xd6\\xe4\\xe4\\xa8\\x9e\\xdf*Cd\\xea\\xb8\\xc93\\x98\\x8f\\x0c\\x83\\x1dv\\xc83\\x14N \\xeb\\x8e\\xf8\\xea>\\x0b8yP\\r\\xa2j?8\\xf7k\\xb3\\xb2n\\x9c\\xbe\\xe86\\x9d\\xa1\\x97\\x1a<v\\xb32\\x1e\\xd4\\xdct\\x06\\xd4\\xd3e\\xfe\\xe2\\x1a\\x0e\\x84\\xf3\\xfe:\\x8dH\\xf8\\x054\\xbfzB\\xb6\\xecN$r\\xc2\\xd9\\xe8\\xe8\\x15!\\xf7\\xc2\\xac!\\x00\\x00]\\xa9a\\xf6z\\xa2\\xf3S\\xfc\\x11iU\\x8d\\xd2\\x95W\\xa9\\xa05\\xa1\\xc7kN\\xac<\\x8d\\x8a\\x8b\\x0e;\\x03Fl\\n\\xd4\\xe0\\x9d\\xed`k%\\x9d\\x90\\xbb \\xc4\\x8aL\\x11c\\xd4;\\x98o\\xed\\xde\\xe15\\xf3\\xbd\\x0b\\xa3\\xcd\\xbb\\xdb\\x1d\\x08\\xb6\\xa6|\\xf0\\x90B[\\x8d\\xdb\\xf4Y\\xac\\xb5\\xe9X#K\\xbd\\xe4\\xaa\\xb0\\t}\\x8a\\xe2y\\xf7\\xa3\\xf0y;\\xceQ\\x08\\x10\\x99\\x82\\x0b\\xc4*K\\x8a\\xfce\\xa8\\x85_:d\\xa3\\x01\\xe3K\\xb1\\x10{\\x10\\x9d\\xd0C4\\xc33\\x9d\\xc5\\x9a\\x1c\"\\x94\\xc2%\\xb2@\\xadj/\\x0f\\x1a\\xae>u\\xe0\\'K@\\xfbP\\xc3\\x14\\x95\\xbc)\\x9e*\\xa7\\xb8\\xb0;\\x1b&\\xee\\xaeU\\xd2S\\xd4\\xe5\\xae\"j9\\xcdZ\\xe3\\xf9\\xff\\xf9\\x15\\n\\xee\\xbe\\xebT\\x0c.\\xac\\x00m\\xe9w\\xa2\\xa5F1,b#\\x13\\xfb\\xa2y6\\r\\x11\\xa4\\xb3\\x15\\x0b\\xd2&\\xc8d\\xb1\\x120\\x9b\\xba\\x99\\xf2<\\x16\\xd0j\\xf3\\x1cw\\xb3\\xaa::_\\xad\\xb1t\\x8d\\t\\xf0\\xab\\x03\\xd0{\\x84\\xc5\\x12DJn6\\xcb\\x11\\n\\xe4\\xfb\\x16T(\\x10\\xad\\xb8_50\\xe4I\\x90V\\x83\\x93\\x13\\x8a\\xfa?8\\x98\\xc8{\\x81!\\xf4\\'\\x13|`\\xe1\\x8ah\\xa6\\xe8=\\x83\\x800(\\x98\\xfb\\xe1\\xfb\\x91\\xca]3\\xa75\\xbfV\\xe6Z\\xc9\\xcf\\xa0\\x9d\\xdd\\x8aT\\xbd\\x12!\\xae\\xc0\\xdc\\xc8J@v\\xdcz\\x9a\\xc9\\\\Wg\\xdc/:&\\xb7\\xd1\\xf5z\\xdfY\\xf5\\x0b\\xfcd\\x15o\\xc8\\x92&\\x84\\xe0\\x8b\\xdfG8\\xfb\\x0e\\x8af\\xed\\xdb\\xff\\xbfxu\\xb2\\x14k\\x11\\xfe\\xb0\\xfb<\\xbc\\xcf\\xe0@.\\xc0\\xe9\\xf4\\xe2\\x8a\\x981\\xeexn\\x1f\\x07-\\x8f\\xe1\\xe7~i\\xd8,YJh\\xf1\\x1f\\xf5M\\x93\\x93\\x1e\\xe1\\xd5\\x8e\\xc1\\x88\\xaf\\x89\\x87I\\xcf?\\xce\\xba\\xa0\\xd1\\xdb\\xba{\\x1cmU\\x9c\\xa6\\xeeL\\xa5\\x9aQ%\\x11\\x92\\xdd\\xd9\\n\\xbf\\xd6\\xce\\xc8\\x95\\xa0\\xfe\\xa7\\xb3Gr\\xeb\\x7f\\xc9K\\\\/\\xef\\t\\xb1pB(c\\xe6!\\xab\\xa6>6?L?gK\\x1b\\xf9\\x99V\\x04y\\xee\\xe8Z\\\\\\x9e:\\x04\\\\\\x94\\xc5\\x95\\\\X\\xb8\\xd9\\xe4\\x8c\\xf3z\\xe6\\xa8\\xc4/N\\xc7\\xf0\\r\\x1a\\xe7\\xa8\\xe5{\\x1aD\\x9e>\\xde\\xe2\\xe2\\x85\\xbe\\xfa\\xd6\\xa7\\xb3\\x012~H\\x7f>\\'7D\\xb6T\\xfa\\xd2\\xc3G\\xdd\\xbdx\\xf2\\xc9!\\xe5\\x85,\\xf4\\xc6\\x85\\x88\\xac*^M\\x97BK\\x8b\\xc5\\xae\\xfa\\xc8\\xcf5G\\xfe\\xd6\\xfe\\x14\\xe0\\xc9\\x11\\xca\\x0f\\xec\\x04\\x86\\x04\\xc42\\x1c\\x1a\\\\N\\xf4\\xd1Aq+\\x9e\\xe7\\x1c\\x19\\x1f\\xd1\\x9ch\\x7f-hB@KEH\\xa3\\xbb\\x9a\\x1fJ\\x0f\\xfb\\xaa\\x9a\\x99\\xe4\\xa8\\x8c\\x85\\xf6\\x13\\xa6\\xa9\\xd2p\\xc7\\x1e\\xaa \\xc6\\x0b\\xb6g\\x15\\x04K\\t\\x17\\xc9*\\x15EX\\xf0:\\xce\\xc9\\\\Is\\xe2\\xeeKs[\\xdc\\x1b\\x81\\xbe\\x11\\xa7\\x12\\xbb\\xa5\\xda\\xb6r\\xee\\x11,\\xb5\\x966\\xb5I\\x88\\xff N\\xaa\\xdc\\xb7\\xa5\\xa6\\xa5u\\x1d\\x1aiW!J\\xd33\\xbb\\xbf\\x80\\x1a\\x17j\\x91\\x05\\x85\\xec\\x98\\xab ;Z\\xa3b \\xab-\\r4\\xea{:+G\\x18\\x9f\\x93\\x972\\xe0\\\\\\n\\xaa\"\\xfa\\xb4x\\xf2\\xe6\\xd6\\xc6\\xb3+\\x0f\\x91\\x8d\\'\\x9duB\\x1c\\xc5\\xea\\xba\\x96i|\\xaf\\xbd\\xc5\\x86u\\xf4XEf\\xf5^\\x90;G<\\x8ecV\\xb0\\x95!\\x8d\\xeb\\xd0T%\\x8e$Zll\\x9f\\x97\\xa8\\xf7\\x0fz7\\x05\\xb4<d\\xbd\\xee$<\\t\\x7f\\x10\\xab\\xee\\xc6NO\\x19\\x96\\xc8\\xbc\\xec\\xb2p\\xf6\\xb0A\\xae\\xbePGP\\xf9\\\\a\\x0bz\\x89~\\xc1]x&D\\xfdh\\x8a\\x02Y\\x9ch&\\xe1\\xaa\"\\xfc.)\\xd8zh\\xc2\\x08\\xd1\\xe2\\x95R\\xe92\\xa7m\\xf7\\x8a\\xcda\\x8b\\xbf}\\xaf\\xd7\\xe0\\t-\\x0bY\\x91\\xa9\\xa8\\x8eU\\x15l\\xaa\\\\\\x18h\\xcds\\x9e\\x9dSfs\\xdb\\xba\\x0f\\x14\\x03\\x853<0_f\\xbb\\x8f\\xdb\\xde\\xcdj\\xd9\\x04D\\x887S\\x94\\xa7\\x88v\\xb2M\\xf1\\x864\\xdd\\x84\\x9e\\x16\\x86l\\x0e\\x1b$i\\xd4F\\xcb\\xc3\\xb9\\xf5\\xbe\\xff\\xd8\\xeab\\xe6\\xbf\\xff=_\\x1fP/[\\xe3\\xad\\x01$\\x011\\xe1\\x1fP\\xcb\\x0br-\\xd3N\\xe6\\x1c\\x03\\xc3k\\xcc1\\x00\\x8a*\\xcd\\x04t\\xef\\xa0X\\x98w\\xf7A\\xe7\\x89c\\xe3\\x1d\\xd5\\xeb\\x12\\xfc\\xb2\\xc5M\\x1c\\x8dh\\xe2y%8\\x01\\\\3\\xe7\\x8au\\xa8\\xf0h!\\x0eH\\xc4v\\xdd\\xb3\\xd16!\\r\\xde4\\x88D\\xf7\\x9ew\\x99{\\xf1\\xa6c\\t\\xf6u\\x01\\xa9\\t/\\xc09\\xac\\xcc\\x02\\xac\\xbb\\xa7XG\\xe0+\\xb5-\\x1d2{w\\x98\\x8b\\xa65\\xd5\\xe1\\r\\xbb\\xca\\xa6\\xbc\\xf6<_\\xea\\x84\\xdb\\x9e\\xb0\\xce\\xc6e\\xa8\\xad\\xdb^I\\x94\\x8e$\\xdf\\xef]\\xe2W\\xb4\\xb1\\x94oQ\\x91\\xd4\\x8f \\xc1\\xeb\\xabE\\x1e\\xe2\\nA\\xbc\\xebX\\x1e-xE\\xe6\\x1ez1\\xa7\\xed\\x8f;Y\\x0e8w \\x94\\x9f\\xa8\\x90\\xc2\\xceWM\\xc1\\x97\\xea\\xb7p\\xd5\\xbeg\\x9f\\xc1/\\x02\\x82\\x89\\xddpi~\\xe1\\xb7\\xb4\\n\\x81!\\xe1fi\\x86!5\\xfa[\\xa8\\x12\\x8b$Nb\\x8c\\xc9\\x1aN\\xb8P\\xb6P\\x85\\xace\\xa9\\xd7hQ0\\x11(\\x00\\xea\\xf2B\\x99\\x17\\xae\\x9e\\xad\\xbdA\\xb4\\x1d\\x82\\x94\\x8b\\x88\\x10EC/;\\xeb\\xd6a\\xfa\\x02\\xcb\\xa7\\xee\\x95\\xac\\x98\\'6\\xebRL|\\xf5\\x96\\x01\"\\x15\\xe8{YX\\xd2\\x0c\\xe8\"t\\r\\x8b[jV\\x97bn$T\\xa5\\xd0\\xf2|\\xef\\xb6Nb\\xb1z\\xa7\\x01\\xcf\\x0cU\\x19\\xc3\\xc3%\\xf9\\xfa\\xdc.\\x1ex\\xee\\xaa\\x9fcI\\\\~j\\xf2e\\xeb5\\xb5\\xd9\\xf4;5\\x15\\xf2\\x1a\\xa5Q\\xa2\\xa3\\x16\\xed\\x08\\x03\\x80KT+\\x17\\xb7\\x81\\xcd\\xa6\\xbda\\xcb\\x84}L\\xff\\x9e\\xd6\\x0b \\xe4\\xaam><\\x91a\\x82\\xaeK\\x10\\xa0\\n&\\x91]\\xb2\\x92\\xf2\\x85\\x7f\\x84!\\xd3\\x02R\\x19\\xeb\\xb8\\x02\\xcd\\xb1N\\xf2a\\xffO\\xb1\\x83\\xac\\xb98\\tNG\\xd5\\x8b\\xa0\\xa7E\\x0c\\xf33\\xc1>0@\\xab\\x8a\\x12D/y9\\xe4iNC\\xeb\\x0e\\xc2\\xb4\\xa3<\\x01\\x10\\x15\\xee\\xa6\\x9f\\x95\\x16\\xd6E\\xff{\\xa3nc?3\\xb3\\x14C\\xec,\\xb6,O,}_g<\\xd3p\\xc6\\xa5\\x08\\xbd)\\xea\\x90\\xb9\\x9f\\x9c\\xbf\\xad\\xa6I\\x07\\x83\\xb0\\x10G\\xf3\\xae\\x05nl\\x9b2\\x83y\\rb\\x14\\xb8\\xdfn\\xfeY\\xec\\xfd~:\\xc62>\\xda\\xd9\\xdc\\xfe\\x11H0\\xd8\\xe7\\xac:\\xf4\\xa2\\xf1\\x1dCY\\xad\\x03\\x0eE\\x89k\\x19b\\xb1w\\xc4\\xce\\x85\\xf1a\\xd9\\xacb\\x90\\xc3\\x03#\\xf0*M\\xee\\xe8\\xf7\\xb0\\xd8\\xaac\\x88n\\x99N\\xa3\\xec\\x9e\\x032\\xc7\\xd7\\xb4R\\xa7\\t9\\x8d\\xe8E\\xc8wU|,cj\\xd9\\x8b},\\xb3_\\xf9i\\x07\\x87\\x12\\xa8\\xb1E+\\xa9\\x0bF\\xbd\\xe5\\x91B\\xfe\\x1b\\xb9\\x0e<k\\x87\\xa0\\xb2\\xaa\\xc8\\\\\\xbd \\xdb\\xe2\\x8fh\\x81\\xb5\\x0e\\x8ee\\xd2\\xfa\\x91%2\\xe3\\x8e?\\xbeZ?\\x07\\x8a\\x18\\xc9\\xb0\\xa4\\xaf\\x99\\xbfD\\xf9\\x86\\x87c\\x1b\\xa6`\\x03G\\xfb\\xa1\\xca\\xcci3\\xbd-y*\\r\\x1d&\\xc8\\xb9r\\xdf\\xde\\xbc2\\xceQ\\x8b\\xec\\xabF\\'\\xc6\\xa0\\xa6\\xf6B\\xa3\\x82@\\xd9\\xb7\\xd1\\xa5\\xc5\\xd9\\xb4\\xf4Z\\xeaPK\\xd1\\x95\\r\\xc1y\\x91\\x19+m\\xff\\xf9\\xfeq\\xfe\\x97p$\\xc1Gr\\xae\\xcc\\xd35\\xe9\\x18s\\xff4+\\xb1\\x86\"fyZ\\x1bb\\x06\\xaeF\\xcd\\xb3\\xcb\\x17\\xa9\\x89\\x11r\\xb5\\xee`.\\xc3L9\\x90\\xae\\xd1\\x1a{\\x9e}\\xbeD-\\xe0\\x93\\xf1W\\xf4\\x1a\\xf1\\xb5\\x98\\xb0\\xac\\x19\\x7f\\x88\\xdc\\xe1O\\xdd\\x13\\x0fb\\xf4\\x1f?r\\xf4\\xa6n\\x9f\\x001\\xdc\\x87\\xcd\\xdb\\xf8\\x1c|\\xb1k\\x08Z\\x1c\\xd7\\x80\\xd1$\\x9a\\x0e\\x89\"\\xe5y\\x8b+\\x0bZk*\\t\\x13\\x108\\xa9&K\\xa9$\\xee\\x9c\\x98\\xcfM\\x04\\x0cx\\xe4\\xb1\\x9c\\xe3\\x0c=\\xee\\x83\\xea\\x8e[\\xd9Q\\x93\\xf1\\x906\\xcfh\\xe8\\xbe\\x83\\xae\\xd5\\xecAi\\xd56\\x88G\\xf7J\\r\\xcb\\x87\\xe3\\x83_G\\xee)\\x17\\xa5?\\xe7\\xc6X\\xc3b\\xb5\\x87\\x11\\xa6\\x98\\x9a\\xea\\xd6\\x19\\xea\\xcdsU\\xee\\x9bzLA9\"Q=\\x91;m\\xc6:\\xc1.a?\\x07\\xbc\\xb2C\\xf1\\x84\\x15\\x18\\xcd\\xf0\\xe6\\x93s\\x8b\\x0e~\\xe0\\xe5 \\xdc@\\x88b\\x19\\xe6T\\xe4\\xf0M\\x84\\x11m\\x9e\\x9aA\\xb49\\x8b\\x11\\xe3\\xfaf \\xa2o\\xd5\\xbb\\xeb\\xad\\xb0\\x82\\xb1Y\\xd5\"\\xb6)\\xe6\\xa10\\xa4\\x04Jf\\x86\\x9a\\x0e\\x92k\\xe7\\xc0\\x94\\x99z\\x1b\\x8eMd\\xb7\\xc9\\xa0\\xee\\xcd\\xd79\\xd4\\xce\\x14p2\\xd4\\x1a\\xdf\\xae\\xf3\\xb5\\x052L\\xef\\xf2CZ$\\xb8\\xe5F\\x93\\xac\\xac\\xc3a^\\xad\\xbb\\x80\\x82\\x0f\\x8b@\\xe3\\x8cw\\x88l\\xb4\\xd9x\\x12\\x7f\\x9bX\\x05\\xd5\\x8c\\x17Xn\\x86\\xe1\\x9b\\xb4\\xb7,\\xcaR\\x9d.4\\xef\\xc2\\xc5\\xc2\\x98\\n\\x01UK\\xa2\\xe5k\\xd6\\xa8\\xac\\xfc@S\\x91\\x93\\xd9\\x1eJ^\\x82\\x9b\"\\xc4\\xdd\\xed\"|Lm\\xcb!\\x9d\\x9e\\xfb\\x08V2\\xde\\xf04{\\xa9\\xbc\\xc1o\\xc1A{\\x1c\\xd0\\xa6\\x0f\\xf5Q\\xfd\\x80g\\x82\\xe2\\xa7\\xabb\\x7f\\xb4\\xa4\\x1b\\x9c\\x86\\xfe\\xa5\\x96\\xc9\\x87\\xf5\\x8d}\\xf3k\\x8dp\\x1a\\xd3\\x04 \\xca\\x86\\x8bzJ\\x9d\\x94\\xc3\\xcc\\xc3&\\xa5Xg(&\\xa3\\xb5<&v\\xb9\\x08&\\xb0\\x85z\\xc7e\\x99\\x87\\xab\\xd9\\x9d?y\\xe1\\x91h\\x89\\xda\\xe2}\\xc3H\\xbf\\xc4\\xaa\\x8eI\\xe0\\xe5M\\xfc\\x1c\\x0cgF\\xf5@\\x11\\x9dP\\xb3\\x8f<\\xccd5\\xb9\\xc6\\x1e6\\x85\\xea\\x9c\\xd1\\xfbi\\x81 .\\x87\\x1b1\\xc4$\\x0ca\\xac\\xcf\\\\\\x89\\xca\\x9a\\xbc\\x8e\\xfb\\xea!\\x889\\x9df\\x01\\xd1\\xd3\\xb6\\xc1oy\\xc5\\xd9+\\xfay\\xc93\\xed\\xad7\\x1b\\x1d\\xc5Z\\xc7?\\t\\xc1\\xbc\\xac\\xac\\xf4\\x15\\x88\\ttr\\xf9pf\\x17\\x96\\xc9\\xaby\\x14\\xf4\\xfc!\\x04KJ9V\\x9e\\x16ZS74\\x03+U\\xa7Y\\xa0*\\xf9\\xceZ\\xbfE\\npv\\x85\\x0c%\\xc5\\x8e\\'\\xd7\\xb6\\xc2\\x84\\x89\\xab\\xf2\\xa5\\x91\\xdb\\xd5\\xd9\\xe3\\xc99o\\xcc\\x9e\\xfb\\xfc{?\\\\Z.\\xe2Y)l\\x7fd\\x8e\\x1d+!\\x8c\\xb41or\\x9e\\xcd\\x97\\xa2Q6\\xa3\\xd1\\xca`\\x82*\\xe8\\xbf\\xba\\x8c\\xb8\\xdf\\x953\\xaf\\x8e\\xab\\xe8|Y\\xa0\\r\\x16\\x87\\xa2Z\\x0f?\\x7f\\xa4\\xaf\\x9e\\xd1KTUv@\\xb8\\xe1Y\\xf7\\x81q\\xc3\\xab\\x92\\x85=\\x19\\xe5\\xfe\\xa0\\x15\\xf10\\xa3\\xaaC\\xe7Jd\\xc0!/\\xf3\\x12\\x93\\xba\\x8b0\"T\\x0e9M\\x8aKO\\xc6\\xbe\\xea\\x8dq-\\x90\\x97F\\x8f\\n;\\\\\\xf8\\x12\\xb8\\xf7j\\n)\\xbb\\x99\\x7f\\xbe\\x11\\xd6E\\xd6\\xd5\\x14*lO\\xaf\\x81P\\xf1\\x02\\x8e\\x92c[m[\\xa55\\xb4\\xaeBL4\\t\\xc7\\xc9^\\x98\\x10_35\\x0ePB\\x15\\xfbY/\\xf9+\\xac\\x0e\\xb5\\x8d\\x08\\'-\\xcfp\\xe0CKb\\x9f\\x0f\\xabw\\x87\\xd0\\t\\x8f\\xf5\\xc1\\xe12\\x15\\xca\\x8a\\'\\xdeF\\x16\\x95a\\x82s\\x12+C\\xc8\\\\\\x0e\\x89\\xd2U\\x05u9\\xd2^}1\\xec%/\\xf1\\x1f-\\x9d\\\\OL\\xb2O\\xc9\\xe9\\x90\\xae\\x04\\x7f\\xd1\\xf4-a\\xea\\x97\\x8a&B\\tM0\\x9c-\\x89\\x03\\x87\\xf8\\xf9p*\\xec\\x85\\x06[\\x05\\xd2\\x94\\xfd-tv\\x1e9%D\\xd9\\x997\\xe5J\\x08\\xe1i\\x08\\x1a\\xf4\\x8aD\\xf8\\x00\\x99\\xc0\\x0b\\x08c\\x91\\x9cP\\x93,(\\xdd\\xa6G\\xd6|a@#\\xeb\\xa4gj\\xc13Z+\\xa7O\\xd4R_v\\xf84g\\xfb\\x12r\\xe1;Q!m\\xb3\\x10!\\xc2\\xe0\\x15\\x85RXl(\\xc5\\x87\\x943sl\\xf2K\\x85\\xe3\\xb8\\x10x\\xd0\\x8cqJ\\xa3Y\\x95\\xa6Z\\xd0\\xefw\\xd1\\rl\\xd7\\xeeJM\\x83\\xa8x\\x9d\\xc7~$K\\xdd\\x0f\\x0bM\\x07\\x0b\\x9d\\xc6\\xb9mE\\xf3\\x8c\\xb1?MXQ\\xd0|G\\xeb>k>\\xc8\\xdd\\xfd\\x8c\\xf6\\x8fIy\\xf2\\xb0&O`\\x0eA\\xfag\\xcdA\\xc5s\\xe5\\x04\\xabp\\xfaaz\\xd4\\x8f\\xa8\\\\\\xc7\\xbe\\x96\\r\\xa2\\xf9\\xa2-\\xb8b\\xf1sv$\\xe3X\\xdf\\xcbk\\xe4\\xf4\\x86\\xeb\\x99\\xd2\\xc5\\x85&\\xe25Q\\xe3>\\x90\\xc3\\'\\x90\\xa7\\xffi+\\xa3\\x07x\\x7f\\xdb\\xdcD\\xbdeu\\x94\\x86\\xdf]8\\x07u\\t\\x9c\\x18\\xb1[\\x81d\\x80G4\\xed\\xa3\\xbe\\r\\x85\\xbf\\xa01\\xb3\\xae\\xc4\\xc0H\\'A\\x1d\\'.<\\xde\\xb3\\xe0\\x0c\\x088t\\xf5!\\x15\\xd6\\xc0\\x1d\\xbc\\xea\\x9e\\xbd\\xb4\\x83X\\x01\\r\\xbb\\x95\\x0cG\\'=\\rB\\xaccz\\t\\x82M\\x98\\xed\\x89lBm\\xbe\\x06\\x1a;)\\xd8\\xcdX \\xad^\\x86\\x99\\xcd u\\xb8\\x8d\\xe4@\\xe9\\xed\\xf4jYS\\x97\\xb9\\x03\\x03\\x90`\\xe6\\x01\\x0b\\xf9\\x1fPK\\x01\\x023\\x00-\\x00\\x00\\x00\\x08\\x00\\xaf\\x9b:R\\xfa\\xa0\\xda\\x0b\\xff\\xff\\xff\\xff\\xff\\xff\\xff\\xff\"\\x00\\x14\\x00\\x00\\x00\\x00\\x00\\x00\\x00\\x00\\x00\\x00\\x00\\x00\\x00\\x00\\x00healthcare-dataset-stroke-data.csv\\x01\\x00\\x10\\x00+\\xd6\\x04\\x00\\x00\\x00\\x00\\x00\\xc1\\x0c\\x01\\x00\\x00\\x00\\x00\\x00PK\\x05\\x06\\x00\\x00\\x00\\x00\\x01\\x00\\x01\\x00d\\x00\\x00\\x00\\x15\\r\\x01\\x00\\x00\\x00'}"
            ]
          },
          "metadata": {},
          "execution_count": 2
        }
      ]
    },
    {
      "cell_type": "code",
      "source": [
        "! unzip /content/archive_8.zip"
      ],
      "metadata": {
        "id": "Fk022W3EhptR",
        "colab": {
          "base_uri": "https://localhost:8080/"
        },
        "outputId": "caa0bcae-d407-4720-8430-45d7519da4a1"
      },
      "execution_count": 3,
      "outputs": [
        {
          "output_type": "stream",
          "name": "stdout",
          "text": [
            "Archive:  /content/archive_8.zip\n",
            "  inflating: healthcare-dataset-stroke-data.csv  \n"
          ]
        }
      ]
    },
    {
      "cell_type": "code",
      "source": [
        "# Memuat dan menampilkan dataframe\n",
        "csv_loc = '/content/healthcare-dataset-stroke-data.csv'\n",
        "stroke_data = pd.read_csv(csv_loc)\n",
        "\n",
        "stroke_data"
      ],
      "metadata": {
        "colab": {
          "base_uri": "https://localhost:8080/",
          "height": 423
        },
        "id": "dim1VYm5h4Ce",
        "outputId": "1403c5a3-6981-4149-c043-7cb271d2c75c"
      },
      "execution_count": 4,
      "outputs": [
        {
          "output_type": "execute_result",
          "data": {
            "text/plain": [
              "         id  gender   age  hypertension  heart_disease ever_married  \\\n",
              "0      9046    Male  67.0             0              1          Yes   \n",
              "1     51676  Female  61.0             0              0          Yes   \n",
              "2     31112    Male  80.0             0              1          Yes   \n",
              "3     60182  Female  49.0             0              0          Yes   \n",
              "4      1665  Female  79.0             1              0          Yes   \n",
              "...     ...     ...   ...           ...            ...          ...   \n",
              "5105  18234  Female  80.0             1              0          Yes   \n",
              "5106  44873  Female  81.0             0              0          Yes   \n",
              "5107  19723  Female  35.0             0              0          Yes   \n",
              "5108  37544    Male  51.0             0              0          Yes   \n",
              "5109  44679  Female  44.0             0              0          Yes   \n",
              "\n",
              "          work_type Residence_type  avg_glucose_level   bmi   smoking_status  \\\n",
              "0           Private          Urban             228.69  36.6  formerly smoked   \n",
              "1     Self-employed          Rural             202.21   NaN     never smoked   \n",
              "2           Private          Rural             105.92  32.5     never smoked   \n",
              "3           Private          Urban             171.23  34.4           smokes   \n",
              "4     Self-employed          Rural             174.12  24.0     never smoked   \n",
              "...             ...            ...                ...   ...              ...   \n",
              "5105        Private          Urban              83.75   NaN     never smoked   \n",
              "5106  Self-employed          Urban             125.20  40.0     never smoked   \n",
              "5107  Self-employed          Rural              82.99  30.6     never smoked   \n",
              "5108        Private          Rural             166.29  25.6  formerly smoked   \n",
              "5109       Govt_job          Urban              85.28  26.2          Unknown   \n",
              "\n",
              "      stroke  \n",
              "0          1  \n",
              "1          1  \n",
              "2          1  \n",
              "3          1  \n",
              "4          1  \n",
              "...      ...  \n",
              "5105       0  \n",
              "5106       0  \n",
              "5107       0  \n",
              "5108       0  \n",
              "5109       0  \n",
              "\n",
              "[5110 rows x 12 columns]"
            ],
            "text/html": [
              "\n",
              "  <div id=\"df-3c05ac8f-05f6-4054-a6dd-b15f1a6d890f\">\n",
              "    <div class=\"colab-df-container\">\n",
              "      <div>\n",
              "<style scoped>\n",
              "    .dataframe tbody tr th:only-of-type {\n",
              "        vertical-align: middle;\n",
              "    }\n",
              "\n",
              "    .dataframe tbody tr th {\n",
              "        vertical-align: top;\n",
              "    }\n",
              "\n",
              "    .dataframe thead th {\n",
              "        text-align: right;\n",
              "    }\n",
              "</style>\n",
              "<table border=\"1\" class=\"dataframe\">\n",
              "  <thead>\n",
              "    <tr style=\"text-align: right;\">\n",
              "      <th></th>\n",
              "      <th>id</th>\n",
              "      <th>gender</th>\n",
              "      <th>age</th>\n",
              "      <th>hypertension</th>\n",
              "      <th>heart_disease</th>\n",
              "      <th>ever_married</th>\n",
              "      <th>work_type</th>\n",
              "      <th>Residence_type</th>\n",
              "      <th>avg_glucose_level</th>\n",
              "      <th>bmi</th>\n",
              "      <th>smoking_status</th>\n",
              "      <th>stroke</th>\n",
              "    </tr>\n",
              "  </thead>\n",
              "  <tbody>\n",
              "    <tr>\n",
              "      <th>0</th>\n",
              "      <td>9046</td>\n",
              "      <td>Male</td>\n",
              "      <td>67.0</td>\n",
              "      <td>0</td>\n",
              "      <td>1</td>\n",
              "      <td>Yes</td>\n",
              "      <td>Private</td>\n",
              "      <td>Urban</td>\n",
              "      <td>228.69</td>\n",
              "      <td>36.6</td>\n",
              "      <td>formerly smoked</td>\n",
              "      <td>1</td>\n",
              "    </tr>\n",
              "    <tr>\n",
              "      <th>1</th>\n",
              "      <td>51676</td>\n",
              "      <td>Female</td>\n",
              "      <td>61.0</td>\n",
              "      <td>0</td>\n",
              "      <td>0</td>\n",
              "      <td>Yes</td>\n",
              "      <td>Self-employed</td>\n",
              "      <td>Rural</td>\n",
              "      <td>202.21</td>\n",
              "      <td>NaN</td>\n",
              "      <td>never smoked</td>\n",
              "      <td>1</td>\n",
              "    </tr>\n",
              "    <tr>\n",
              "      <th>2</th>\n",
              "      <td>31112</td>\n",
              "      <td>Male</td>\n",
              "      <td>80.0</td>\n",
              "      <td>0</td>\n",
              "      <td>1</td>\n",
              "      <td>Yes</td>\n",
              "      <td>Private</td>\n",
              "      <td>Rural</td>\n",
              "      <td>105.92</td>\n",
              "      <td>32.5</td>\n",
              "      <td>never smoked</td>\n",
              "      <td>1</td>\n",
              "    </tr>\n",
              "    <tr>\n",
              "      <th>3</th>\n",
              "      <td>60182</td>\n",
              "      <td>Female</td>\n",
              "      <td>49.0</td>\n",
              "      <td>0</td>\n",
              "      <td>0</td>\n",
              "      <td>Yes</td>\n",
              "      <td>Private</td>\n",
              "      <td>Urban</td>\n",
              "      <td>171.23</td>\n",
              "      <td>34.4</td>\n",
              "      <td>smokes</td>\n",
              "      <td>1</td>\n",
              "    </tr>\n",
              "    <tr>\n",
              "      <th>4</th>\n",
              "      <td>1665</td>\n",
              "      <td>Female</td>\n",
              "      <td>79.0</td>\n",
              "      <td>1</td>\n",
              "      <td>0</td>\n",
              "      <td>Yes</td>\n",
              "      <td>Self-employed</td>\n",
              "      <td>Rural</td>\n",
              "      <td>174.12</td>\n",
              "      <td>24.0</td>\n",
              "      <td>never smoked</td>\n",
              "      <td>1</td>\n",
              "    </tr>\n",
              "    <tr>\n",
              "      <th>...</th>\n",
              "      <td>...</td>\n",
              "      <td>...</td>\n",
              "      <td>...</td>\n",
              "      <td>...</td>\n",
              "      <td>...</td>\n",
              "      <td>...</td>\n",
              "      <td>...</td>\n",
              "      <td>...</td>\n",
              "      <td>...</td>\n",
              "      <td>...</td>\n",
              "      <td>...</td>\n",
              "      <td>...</td>\n",
              "    </tr>\n",
              "    <tr>\n",
              "      <th>5105</th>\n",
              "      <td>18234</td>\n",
              "      <td>Female</td>\n",
              "      <td>80.0</td>\n",
              "      <td>1</td>\n",
              "      <td>0</td>\n",
              "      <td>Yes</td>\n",
              "      <td>Private</td>\n",
              "      <td>Urban</td>\n",
              "      <td>83.75</td>\n",
              "      <td>NaN</td>\n",
              "      <td>never smoked</td>\n",
              "      <td>0</td>\n",
              "    </tr>\n",
              "    <tr>\n",
              "      <th>5106</th>\n",
              "      <td>44873</td>\n",
              "      <td>Female</td>\n",
              "      <td>81.0</td>\n",
              "      <td>0</td>\n",
              "      <td>0</td>\n",
              "      <td>Yes</td>\n",
              "      <td>Self-employed</td>\n",
              "      <td>Urban</td>\n",
              "      <td>125.20</td>\n",
              "      <td>40.0</td>\n",
              "      <td>never smoked</td>\n",
              "      <td>0</td>\n",
              "    </tr>\n",
              "    <tr>\n",
              "      <th>5107</th>\n",
              "      <td>19723</td>\n",
              "      <td>Female</td>\n",
              "      <td>35.0</td>\n",
              "      <td>0</td>\n",
              "      <td>0</td>\n",
              "      <td>Yes</td>\n",
              "      <td>Self-employed</td>\n",
              "      <td>Rural</td>\n",
              "      <td>82.99</td>\n",
              "      <td>30.6</td>\n",
              "      <td>never smoked</td>\n",
              "      <td>0</td>\n",
              "    </tr>\n",
              "    <tr>\n",
              "      <th>5108</th>\n",
              "      <td>37544</td>\n",
              "      <td>Male</td>\n",
              "      <td>51.0</td>\n",
              "      <td>0</td>\n",
              "      <td>0</td>\n",
              "      <td>Yes</td>\n",
              "      <td>Private</td>\n",
              "      <td>Rural</td>\n",
              "      <td>166.29</td>\n",
              "      <td>25.6</td>\n",
              "      <td>formerly smoked</td>\n",
              "      <td>0</td>\n",
              "    </tr>\n",
              "    <tr>\n",
              "      <th>5109</th>\n",
              "      <td>44679</td>\n",
              "      <td>Female</td>\n",
              "      <td>44.0</td>\n",
              "      <td>0</td>\n",
              "      <td>0</td>\n",
              "      <td>Yes</td>\n",
              "      <td>Govt_job</td>\n",
              "      <td>Urban</td>\n",
              "      <td>85.28</td>\n",
              "      <td>26.2</td>\n",
              "      <td>Unknown</td>\n",
              "      <td>0</td>\n",
              "    </tr>\n",
              "  </tbody>\n",
              "</table>\n",
              "<p>5110 rows × 12 columns</p>\n",
              "</div>\n",
              "      <button class=\"colab-df-convert\" onclick=\"convertToInteractive('df-3c05ac8f-05f6-4054-a6dd-b15f1a6d890f')\"\n",
              "              title=\"Convert this dataframe to an interactive table.\"\n",
              "              style=\"display:none;\">\n",
              "        \n",
              "  <svg xmlns=\"http://www.w3.org/2000/svg\" height=\"24px\"viewBox=\"0 0 24 24\"\n",
              "       width=\"24px\">\n",
              "    <path d=\"M0 0h24v24H0V0z\" fill=\"none\"/>\n",
              "    <path d=\"M18.56 5.44l.94 2.06.94-2.06 2.06-.94-2.06-.94-.94-2.06-.94 2.06-2.06.94zm-11 1L8.5 8.5l.94-2.06 2.06-.94-2.06-.94L8.5 2.5l-.94 2.06-2.06.94zm10 10l.94 2.06.94-2.06 2.06-.94-2.06-.94-.94-2.06-.94 2.06-2.06.94z\"/><path d=\"M17.41 7.96l-1.37-1.37c-.4-.4-.92-.59-1.43-.59-.52 0-1.04.2-1.43.59L10.3 9.45l-7.72 7.72c-.78.78-.78 2.05 0 2.83L4 21.41c.39.39.9.59 1.41.59.51 0 1.02-.2 1.41-.59l7.78-7.78 2.81-2.81c.8-.78.8-2.07 0-2.86zM5.41 20L4 18.59l7.72-7.72 1.47 1.35L5.41 20z\"/>\n",
              "  </svg>\n",
              "      </button>\n",
              "      \n",
              "  <style>\n",
              "    .colab-df-container {\n",
              "      display:flex;\n",
              "      flex-wrap:wrap;\n",
              "      gap: 12px;\n",
              "    }\n",
              "\n",
              "    .colab-df-convert {\n",
              "      background-color: #E8F0FE;\n",
              "      border: none;\n",
              "      border-radius: 50%;\n",
              "      cursor: pointer;\n",
              "      display: none;\n",
              "      fill: #1967D2;\n",
              "      height: 32px;\n",
              "      padding: 0 0 0 0;\n",
              "      width: 32px;\n",
              "    }\n",
              "\n",
              "    .colab-df-convert:hover {\n",
              "      background-color: #E2EBFA;\n",
              "      box-shadow: 0px 1px 2px rgba(60, 64, 67, 0.3), 0px 1px 3px 1px rgba(60, 64, 67, 0.15);\n",
              "      fill: #174EA6;\n",
              "    }\n",
              "\n",
              "    [theme=dark] .colab-df-convert {\n",
              "      background-color: #3B4455;\n",
              "      fill: #D2E3FC;\n",
              "    }\n",
              "\n",
              "    [theme=dark] .colab-df-convert:hover {\n",
              "      background-color: #434B5C;\n",
              "      box-shadow: 0px 1px 3px 1px rgba(0, 0, 0, 0.15);\n",
              "      filter: drop-shadow(0px 1px 2px rgba(0, 0, 0, 0.3));\n",
              "      fill: #FFFFFF;\n",
              "    }\n",
              "  </style>\n",
              "\n",
              "      <script>\n",
              "        const buttonEl =\n",
              "          document.querySelector('#df-3c05ac8f-05f6-4054-a6dd-b15f1a6d890f button.colab-df-convert');\n",
              "        buttonEl.style.display =\n",
              "          google.colab.kernel.accessAllowed ? 'block' : 'none';\n",
              "\n",
              "        async function convertToInteractive(key) {\n",
              "          const element = document.querySelector('#df-3c05ac8f-05f6-4054-a6dd-b15f1a6d890f');\n",
              "          const dataTable =\n",
              "            await google.colab.kernel.invokeFunction('convertToInteractive',\n",
              "                                                     [key], {});\n",
              "          if (!dataTable) return;\n",
              "\n",
              "          const docLinkHtml = 'Like what you see? Visit the ' +\n",
              "            '<a target=\"_blank\" href=https://colab.research.google.com/notebooks/data_table.ipynb>data table notebook</a>'\n",
              "            + ' to learn more about interactive tables.';\n",
              "          element.innerHTML = '';\n",
              "          dataTable['output_type'] = 'display_data';\n",
              "          await google.colab.output.renderOutput(dataTable, element);\n",
              "          const docLink = document.createElement('div');\n",
              "          docLink.innerHTML = docLinkHtml;\n",
              "          element.appendChild(docLink);\n",
              "        }\n",
              "      </script>\n",
              "    </div>\n",
              "  </div>\n",
              "  "
            ]
          },
          "metadata": {},
          "execution_count": 4
        }
      ]
    },
    {
      "cell_type": "markdown",
      "source": [
        "Didapatkan informasi bahwa terdapat 5.110 records dan 12 kolom yaitu: id, gender, age, hypertension, heart_disease, ever_married, work_type, Residence_type, avg_glucose_level, bmi, smoking_status, dan stroke. Kolom \"id\" tidak akan digunakan dalam pengembangan sistem prediksi, maka akan dihapus pada tahap Data Preprocessing. Dan terdapat missing value berupa nilai NaN pada kolom \"bmi\", maka hal ini akan ditangani pada tahap EDA - Menangani Missing Value."
      ],
      "metadata": {
        "id": "1Xavx51wiLiy"
      }
    },
    {
      "cell_type": "markdown",
      "source": [
        "# **EDA - Deskripsi Variabel**\n",
        "\n",
        "- id: Unique Identifier\n",
        "- gender: Jenis kelamin pengguna (Male, Female, Other)\n",
        "- age: Umur pengguna\n",
        "- hypertension: Nilai \"0\" menunjukkan pengguna tidak memiliki tekanan darah tinggi, nilai \"1\" menunjukkan pengguna memiliki tekanan darah tinggi.\n",
        "- heart_disease: Nilai \"0\" menunjukkan pengguna tidak memiliki penyakit jantung, nilai \"1\" menunjukkan pengguna memiliki penyakit jantung.\n",
        "- ever_married: Status menikah yang ditunjukkan dengan nilai \"Yes\" dan \"No\".\n",
        "- work_type: Jenis pekerjaan yang ditunjukkan dengan masih anak-anak (children), PNS (Govt_jov), Tidak pernah bekerja (Never_worked), swasta (Private), dan wiraswasta (Self-employed).\n",
        "- Residence_type: Lingkungan tempat tinggal apakah di pedesaan (Rural) atau di perkotaan (Urban).\n",
        "- avg_glucose_level: Kadar glukosa rata-rata dalam darah.\n",
        "- bmi: Indeks massa tubuh atau ukuran berat badan pengguna.\n",
        "- smoking_status: Status merokok pengguna, apakah dahulu merupakan seorang perokok (formerly smoked), tidak pernah merokok (never smoked), saat ini seorang perokok (smokes), atau tidak diketahui (unknown).\n",
        "- stroke: Nilai \"0\" menunjukkan pengguna tidak teridentifikasi memiliki resiko stroke, nilai \"1\" menunjukkan pengguna teridentifikasi memiliki resiko stroke."
      ],
      "metadata": {
        "id": "EO2HH8Q8iq_P"
      }
    },
    {
      "cell_type": "code",
      "source": [
        "# Mengecek informasi pada dataset\n",
        "stroke_data.info()"
      ],
      "metadata": {
        "colab": {
          "base_uri": "https://localhost:8080/"
        },
        "id": "Fy6eAct4iIl8",
        "outputId": "7a817ac2-eca4-4966-ec6e-d58aae506639"
      },
      "execution_count": 5,
      "outputs": [
        {
          "output_type": "stream",
          "name": "stdout",
          "text": [
            "<class 'pandas.core.frame.DataFrame'>\n",
            "RangeIndex: 5110 entries, 0 to 5109\n",
            "Data columns (total 12 columns):\n",
            " #   Column             Non-Null Count  Dtype  \n",
            "---  ------             --------------  -----  \n",
            " 0   id                 5110 non-null   int64  \n",
            " 1   gender             5110 non-null   object \n",
            " 2   age                5110 non-null   float64\n",
            " 3   hypertension       5110 non-null   int64  \n",
            " 4   heart_disease      5110 non-null   int64  \n",
            " 5   ever_married       5110 non-null   object \n",
            " 6   work_type          5110 non-null   object \n",
            " 7   Residence_type     5110 non-null   object \n",
            " 8   avg_glucose_level  5110 non-null   float64\n",
            " 9   bmi                4909 non-null   float64\n",
            " 10  smoking_status     5110 non-null   object \n",
            " 11  stroke             5110 non-null   int64  \n",
            "dtypes: float64(3), int64(4), object(5)\n",
            "memory usage: 479.2+ KB\n"
          ]
        }
      ]
    },
    {
      "cell_type": "markdown",
      "source": [
        "Dari output diatas dapat diketahui bahwa:\n",
        "-\tTerdapat 4 kolom numerik dengan tipe int64, yaitu: id, hypertension, heart_disease, dan stroke. 4 kolom ini nantinya akan masuk kedalam categorical features karena hanya memiliki dua nilai yaitu TRUE dan False.\n",
        "-\tTerdapat 3 kolom numerik dengan tipe data float64, yaitu: age, avg_glucose_level, dan bmi.\n",
        "- Terdapat 5 kolom dengan tipe object, yaitu: gender, ever_married, work_type, Residence_type, dan smoking_status. Kolom ini merupakan categorical features (fitur non-numerik)."
      ],
      "metadata": {
        "id": "QcKjhja4i7iw"
      }
    },
    {
      "cell_type": "code",
      "source": [
        "# Melihat deskripsi statistik data\n",
        "stroke_data.describe()"
      ],
      "metadata": {
        "colab": {
          "base_uri": "https://localhost:8080/",
          "height": 300
        },
        "id": "QXOuPBBGi6GS",
        "outputId": "b3eab1fb-3465-4b8d-833e-d4f9dc56bbb2"
      },
      "execution_count": 6,
      "outputs": [
        {
          "output_type": "execute_result",
          "data": {
            "text/plain": [
              "                 id          age  hypertension  heart_disease  \\\n",
              "count   5110.000000  5110.000000   5110.000000    5110.000000   \n",
              "mean   36517.829354    43.226614      0.097456       0.054012   \n",
              "std    21161.721625    22.612647      0.296607       0.226063   \n",
              "min       67.000000     0.080000      0.000000       0.000000   \n",
              "25%    17741.250000    25.000000      0.000000       0.000000   \n",
              "50%    36932.000000    45.000000      0.000000       0.000000   \n",
              "75%    54682.000000    61.000000      0.000000       0.000000   \n",
              "max    72940.000000    82.000000      1.000000       1.000000   \n",
              "\n",
              "       avg_glucose_level          bmi       stroke  \n",
              "count        5110.000000  4909.000000  5110.000000  \n",
              "mean          106.147677    28.893237     0.048728  \n",
              "std            45.283560     7.854067     0.215320  \n",
              "min            55.120000    10.300000     0.000000  \n",
              "25%            77.245000    23.500000     0.000000  \n",
              "50%            91.885000    28.100000     0.000000  \n",
              "75%           114.090000    33.100000     0.000000  \n",
              "max           271.740000    97.600000     1.000000  "
            ],
            "text/html": [
              "\n",
              "  <div id=\"df-d7f1317e-3d88-4c34-87fe-5f5eacafaadc\">\n",
              "    <div class=\"colab-df-container\">\n",
              "      <div>\n",
              "<style scoped>\n",
              "    .dataframe tbody tr th:only-of-type {\n",
              "        vertical-align: middle;\n",
              "    }\n",
              "\n",
              "    .dataframe tbody tr th {\n",
              "        vertical-align: top;\n",
              "    }\n",
              "\n",
              "    .dataframe thead th {\n",
              "        text-align: right;\n",
              "    }\n",
              "</style>\n",
              "<table border=\"1\" class=\"dataframe\">\n",
              "  <thead>\n",
              "    <tr style=\"text-align: right;\">\n",
              "      <th></th>\n",
              "      <th>id</th>\n",
              "      <th>age</th>\n",
              "      <th>hypertension</th>\n",
              "      <th>heart_disease</th>\n",
              "      <th>avg_glucose_level</th>\n",
              "      <th>bmi</th>\n",
              "      <th>stroke</th>\n",
              "    </tr>\n",
              "  </thead>\n",
              "  <tbody>\n",
              "    <tr>\n",
              "      <th>count</th>\n",
              "      <td>5110.000000</td>\n",
              "      <td>5110.000000</td>\n",
              "      <td>5110.000000</td>\n",
              "      <td>5110.000000</td>\n",
              "      <td>5110.000000</td>\n",
              "      <td>4909.000000</td>\n",
              "      <td>5110.000000</td>\n",
              "    </tr>\n",
              "    <tr>\n",
              "      <th>mean</th>\n",
              "      <td>36517.829354</td>\n",
              "      <td>43.226614</td>\n",
              "      <td>0.097456</td>\n",
              "      <td>0.054012</td>\n",
              "      <td>106.147677</td>\n",
              "      <td>28.893237</td>\n",
              "      <td>0.048728</td>\n",
              "    </tr>\n",
              "    <tr>\n",
              "      <th>std</th>\n",
              "      <td>21161.721625</td>\n",
              "      <td>22.612647</td>\n",
              "      <td>0.296607</td>\n",
              "      <td>0.226063</td>\n",
              "      <td>45.283560</td>\n",
              "      <td>7.854067</td>\n",
              "      <td>0.215320</td>\n",
              "    </tr>\n",
              "    <tr>\n",
              "      <th>min</th>\n",
              "      <td>67.000000</td>\n",
              "      <td>0.080000</td>\n",
              "      <td>0.000000</td>\n",
              "      <td>0.000000</td>\n",
              "      <td>55.120000</td>\n",
              "      <td>10.300000</td>\n",
              "      <td>0.000000</td>\n",
              "    </tr>\n",
              "    <tr>\n",
              "      <th>25%</th>\n",
              "      <td>17741.250000</td>\n",
              "      <td>25.000000</td>\n",
              "      <td>0.000000</td>\n",
              "      <td>0.000000</td>\n",
              "      <td>77.245000</td>\n",
              "      <td>23.500000</td>\n",
              "      <td>0.000000</td>\n",
              "    </tr>\n",
              "    <tr>\n",
              "      <th>50%</th>\n",
              "      <td>36932.000000</td>\n",
              "      <td>45.000000</td>\n",
              "      <td>0.000000</td>\n",
              "      <td>0.000000</td>\n",
              "      <td>91.885000</td>\n",
              "      <td>28.100000</td>\n",
              "      <td>0.000000</td>\n",
              "    </tr>\n",
              "    <tr>\n",
              "      <th>75%</th>\n",
              "      <td>54682.000000</td>\n",
              "      <td>61.000000</td>\n",
              "      <td>0.000000</td>\n",
              "      <td>0.000000</td>\n",
              "      <td>114.090000</td>\n",
              "      <td>33.100000</td>\n",
              "      <td>0.000000</td>\n",
              "    </tr>\n",
              "    <tr>\n",
              "      <th>max</th>\n",
              "      <td>72940.000000</td>\n",
              "      <td>82.000000</td>\n",
              "      <td>1.000000</td>\n",
              "      <td>1.000000</td>\n",
              "      <td>271.740000</td>\n",
              "      <td>97.600000</td>\n",
              "      <td>1.000000</td>\n",
              "    </tr>\n",
              "  </tbody>\n",
              "</table>\n",
              "</div>\n",
              "      <button class=\"colab-df-convert\" onclick=\"convertToInteractive('df-d7f1317e-3d88-4c34-87fe-5f5eacafaadc')\"\n",
              "              title=\"Convert this dataframe to an interactive table.\"\n",
              "              style=\"display:none;\">\n",
              "        \n",
              "  <svg xmlns=\"http://www.w3.org/2000/svg\" height=\"24px\"viewBox=\"0 0 24 24\"\n",
              "       width=\"24px\">\n",
              "    <path d=\"M0 0h24v24H0V0z\" fill=\"none\"/>\n",
              "    <path d=\"M18.56 5.44l.94 2.06.94-2.06 2.06-.94-2.06-.94-.94-2.06-.94 2.06-2.06.94zm-11 1L8.5 8.5l.94-2.06 2.06-.94-2.06-.94L8.5 2.5l-.94 2.06-2.06.94zm10 10l.94 2.06.94-2.06 2.06-.94-2.06-.94-.94-2.06-.94 2.06-2.06.94z\"/><path d=\"M17.41 7.96l-1.37-1.37c-.4-.4-.92-.59-1.43-.59-.52 0-1.04.2-1.43.59L10.3 9.45l-7.72 7.72c-.78.78-.78 2.05 0 2.83L4 21.41c.39.39.9.59 1.41.59.51 0 1.02-.2 1.41-.59l7.78-7.78 2.81-2.81c.8-.78.8-2.07 0-2.86zM5.41 20L4 18.59l7.72-7.72 1.47 1.35L5.41 20z\"/>\n",
              "  </svg>\n",
              "      </button>\n",
              "      \n",
              "  <style>\n",
              "    .colab-df-container {\n",
              "      display:flex;\n",
              "      flex-wrap:wrap;\n",
              "      gap: 12px;\n",
              "    }\n",
              "\n",
              "    .colab-df-convert {\n",
              "      background-color: #E8F0FE;\n",
              "      border: none;\n",
              "      border-radius: 50%;\n",
              "      cursor: pointer;\n",
              "      display: none;\n",
              "      fill: #1967D2;\n",
              "      height: 32px;\n",
              "      padding: 0 0 0 0;\n",
              "      width: 32px;\n",
              "    }\n",
              "\n",
              "    .colab-df-convert:hover {\n",
              "      background-color: #E2EBFA;\n",
              "      box-shadow: 0px 1px 2px rgba(60, 64, 67, 0.3), 0px 1px 3px 1px rgba(60, 64, 67, 0.15);\n",
              "      fill: #174EA6;\n",
              "    }\n",
              "\n",
              "    [theme=dark] .colab-df-convert {\n",
              "      background-color: #3B4455;\n",
              "      fill: #D2E3FC;\n",
              "    }\n",
              "\n",
              "    [theme=dark] .colab-df-convert:hover {\n",
              "      background-color: #434B5C;\n",
              "      box-shadow: 0px 1px 3px 1px rgba(0, 0, 0, 0.15);\n",
              "      filter: drop-shadow(0px 1px 2px rgba(0, 0, 0, 0.3));\n",
              "      fill: #FFFFFF;\n",
              "    }\n",
              "  </style>\n",
              "\n",
              "      <script>\n",
              "        const buttonEl =\n",
              "          document.querySelector('#df-d7f1317e-3d88-4c34-87fe-5f5eacafaadc button.colab-df-convert');\n",
              "        buttonEl.style.display =\n",
              "          google.colab.kernel.accessAllowed ? 'block' : 'none';\n",
              "\n",
              "        async function convertToInteractive(key) {\n",
              "          const element = document.querySelector('#df-d7f1317e-3d88-4c34-87fe-5f5eacafaadc');\n",
              "          const dataTable =\n",
              "            await google.colab.kernel.invokeFunction('convertToInteractive',\n",
              "                                                     [key], {});\n",
              "          if (!dataTable) return;\n",
              "\n",
              "          const docLinkHtml = 'Like what you see? Visit the ' +\n",
              "            '<a target=\"_blank\" href=https://colab.research.google.com/notebooks/data_table.ipynb>data table notebook</a>'\n",
              "            + ' to learn more about interactive tables.';\n",
              "          element.innerHTML = '';\n",
              "          dataTable['output_type'] = 'display_data';\n",
              "          await google.colab.output.renderOutput(dataTable, element);\n",
              "          const docLink = document.createElement('div');\n",
              "          docLink.innerHTML = docLinkHtml;\n",
              "          element.appendChild(docLink);\n",
              "        }\n",
              "      </script>\n",
              "    </div>\n",
              "  </div>\n",
              "  "
            ]
          },
          "metadata": {},
          "execution_count": 6
        }
      ]
    },
    {
      "cell_type": "markdown",
      "source": [
        "- Count adalah jumlah sampel pada data.\n",
        "- Mean adalah nilai rata-rata.\n",
        "- Std adalah standar deviasi.\n",
        "- Min yaitu nilai minimum setiap kolom. \n",
        "- 25% adalah kuartil pertama. Kuartil adalah nilai yang menandai batas interval dalam empat bagian sebaran yang sama. \n",
        "- 50% adalah kuartil kedua, atau biasa juga disebut median (nilai tengah).\n",
        "- 75% adalah kuartil ketiga.\n",
        "- Max adalah nilai maksimum."
      ],
      "metadata": {
        "id": "EgEbx7ARjk60"
      }
    },
    {
      "cell_type": "markdown",
      "source": [
        "# **EDA - Menangani Missing Value dan Outliers**"
      ],
      "metadata": {
        "id": "lDnuUB7ejmIH"
      }
    },
    {
      "cell_type": "code",
      "source": [
        "# Mengecek missing value pada dataset\n",
        "stroke_data.isna().sum()"
      ],
      "metadata": {
        "colab": {
          "base_uri": "https://localhost:8080/"
        },
        "id": "BIvgdZFIjh0K",
        "outputId": "7fdf7f9b-5baf-49fc-aee9-bab4010d7c84"
      },
      "execution_count": 7,
      "outputs": [
        {
          "output_type": "execute_result",
          "data": {
            "text/plain": [
              "id                     0\n",
              "gender                 0\n",
              "age                    0\n",
              "hypertension           0\n",
              "heart_disease          0\n",
              "ever_married           0\n",
              "work_type              0\n",
              "Residence_type         0\n",
              "avg_glucose_level      0\n",
              "bmi                  201\n",
              "smoking_status         0\n",
              "stroke                 0\n",
              "dtype: int64"
            ]
          },
          "metadata": {},
          "execution_count": 7
        }
      ]
    },
    {
      "cell_type": "markdown",
      "source": [
        "Diketahui terdapat 201 missing value pada kolom \"bmi\", maka hal ini akan diatasi dengan mengganti nilai missing value dengan nilai mean (rata-rata) berat badan \"bmi\" untuk mempertahankan distribusi data."
      ],
      "metadata": {
        "id": "1iLJCAC4j-fN"
      }
    },
    {
      "cell_type": "code",
      "source": [
        "# Missing value pada fitur \"bmi\" akan diganti dengan nilai rata-rata berat badan pada fitur \"bmi\"\n",
        "stroke_data['bmi'].fillna(stroke_data['bmi'].mean(), inplace=True)\n",
        "\n",
        "stroke_data"
      ],
      "metadata": {
        "colab": {
          "base_uri": "https://localhost:8080/",
          "height": 423
        },
        "id": "z0qmtN-kj7lw",
        "outputId": "97613603-b3fd-490e-92fe-7b23dbc00804"
      },
      "execution_count": 8,
      "outputs": [
        {
          "output_type": "execute_result",
          "data": {
            "text/plain": [
              "         id  gender   age  hypertension  heart_disease ever_married  \\\n",
              "0      9046    Male  67.0             0              1          Yes   \n",
              "1     51676  Female  61.0             0              0          Yes   \n",
              "2     31112    Male  80.0             0              1          Yes   \n",
              "3     60182  Female  49.0             0              0          Yes   \n",
              "4      1665  Female  79.0             1              0          Yes   \n",
              "...     ...     ...   ...           ...            ...          ...   \n",
              "5105  18234  Female  80.0             1              0          Yes   \n",
              "5106  44873  Female  81.0             0              0          Yes   \n",
              "5107  19723  Female  35.0             0              0          Yes   \n",
              "5108  37544    Male  51.0             0              0          Yes   \n",
              "5109  44679  Female  44.0             0              0          Yes   \n",
              "\n",
              "          work_type Residence_type  avg_glucose_level        bmi  \\\n",
              "0           Private          Urban             228.69  36.600000   \n",
              "1     Self-employed          Rural             202.21  28.893237   \n",
              "2           Private          Rural             105.92  32.500000   \n",
              "3           Private          Urban             171.23  34.400000   \n",
              "4     Self-employed          Rural             174.12  24.000000   \n",
              "...             ...            ...                ...        ...   \n",
              "5105        Private          Urban              83.75  28.893237   \n",
              "5106  Self-employed          Urban             125.20  40.000000   \n",
              "5107  Self-employed          Rural              82.99  30.600000   \n",
              "5108        Private          Rural             166.29  25.600000   \n",
              "5109       Govt_job          Urban              85.28  26.200000   \n",
              "\n",
              "       smoking_status  stroke  \n",
              "0     formerly smoked       1  \n",
              "1        never smoked       1  \n",
              "2        never smoked       1  \n",
              "3              smokes       1  \n",
              "4        never smoked       1  \n",
              "...               ...     ...  \n",
              "5105     never smoked       0  \n",
              "5106     never smoked       0  \n",
              "5107     never smoked       0  \n",
              "5108  formerly smoked       0  \n",
              "5109          Unknown       0  \n",
              "\n",
              "[5110 rows x 12 columns]"
            ],
            "text/html": [
              "\n",
              "  <div id=\"df-c47bf00d-4eee-4b33-abf9-10a750d9244b\">\n",
              "    <div class=\"colab-df-container\">\n",
              "      <div>\n",
              "<style scoped>\n",
              "    .dataframe tbody tr th:only-of-type {\n",
              "        vertical-align: middle;\n",
              "    }\n",
              "\n",
              "    .dataframe tbody tr th {\n",
              "        vertical-align: top;\n",
              "    }\n",
              "\n",
              "    .dataframe thead th {\n",
              "        text-align: right;\n",
              "    }\n",
              "</style>\n",
              "<table border=\"1\" class=\"dataframe\">\n",
              "  <thead>\n",
              "    <tr style=\"text-align: right;\">\n",
              "      <th></th>\n",
              "      <th>id</th>\n",
              "      <th>gender</th>\n",
              "      <th>age</th>\n",
              "      <th>hypertension</th>\n",
              "      <th>heart_disease</th>\n",
              "      <th>ever_married</th>\n",
              "      <th>work_type</th>\n",
              "      <th>Residence_type</th>\n",
              "      <th>avg_glucose_level</th>\n",
              "      <th>bmi</th>\n",
              "      <th>smoking_status</th>\n",
              "      <th>stroke</th>\n",
              "    </tr>\n",
              "  </thead>\n",
              "  <tbody>\n",
              "    <tr>\n",
              "      <th>0</th>\n",
              "      <td>9046</td>\n",
              "      <td>Male</td>\n",
              "      <td>67.0</td>\n",
              "      <td>0</td>\n",
              "      <td>1</td>\n",
              "      <td>Yes</td>\n",
              "      <td>Private</td>\n",
              "      <td>Urban</td>\n",
              "      <td>228.69</td>\n",
              "      <td>36.600000</td>\n",
              "      <td>formerly smoked</td>\n",
              "      <td>1</td>\n",
              "    </tr>\n",
              "    <tr>\n",
              "      <th>1</th>\n",
              "      <td>51676</td>\n",
              "      <td>Female</td>\n",
              "      <td>61.0</td>\n",
              "      <td>0</td>\n",
              "      <td>0</td>\n",
              "      <td>Yes</td>\n",
              "      <td>Self-employed</td>\n",
              "      <td>Rural</td>\n",
              "      <td>202.21</td>\n",
              "      <td>28.893237</td>\n",
              "      <td>never smoked</td>\n",
              "      <td>1</td>\n",
              "    </tr>\n",
              "    <tr>\n",
              "      <th>2</th>\n",
              "      <td>31112</td>\n",
              "      <td>Male</td>\n",
              "      <td>80.0</td>\n",
              "      <td>0</td>\n",
              "      <td>1</td>\n",
              "      <td>Yes</td>\n",
              "      <td>Private</td>\n",
              "      <td>Rural</td>\n",
              "      <td>105.92</td>\n",
              "      <td>32.500000</td>\n",
              "      <td>never smoked</td>\n",
              "      <td>1</td>\n",
              "    </tr>\n",
              "    <tr>\n",
              "      <th>3</th>\n",
              "      <td>60182</td>\n",
              "      <td>Female</td>\n",
              "      <td>49.0</td>\n",
              "      <td>0</td>\n",
              "      <td>0</td>\n",
              "      <td>Yes</td>\n",
              "      <td>Private</td>\n",
              "      <td>Urban</td>\n",
              "      <td>171.23</td>\n",
              "      <td>34.400000</td>\n",
              "      <td>smokes</td>\n",
              "      <td>1</td>\n",
              "    </tr>\n",
              "    <tr>\n",
              "      <th>4</th>\n",
              "      <td>1665</td>\n",
              "      <td>Female</td>\n",
              "      <td>79.0</td>\n",
              "      <td>1</td>\n",
              "      <td>0</td>\n",
              "      <td>Yes</td>\n",
              "      <td>Self-employed</td>\n",
              "      <td>Rural</td>\n",
              "      <td>174.12</td>\n",
              "      <td>24.000000</td>\n",
              "      <td>never smoked</td>\n",
              "      <td>1</td>\n",
              "    </tr>\n",
              "    <tr>\n",
              "      <th>...</th>\n",
              "      <td>...</td>\n",
              "      <td>...</td>\n",
              "      <td>...</td>\n",
              "      <td>...</td>\n",
              "      <td>...</td>\n",
              "      <td>...</td>\n",
              "      <td>...</td>\n",
              "      <td>...</td>\n",
              "      <td>...</td>\n",
              "      <td>...</td>\n",
              "      <td>...</td>\n",
              "      <td>...</td>\n",
              "    </tr>\n",
              "    <tr>\n",
              "      <th>5105</th>\n",
              "      <td>18234</td>\n",
              "      <td>Female</td>\n",
              "      <td>80.0</td>\n",
              "      <td>1</td>\n",
              "      <td>0</td>\n",
              "      <td>Yes</td>\n",
              "      <td>Private</td>\n",
              "      <td>Urban</td>\n",
              "      <td>83.75</td>\n",
              "      <td>28.893237</td>\n",
              "      <td>never smoked</td>\n",
              "      <td>0</td>\n",
              "    </tr>\n",
              "    <tr>\n",
              "      <th>5106</th>\n",
              "      <td>44873</td>\n",
              "      <td>Female</td>\n",
              "      <td>81.0</td>\n",
              "      <td>0</td>\n",
              "      <td>0</td>\n",
              "      <td>Yes</td>\n",
              "      <td>Self-employed</td>\n",
              "      <td>Urban</td>\n",
              "      <td>125.20</td>\n",
              "      <td>40.000000</td>\n",
              "      <td>never smoked</td>\n",
              "      <td>0</td>\n",
              "    </tr>\n",
              "    <tr>\n",
              "      <th>5107</th>\n",
              "      <td>19723</td>\n",
              "      <td>Female</td>\n",
              "      <td>35.0</td>\n",
              "      <td>0</td>\n",
              "      <td>0</td>\n",
              "      <td>Yes</td>\n",
              "      <td>Self-employed</td>\n",
              "      <td>Rural</td>\n",
              "      <td>82.99</td>\n",
              "      <td>30.600000</td>\n",
              "      <td>never smoked</td>\n",
              "      <td>0</td>\n",
              "    </tr>\n",
              "    <tr>\n",
              "      <th>5108</th>\n",
              "      <td>37544</td>\n",
              "      <td>Male</td>\n",
              "      <td>51.0</td>\n",
              "      <td>0</td>\n",
              "      <td>0</td>\n",
              "      <td>Yes</td>\n",
              "      <td>Private</td>\n",
              "      <td>Rural</td>\n",
              "      <td>166.29</td>\n",
              "      <td>25.600000</td>\n",
              "      <td>formerly smoked</td>\n",
              "      <td>0</td>\n",
              "    </tr>\n",
              "    <tr>\n",
              "      <th>5109</th>\n",
              "      <td>44679</td>\n",
              "      <td>Female</td>\n",
              "      <td>44.0</td>\n",
              "      <td>0</td>\n",
              "      <td>0</td>\n",
              "      <td>Yes</td>\n",
              "      <td>Govt_job</td>\n",
              "      <td>Urban</td>\n",
              "      <td>85.28</td>\n",
              "      <td>26.200000</td>\n",
              "      <td>Unknown</td>\n",
              "      <td>0</td>\n",
              "    </tr>\n",
              "  </tbody>\n",
              "</table>\n",
              "<p>5110 rows × 12 columns</p>\n",
              "</div>\n",
              "      <button class=\"colab-df-convert\" onclick=\"convertToInteractive('df-c47bf00d-4eee-4b33-abf9-10a750d9244b')\"\n",
              "              title=\"Convert this dataframe to an interactive table.\"\n",
              "              style=\"display:none;\">\n",
              "        \n",
              "  <svg xmlns=\"http://www.w3.org/2000/svg\" height=\"24px\"viewBox=\"0 0 24 24\"\n",
              "       width=\"24px\">\n",
              "    <path d=\"M0 0h24v24H0V0z\" fill=\"none\"/>\n",
              "    <path d=\"M18.56 5.44l.94 2.06.94-2.06 2.06-.94-2.06-.94-.94-2.06-.94 2.06-2.06.94zm-11 1L8.5 8.5l.94-2.06 2.06-.94-2.06-.94L8.5 2.5l-.94 2.06-2.06.94zm10 10l.94 2.06.94-2.06 2.06-.94-2.06-.94-.94-2.06-.94 2.06-2.06.94z\"/><path d=\"M17.41 7.96l-1.37-1.37c-.4-.4-.92-.59-1.43-.59-.52 0-1.04.2-1.43.59L10.3 9.45l-7.72 7.72c-.78.78-.78 2.05 0 2.83L4 21.41c.39.39.9.59 1.41.59.51 0 1.02-.2 1.41-.59l7.78-7.78 2.81-2.81c.8-.78.8-2.07 0-2.86zM5.41 20L4 18.59l7.72-7.72 1.47 1.35L5.41 20z\"/>\n",
              "  </svg>\n",
              "      </button>\n",
              "      \n",
              "  <style>\n",
              "    .colab-df-container {\n",
              "      display:flex;\n",
              "      flex-wrap:wrap;\n",
              "      gap: 12px;\n",
              "    }\n",
              "\n",
              "    .colab-df-convert {\n",
              "      background-color: #E8F0FE;\n",
              "      border: none;\n",
              "      border-radius: 50%;\n",
              "      cursor: pointer;\n",
              "      display: none;\n",
              "      fill: #1967D2;\n",
              "      height: 32px;\n",
              "      padding: 0 0 0 0;\n",
              "      width: 32px;\n",
              "    }\n",
              "\n",
              "    .colab-df-convert:hover {\n",
              "      background-color: #E2EBFA;\n",
              "      box-shadow: 0px 1px 2px rgba(60, 64, 67, 0.3), 0px 1px 3px 1px rgba(60, 64, 67, 0.15);\n",
              "      fill: #174EA6;\n",
              "    }\n",
              "\n",
              "    [theme=dark] .colab-df-convert {\n",
              "      background-color: #3B4455;\n",
              "      fill: #D2E3FC;\n",
              "    }\n",
              "\n",
              "    [theme=dark] .colab-df-convert:hover {\n",
              "      background-color: #434B5C;\n",
              "      box-shadow: 0px 1px 3px 1px rgba(0, 0, 0, 0.15);\n",
              "      filter: drop-shadow(0px 1px 2px rgba(0, 0, 0, 0.3));\n",
              "      fill: #FFFFFF;\n",
              "    }\n",
              "  </style>\n",
              "\n",
              "      <script>\n",
              "        const buttonEl =\n",
              "          document.querySelector('#df-c47bf00d-4eee-4b33-abf9-10a750d9244b button.colab-df-convert');\n",
              "        buttonEl.style.display =\n",
              "          google.colab.kernel.accessAllowed ? 'block' : 'none';\n",
              "\n",
              "        async function convertToInteractive(key) {\n",
              "          const element = document.querySelector('#df-c47bf00d-4eee-4b33-abf9-10a750d9244b');\n",
              "          const dataTable =\n",
              "            await google.colab.kernel.invokeFunction('convertToInteractive',\n",
              "                                                     [key], {});\n",
              "          if (!dataTable) return;\n",
              "\n",
              "          const docLinkHtml = 'Like what you see? Visit the ' +\n",
              "            '<a target=\"_blank\" href=https://colab.research.google.com/notebooks/data_table.ipynb>data table notebook</a>'\n",
              "            + ' to learn more about interactive tables.';\n",
              "          element.innerHTML = '';\n",
              "          dataTable['output_type'] = 'display_data';\n",
              "          await google.colab.output.renderOutput(dataTable, element);\n",
              "          const docLink = document.createElement('div');\n",
              "          docLink.innerHTML = docLinkHtml;\n",
              "          element.appendChild(docLink);\n",
              "        }\n",
              "      </script>\n",
              "    </div>\n",
              "  </div>\n",
              "  "
            ]
          },
          "metadata": {},
          "execution_count": 8
        }
      ]
    },
    {
      "cell_type": "code",
      "source": [
        "# Melihat outliers pada numerical features \"age\"\n",
        "sns.boxplot(x=stroke_data['age'])"
      ],
      "metadata": {
        "colab": {
          "base_uri": "https://localhost:8080/",
          "height": 297
        },
        "id": "mFM001rckW-G",
        "outputId": "26bfbd86-464f-4bb1-ac8c-5afc30927304"
      },
      "execution_count": 9,
      "outputs": [
        {
          "output_type": "execute_result",
          "data": {
            "text/plain": [
              "<matplotlib.axes._subplots.AxesSubplot at 0x7f3dc3ec5450>"
            ]
          },
          "metadata": {},
          "execution_count": 9
        },
        {
          "output_type": "display_data",
          "data": {
            "text/plain": [
              "<Figure size 432x288 with 1 Axes>"
            ],
            "image/png": "[encoded data removed]"
          },
          "metadata": {
            "needs_background": "light"
          }
        }
      ]
    },
    {
      "cell_type": "code",
      "source": [
        "# Melihat outliers pada numerical features \"avg_glucose_level\"\n",
        "sns.boxplot(x=stroke_data['avg_glucose_level'])"
      ],
      "metadata": {
        "colab": {
          "base_uri": "https://localhost:8080/",
          "height": 298
        },
        "id": "ANVSX7C5lVNL",
        "outputId": "28d93915-e399-4a99-9728-77bb5be145cc"
      },
      "execution_count": 10,
      "outputs": [
        {
          "output_type": "execute_result",
          "data": {
            "text/plain": [
              "<matplotlib.axes._subplots.AxesSubplot at 0x7f3dc3dac690>"
            ]
          },
          "metadata": {},
          "execution_count": 10
        },
        {
          "output_type": "display_data",
          "data": {
            "text/plain": [
              "<Figure size 432x288 with 1 Axes>"
            ],
            "image/png": "[encoded data removed]"
          },
          "metadata": {
            "needs_background": "light"
          }
        }
      ]
    },
    {
      "cell_type": "code",
      "source": [
        "# Melihat outliers pada numerical features \"bmi\"\n",
        "sns.boxplot(x=stroke_data['bmi'])"
      ],
      "metadata": {
        "colab": {
          "base_uri": "https://localhost:8080/",
          "height": 297
        },
        "id": "h3GIvkN_lbE9",
        "outputId": "66ccdc9c-cf38-4f67-9f35-e70e64f39e63"
      },
      "execution_count": 11,
      "outputs": [
        {
          "output_type": "execute_result",
          "data": {
            "text/plain": [
              "<matplotlib.axes._subplots.AxesSubplot at 0x7f3dc38de9d0>"
            ]
          },
          "metadata": {},
          "execution_count": 11
        },
        {
          "output_type": "display_data",
          "data": {
            "text/plain": [
              "<Figure size 432x288 with 1 Axes>"
            ],
            "image/png": "[encoded data removed]"
          },
          "metadata": {
            "needs_background": "light"
          }
        }
      ]
    },
    {
      "cell_type": "code",
      "source": [
        "# Menangani outliers pada fitur \"bmi\"\n",
        "feature_outliers = ['bmi']\n",
        "\n",
        "Q1 = stroke_data[feature_outliers].quantile(0.25)\n",
        "Q3 = stroke_data[feature_outliers].quantile(0.75)\n",
        "IQR=Q3 - Q1\n",
        "\n",
        "stroke_data[feature_outliers]=stroke_data[feature_outliers][~((stroke_data[feature_outliers] < (Q1 - 1.5 * IQR))|(stroke_data[feature_outliers] > (Q3 + 1.5 * IQR))).any(axis=1)]\n",
        " \n",
        "# Cek ukuran dataset setelah kita drop outliers\n",
        "stroke_data.shape"
      ],
      "metadata": {
        "colab": {
          "base_uri": "https://localhost:8080/"
        },
        "id": "jympbA6Tlc3M",
        "outputId": "4f28120f-33f5-4877-b977-060b15ab0967"
      },
      "execution_count": 12,
      "outputs": [
        {
          "output_type": "execute_result",
          "data": {
            "text/plain": [
              "(5110, 12)"
            ]
          },
          "metadata": {},
          "execution_count": 12
        }
      ]
    },
    {
      "cell_type": "markdown",
      "source": [
        "# **EDA - Univariate Analysis**"
      ],
      "metadata": {
        "id": "tDT-tMYamqlf"
      }
    },
    {
      "cell_type": "markdown",
      "source": [
        "Langkah selanjutnya membagi fitur pada dataset menjadi numerical features dan categorical features."
      ],
      "metadata": {
        "id": "LQYc4ACCmuS4"
      }
    },
    {
      "cell_type": "code",
      "source": [
        "categoric_features = ['gender', 'hypertension', 'heart_disease', 'ever_married', 'work_type', 'Residence_type', 'smoking_status', 'stroke']\n",
        "numeric_features = ['age', 'avg_glucose_level', 'bmi']"
      ],
      "metadata": {
        "id": "X1u6416PmJ8c"
      },
      "execution_count": 13,
      "outputs": []
    },
    {
      "cell_type": "markdown",
      "source": [
        "## **Categorical Features**\n",
        "Melakkan analisis terhadap fitur kategori"
      ],
      "metadata": {
        "id": "VsHWpEYZnOYD"
      }
    },
    {
      "cell_type": "code",
      "source": [
        "# Memvisualisasikan categorical features \"gender\"\n",
        "plt.figure(figsize=(10, 7))\n",
        "feature = categoric_features[0]\n",
        "count = stroke_data[feature].value_counts()\n",
        "percent = 100 * stroke_data[feature].value_counts(normalize=True)\n",
        "df = pd.DataFrame({'Jumlah Sampel':count, 'Persentase':percent.round(1)})\n",
        "\n",
        "print(df)\n",
        "count.plot(kind='bar');\n",
        "plt.title(feature, size=20)"
      ],
      "metadata": {
        "colab": {
          "base_uri": "https://localhost:8080/",
          "height": 567
        },
        "id": "d-IUMMkJnN8j",
        "outputId": "6a238c5f-1a16-461f-8b47-ed6719838ae9"
      },
      "execution_count": 14,
      "outputs": [
        {
          "output_type": "stream",
          "name": "stdout",
          "text": [
            "        Jumlah Sampel  Persentase\n",
            "Female           2994        58.6\n",
            "Male             2115        41.4\n",
            "Other               1         0.0\n"
          ]
        },
        {
          "output_type": "execute_result",
          "data": {
            "text/plain": [
              "Text(0.5, 1.0, 'gender')"
            ]
          },
          "metadata": {},
          "execution_count": 14
        },
        {
          "output_type": "display_data",
          "data": {
            "text/plain": [
              "<Figure size 720x504 with 1 Axes>"
            ],
            "image/png": "[encoded data removed]"
          },
          "metadata": {
            "needs_background": "light"
          }
        }
      ]
    },
    {
      "cell_type": "markdown",
      "source": [
        "Dari visualisasi fitur gender diatas terdapat 2 kategori pada fitur gender, secara berurutan dari yang paling banyak yaitu: Female, dan Male. Dari data persentase dapat disimpulkan bahwa lebih dari 50% sampel merupakan perempuan \"Female\""
      ],
      "metadata": {
        "id": "_zs9hvd6o5pK"
      }
    },
    {
      "cell_type": "code",
      "source": [
        "# Mengecek jumlah sample pada masing-masing variabel pada fitur \"gender\"\n",
        "stroke_data.groupby('gender').agg('count')"
      ],
      "metadata": {
        "colab": {
          "base_uri": "https://localhost:8080/",
          "height": 175
        },
        "id": "VK5HGVyno6mI",
        "outputId": "e1ddc14b-c213-4ded-fbf3-a7dcf0a24d7f"
      },
      "execution_count": 15,
      "outputs": [
        {
          "output_type": "execute_result",
          "data": {
            "text/plain": [
              "          id   age  hypertension  heart_disease  ever_married  work_type  \\\n",
              "gender                                                                     \n",
              "Female  2994  2994          2994           2994          2994       2994   \n",
              "Male    2115  2115          2115           2115          2115       2115   \n",
              "Other      1     1             1              1             1          1   \n",
              "\n",
              "        Residence_type  avg_glucose_level   bmi  smoking_status  stroke  \n",
              "gender                                                                   \n",
              "Female            2994               2994  2895            2994    2994  \n",
              "Male              2115               2115  2088            2115    2115  \n",
              "Other                1                  1     1               1       1  "
            ],
            "text/html": [
              "\n",
              "  <div id=\"df-7bd2f29b-5013-4df4-8e71-c5b883f349c6\">\n",
              "    <div class=\"colab-df-container\">\n",
              "      <div>\n",
              "<style scoped>\n",
              "    .dataframe tbody tr th:only-of-type {\n",
              "        vertical-align: middle;\n",
              "    }\n",
              "\n",
              "    .dataframe tbody tr th {\n",
              "        vertical-align: top;\n",
              "    }\n",
              "\n",
              "    .dataframe thead th {\n",
              "        text-align: right;\n",
              "    }\n",
              "</style>\n",
              "<table border=\"1\" class=\"dataframe\">\n",
              "  <thead>\n",
              "    <tr style=\"text-align: right;\">\n",
              "      <th></th>\n",
              "      <th>id</th>\n",
              "      <th>age</th>\n",
              "      <th>hypertension</th>\n",
              "      <th>heart_disease</th>\n",
              "      <th>ever_married</th>\n",
              "      <th>work_type</th>\n",
              "      <th>Residence_type</th>\n",
              "      <th>avg_glucose_level</th>\n",
              "      <th>bmi</th>\n",
              "      <th>smoking_status</th>\n",
              "      <th>stroke</th>\n",
              "    </tr>\n",
              "    <tr>\n",
              "      <th>gender</th>\n",
              "      <th></th>\n",
              "      <th></th>\n",
              "      <th></th>\n",
              "      <th></th>\n",
              "      <th></th>\n",
              "      <th></th>\n",
              "      <th></th>\n",
              "      <th></th>\n",
              "      <th></th>\n",
              "      <th></th>\n",
              "      <th></th>\n",
              "    </tr>\n",
              "  </thead>\n",
              "  <tbody>\n",
              "    <tr>\n",
              "      <th>Female</th>\n",
              "      <td>2994</td>\n",
              "      <td>2994</td>\n",
              "      <td>2994</td>\n",
              "      <td>2994</td>\n",
              "      <td>2994</td>\n",
              "      <td>2994</td>\n",
              "      <td>2994</td>\n",
              "      <td>2994</td>\n",
              "      <td>2895</td>\n",
              "      <td>2994</td>\n",
              "      <td>2994</td>\n",
              "    </tr>\n",
              "    <tr>\n",
              "      <th>Male</th>\n",
              "      <td>2115</td>\n",
              "      <td>2115</td>\n",
              "      <td>2115</td>\n",
              "      <td>2115</td>\n",
              "      <td>2115</td>\n",
              "      <td>2115</td>\n",
              "      <td>2115</td>\n",
              "      <td>2115</td>\n",
              "      <td>2088</td>\n",
              "      <td>2115</td>\n",
              "      <td>2115</td>\n",
              "    </tr>\n",
              "    <tr>\n",
              "      <th>Other</th>\n",
              "      <td>1</td>\n",
              "      <td>1</td>\n",
              "      <td>1</td>\n",
              "      <td>1</td>\n",
              "      <td>1</td>\n",
              "      <td>1</td>\n",
              "      <td>1</td>\n",
              "      <td>1</td>\n",
              "      <td>1</td>\n",
              "      <td>1</td>\n",
              "      <td>1</td>\n",
              "    </tr>\n",
              "  </tbody>\n",
              "</table>\n",
              "</div>\n",
              "      <button class=\"colab-df-convert\" onclick=\"convertToInteractive('df-7bd2f29b-5013-4df4-8e71-c5b883f349c6')\"\n",
              "              title=\"Convert this dataframe to an interactive table.\"\n",
              "              style=\"display:none;\">\n",
              "        \n",
              "  <svg xmlns=\"http://www.w3.org/2000/svg\" height=\"24px\"viewBox=\"0 0 24 24\"\n",
              "       width=\"24px\">\n",
              "    <path d=\"M0 0h24v24H0V0z\" fill=\"none\"/>\n",
              "    <path d=\"M18.56 5.44l.94 2.06.94-2.06 2.06-.94-2.06-.94-.94-2.06-.94 2.06-2.06.94zm-11 1L8.5 8.5l.94-2.06 2.06-.94-2.06-.94L8.5 2.5l-.94 2.06-2.06.94zm10 10l.94 2.06.94-2.06 2.06-.94-2.06-.94-.94-2.06-.94 2.06-2.06.94z\"/><path d=\"M17.41 7.96l-1.37-1.37c-.4-.4-.92-.59-1.43-.59-.52 0-1.04.2-1.43.59L10.3 9.45l-7.72 7.72c-.78.78-.78 2.05 0 2.83L4 21.41c.39.39.9.59 1.41.59.51 0 1.02-.2 1.41-.59l7.78-7.78 2.81-2.81c.8-.78.8-2.07 0-2.86zM5.41 20L4 18.59l7.72-7.72 1.47 1.35L5.41 20z\"/>\n",
              "  </svg>\n",
              "      </button>\n",
              "      \n",
              "  <style>\n",
              "    .colab-df-container {\n",
              "      display:flex;\n",
              "      flex-wrap:wrap;\n",
              "      gap: 12px;\n",
              "    }\n",
              "\n",
              "    .colab-df-convert {\n",
              "      background-color: #E8F0FE;\n",
              "      border: none;\n",
              "      border-radius: 50%;\n",
              "      cursor: pointer;\n",
              "      display: none;\n",
              "      fill: #1967D2;\n",
              "      height: 32px;\n",
              "      padding: 0 0 0 0;\n",
              "      width: 32px;\n",
              "    }\n",
              "\n",
              "    .colab-df-convert:hover {\n",
              "      background-color: #E2EBFA;\n",
              "      box-shadow: 0px 1px 2px rgba(60, 64, 67, 0.3), 0px 1px 3px 1px rgba(60, 64, 67, 0.15);\n",
              "      fill: #174EA6;\n",
              "    }\n",
              "\n",
              "    [theme=dark] .colab-df-convert {\n",
              "      background-color: #3B4455;\n",
              "      fill: #D2E3FC;\n",
              "    }\n",
              "\n",
              "    [theme=dark] .colab-df-convert:hover {\n",
              "      background-color: #434B5C;\n",
              "      box-shadow: 0px 1px 3px 1px rgba(0, 0, 0, 0.15);\n",
              "      filter: drop-shadow(0px 1px 2px rgba(0, 0, 0, 0.3));\n",
              "      fill: #FFFFFF;\n",
              "    }\n",
              "  </style>\n",
              "\n",
              "      <script>\n",
              "        const buttonEl =\n",
              "          document.querySelector('#df-7bd2f29b-5013-4df4-8e71-c5b883f349c6 button.colab-df-convert');\n",
              "        buttonEl.style.display =\n",
              "          google.colab.kernel.accessAllowed ? 'block' : 'none';\n",
              "\n",
              "        async function convertToInteractive(key) {\n",
              "          const element = document.querySelector('#df-7bd2f29b-5013-4df4-8e71-c5b883f349c6');\n",
              "          const dataTable =\n",
              "            await google.colab.kernel.invokeFunction('convertToInteractive',\n",
              "                                                     [key], {});\n",
              "          if (!dataTable) return;\n",
              "\n",
              "          const docLinkHtml = 'Like what you see? Visit the ' +\n",
              "            '<a target=\"_blank\" href=https://colab.research.google.com/notebooks/data_table.ipynb>data table notebook</a>'\n",
              "            + ' to learn more about interactive tables.';\n",
              "          element.innerHTML = '';\n",
              "          dataTable['output_type'] = 'display_data';\n",
              "          await google.colab.output.renderOutput(dataTable, element);\n",
              "          const docLink = document.createElement('div');\n",
              "          docLink.innerHTML = docLinkHtml;\n",
              "          element.appendChild(docLink);\n",
              "        }\n",
              "      </script>\n",
              "    </div>\n",
              "  </div>\n",
              "  "
            ]
          },
          "metadata": {},
          "execution_count": 15
        }
      ]
    },
    {
      "cell_type": "markdown",
      "source": [
        "Diketahui terdapat sample yang terlalu sedikit pada jenis kelamin \"Other\" di fitur \"gender\". Maka nantinya akan dilakukan penghapusan terhadap sample \"Other\" pada tahap Data Preparation."
      ],
      "metadata": {
        "id": "y_IFA7aEpHFK"
      }
    },
    {
      "cell_type": "code",
      "source": [
        "# Memvisualisasikan categorical features \"hypertension\"\n",
        "plt.figure(figsize=(10, 7))\n",
        "feature = categoric_features[1]\n",
        "count = stroke_data[feature].value_counts()\n",
        "percent = 100 * stroke_data[feature].value_counts(normalize=True)\n",
        "df = pd.DataFrame({'Jumlah Sampel':count, 'Persentase':percent.round(1)})\n",
        "\n",
        "print(df)\n",
        "count.plot(kind='bar');\n",
        "plt.title(feature, size=20)"
      ],
      "metadata": {
        "colab": {
          "base_uri": "https://localhost:8080/",
          "height": 519
        },
        "id": "31pz_w6Rn2vs",
        "outputId": "5b6a2b5c-93b3-483a-aaa3-ac02b5a3de2c"
      },
      "execution_count": 16,
      "outputs": [
        {
          "output_type": "stream",
          "name": "stdout",
          "text": [
            "   Jumlah Sampel  Persentase\n",
            "0           4612        90.3\n",
            "1            498         9.7\n"
          ]
        },
        {
          "output_type": "execute_result",
          "data": {
            "text/plain": [
              "Text(0.5, 1.0, 'hypertension')"
            ]
          },
          "metadata": {},
          "execution_count": 16
        },
        {
          "output_type": "display_data",
          "data": {
            "text/plain": [
              "<Figure size 720x504 with 1 Axes>"
            ],
            "image/png": "[encoded data removed]"
          },
          "metadata": {
            "needs_background": "light"
          }
        }
      ]
    },
    {
      "cell_type": "code",
      "source": [
        "# Memvisualisasikan categorical features \"heart_disease\"\n",
        "plt.figure(figsize=(10, 7))\n",
        "feature = categoric_features[2]\n",
        "count = stroke_data[feature].value_counts()\n",
        "percent = 100 * stroke_data[feature].value_counts(normalize=True)\n",
        "df = pd.DataFrame({'Jumlah Sampel':count, 'Persentase':percent.round(1)})\n",
        "\n",
        "print(df)\n",
        "count.plot(kind='bar');\n",
        "plt.title(feature, size=20)"
      ],
      "metadata": {
        "colab": {
          "base_uri": "https://localhost:8080/",
          "height": 519
        },
        "id": "CpOEvDygoOni",
        "outputId": "df6be831-a3cd-4ff0-f265-a55b83e4e035"
      },
      "execution_count": 17,
      "outputs": [
        {
          "output_type": "stream",
          "name": "stdout",
          "text": [
            "   Jumlah Sampel  Persentase\n",
            "0           4834        94.6\n",
            "1            276         5.4\n"
          ]
        },
        {
          "output_type": "execute_result",
          "data": {
            "text/plain": [
              "Text(0.5, 1.0, 'heart_disease')"
            ]
          },
          "metadata": {},
          "execution_count": 17
        },
        {
          "output_type": "display_data",
          "data": {
            "text/plain": [
              "<Figure size 720x504 with 1 Axes>"
            ],
            "image/png": "[encoded data removed]"
          },
          "metadata": {
            "needs_background": "light"
          }
        }
      ]
    },
    {
      "cell_type": "code",
      "source": [
        "# Memvisualisasikan categorical features \"ever_married\"\n",
        "plt.figure(figsize=(10, 7))\n",
        "feature = categoric_features[3]\n",
        "count = stroke_data[feature].value_counts()\n",
        "percent = 100 * stroke_data[feature].value_counts(normalize=True)\n",
        "df = pd.DataFrame({'Jumlah Sampel':count, 'Persentase':percent.round(1)})\n",
        "\n",
        "print(df)\n",
        "count.plot(kind='bar');\n",
        "plt.title(feature, size=20)"
      ],
      "metadata": {
        "colab": {
          "base_uri": "https://localhost:8080/",
          "height": 528
        },
        "id": "nvuyw-sQoSvr",
        "outputId": "1168792c-c550-40b5-abc1-05a0fcc4fcd6"
      },
      "execution_count": 18,
      "outputs": [
        {
          "output_type": "stream",
          "name": "stdout",
          "text": [
            "     Jumlah Sampel  Persentase\n",
            "Yes           3353        65.6\n",
            "No            1757        34.4\n"
          ]
        },
        {
          "output_type": "execute_result",
          "data": {
            "text/plain": [
              "Text(0.5, 1.0, 'ever_married')"
            ]
          },
          "metadata": {},
          "execution_count": 18
        },
        {
          "output_type": "display_data",
          "data": {
            "text/plain": [
              "<Figure size 720x504 with 1 Axes>"
            ],
            "image/png": "[encoded data removed]"
          },
          "metadata": {
            "needs_background": "light"
          }
        }
      ]
    },
    {
      "cell_type": "code",
      "source": [
        "# Memvisualisasikan categorical features \"work_type\"\n",
        "plt.figure(figsize=(10, 7))\n",
        "feature = categoric_features[4]\n",
        "count = stroke_data[feature].value_counts()\n",
        "percent = 100 * stroke_data[feature].value_counts(normalize=True)\n",
        "df = pd.DataFrame({'Jumlah Sampel':count, 'Persentase':percent.round(1)})\n",
        "\n",
        "print(df)\n",
        "count.plot(kind='bar');\n",
        "plt.title(feature, size=20)"
      ],
      "metadata": {
        "colab": {
          "base_uri": "https://localhost:8080/",
          "height": 639
        },
        "id": "9GE-6zbVoWAK",
        "outputId": "1b12b634-44e7-4160-f73b-e1d26aa8e509"
      },
      "execution_count": 19,
      "outputs": [
        {
          "output_type": "stream",
          "name": "stdout",
          "text": [
            "               Jumlah Sampel  Persentase\n",
            "Private                 2925        57.2\n",
            "Self-employed            819        16.0\n",
            "children                 687        13.4\n",
            "Govt_job                 657        12.9\n",
            "Never_worked              22         0.4\n"
          ]
        },
        {
          "output_type": "execute_result",
          "data": {
            "text/plain": [
              "Text(0.5, 1.0, 'work_type')"
            ]
          },
          "metadata": {},
          "execution_count": 19
        },
        {
          "output_type": "display_data",
          "data": {
            "text/plain": [
              "<Figure size 720x504 with 1 Axes>"
            ],
            "image/png": "[encoded data removed]"
          },
          "metadata": {
            "needs_background": "light"
          }
        }
      ]
    },
    {
      "cell_type": "code",
      "source": [
        "# Memvisualisasikan categorical features \"Residence_type\"\n",
        "plt.figure(figsize=(10, 7))\n",
        "feature = categoric_features[5]\n",
        "count = stroke_data[feature].value_counts()\n",
        "percent = 100 * stroke_data[feature].value_counts(normalize=True)\n",
        "df = pd.DataFrame({'Jumlah Sampel':count, 'Persentase':percent.round(1)})\n",
        "\n",
        "print(df)\n",
        "count.plot(kind='bar');\n",
        "plt.title(feature, size=20)"
      ],
      "metadata": {
        "colab": {
          "base_uri": "https://localhost:8080/",
          "height": 543
        },
        "id": "2KgOj3vAoZSl",
        "outputId": "9e3024b1-7401-44db-bdcc-df9f11673dd2"
      },
      "execution_count": 20,
      "outputs": [
        {
          "output_type": "stream",
          "name": "stdout",
          "text": [
            "       Jumlah Sampel  Persentase\n",
            "Urban           2596        50.8\n",
            "Rural           2514        49.2\n"
          ]
        },
        {
          "output_type": "execute_result",
          "data": {
            "text/plain": [
              "Text(0.5, 1.0, 'Residence_type')"
            ]
          },
          "metadata": {},
          "execution_count": 20
        },
        {
          "output_type": "display_data",
          "data": {
            "text/plain": [
              "<Figure size 720x504 with 1 Axes>"
            ],
            "image/png": "[encoded data removed]"
          },
          "metadata": {
            "needs_background": "light"
          }
        }
      ]
    },
    {
      "cell_type": "code",
      "source": [
        "# Memvisualisasikan categorical features \"smoking_status\"\n",
        "plt.figure(figsize=(10, 7))\n",
        "feature = categoric_features[6]\n",
        "count = stroke_data[feature].value_counts()\n",
        "percent = 100 * stroke_data[feature].value_counts(normalize=True)\n",
        "df = pd.DataFrame({'Jumlah Sampel':count, 'Persentase':percent.round(1)})\n",
        "\n",
        "print(df)\n",
        "count.plot(kind='bar');\n",
        "plt.title(feature, size=20)"
      ],
      "metadata": {
        "colab": {
          "base_uri": "https://localhost:8080/",
          "height": 634
        },
        "id": "YBfzhVtYoe8d",
        "outputId": "5133196f-3552-44fd-9062-799170976218"
      },
      "execution_count": 21,
      "outputs": [
        {
          "output_type": "stream",
          "name": "stdout",
          "text": [
            "                 Jumlah Sampel  Persentase\n",
            "never smoked              1892        37.0\n",
            "Unknown                   1544        30.2\n",
            "formerly smoked            885        17.3\n",
            "smokes                     789        15.4\n"
          ]
        },
        {
          "output_type": "execute_result",
          "data": {
            "text/plain": [
              "Text(0.5, 1.0, 'smoking_status')"
            ]
          },
          "metadata": {},
          "execution_count": 21
        },
        {
          "output_type": "display_data",
          "data": {
            "text/plain": [
              "<Figure size 720x504 with 1 Axes>"
            ],
            "image/png": "[encoded data removed]"
          },
          "metadata": {
            "needs_background": "light"
          }
        }
      ]
    },
    {
      "cell_type": "code",
      "source": [
        "# Memvisualisasikan categorical features \"stroke\"\n",
        "plt.figure(figsize=(10, 7))\n",
        "feature = categoric_features[7]\n",
        "count = stroke_data[feature].value_counts()\n",
        "percent = 100 * stroke_data[feature].value_counts(normalize=True)\n",
        "df = pd.DataFrame({'Jumlah Sampel':count, 'Persentase':percent.round(1)})\n",
        "\n",
        "print(df)\n",
        "count.plot(kind='bar');\n",
        "plt.title(feature, size=20)"
      ],
      "metadata": {
        "colab": {
          "base_uri": "https://localhost:8080/",
          "height": 519
        },
        "id": "4OSh7IL2ok4l",
        "outputId": "f1845e00-a4ff-40b9-d8b2-8ed9df6fa170"
      },
      "execution_count": 22,
      "outputs": [
        {
          "output_type": "stream",
          "name": "stdout",
          "text": [
            "   Jumlah Sampel  Persentase\n",
            "0           4861        95.1\n",
            "1            249         4.9\n"
          ]
        },
        {
          "output_type": "execute_result",
          "data": {
            "text/plain": [
              "Text(0.5, 1.0, 'stroke')"
            ]
          },
          "metadata": {},
          "execution_count": 22
        },
        {
          "output_type": "display_data",
          "data": {
            "text/plain": [
              "<Figure size 720x504 with 1 Axes>"
            ],
            "image/png": "[encoded data removed]"
          },
          "metadata": {
            "needs_background": "light"
          }
        }
      ]
    },
    {
      "cell_type": "markdown",
      "source": [
        "## **Numerical Features**"
      ],
      "metadata": {
        "id": "YuEzsqFPpsc4"
      }
    },
    {
      "cell_type": "code",
      "source": [
        "# Menampilkan histogram pada masing-masing numerical features\n",
        "stroke_data[numeric_features].hist(bins=50, figsize=(20, 15))\n",
        "\n",
        "plt.show()"
      ],
      "metadata": {
        "colab": {
          "base_uri": "https://localhost:8080/",
          "height": 879
        },
        "id": "RI9oOmjuom8u",
        "outputId": "57acf33e-5b23-4161-c8f0-2ca7067c783a"
      },
      "execution_count": 23,
      "outputs": [
        {
          "output_type": "display_data",
          "data": {
            "text/plain": [
              "<Figure size 1440x1080 with 4 Axes>"
            ],
            "image/png": "[encoded data removed]"
          },
          "metadata": {
            "needs_background": "light"
          }
        }
      ]
    },
    {
      "cell_type": "markdown",
      "source": [
        "# **EDA - Multivariate Analysis**"
      ],
      "metadata": {
        "id": "c1eewPH_r1gU"
      }
    },
    {
      "cell_type": "markdown",
      "source": [
        "## **Categorical Features**"
      ],
      "metadata": {
        "id": "v9YgnO9or5bI"
      }
    },
    {
      "cell_type": "code",
      "source": [
        "cat_features = stroke_data[categoric_features].columns.to_list()\n",
        "\n",
        "for col in cat_features:\n",
        "  sns.catplot(x=col, y=\"stroke\", kind=\"bar\", dodge=False, height = 4, aspect = 3,  data=stroke_data, palette=\"Set3\")\n",
        "  plt.title(\"Rata-rata 'stroke' relatif terhadap - {}\".format(col))"
      ],
      "metadata": {
        "colab": {
          "base_uri": "https://localhost:8080/",
          "height": 1000
        },
        "id": "6mbF3roxqdIQ",
        "outputId": "ddc1eff5-066f-4610-d82c-683300f354cf"
      },
      "execution_count": 24,
      "outputs": [
        {
          "output_type": "display_data",
          "data": {
            "text/plain": [
              "<Figure size 864x288 with 1 Axes>"
            ],
            "image/png": "[encoded data removed]"
          },
          "metadata": {
            "needs_background": "light"
          }
        },
        {
          "output_type": "display_data",
          "data": {
            "text/plain": [
              "<Figure size 864x288 with 1 Axes>"
            ],
            "image/png": "[encoded data removed]"
          },
          "metadata": {
            "needs_background": "light"
          }
        },
        {
          "output_type": "display_data",
          "data": {
            "text/plain": [
              "<Figure size 864x288 with 1 Axes>"
            ],
            "image/png": "[encoded data removed]"
          },
          "metadata": {
            "needs_background": "light"
          }
        },
        {
          "output_type": "display_data",
          "data": {
            "text/plain": [
              "<Figure size 864x288 with 1 Axes>"
            ],
            "image/png": "[encoded data removed]"
          },
          "metadata": {
            "needs_background": "light"
          }
        },
        {
          "output_type": "display_data",
          "data": {
            "text/plain": [
              "<Figure size 864x288 with 1 Axes>"
            ],
            "image/png": "[encoded data removed]"
          },
          "metadata": {
            "needs_background": "light"
          }
        },
        {
          "output_type": "display_data",
          "data": {
            "text/plain": [
              "<Figure size 864x288 with 1 Axes>"
            ],
            "image/png": "[encoded data removed]"
          },
          "metadata": {
            "needs_background": "light"
          }
        },
        {
          "output_type": "display_data",
          "data": {
            "text/plain": [
              "<Figure size 864x288 with 1 Axes>"
            ],
            "image/png": "[encoded data removed]"
          },
          "metadata": {
            "needs_background": "light"
          }
        },
        {
          "output_type": "display_data",
          "data": {
            "text/plain": [
              "<Figure size 864x288 with 1 Axes>"
            ],
            "image/png": "[encoded data removed]"
          },
          "metadata": {
            "needs_background": "light"
          }
        }
      ]
    },
    {
      "cell_type": "markdown",
      "source": [
        "## **Numerical Features**"
      ],
      "metadata": {
        "id": "rKioktPisoYc"
      }
    },
    {
      "cell_type": "markdown",
      "source": [
        "Menampilkan kolerasi antar fitur numerical"
      ],
      "metadata": {
        "id": "2t86mfTbsq-J"
      }
    },
    {
      "cell_type": "code",
      "source": [
        "# Mengevaluasi skor korelasinya\n",
        "plt.figure(figsize=(14, 12))\n",
        "correlation_matrix = stroke_data[numeric_features].corr().round(2)\n",
        " \n",
        "# Untuk menge-print nilai di dalam kotak, gunakan parameter anot=True\n",
        "sns.heatmap(data=correlation_matrix, annot=True, cmap='coolwarm', linewidths=0.5, )\n",
        "plt.title('   Correlation Matrix untuk Fitur Numerik\\n', size=25)"
      ],
      "metadata": {
        "colab": {
          "base_uri": "https://localhost:8080/",
          "height": 772
        },
        "id": "BgPE57MgsnKO",
        "outputId": "d3877db3-0706-49ab-d09c-529b5517c16a"
      },
      "execution_count": 25,
      "outputs": [
        {
          "output_type": "execute_result",
          "data": {
            "text/plain": [
              "Text(0.5, 1.0, '   Correlation Matrix untuk Fitur Numerik\\n')"
            ]
          },
          "metadata": {},
          "execution_count": 25
        },
        {
          "output_type": "display_data",
          "data": {
            "text/plain": [
              "<Figure size 1008x864 with 2 Axes>"
            ],
            "image/png": "[encoded data removed]"
          },
          "metadata": {
            "needs_background": "light"
          }
        }
      ]
    },
    {
      "cell_type": "markdown",
      "source": [
        "# **Data Preparation**"
      ],
      "metadata": {
        "id": "0Wghx7lNtgm-"
      }
    },
    {
      "cell_type": "markdown",
      "source": [
        "Kolom \"id\" akan dihapus karena tidak dibuthkan dalam membuat sistem prediksi."
      ],
      "metadata": {
        "id": "BLpDKJH-toVY"
      }
    },
    {
      "cell_type": "code",
      "source": [
        "stroke_data.drop(['id'], axis=1, inplace=True)\n",
        "\n",
        "stroke_data"
      ],
      "metadata": {
        "colab": {
          "base_uri": "https://localhost:8080/",
          "height": 423
        },
        "id": "AJhaP-iNttI-",
        "outputId": "da401a4c-a939-472b-a358-3599541770f5"
      },
      "execution_count": 26,
      "outputs": [
        {
          "output_type": "execute_result",
          "data": {
            "text/plain": [
              "      gender   age  hypertension  heart_disease ever_married      work_type  \\\n",
              "0       Male  67.0             0              1          Yes        Private   \n",
              "1     Female  61.0             0              0          Yes  Self-employed   \n",
              "2       Male  80.0             0              1          Yes        Private   \n",
              "3     Female  49.0             0              0          Yes        Private   \n",
              "4     Female  79.0             1              0          Yes  Self-employed   \n",
              "...      ...   ...           ...            ...          ...            ...   \n",
              "5105  Female  80.0             1              0          Yes        Private   \n",
              "5106  Female  81.0             0              0          Yes  Self-employed   \n",
              "5107  Female  35.0             0              0          Yes  Self-employed   \n",
              "5108    Male  51.0             0              0          Yes        Private   \n",
              "5109  Female  44.0             0              0          Yes       Govt_job   \n",
              "\n",
              "     Residence_type  avg_glucose_level        bmi   smoking_status  stroke  \n",
              "0             Urban             228.69  36.600000  formerly smoked       1  \n",
              "1             Rural             202.21  28.893237     never smoked       1  \n",
              "2             Rural             105.92  32.500000     never smoked       1  \n",
              "3             Urban             171.23  34.400000           smokes       1  \n",
              "4             Rural             174.12  24.000000     never smoked       1  \n",
              "...             ...                ...        ...              ...     ...  \n",
              "5105          Urban              83.75  28.893237     never smoked       0  \n",
              "5106          Urban             125.20  40.000000     never smoked       0  \n",
              "5107          Rural              82.99  30.600000     never smoked       0  \n",
              "5108          Rural             166.29  25.600000  formerly smoked       0  \n",
              "5109          Urban              85.28  26.200000          Unknown       0  \n",
              "\n",
              "[5110 rows x 11 columns]"
            ],
            "text/html": [
              "\n",
              "  <div id=\"df-795f351b-4aaa-4529-92ab-42277f558f62\">\n",
              "    <div class=\"colab-df-container\">\n",
              "      <div>\n",
              "<style scoped>\n",
              "    .dataframe tbody tr th:only-of-type {\n",
              "        vertical-align: middle;\n",
              "    }\n",
              "\n",
              "    .dataframe tbody tr th {\n",
              "        vertical-align: top;\n",
              "    }\n",
              "\n",
              "    .dataframe thead th {\n",
              "        text-align: right;\n",
              "    }\n",
              "</style>\n",
              "<table border=\"1\" class=\"dataframe\">\n",
              "  <thead>\n",
              "    <tr style=\"text-align: right;\">\n",
              "      <th></th>\n",
              "      <th>gender</th>\n",
              "      <th>age</th>\n",
              "      <th>hypertension</th>\n",
              "      <th>heart_disease</th>\n",
              "      <th>ever_married</th>\n",
              "      <th>work_type</th>\n",
              "      <th>Residence_type</th>\n",
              "      <th>avg_glucose_level</th>\n",
              "      <th>bmi</th>\n",
              "      <th>smoking_status</th>\n",
              "      <th>stroke</th>\n",
              "    </tr>\n",
              "  </thead>\n",
              "  <tbody>\n",
              "    <tr>\n",
              "      <th>0</th>\n",
              "      <td>Male</td>\n",
              "      <td>67.0</td>\n",
              "      <td>0</td>\n",
              "      <td>1</td>\n",
              "      <td>Yes</td>\n",
              "      <td>Private</td>\n",
              "      <td>Urban</td>\n",
              "      <td>228.69</td>\n",
              "      <td>36.600000</td>\n",
              "      <td>formerly smoked</td>\n",
              "      <td>1</td>\n",
              "    </tr>\n",
              "    <tr>\n",
              "      <th>1</th>\n",
              "      <td>Female</td>\n",
              "      <td>61.0</td>\n",
              "      <td>0</td>\n",
              "      <td>0</td>\n",
              "      <td>Yes</td>\n",
              "      <td>Self-employed</td>\n",
              "      <td>Rural</td>\n",
              "      <td>202.21</td>\n",
              "      <td>28.893237</td>\n",
              "      <td>never smoked</td>\n",
              "      <td>1</td>\n",
              "    </tr>\n",
              "    <tr>\n",
              "      <th>2</th>\n",
              "      <td>Male</td>\n",
              "      <td>80.0</td>\n",
              "      <td>0</td>\n",
              "      <td>1</td>\n",
              "      <td>Yes</td>\n",
              "      <td>Private</td>\n",
              "      <td>Rural</td>\n",
              "      <td>105.92</td>\n",
              "      <td>32.500000</td>\n",
              "      <td>never smoked</td>\n",
              "      <td>1</td>\n",
              "    </tr>\n",
              "    <tr>\n",
              "      <th>3</th>\n",
              "      <td>Female</td>\n",
              "      <td>49.0</td>\n",
              "      <td>0</td>\n",
              "      <td>0</td>\n",
              "      <td>Yes</td>\n",
              "      <td>Private</td>\n",
              "      <td>Urban</td>\n",
              "      <td>171.23</td>\n",
              "      <td>34.400000</td>\n",
              "      <td>smokes</td>\n",
              "      <td>1</td>\n",
              "    </tr>\n",
              "    <tr>\n",
              "      <th>4</th>\n",
              "      <td>Female</td>\n",
              "      <td>79.0</td>\n",
              "      <td>1</td>\n",
              "      <td>0</td>\n",
              "      <td>Yes</td>\n",
              "      <td>Self-employed</td>\n",
              "      <td>Rural</td>\n",
              "      <td>174.12</td>\n",
              "      <td>24.000000</td>\n",
              "      <td>never smoked</td>\n",
              "      <td>1</td>\n",
              "    </tr>\n",
              "    <tr>\n",
              "      <th>...</th>\n",
              "      <td>...</td>\n",
              "      <td>...</td>\n",
              "      <td>...</td>\n",
              "      <td>...</td>\n",
              "      <td>...</td>\n",
              "      <td>...</td>\n",
              "      <td>...</td>\n",
              "      <td>...</td>\n",
              "      <td>...</td>\n",
              "      <td>...</td>\n",
              "      <td>...</td>\n",
              "    </tr>\n",
              "    <tr>\n",
              "      <th>5105</th>\n",
              "      <td>Female</td>\n",
              "      <td>80.0</td>\n",
              "      <td>1</td>\n",
              "      <td>0</td>\n",
              "      <td>Yes</td>\n",
              "      <td>Private</td>\n",
              "      <td>Urban</td>\n",
              "      <td>83.75</td>\n",
              "      <td>28.893237</td>\n",
              "      <td>never smoked</td>\n",
              "      <td>0</td>\n",
              "    </tr>\n",
              "    <tr>\n",
              "      <th>5106</th>\n",
              "      <td>Female</td>\n",
              "      <td>81.0</td>\n",
              "      <td>0</td>\n",
              "      <td>0</td>\n",
              "      <td>Yes</td>\n",
              "      <td>Self-employed</td>\n",
              "      <td>Urban</td>\n",
              "      <td>125.20</td>\n",
              "      <td>40.000000</td>\n",
              "      <td>never smoked</td>\n",
              "      <td>0</td>\n",
              "    </tr>\n",
              "    <tr>\n",
              "      <th>5107</th>\n",
              "      <td>Female</td>\n",
              "      <td>35.0</td>\n",
              "      <td>0</td>\n",
              "      <td>0</td>\n",
              "      <td>Yes</td>\n",
              "      <td>Self-employed</td>\n",
              "      <td>Rural</td>\n",
              "      <td>82.99</td>\n",
              "      <td>30.600000</td>\n",
              "      <td>never smoked</td>\n",
              "      <td>0</td>\n",
              "    </tr>\n",
              "    <tr>\n",
              "      <th>5108</th>\n",
              "      <td>Male</td>\n",
              "      <td>51.0</td>\n",
              "      <td>0</td>\n",
              "      <td>0</td>\n",
              "      <td>Yes</td>\n",
              "      <td>Private</td>\n",
              "      <td>Rural</td>\n",
              "      <td>166.29</td>\n",
              "      <td>25.600000</td>\n",
              "      <td>formerly smoked</td>\n",
              "      <td>0</td>\n",
              "    </tr>\n",
              "    <tr>\n",
              "      <th>5109</th>\n",
              "      <td>Female</td>\n",
              "      <td>44.0</td>\n",
              "      <td>0</td>\n",
              "      <td>0</td>\n",
              "      <td>Yes</td>\n",
              "      <td>Govt_job</td>\n",
              "      <td>Urban</td>\n",
              "      <td>85.28</td>\n",
              "      <td>26.200000</td>\n",
              "      <td>Unknown</td>\n",
              "      <td>0</td>\n",
              "    </tr>\n",
              "  </tbody>\n",
              "</table>\n",
              "<p>5110 rows × 11 columns</p>\n",
              "</div>\n",
              "      <button class=\"colab-df-convert\" onclick=\"convertToInteractive('df-795f351b-4aaa-4529-92ab-42277f558f62')\"\n",
              "              title=\"Convert this dataframe to an interactive table.\"\n",
              "              style=\"display:none;\">\n",
              "        \n",
              "  <svg xmlns=\"http://www.w3.org/2000/svg\" height=\"24px\"viewBox=\"0 0 24 24\"\n",
              "       width=\"24px\">\n",
              "    <path d=\"M0 0h24v24H0V0z\" fill=\"none\"/>\n",
              "    <path d=\"M18.56 5.44l.94 2.06.94-2.06 2.06-.94-2.06-.94-.94-2.06-.94 2.06-2.06.94zm-11 1L8.5 8.5l.94-2.06 2.06-.94-2.06-.94L8.5 2.5l-.94 2.06-2.06.94zm10 10l.94 2.06.94-2.06 2.06-.94-2.06-.94-.94-2.06-.94 2.06-2.06.94z\"/><path d=\"M17.41 7.96l-1.37-1.37c-.4-.4-.92-.59-1.43-.59-.52 0-1.04.2-1.43.59L10.3 9.45l-7.72 7.72c-.78.78-.78 2.05 0 2.83L4 21.41c.39.39.9.59 1.41.59.51 0 1.02-.2 1.41-.59l7.78-7.78 2.81-2.81c.8-.78.8-2.07 0-2.86zM5.41 20L4 18.59l7.72-7.72 1.47 1.35L5.41 20z\"/>\n",
              "  </svg>\n",
              "      </button>\n",
              "      \n",
              "  <style>\n",
              "    .colab-df-container {\n",
              "      display:flex;\n",
              "      flex-wrap:wrap;\n",
              "      gap: 12px;\n",
              "    }\n",
              "\n",
              "    .colab-df-convert {\n",
              "      background-color: #E8F0FE;\n",
              "      border: none;\n",
              "      border-radius: 50%;\n",
              "      cursor: pointer;\n",
              "      display: none;\n",
              "      fill: #1967D2;\n",
              "      height: 32px;\n",
              "      padding: 0 0 0 0;\n",
              "      width: 32px;\n",
              "    }\n",
              "\n",
              "    .colab-df-convert:hover {\n",
              "      background-color: #E2EBFA;\n",
              "      box-shadow: 0px 1px 2px rgba(60, 64, 67, 0.3), 0px 1px 3px 1px rgba(60, 64, 67, 0.15);\n",
              "      fill: #174EA6;\n",
              "    }\n",
              "\n",
              "    [theme=dark] .colab-df-convert {\n",
              "      background-color: #3B4455;\n",
              "      fill: #D2E3FC;\n",
              "    }\n",
              "\n",
              "    [theme=dark] .colab-df-convert:hover {\n",
              "      background-color: #434B5C;\n",
              "      box-shadow: 0px 1px 3px 1px rgba(0, 0, 0, 0.15);\n",
              "      filter: drop-shadow(0px 1px 2px rgba(0, 0, 0, 0.3));\n",
              "      fill: #FFFFFF;\n",
              "    }\n",
              "  </style>\n",
              "\n",
              "      <script>\n",
              "        const buttonEl =\n",
              "          document.querySelector('#df-795f351b-4aaa-4529-92ab-42277f558f62 button.colab-df-convert');\n",
              "        buttonEl.style.display =\n",
              "          google.colab.kernel.accessAllowed ? 'block' : 'none';\n",
              "\n",
              "        async function convertToInteractive(key) {\n",
              "          const element = document.querySelector('#df-795f351b-4aaa-4529-92ab-42277f558f62');\n",
              "          const dataTable =\n",
              "            await google.colab.kernel.invokeFunction('convertToInteractive',\n",
              "                                                     [key], {});\n",
              "          if (!dataTable) return;\n",
              "\n",
              "          const docLinkHtml = 'Like what you see? Visit the ' +\n",
              "            '<a target=\"_blank\" href=https://colab.research.google.com/notebooks/data_table.ipynb>data table notebook</a>'\n",
              "            + ' to learn more about interactive tables.';\n",
              "          element.innerHTML = '';\n",
              "          dataTable['output_type'] = 'display_data';\n",
              "          await google.colab.output.renderOutput(dataTable, element);\n",
              "          const docLink = document.createElement('div');\n",
              "          docLink.innerHTML = docLinkHtml;\n",
              "          element.appendChild(docLink);\n",
              "        }\n",
              "      </script>\n",
              "    </div>\n",
              "  </div>\n",
              "  "
            ]
          },
          "metadata": {},
          "execution_count": 26
        }
      ]
    },
    {
      "cell_type": "code",
      "source": [
        "# Mengecek missing value pada dataset\n",
        "stroke_data.isna().sum()"
      ],
      "metadata": {
        "colab": {
          "base_uri": "https://localhost:8080/"
        },
        "id": "1Uc1TIkbt3US",
        "outputId": "32bd64ed-ead8-44e4-bb81-68f0e35a7467"
      },
      "execution_count": 27,
      "outputs": [
        {
          "output_type": "execute_result",
          "data": {
            "text/plain": [
              "gender                 0\n",
              "age                    0\n",
              "hypertension           0\n",
              "heart_disease          0\n",
              "ever_married           0\n",
              "work_type              0\n",
              "Residence_type         0\n",
              "avg_glucose_level      0\n",
              "bmi                  126\n",
              "smoking_status         0\n",
              "stroke                 0\n",
              "dtype: int64"
            ]
          },
          "metadata": {},
          "execution_count": 27
        }
      ]
    },
    {
      "cell_type": "markdown",
      "source": [
        "Missing value didapatkan setelah penanganan outliers pada fitur \"bmi\"."
      ],
      "metadata": {
        "id": "0gzlWcAhu6HJ"
      }
    },
    {
      "cell_type": "code",
      "source": [
        "# Menangani missing value pada fitur \"bmi\" diganti dengan nilai rata-rata berat badan\n",
        "stroke_data['bmi'].fillna(stroke_data['bmi'].mean(), inplace=True)"
      ],
      "metadata": {
        "id": "FHYOI7elt-Tq"
      },
      "execution_count": 28,
      "outputs": []
    },
    {
      "cell_type": "markdown",
      "source": [
        "Pada tahap EDA - Univariate Analysis terhadap Categorical Features didapatkan sample \"Other\" pada fitur \"gender\" memiliki terlalu sedikit sample. Maka akan dilakukan penghapusan terhadap sample ini."
      ],
      "metadata": {
        "id": "Vd1zn6oXvCiM"
      }
    },
    {
      "cell_type": "code",
      "source": [
        "# Menghapus sample \"Other\" pada fitur \"gender\" karena hanya memiliki sedikit sample\n",
        "stroke_data.drop(stroke_data[(stroke_data['gender'] == 'Other')].index, inplace=True)"
      ],
      "metadata": {
        "id": "gZeYsDCquYN9"
      },
      "execution_count": 29,
      "outputs": []
    },
    {
      "cell_type": "markdown",
      "source": [
        "## **Encoding Categorical Features**\n",
        "Pada tahap ini categorical features bertipe object akan diubah menjadi numerical features dengan menggunakan Label Encoder."
      ],
      "metadata": {
        "id": "0nma19pUvdA3"
      }
    },
    {
      "cell_type": "code",
      "source": [
        "stroke_data"
      ],
      "metadata": {
        "colab": {
          "base_uri": "https://localhost:8080/",
          "height": 423
        },
        "id": "scqpN7W2vcn6",
        "outputId": "2a726fca-385e-4b7e-9fb3-c33a466089e2"
      },
      "execution_count": 30,
      "outputs": [
        {
          "output_type": "execute_result",
          "data": {
            "text/plain": [
              "      gender   age  hypertension  heart_disease ever_married      work_type  \\\n",
              "0       Male  67.0             0              1          Yes        Private   \n",
              "1     Female  61.0             0              0          Yes  Self-employed   \n",
              "2       Male  80.0             0              1          Yes        Private   \n",
              "3     Female  49.0             0              0          Yes        Private   \n",
              "4     Female  79.0             1              0          Yes  Self-employed   \n",
              "...      ...   ...           ...            ...          ...            ...   \n",
              "5105  Female  80.0             1              0          Yes        Private   \n",
              "5106  Female  81.0             0              0          Yes  Self-employed   \n",
              "5107  Female  35.0             0              0          Yes  Self-employed   \n",
              "5108    Male  51.0             0              0          Yes        Private   \n",
              "5109  Female  44.0             0              0          Yes       Govt_job   \n",
              "\n",
              "     Residence_type  avg_glucose_level        bmi   smoking_status  stroke  \n",
              "0             Urban             228.69  36.600000  formerly smoked       1  \n",
              "1             Rural             202.21  28.893237     never smoked       1  \n",
              "2             Rural             105.92  32.500000     never smoked       1  \n",
              "3             Urban             171.23  34.400000           smokes       1  \n",
              "4             Rural             174.12  24.000000     never smoked       1  \n",
              "...             ...                ...        ...              ...     ...  \n",
              "5105          Urban              83.75  28.893237     never smoked       0  \n",
              "5106          Urban             125.20  40.000000     never smoked       0  \n",
              "5107          Rural              82.99  30.600000     never smoked       0  \n",
              "5108          Rural             166.29  25.600000  formerly smoked       0  \n",
              "5109          Urban              85.28  26.200000          Unknown       0  \n",
              "\n",
              "[5109 rows x 11 columns]"
            ],
            "text/html": [
              "\n",
              "  <div id=\"df-ae4adda2-bc27-4678-9312-65ba9a2ee6c1\">\n",
              "    <div class=\"colab-df-container\">\n",
              "      <div>\n",
              "<style scoped>\n",
              "    .dataframe tbody tr th:only-of-type {\n",
              "        vertical-align: middle;\n",
              "    }\n",
              "\n",
              "    .dataframe tbody tr th {\n",
              "        vertical-align: top;\n",
              "    }\n",
              "\n",
              "    .dataframe thead th {\n",
              "        text-align: right;\n",
              "    }\n",
              "</style>\n",
              "<table border=\"1\" class=\"dataframe\">\n",
              "  <thead>\n",
              "    <tr style=\"text-align: right;\">\n",
              "      <th></th>\n",
              "      <th>gender</th>\n",
              "      <th>age</th>\n",
              "      <th>hypertension</th>\n",
              "      <th>heart_disease</th>\n",
              "      <th>ever_married</th>\n",
              "      <th>work_type</th>\n",
              "      <th>Residence_type</th>\n",
              "      <th>avg_glucose_level</th>\n",
              "      <th>bmi</th>\n",
              "      <th>smoking_status</th>\n",
              "      <th>stroke</th>\n",
              "    </tr>\n",
              "  </thead>\n",
              "  <tbody>\n",
              "    <tr>\n",
              "      <th>0</th>\n",
              "      <td>Male</td>\n",
              "      <td>67.0</td>\n",
              "      <td>0</td>\n",
              "      <td>1</td>\n",
              "      <td>Yes</td>\n",
              "      <td>Private</td>\n",
              "      <td>Urban</td>\n",
              "      <td>228.69</td>\n",
              "      <td>36.600000</td>\n",
              "      <td>formerly smoked</td>\n",
              "      <td>1</td>\n",
              "    </tr>\n",
              "    <tr>\n",
              "      <th>1</th>\n",
              "      <td>Female</td>\n",
              "      <td>61.0</td>\n",
              "      <td>0</td>\n",
              "      <td>0</td>\n",
              "      <td>Yes</td>\n",
              "      <td>Self-employed</td>\n",
              "      <td>Rural</td>\n",
              "      <td>202.21</td>\n",
              "      <td>28.893237</td>\n",
              "      <td>never smoked</td>\n",
              "      <td>1</td>\n",
              "    </tr>\n",
              "    <tr>\n",
              "      <th>2</th>\n",
              "      <td>Male</td>\n",
              "      <td>80.0</td>\n",
              "      <td>0</td>\n",
              "      <td>1</td>\n",
              "      <td>Yes</td>\n",
              "      <td>Private</td>\n",
              "      <td>Rural</td>\n",
              "      <td>105.92</td>\n",
              "      <td>32.500000</td>\n",
              "      <td>never smoked</td>\n",
              "      <td>1</td>\n",
              "    </tr>\n",
              "    <tr>\n",
              "      <th>3</th>\n",
              "      <td>Female</td>\n",
              "      <td>49.0</td>\n",
              "      <td>0</td>\n",
              "      <td>0</td>\n",
              "      <td>Yes</td>\n",
              "      <td>Private</td>\n",
              "      <td>Urban</td>\n",
              "      <td>171.23</td>\n",
              "      <td>34.400000</td>\n",
              "      <td>smokes</td>\n",
              "      <td>1</td>\n",
              "    </tr>\n",
              "    <tr>\n",
              "      <th>4</th>\n",
              "      <td>Female</td>\n",
              "      <td>79.0</td>\n",
              "      <td>1</td>\n",
              "      <td>0</td>\n",
              "      <td>Yes</td>\n",
              "      <td>Self-employed</td>\n",
              "      <td>Rural</td>\n",
              "      <td>174.12</td>\n",
              "      <td>24.000000</td>\n",
              "      <td>never smoked</td>\n",
              "      <td>1</td>\n",
              "    </tr>\n",
              "    <tr>\n",
              "      <th>...</th>\n",
              "      <td>...</td>\n",
              "      <td>...</td>\n",
              "      <td>...</td>\n",
              "      <td>...</td>\n",
              "      <td>...</td>\n",
              "      <td>...</td>\n",
              "      <td>...</td>\n",
              "      <td>...</td>\n",
              "      <td>...</td>\n",
              "      <td>...</td>\n",
              "      <td>...</td>\n",
              "    </tr>\n",
              "    <tr>\n",
              "      <th>5105</th>\n",
              "      <td>Female</td>\n",
              "      <td>80.0</td>\n",
              "      <td>1</td>\n",
              "      <td>0</td>\n",
              "      <td>Yes</td>\n",
              "      <td>Private</td>\n",
              "      <td>Urban</td>\n",
              "      <td>83.75</td>\n",
              "      <td>28.893237</td>\n",
              "      <td>never smoked</td>\n",
              "      <td>0</td>\n",
              "    </tr>\n",
              "    <tr>\n",
              "      <th>5106</th>\n",
              "      <td>Female</td>\n",
              "      <td>81.0</td>\n",
              "      <td>0</td>\n",
              "      <td>0</td>\n",
              "      <td>Yes</td>\n",
              "      <td>Self-employed</td>\n",
              "      <td>Urban</td>\n",
              "      <td>125.20</td>\n",
              "      <td>40.000000</td>\n",
              "      <td>never smoked</td>\n",
              "      <td>0</td>\n",
              "    </tr>\n",
              "    <tr>\n",
              "      <th>5107</th>\n",
              "      <td>Female</td>\n",
              "      <td>35.0</td>\n",
              "      <td>0</td>\n",
              "      <td>0</td>\n",
              "      <td>Yes</td>\n",
              "      <td>Self-employed</td>\n",
              "      <td>Rural</td>\n",
              "      <td>82.99</td>\n",
              "      <td>30.600000</td>\n",
              "      <td>never smoked</td>\n",
              "      <td>0</td>\n",
              "    </tr>\n",
              "    <tr>\n",
              "      <th>5108</th>\n",
              "      <td>Male</td>\n",
              "      <td>51.0</td>\n",
              "      <td>0</td>\n",
              "      <td>0</td>\n",
              "      <td>Yes</td>\n",
              "      <td>Private</td>\n",
              "      <td>Rural</td>\n",
              "      <td>166.29</td>\n",
              "      <td>25.600000</td>\n",
              "      <td>formerly smoked</td>\n",
              "      <td>0</td>\n",
              "    </tr>\n",
              "    <tr>\n",
              "      <th>5109</th>\n",
              "      <td>Female</td>\n",
              "      <td>44.0</td>\n",
              "      <td>0</td>\n",
              "      <td>0</td>\n",
              "      <td>Yes</td>\n",
              "      <td>Govt_job</td>\n",
              "      <td>Urban</td>\n",
              "      <td>85.28</td>\n",
              "      <td>26.200000</td>\n",
              "      <td>Unknown</td>\n",
              "      <td>0</td>\n",
              "    </tr>\n",
              "  </tbody>\n",
              "</table>\n",
              "<p>5109 rows × 11 columns</p>\n",
              "</div>\n",
              "      <button class=\"colab-df-convert\" onclick=\"convertToInteractive('df-ae4adda2-bc27-4678-9312-65ba9a2ee6c1')\"\n",
              "              title=\"Convert this dataframe to an interactive table.\"\n",
              "              style=\"display:none;\">\n",
              "        \n",
              "  <svg xmlns=\"http://www.w3.org/2000/svg\" height=\"24px\"viewBox=\"0 0 24 24\"\n",
              "       width=\"24px\">\n",
              "    <path d=\"M0 0h24v24H0V0z\" fill=\"none\"/>\n",
              "    <path d=\"M18.56 5.44l.94 2.06.94-2.06 2.06-.94-2.06-.94-.94-2.06-.94 2.06-2.06.94zm-11 1L8.5 8.5l.94-2.06 2.06-.94-2.06-.94L8.5 2.5l-.94 2.06-2.06.94zm10 10l.94 2.06.94-2.06 2.06-.94-2.06-.94-.94-2.06-.94 2.06-2.06.94z\"/><path d=\"M17.41 7.96l-1.37-1.37c-.4-.4-.92-.59-1.43-.59-.52 0-1.04.2-1.43.59L10.3 9.45l-7.72 7.72c-.78.78-.78 2.05 0 2.83L4 21.41c.39.39.9.59 1.41.59.51 0 1.02-.2 1.41-.59l7.78-7.78 2.81-2.81c.8-.78.8-2.07 0-2.86zM5.41 20L4 18.59l7.72-7.72 1.47 1.35L5.41 20z\"/>\n",
              "  </svg>\n",
              "      </button>\n",
              "      \n",
              "  <style>\n",
              "    .colab-df-container {\n",
              "      display:flex;\n",
              "      flex-wrap:wrap;\n",
              "      gap: 12px;\n",
              "    }\n",
              "\n",
              "    .colab-df-convert {\n",
              "      background-color: #E8F0FE;\n",
              "      border: none;\n",
              "      border-radius: 50%;\n",
              "      cursor: pointer;\n",
              "      display: none;\n",
              "      fill: #1967D2;\n",
              "      height: 32px;\n",
              "      padding: 0 0 0 0;\n",
              "      width: 32px;\n",
              "    }\n",
              "\n",
              "    .colab-df-convert:hover {\n",
              "      background-color: #E2EBFA;\n",
              "      box-shadow: 0px 1px 2px rgba(60, 64, 67, 0.3), 0px 1px 3px 1px rgba(60, 64, 67, 0.15);\n",
              "      fill: #174EA6;\n",
              "    }\n",
              "\n",
              "    [theme=dark] .colab-df-convert {\n",
              "      background-color: #3B4455;\n",
              "      fill: #D2E3FC;\n",
              "    }\n",
              "\n",
              "    [theme=dark] .colab-df-convert:hover {\n",
              "      background-color: #434B5C;\n",
              "      box-shadow: 0px 1px 3px 1px rgba(0, 0, 0, 0.15);\n",
              "      filter: drop-shadow(0px 1px 2px rgba(0, 0, 0, 0.3));\n",
              "      fill: #FFFFFF;\n",
              "    }\n",
              "  </style>\n",
              "\n",
              "      <script>\n",
              "        const buttonEl =\n",
              "          document.querySelector('#df-ae4adda2-bc27-4678-9312-65ba9a2ee6c1 button.colab-df-convert');\n",
              "        buttonEl.style.display =\n",
              "          google.colab.kernel.accessAllowed ? 'block' : 'none';\n",
              "\n",
              "        async function convertToInteractive(key) {\n",
              "          const element = document.querySelector('#df-ae4adda2-bc27-4678-9312-65ba9a2ee6c1');\n",
              "          const dataTable =\n",
              "            await google.colab.kernel.invokeFunction('convertToInteractive',\n",
              "                                                     [key], {});\n",
              "          if (!dataTable) return;\n",
              "\n",
              "          const docLinkHtml = 'Like what you see? Visit the ' +\n",
              "            '<a target=\"_blank\" href=https://colab.research.google.com/notebooks/data_table.ipynb>data table notebook</a>'\n",
              "            + ' to learn more about interactive tables.';\n",
              "          element.innerHTML = '';\n",
              "          dataTable['output_type'] = 'display_data';\n",
              "          await google.colab.output.renderOutput(dataTable, element);\n",
              "          const docLink = document.createElement('div');\n",
              "          docLink.innerHTML = docLinkHtml;\n",
              "          element.appendChild(docLink);\n",
              "        }\n",
              "      </script>\n",
              "    </div>\n",
              "  </div>\n",
              "  "
            ]
          },
          "metadata": {},
          "execution_count": 30
        }
      ]
    },
    {
      "cell_type": "code",
      "source": [
        "stroke_data.info()"
      ],
      "metadata": {
        "colab": {
          "base_uri": "https://localhost:8080/"
        },
        "id": "Hw5tBNEnxIhC",
        "outputId": "e5024ea9-fdda-453e-d090-cb066ed76f8d"
      },
      "execution_count": 31,
      "outputs": [
        {
          "output_type": "stream",
          "name": "stdout",
          "text": [
            "<class 'pandas.core.frame.DataFrame'>\n",
            "Int64Index: 5109 entries, 0 to 5109\n",
            "Data columns (total 11 columns):\n",
            " #   Column             Non-Null Count  Dtype  \n",
            "---  ------             --------------  -----  \n",
            " 0   gender             5109 non-null   object \n",
            " 1   age                5109 non-null   float64\n",
            " 2   hypertension       5109 non-null   int64  \n",
            " 3   heart_disease      5109 non-null   int64  \n",
            " 4   ever_married       5109 non-null   object \n",
            " 5   work_type          5109 non-null   object \n",
            " 6   Residence_type     5109 non-null   object \n",
            " 7   avg_glucose_level  5109 non-null   float64\n",
            " 8   bmi                5109 non-null   float64\n",
            " 9   smoking_status     5109 non-null   object \n",
            " 10  stroke             5109 non-null   int64  \n",
            "dtypes: float64(3), int64(3), object(5)\n",
            "memory usage: 479.0+ KB\n"
          ]
        }
      ]
    },
    {
      "cell_type": "code",
      "source": [
        "labelEnc = LabelEncoder()\n",
        "\n",
        "gender = labelEnc.fit_transform(stroke_data['gender'])\n",
        "ever_married = labelEnc.fit_transform(stroke_data['ever_married'])\n",
        "work_type = labelEnc.fit_transform(stroke_data['work_type'])\n",
        "Residence_type = labelEnc.fit_transform(stroke_data['Residence_type'])\n",
        "smoking_status = labelEnc.fit_transform(stroke_data['smoking_status'])"
      ],
      "metadata": {
        "id": "vqaPCQ1UwPkA"
      },
      "execution_count": 32,
      "outputs": []
    },
    {
      "cell_type": "code",
      "source": [
        "stroke_data['gender']=gender\n",
        "stroke_data['ever_married']=ever_married\n",
        "stroke_data['work_type']=work_type\n",
        "stroke_data['Residence_type']=Residence_type\n",
        "stroke_data['smoking_status']=smoking_status\n",
        "\n",
        "stroke_data"
      ],
      "metadata": {
        "colab": {
          "base_uri": "https://localhost:8080/",
          "height": 423
        },
        "id": "X_cWvDJpxiJl",
        "outputId": "3bcb0047-8e7e-4cc8-e51a-a035c43ba65d"
      },
      "execution_count": 33,
      "outputs": [
        {
          "output_type": "execute_result",
          "data": {
            "text/plain": [
              "      gender   age  hypertension  heart_disease  ever_married  work_type  \\\n",
              "0          1  67.0             0              1             1          2   \n",
              "1          0  61.0             0              0             1          3   \n",
              "2          1  80.0             0              1             1          2   \n",
              "3          0  49.0             0              0             1          2   \n",
              "4          0  79.0             1              0             1          3   \n",
              "...      ...   ...           ...            ...           ...        ...   \n",
              "5105       0  80.0             1              0             1          2   \n",
              "5106       0  81.0             0              0             1          3   \n",
              "5107       0  35.0             0              0             1          3   \n",
              "5108       1  51.0             0              0             1          2   \n",
              "5109       0  44.0             0              0             1          0   \n",
              "\n",
              "      Residence_type  avg_glucose_level        bmi  smoking_status  stroke  \n",
              "0                  1             228.69  36.600000               1       1  \n",
              "1                  0             202.21  28.893237               2       1  \n",
              "2                  0             105.92  32.500000               2       1  \n",
              "3                  1             171.23  34.400000               3       1  \n",
              "4                  0             174.12  24.000000               2       1  \n",
              "...              ...                ...        ...             ...     ...  \n",
              "5105               1              83.75  28.893237               2       0  \n",
              "5106               1             125.20  40.000000               2       0  \n",
              "5107               0              82.99  30.600000               2       0  \n",
              "5108               0             166.29  25.600000               1       0  \n",
              "5109               1              85.28  26.200000               0       0  \n",
              "\n",
              "[5109 rows x 11 columns]"
            ],
            "text/html": [
              "\n",
              "  <div id=\"df-0e8882d8-d21b-47f7-a0d8-4734b6c48baa\">\n",
              "    <div class=\"colab-df-container\">\n",
              "      <div>\n",
              "<style scoped>\n",
              "    .dataframe tbody tr th:only-of-type {\n",
              "        vertical-align: middle;\n",
              "    }\n",
              "\n",
              "    .dataframe tbody tr th {\n",
              "        vertical-align: top;\n",
              "    }\n",
              "\n",
              "    .dataframe thead th {\n",
              "        text-align: right;\n",
              "    }\n",
              "</style>\n",
              "<table border=\"1\" class=\"dataframe\">\n",
              "  <thead>\n",
              "    <tr style=\"text-align: right;\">\n",
              "      <th></th>\n",
              "      <th>gender</th>\n",
              "      <th>age</th>\n",
              "      <th>hypertension</th>\n",
              "      <th>heart_disease</th>\n",
              "      <th>ever_married</th>\n",
              "      <th>work_type</th>\n",
              "      <th>Residence_type</th>\n",
              "      <th>avg_glucose_level</th>\n",
              "      <th>bmi</th>\n",
              "      <th>smoking_status</th>\n",
              "      <th>stroke</th>\n",
              "    </tr>\n",
              "  </thead>\n",
              "  <tbody>\n",
              "    <tr>\n",
              "      <th>0</th>\n",
              "      <td>1</td>\n",
              "      <td>67.0</td>\n",
              "      <td>0</td>\n",
              "      <td>1</td>\n",
              "      <td>1</td>\n",
              "      <td>2</td>\n",
              "      <td>1</td>\n",
              "      <td>228.69</td>\n",
              "      <td>36.600000</td>\n",
              "      <td>1</td>\n",
              "      <td>1</td>\n",
              "    </tr>\n",
              "    <tr>\n",
              "      <th>1</th>\n",
              "      <td>0</td>\n",
              "      <td>61.0</td>\n",
              "      <td>0</td>\n",
              "      <td>0</td>\n",
              "      <td>1</td>\n",
              "      <td>3</td>\n",
              "      <td>0</td>\n",
              "      <td>202.21</td>\n",
              "      <td>28.893237</td>\n",
              "      <td>2</td>\n",
              "      <td>1</td>\n",
              "    </tr>\n",
              "    <tr>\n",
              "      <th>2</th>\n",
              "      <td>1</td>\n",
              "      <td>80.0</td>\n",
              "      <td>0</td>\n",
              "      <td>1</td>\n",
              "      <td>1</td>\n",
              "      <td>2</td>\n",
              "      <td>0</td>\n",
              "      <td>105.92</td>\n",
              "      <td>32.500000</td>\n",
              "      <td>2</td>\n",
              "      <td>1</td>\n",
              "    </tr>\n",
              "    <tr>\n",
              "      <th>3</th>\n",
              "      <td>0</td>\n",
              "      <td>49.0</td>\n",
              "      <td>0</td>\n",
              "      <td>0</td>\n",
              "      <td>1</td>\n",
              "      <td>2</td>\n",
              "      <td>1</td>\n",
              "      <td>171.23</td>\n",
              "      <td>34.400000</td>\n",
              "      <td>3</td>\n",
              "      <td>1</td>\n",
              "    </tr>\n",
              "    <tr>\n",
              "      <th>4</th>\n",
              "      <td>0</td>\n",
              "      <td>79.0</td>\n",
              "      <td>1</td>\n",
              "      <td>0</td>\n",
              "      <td>1</td>\n",
              "      <td>3</td>\n",
              "      <td>0</td>\n",
              "      <td>174.12</td>\n",
              "      <td>24.000000</td>\n",
              "      <td>2</td>\n",
              "      <td>1</td>\n",
              "    </tr>\n",
              "    <tr>\n",
              "      <th>...</th>\n",
              "      <td>...</td>\n",
              "      <td>...</td>\n",
              "      <td>...</td>\n",
              "      <td>...</td>\n",
              "      <td>...</td>\n",
              "      <td>...</td>\n",
              "      <td>...</td>\n",
              "      <td>...</td>\n",
              "      <td>...</td>\n",
              "      <td>...</td>\n",
              "      <td>...</td>\n",
              "    </tr>\n",
              "    <tr>\n",
              "      <th>5105</th>\n",
              "      <td>0</td>\n",
              "      <td>80.0</td>\n",
              "      <td>1</td>\n",
              "      <td>0</td>\n",
              "      <td>1</td>\n",
              "      <td>2</td>\n",
              "      <td>1</td>\n",
              "      <td>83.75</td>\n",
              "      <td>28.893237</td>\n",
              "      <td>2</td>\n",
              "      <td>0</td>\n",
              "    </tr>\n",
              "    <tr>\n",
              "      <th>5106</th>\n",
              "      <td>0</td>\n",
              "      <td>81.0</td>\n",
              "      <td>0</td>\n",
              "      <td>0</td>\n",
              "      <td>1</td>\n",
              "      <td>3</td>\n",
              "      <td>1</td>\n",
              "      <td>125.20</td>\n",
              "      <td>40.000000</td>\n",
              "      <td>2</td>\n",
              "      <td>0</td>\n",
              "    </tr>\n",
              "    <tr>\n",
              "      <th>5107</th>\n",
              "      <td>0</td>\n",
              "      <td>35.0</td>\n",
              "      <td>0</td>\n",
              "      <td>0</td>\n",
              "      <td>1</td>\n",
              "      <td>3</td>\n",
              "      <td>0</td>\n",
              "      <td>82.99</td>\n",
              "      <td>30.600000</td>\n",
              "      <td>2</td>\n",
              "      <td>0</td>\n",
              "    </tr>\n",
              "    <tr>\n",
              "      <th>5108</th>\n",
              "      <td>1</td>\n",
              "      <td>51.0</td>\n",
              "      <td>0</td>\n",
              "      <td>0</td>\n",
              "      <td>1</td>\n",
              "      <td>2</td>\n",
              "      <td>0</td>\n",
              "      <td>166.29</td>\n",
              "      <td>25.600000</td>\n",
              "      <td>1</td>\n",
              "      <td>0</td>\n",
              "    </tr>\n",
              "    <tr>\n",
              "      <th>5109</th>\n",
              "      <td>0</td>\n",
              "      <td>44.0</td>\n",
              "      <td>0</td>\n",
              "      <td>0</td>\n",
              "      <td>1</td>\n",
              "      <td>0</td>\n",
              "      <td>1</td>\n",
              "      <td>85.28</td>\n",
              "      <td>26.200000</td>\n",
              "      <td>0</td>\n",
              "      <td>0</td>\n",
              "    </tr>\n",
              "  </tbody>\n",
              "</table>\n",
              "<p>5109 rows × 11 columns</p>\n",
              "</div>\n",
              "      <button class=\"colab-df-convert\" onclick=\"convertToInteractive('df-0e8882d8-d21b-47f7-a0d8-4734b6c48baa')\"\n",
              "              title=\"Convert this dataframe to an interactive table.\"\n",
              "              style=\"display:none;\">\n",
              "        \n",
              "  <svg xmlns=\"http://www.w3.org/2000/svg\" height=\"24px\"viewBox=\"0 0 24 24\"\n",
              "       width=\"24px\">\n",
              "    <path d=\"M0 0h24v24H0V0z\" fill=\"none\"/>\n",
              "    <path d=\"M18.56 5.44l.94 2.06.94-2.06 2.06-.94-2.06-.94-.94-2.06-.94 2.06-2.06.94zm-11 1L8.5 8.5l.94-2.06 2.06-.94-2.06-.94L8.5 2.5l-.94 2.06-2.06.94zm10 10l.94 2.06.94-2.06 2.06-.94-2.06-.94-.94-2.06-.94 2.06-2.06.94z\"/><path d=\"M17.41 7.96l-1.37-1.37c-.4-.4-.92-.59-1.43-.59-.52 0-1.04.2-1.43.59L10.3 9.45l-7.72 7.72c-.78.78-.78 2.05 0 2.83L4 21.41c.39.39.9.59 1.41.59.51 0 1.02-.2 1.41-.59l7.78-7.78 2.81-2.81c.8-.78.8-2.07 0-2.86zM5.41 20L4 18.59l7.72-7.72 1.47 1.35L5.41 20z\"/>\n",
              "  </svg>\n",
              "      </button>\n",
              "      \n",
              "  <style>\n",
              "    .colab-df-container {\n",
              "      display:flex;\n",
              "      flex-wrap:wrap;\n",
              "      gap: 12px;\n",
              "    }\n",
              "\n",
              "    .colab-df-convert {\n",
              "      background-color: #E8F0FE;\n",
              "      border: none;\n",
              "      border-radius: 50%;\n",
              "      cursor: pointer;\n",
              "      display: none;\n",
              "      fill: #1967D2;\n",
              "      height: 32px;\n",
              "      padding: 0 0 0 0;\n",
              "      width: 32px;\n",
              "    }\n",
              "\n",
              "    .colab-df-convert:hover {\n",
              "      background-color: #E2EBFA;\n",
              "      box-shadow: 0px 1px 2px rgba(60, 64, 67, 0.3), 0px 1px 3px 1px rgba(60, 64, 67, 0.15);\n",
              "      fill: #174EA6;\n",
              "    }\n",
              "\n",
              "    [theme=dark] .colab-df-convert {\n",
              "      background-color: #3B4455;\n",
              "      fill: #D2E3FC;\n",
              "    }\n",
              "\n",
              "    [theme=dark] .colab-df-convert:hover {\n",
              "      background-color: #434B5C;\n",
              "      box-shadow: 0px 1px 3px 1px rgba(0, 0, 0, 0.15);\n",
              "      filter: drop-shadow(0px 1px 2px rgba(0, 0, 0, 0.3));\n",
              "      fill: #FFFFFF;\n",
              "    }\n",
              "  </style>\n",
              "\n",
              "      <script>\n",
              "        const buttonEl =\n",
              "          document.querySelector('#df-0e8882d8-d21b-47f7-a0d8-4734b6c48baa button.colab-df-convert');\n",
              "        buttonEl.style.display =\n",
              "          google.colab.kernel.accessAllowed ? 'block' : 'none';\n",
              "\n",
              "        async function convertToInteractive(key) {\n",
              "          const element = document.querySelector('#df-0e8882d8-d21b-47f7-a0d8-4734b6c48baa');\n",
              "          const dataTable =\n",
              "            await google.colab.kernel.invokeFunction('convertToInteractive',\n",
              "                                                     [key], {});\n",
              "          if (!dataTable) return;\n",
              "\n",
              "          const docLinkHtml = 'Like what you see? Visit the ' +\n",
              "            '<a target=\"_blank\" href=https://colab.research.google.com/notebooks/data_table.ipynb>data table notebook</a>'\n",
              "            + ' to learn more about interactive tables.';\n",
              "          element.innerHTML = '';\n",
              "          dataTable['output_type'] = 'display_data';\n",
              "          await google.colab.output.renderOutput(dataTable, element);\n",
              "          const docLink = document.createElement('div');\n",
              "          docLink.innerHTML = docLinkHtml;\n",
              "          element.appendChild(docLink);\n",
              "        }\n",
              "      </script>\n",
              "    </div>\n",
              "  </div>\n",
              "  "
            ]
          },
          "metadata": {},
          "execution_count": 33
        }
      ]
    },
    {
      "cell_type": "markdown",
      "source": [
        "## **Mengatasi Data yang Tidak Seimbang**"
      ],
      "metadata": {
        "id": "-oLWQ5ilxzP1"
      }
    },
    {
      "cell_type": "code",
      "source": [
        "# Memvisualisasikan categorical features \"stroke\"\n",
        "plt.figure(figsize=(10, 7))\n",
        "feature = categoric_features[7]\n",
        "count = stroke_data[feature].value_counts()\n",
        "percent = 100 * stroke_data[feature].value_counts(normalize=True)\n",
        "df = pd.DataFrame({'Jumlah Sampel':count, 'Persentase':percent.round(1)})\n",
        "\n",
        "print(df)\n",
        "count.plot(kind='bar');\n",
        "plt.title(feature, size=20)"
      ],
      "metadata": {
        "colab": {
          "base_uri": "https://localhost:8080/",
          "height": 519
        },
        "id": "QEwLv7LWxuUM",
        "outputId": "a2d3b012-b33a-4f54-c6cd-45e20d25475d"
      },
      "execution_count": 34,
      "outputs": [
        {
          "output_type": "stream",
          "name": "stdout",
          "text": [
            "   Jumlah Sampel  Persentase\n",
            "0           4860        95.1\n",
            "1            249         4.9\n"
          ]
        },
        {
          "output_type": "execute_result",
          "data": {
            "text/plain": [
              "Text(0.5, 1.0, 'stroke')"
            ]
          },
          "metadata": {},
          "execution_count": 34
        },
        {
          "output_type": "display_data",
          "data": {
            "text/plain": [
              "<Figure size 720x504 with 1 Axes>"
            ],
            "image/png": "[encoded data removed]"
          },
          "metadata": {
            "needs_background": "light"
          }
        }
      ]
    },
    {
      "cell_type": "markdown",
      "source": [
        "Diketahui pada fitur \"stroke\" dapat dikatakan memiliki data yang tidak seimbang, hal ini dapat dilihat perbedaan sample yang sangat signifikan antara sample yang tidak terindikasi stroke (0), dan sample yang terindikasi stroke (1). Maka hal ini akan ditangani dengan teknik oversampling menggunakan SMOTE.\n",
        "\n",
        "SMOTE merupakan salah satu pendekatan untuk mengatasi kumpulan data yang tidak seimbang dengan mengambil sample kelas minoritas secara berlebihan. Pendekatan paling sederhana melibatkan duplikasi contoh di kelas minoritas, meskipun contoh ini tidak menambahkan informasi baru ke model. Sebaliknya, contoh baru dapat disintesis dari contoh yang sudah ada. Ini adalah jenis augmentasi data untuk kelas minoritas dan disebut sebagai Synthetic Minority Oversampling Technique, atau disingkat SMOTE."
      ],
      "metadata": {
        "id": "TK_pTQP0zXcO"
      }
    },
    {
      "cell_type": "code",
      "source": [
        "X = stroke_data.loc[:, stroke_data.columns != 'stroke']\n",
        "y = stroke_data['stroke']\n",
        "\n",
        "smote = SMOTE(sampling_strategy='auto', k_neighbors=1, random_state=78)\n",
        "\n",
        "X_smote, y_smote = smote.fit_resample(X, y)\n",
        "\n",
        "stroke_data = pd.concat([pd.DataFrame(X_smote), pd.DataFrame(y_smote)], axis=1)"
      ],
      "metadata": {
        "id": "32kJV0xE0KhM"
      },
      "execution_count": 35,
      "outputs": []
    },
    {
      "cell_type": "code",
      "source": [
        "# Memvisualisasikan categorical features \"stroke\"\n",
        "plt.figure(figsize=(10, 7))\n",
        "feature = categoric_features[7]\n",
        "count = stroke_data[feature].value_counts()\n",
        "percent = 100 * stroke_data[feature].value_counts(normalize=True)\n",
        "df = pd.DataFrame({'Jumlah Sampel':count, 'Persentase':percent.round(1)})\n",
        "\n",
        "print(df)\n",
        "count.plot(kind='bar');\n",
        "plt.title(feature, size=20)"
      ],
      "metadata": {
        "colab": {
          "base_uri": "https://localhost:8080/",
          "height": 519
        },
        "id": "hqshZo5X2pGH",
        "outputId": "9c03a74f-3cdd-4d42-fe8d-875d9421a221"
      },
      "execution_count": 36,
      "outputs": [
        {
          "output_type": "stream",
          "name": "stdout",
          "text": [
            "   Jumlah Sampel  Persentase\n",
            "1           4860        50.0\n",
            "0           4860        50.0\n"
          ]
        },
        {
          "output_type": "execute_result",
          "data": {
            "text/plain": [
              "Text(0.5, 1.0, 'stroke')"
            ]
          },
          "metadata": {},
          "execution_count": 36
        },
        {
          "output_type": "display_data",
          "data": {
            "text/plain": [
              "<Figure size 720x504 with 1 Axes>"
            ],
            "image/png": "[encoded data removed]"
          },
          "metadata": {
            "needs_background": "light"
          }
        }
      ]
    },
    {
      "cell_type": "markdown",
      "source": [
        "## **Train-Test-Split**"
      ],
      "metadata": {
        "id": "8N1cXnDi334k"
      }
    },
    {
      "cell_type": "code",
      "source": [
        "# Membagi dataset menjadi data latih (train) dan data uji (test)\n",
        "X = stroke_data.drop(['stroke'], axis=1)\n",
        "y = stroke_data['stroke']\n",
        "X_train, X_test, y_train, y_test = train_test_split(X, y, test_size=0.2, random_state=5)\n",
        "\n",
        "# Mengecek jumlah sample pada masing-masing bagian\n",
        "print(f'Total # of sample in whole dataset : {len(X)}')\n",
        "print(f'Total # of sample in train dataset : {len(X_train)}')\n",
        "print(f'Total # of sample in test dataset  : {len(X_test)}')"
      ],
      "metadata": {
        "colab": {
          "base_uri": "https://localhost:8080/"
        },
        "id": "Ij4HEIuo329f",
        "outputId": "3d86f549-b7ec-4cf1-f854-3dd7bc261834"
      },
      "execution_count": 37,
      "outputs": [
        {
          "output_type": "stream",
          "name": "stdout",
          "text": [
            "Total # of sample in whole dataset : 9720\n",
            "Total # of sample in train dataset : 7776\n",
            "Total # of sample in test dataset  : 1944\n"
          ]
        }
      ]
    },
    {
      "cell_type": "markdown",
      "source": [
        "## **Standarisasi**\n",
        "Digunakan StandardScaler dalam melakukan proses standarisasi fitur dengan mengurangkan mean (nilai rata-rata) kemudian membaginya dengan standar deviasi untuk menggeser distribusi.  StandardScaler menghasilkan distribusi dengan standar deviasi sama dengan 1 dan mean sama dengan 0. Sekitar 68% dari nilai akan berada di antara -1 dan 1."
      ],
      "metadata": {
        "id": "PWd4uF2K4opz"
      }
    },
    {
      "cell_type": "code",
      "source": [
        "scaler = StandardScaler()\n",
        "scaler.fit(X_train)\n",
        "X_train = scaler.fit_transform(X_train)\n",
        "X_test = scaler.transform(X_test)"
      ],
      "metadata": {
        "id": "5RJcbTTj4n8Y"
      },
      "execution_count": 38,
      "outputs": []
    },
    {
      "cell_type": "markdown",
      "source": [
        "# **Model Development**"
      ],
      "metadata": {
        "id": "j3adf2EE5hep"
      }
    },
    {
      "cell_type": "code",
      "source": [
        "# Menyiapkan dataframe untuk analisis menggunakan model algoritma Random Forest\n",
        "models = pd.DataFrame(index=['train_f1', 'test_f1'],\n",
        "                      columns=['Random Forest'])"
      ],
      "metadata": {
        "id": "7ZZuDUOk5f_1"
      },
      "execution_count": 39,
      "outputs": []
    },
    {
      "cell_type": "markdown",
      "source": [
        "## **Model Development dengan Random Forest**"
      ],
      "metadata": {
        "id": "OoZzLkmO8kWI"
      }
    },
    {
      "cell_type": "code",
      "source": [
        "rf = RandomForestClassifier(n_estimators=32, max_depth=32, random_state=55, n_jobs=-1)\n",
        "rf.fit(X_train, y_train)\n",
        "\n",
        "models.loc['train_f1', 'rf'] = f1_score(y_pred = rf.predict(X_train), y_true=y_train)"
      ],
      "metadata": {
        "id": "3gbxALgx8hib"
      },
      "execution_count": 40,
      "outputs": []
    },
    {
      "cell_type": "markdown",
      "source": [
        "# **Evaluasi Model**"
      ],
      "metadata": {
        "id": "JDe6pDvJ9psI"
      }
    },
    {
      "cell_type": "code",
      "source": [
        "# Membuat variabel f1 yang isinya adalah dataframe nilai f1 data train dan test pada algoritma Random Forest\n",
        "f1 = pd.DataFrame(columns=['train', 'test'], index=['Random Forest'])\n",
        " \n",
        "# Membuat dictionary untuk algoritma yang digunakan\n",
        "model_dict = {'Random Forest': rf}\n",
        "\n",
        "# Menghitung f1 score algoritma pada data train dan test\n",
        "for name, model in model_dict.items():\n",
        "  f1.loc[name, 'train'] = f1_score(y_true=y_train, y_pred=model.predict(X_train), average='micro') \n",
        "  f1.loc[name, 'test'] = f1_score(y_true=y_test, y_pred=model.predict(X_test), average='micro')\n",
        " \n",
        "# Memanggil f1\n",
        "f1"
      ],
      "metadata": {
        "colab": {
          "base_uri": "https://localhost:8080/",
          "height": 81
        },
        "id": "lB-v0Ta19hhL",
        "outputId": "8291966e-7920-4a54-e163-bc8cedbb8105"
      },
      "execution_count": 41,
      "outputs": [
        {
          "output_type": "execute_result",
          "data": {
            "text/plain": [
              "                  train      test\n",
              "Random Forest  0.999871  0.963477"
            ],
            "text/html": [
              "\n",
              "  <div id=\"df-1be7cb83-1b48-44b5-b646-ea9ed0c0cb9a\">\n",
              "    <div class=\"colab-df-container\">\n",
              "      <div>\n",
              "<style scoped>\n",
              "    .dataframe tbody tr th:only-of-type {\n",
              "        vertical-align: middle;\n",
              "    }\n",
              "\n",
              "    .dataframe tbody tr th {\n",
              "        vertical-align: top;\n",
              "    }\n",
              "\n",
              "    .dataframe thead th {\n",
              "        text-align: right;\n",
              "    }\n",
              "</style>\n",
              "<table border=\"1\" class=\"dataframe\">\n",
              "  <thead>\n",
              "    <tr style=\"text-align: right;\">\n",
              "      <th></th>\n",
              "      <th>train</th>\n",
              "      <th>test</th>\n",
              "    </tr>\n",
              "  </thead>\n",
              "  <tbody>\n",
              "    <tr>\n",
              "      <th>Random Forest</th>\n",
              "      <td>0.999871</td>\n",
              "      <td>0.963477</td>\n",
              "    </tr>\n",
              "  </tbody>\n",
              "</table>\n",
              "</div>\n",
              "      <button class=\"colab-df-convert\" onclick=\"convertToInteractive('df-1be7cb83-1b48-44b5-b646-ea9ed0c0cb9a')\"\n",
              "              title=\"Convert this dataframe to an interactive table.\"\n",
              "              style=\"display:none;\">\n",
              "        \n",
              "  <svg xmlns=\"http://www.w3.org/2000/svg\" height=\"24px\"viewBox=\"0 0 24 24\"\n",
              "       width=\"24px\">\n",
              "    <path d=\"M0 0h24v24H0V0z\" fill=\"none\"/>\n",
              "    <path d=\"M18.56 5.44l.94 2.06.94-2.06 2.06-.94-2.06-.94-.94-2.06-.94 2.06-2.06.94zm-11 1L8.5 8.5l.94-2.06 2.06-.94-2.06-.94L8.5 2.5l-.94 2.06-2.06.94zm10 10l.94 2.06.94-2.06 2.06-.94-2.06-.94-.94-2.06-.94 2.06-2.06.94z\"/><path d=\"M17.41 7.96l-1.37-1.37c-.4-.4-.92-.59-1.43-.59-.52 0-1.04.2-1.43.59L10.3 9.45l-7.72 7.72c-.78.78-.78 2.05 0 2.83L4 21.41c.39.39.9.59 1.41.59.51 0 1.02-.2 1.41-.59l7.78-7.78 2.81-2.81c.8-.78.8-2.07 0-2.86zM5.41 20L4 18.59l7.72-7.72 1.47 1.35L5.41 20z\"/>\n",
              "  </svg>\n",
              "      </button>\n",
              "      \n",
              "  <style>\n",
              "    .colab-df-container {\n",
              "      display:flex;\n",
              "      flex-wrap:wrap;\n",
              "      gap: 12px;\n",
              "    }\n",
              "\n",
              "    .colab-df-convert {\n",
              "      background-color: #E8F0FE;\n",
              "      border: none;\n",
              "      border-radius: 50%;\n",
              "      cursor: pointer;\n",
              "      display: none;\n",
              "      fill: #1967D2;\n",
              "      height: 32px;\n",
              "      padding: 0 0 0 0;\n",
              "      width: 32px;\n",
              "    }\n",
              "\n",
              "    .colab-df-convert:hover {\n",
              "      background-color: #E2EBFA;\n",
              "      box-shadow: 0px 1px 2px rgba(60, 64, 67, 0.3), 0px 1px 3px 1px rgba(60, 64, 67, 0.15);\n",
              "      fill: #174EA6;\n",
              "    }\n",
              "\n",
              "    [theme=dark] .colab-df-convert {\n",
              "      background-color: #3B4455;\n",
              "      fill: #D2E3FC;\n",
              "    }\n",
              "\n",
              "    [theme=dark] .colab-df-convert:hover {\n",
              "      background-color: #434B5C;\n",
              "      box-shadow: 0px 1px 3px 1px rgba(0, 0, 0, 0.15);\n",
              "      filter: drop-shadow(0px 1px 2px rgba(0, 0, 0, 0.3));\n",
              "      fill: #FFFFFF;\n",
              "    }\n",
              "  </style>\n",
              "\n",
              "      <script>\n",
              "        const buttonEl =\n",
              "          document.querySelector('#df-1be7cb83-1b48-44b5-b646-ea9ed0c0cb9a button.colab-df-convert');\n",
              "        buttonEl.style.display =\n",
              "          google.colab.kernel.accessAllowed ? 'block' : 'none';\n",
              "\n",
              "        async function convertToInteractive(key) {\n",
              "          const element = document.querySelector('#df-1be7cb83-1b48-44b5-b646-ea9ed0c0cb9a');\n",
              "          const dataTable =\n",
              "            await google.colab.kernel.invokeFunction('convertToInteractive',\n",
              "                                                     [key], {});\n",
              "          if (!dataTable) return;\n",
              "\n",
              "          const docLinkHtml = 'Like what you see? Visit the ' +\n",
              "            '<a target=\"_blank\" href=https://colab.research.google.com/notebooks/data_table.ipynb>data table notebook</a>'\n",
              "            + ' to learn more about interactive tables.';\n",
              "          element.innerHTML = '';\n",
              "          dataTable['output_type'] = 'display_data';\n",
              "          await google.colab.output.renderOutput(dataTable, element);\n",
              "          const docLink = document.createElement('div');\n",
              "          docLink.innerHTML = docLinkHtml;\n",
              "          element.appendChild(docLink);\n",
              "        }\n",
              "      </script>\n",
              "    </div>\n",
              "  </div>\n",
              "  "
            ]
          },
          "metadata": {},
          "execution_count": 41
        }
      ]
    },
    {
      "cell_type": "code",
      "source": [
        "# Menampilkan plot\n",
        "fig, ax = plt.subplots()\n",
        "f1.sort_values(by='test', ascending=False).plot(kind='barh', ax=ax, zorder=3)\n",
        "ax.grid(zorder=0)"
      ],
      "metadata": {
        "colab": {
          "base_uri": "https://localhost:8080/",
          "height": 265
        },
        "id": "_OzV0y0B_vyW",
        "outputId": "0b1d36bb-4ec1-4494-cf13-81cc095163d9"
      },
      "execution_count": 43,
      "outputs": [
        {
          "output_type": "display_data",
          "data": {
            "text/plain": [
              "<Figure size 432x288 with 1 Axes>"
            ],
            "image/png": "[encoded data removed]"
          },
          "metadata": {
            "needs_background": "light"
          }
        }
      ]
    }
  ]
}